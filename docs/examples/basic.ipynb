{
 "cells": [
  {
   "cell_type": "markdown",
   "metadata": {},
   "source": [
    "# PyTao Basics\n",
    "\n",
    "## Inititialize Tao\n",
    "\n",
    "`Tao` is the basic object. Anything used to initialize Tao on the command line can be used to initialize a Tao object"
   ]
  },
  {
   "cell_type": "code",
   "execution_count": null,
   "metadata": {
    "execution": {
     "iopub.execute_input": "2024-08-08T19:06:07.306868Z",
     "iopub.status.busy": "2024-08-08T19:06:07.306459Z",
     "iopub.status.idle": "2024-08-08T19:06:07.728111Z",
     "shell.execute_reply": "2024-08-08T19:06:07.727785Z"
    }
   },
   "outputs": [],
   "source": [
    "from pytao import Tao"
   ]
  },
  {
   "cell_type": "code",
   "execution_count": null,
   "metadata": {
    "execution": {
     "iopub.execute_input": "2024-08-08T19:06:07.729768Z",
     "iopub.status.busy": "2024-08-08T19:06:07.729658Z",
     "iopub.status.idle": "2024-08-08T19:06:07.889848Z",
     "shell.execute_reply": "2024-08-08T19:06:07.889524Z"
    }
   },
   "outputs": [],
   "source": [
    "tao = Tao(\"-init $ACC_ROOT_DIR/bmad-doc/tao_examples/cesr/tao.init -noplot\")"
   ]
  },
  {
   "cell_type": "markdown",
   "metadata": {},
   "source": [
    "## Send a command\n",
    "\n",
    "Anything that you would normally type at a Tao> prompt can be sent as a string. The return is a list of output strings. To send a command:"
   ]
  },
  {
   "cell_type": "code",
   "execution_count": null,
   "metadata": {
    "execution": {
     "iopub.execute_input": "2024-08-08T19:06:07.891427Z",
     "iopub.status.busy": "2024-08-08T19:06:07.891343Z",
     "iopub.status.idle": "2024-08-08T19:06:07.895528Z",
     "shell.execute_reply": "2024-08-08T19:06:07.895313Z"
    }
   },
   "outputs": [],
   "source": [
    "tao.cmd(\"show lat 1:10\")"
   ]
  },
  {
   "cell_type": "markdown",
   "metadata": {},
   "source": [
    "Send a list of commands. This returns the corresponding list of outputs:"
   ]
  },
  {
   "cell_type": "code",
   "execution_count": null,
   "metadata": {
    "execution": {
     "iopub.execute_input": "2024-08-08T19:06:07.914076Z",
     "iopub.status.busy": "2024-08-08T19:06:07.913953Z",
     "iopub.status.idle": "2024-08-08T19:06:07.923494Z",
     "shell.execute_reply": "2024-08-08T19:06:07.923258Z"
    }
   },
   "outputs": [],
   "source": [
    "tao.cmds([\"set lattice model=design\", \"set ele Q00W x_offset = 1e-6\"])"
   ]
  },
  {
   "cell_type": "markdown",
   "metadata": {},
   "source": [
    "## Jupyter magic %%tao"
   ]
  },
  {
   "cell_type": "markdown",
   "metadata": {},
   "source": [
    "This is an alternative way to send commands to Tao directly in the jupyter notebook, using the %%tao magic. Multiple lines can be executed."
   ]
  },
  {
   "cell_type": "code",
   "execution_count": null,
   "metadata": {
    "execution": {
     "iopub.execute_input": "2024-08-08T19:06:07.925018Z",
     "iopub.status.busy": "2024-08-08T19:06:07.924925Z",
     "iopub.status.idle": "2024-08-08T19:06:07.931787Z",
     "shell.execute_reply": "2024-08-08T19:06:07.931549Z"
    }
   },
   "outputs": [],
   "source": [
    "%%tao\n",
    "sho lat 1:10\n",
    "sho ele 4"
   ]
  },
  {
   "cell_type": "markdown",
   "metadata": {},
   "source": [
    "## Interface commands\n",
    "\n",
    "Output above from the `show` command is designed to be human-readable. In general you should **not** try to parse these strings for data. For data, Tao has a special set of commands to send back data suitable for parsing in Python (or other software). \n",
    "\n",
    "Below are the raw commands. "
   ]
  },
  {
   "cell_type": "code",
   "execution_count": null,
   "metadata": {
    "execution": {
     "iopub.execute_input": "2024-08-08T19:06:07.933096Z",
     "iopub.status.busy": "2024-08-08T19:06:07.933015Z",
     "iopub.status.idle": "2024-08-08T19:06:07.935516Z",
     "shell.execute_reply": "2024-08-08T19:06:07.935307Z"
    }
   },
   "outputs": [],
   "source": [
    "%%tao\n",
    "help python"
   ]
  },
  {
   "cell_type": "markdown",
   "metadata": {},
   "source": [
    "This data is returned as specially formatted lists"
   ]
  },
  {
   "cell_type": "code",
   "execution_count": null,
   "metadata": {
    "execution": {
     "iopub.execute_input": "2024-08-08T19:06:07.936753Z",
     "iopub.status.busy": "2024-08-08T19:06:07.936670Z",
     "iopub.status.idle": "2024-08-08T19:06:07.938647Z",
     "shell.execute_reply": "2024-08-08T19:06:07.938461Z"
    }
   },
   "outputs": [],
   "source": [
    "tao.cmd(\"python orbit_at_s end\")"
   ]
  },
  {
   "cell_type": "markdown",
   "metadata": {},
   "source": [
    "Some commands have 'array_out' options. For example, this seems to return nothing:"
   ]
  },
  {
   "cell_type": "code",
   "execution_count": null,
   "metadata": {
    "execution": {
     "iopub.execute_input": "2024-08-08T19:06:07.939765Z",
     "iopub.status.busy": "2024-08-08T19:06:07.939693Z",
     "iopub.status.idle": "2024-08-08T19:06:07.941556Z",
     "shell.execute_reply": "2024-08-08T19:06:07.941368Z"
    }
   },
   "outputs": [],
   "source": [
    "tao.cmd(\"python lat_list -array_out 1@0>>Q*|model orbit.floor.x\")"
   ]
  },
  {
   "cell_type": "markdown",
   "metadata": {},
   "source": [
    "But calling `.cmd_real` on the same command will get the data from an internal pointer:"
   ]
  },
  {
   "cell_type": "code",
   "execution_count": null,
   "metadata": {
    "execution": {
     "iopub.execute_input": "2024-08-08T19:06:07.942723Z",
     "iopub.status.busy": "2024-08-08T19:06:07.942642Z",
     "iopub.status.idle": "2024-08-08T19:06:07.944988Z",
     "shell.execute_reply": "2024-08-08T19:06:07.944771Z"
    }
   },
   "outputs": [],
   "source": [
    "tao.cmd_real(\"python lat_list -array_out 1@0>>Q*|model orbit.floor.x\")"
   ]
  },
  {
   "cell_type": "markdown",
   "metadata": {},
   "source": [
    "# Tao method commands\n",
    "\n",
    "For convenience, all of these commands are available as methods of the Tao class, and automatically parse the output.\n",
    "\n",
    "For example, to get the orbit at an `s` position:"
   ]
  },
  {
   "cell_type": "code",
   "execution_count": null,
   "metadata": {
    "execution": {
     "iopub.execute_input": "2024-08-08T19:06:07.946237Z",
     "iopub.status.busy": "2024-08-08T19:06:07.946166Z",
     "iopub.status.idle": "2024-08-08T19:06:07.948463Z",
     "shell.execute_reply": "2024-08-08T19:06:07.948254Z"
    }
   },
   "outputs": [],
   "source": [
    "tao.orbit_at_s(s_offset=1.2)"
   ]
  },
  {
   "cell_type": "markdown",
   "metadata": {},
   "source": [
    "Some commands return arrays:"
   ]
  },
  {
   "cell_type": "code",
   "execution_count": null,
   "metadata": {
    "execution": {
     "iopub.execute_input": "2024-08-08T19:06:07.949682Z",
     "iopub.status.busy": "2024-08-08T19:06:07.949591Z",
     "iopub.status.idle": "2024-08-08T19:06:07.952015Z",
     "shell.execute_reply": "2024-08-08T19:06:07.951785Z"
    }
   },
   "outputs": [],
   "source": [
    "tao.evaluate(\"data::cbar.11[1:10]|model\")"
   ]
  },
  {
   "cell_type": "markdown",
   "metadata": {},
   "source": [
    "## lat_list\n",
    "\n",
    "`lat_list` can be used to efficiently extract array data. By default this returns an array of floats:"
   ]
  },
  {
   "cell_type": "code",
   "execution_count": null,
   "metadata": {
    "execution": {
     "iopub.execute_input": "2024-08-08T19:06:07.953272Z",
     "iopub.status.busy": "2024-08-08T19:06:07.953199Z",
     "iopub.status.idle": "2024-08-08T19:06:07.955639Z",
     "shell.execute_reply": "2024-08-08T19:06:07.955423Z"
    }
   },
   "outputs": [],
   "source": [
    "s = tao.lat_list(\"*\", \"ele.s\", verbose=True)\n",
    "s[0:5]"
   ]
  },
  {
   "cell_type": "markdown",
   "metadata": {},
   "source": [
    "These particulars keys will return integers:"
   ]
  },
  {
   "cell_type": "code",
   "execution_count": null,
   "metadata": {
    "execution": {
     "iopub.execute_input": "2024-08-08T19:06:07.956903Z",
     "iopub.status.busy": "2024-08-08T19:06:07.956815Z",
     "iopub.status.idle": "2024-08-08T19:06:07.959232Z",
     "shell.execute_reply": "2024-08-08T19:06:07.959013Z"
    }
   },
   "outputs": [],
   "source": [
    "state = tao.lat_list(\"*\", \"orbit.state\")\n",
    "ix = tao.lat_list(\"*\", \"ele.ix_ele\")\n",
    "state.dtype, ix.dtype"
   ]
  },
  {
   "cell_type": "markdown",
   "metadata": {},
   "source": [
    "And this one will return a list of strings:"
   ]
  },
  {
   "cell_type": "code",
   "execution_count": null,
   "metadata": {
    "execution": {
     "iopub.execute_input": "2024-08-08T19:06:07.960535Z",
     "iopub.status.busy": "2024-08-08T19:06:07.960446Z",
     "iopub.status.idle": "2024-08-08T19:06:07.963246Z",
     "shell.execute_reply": "2024-08-08T19:06:07.963024Z"
    }
   },
   "outputs": [],
   "source": [
    "names = tao.lat_list(\"*\", \"ele.name\")\n",
    "names[0:5]"
   ]
  },
  {
   "cell_type": "code",
   "execution_count": null,
   "metadata": {
    "execution": {
     "iopub.execute_input": "2024-08-08T19:06:07.964470Z",
     "iopub.status.busy": "2024-08-08T19:06:07.964382Z",
     "iopub.status.idle": "2024-08-08T19:06:07.966783Z",
     "shell.execute_reply": "2024-08-08T19:06:07.966573Z"
    }
   },
   "outputs": [],
   "source": [
    "%config InlineBackend.figure_format = 'retina'\n",
    "import matplotlib.pyplot as plt"
   ]
  },
  {
   "cell_type": "markdown",
   "metadata": {},
   "source": [
    "Simple plot of this data"
   ]
  },
  {
   "cell_type": "code",
   "execution_count": null,
   "metadata": {
    "execution": {
     "iopub.execute_input": "2024-08-08T19:06:07.968006Z",
     "iopub.status.busy": "2024-08-08T19:06:07.967921Z",
     "iopub.status.idle": "2024-08-08T19:06:08.054049Z",
     "shell.execute_reply": "2024-08-08T19:06:08.053799Z"
    }
   },
   "outputs": [],
   "source": [
    "plt.plot(tao.lat_list(\"*\", \"ele.s\"), tao.lat_list(\"*\", \"orbit.vec.1\"), marker=\".\");"
   ]
  },
  {
   "cell_type": "markdown",
   "metadata": {},
   "source": [
    "Be careful with the flags. The defaults are:"
   ]
  },
  {
   "cell_type": "code",
   "execution_count": null,
   "metadata": {
    "execution": {
     "iopub.execute_input": "2024-08-08T19:06:08.055650Z",
     "iopub.status.busy": "2024-08-08T19:06:08.055537Z",
     "iopub.status.idle": "2024-08-08T19:06:08.120610Z",
     "shell.execute_reply": "2024-08-08T19:06:08.120332Z"
    }
   },
   "outputs": [],
   "source": [
    "plt.plot(tao.lat_list(\"*\", \"ele.s\", flags=\"-array_out -track_only\"));"
   ]
  },
  {
   "cell_type": "markdown",
   "metadata": {},
   "source": [
    "`-index_order` will return"
   ]
  },
  {
   "cell_type": "code",
   "execution_count": null,
   "metadata": {
    "execution": {
     "iopub.execute_input": "2024-08-08T19:06:08.122125Z",
     "iopub.status.busy": "2024-08-08T19:06:08.122014Z",
     "iopub.status.idle": "2024-08-08T19:06:08.192030Z",
     "shell.execute_reply": "2024-08-08T19:06:08.191776Z"
    }
   },
   "outputs": [],
   "source": [
    "plt.plot(tao.lat_list(\"*\", \"ele.s\", flags=\"-array_out -index_order\"));"
   ]
  },
  {
   "cell_type": "markdown",
   "metadata": {},
   "source": [
    "# All method commands\n",
    "\n",
    "There are many method commands. Please explore the documentation to find the ones that will best suit your needs."
   ]
  },
  {
   "cell_type": "code",
   "execution_count": null,
   "metadata": {
    "execution": {
     "iopub.execute_input": "2024-08-08T19:06:08.193460Z",
     "iopub.status.busy": "2024-08-08T19:06:08.193347Z",
     "iopub.status.idle": "2024-08-08T19:06:08.195469Z",
     "shell.execute_reply": "2024-08-08T19:06:08.195247Z"
    }
   },
   "outputs": [],
   "source": [
    "\n",
    "all_cmds = [name for name in dir(Tao) if not name.startswith(\"_\")]\n",
    "for cmd in all_cmds:\n",
    "    print(cmd)"
   ]
  },
  {
   "cell_type": "markdown",
   "metadata": {},
   "source": [
    "There are many commands:"
   ]
  },
  {
   "cell_type": "code",
   "execution_count": null,
   "metadata": {
    "execution": {
     "iopub.execute_input": "2024-08-08T19:06:08.196744Z",
     "iopub.status.busy": "2024-08-08T19:06:08.196655Z",
     "iopub.status.idle": "2024-08-08T19:06:08.198538Z",
     "shell.execute_reply": "2024-08-08T19:06:08.198315Z"
    }
   },
   "outputs": [],
   "source": [
    "len(all_cmds)"
   ]
  },
  {
   "cell_type": "markdown",
   "metadata": {},
   "source": [
    "Each has documentation and an example associated with it:"
   ]
  },
  {
   "cell_type": "code",
   "execution_count": null,
   "metadata": {
    "execution": {
     "iopub.execute_input": "2024-08-08T19:06:08.199716Z",
     "iopub.status.busy": "2024-08-08T19:06:08.199647Z",
     "iopub.status.idle": "2024-08-08T19:06:08.216906Z",
     "shell.execute_reply": "2024-08-08T19:06:08.216665Z"
    }
   },
   "outputs": [],
   "source": [
    "tao.data_d2?"
   ]
  },
  {
   "cell_type": "markdown",
   "metadata": {},
   "source": [
    "# Other Tao instances\n",
    "\n",
    "Unfortunately there can only be one Tao instance per process, because the internal structures are held in memory and accessed via ctypes. So this will replace the current Tao session in memory.\n",
    "\n",
    "This looks like a new object:"
   ]
  },
  {
   "cell_type": "code",
   "execution_count": null,
   "metadata": {
    "execution": {
     "iopub.execute_input": "2024-08-08T19:06:08.218095Z",
     "iopub.status.busy": "2024-08-08T19:06:08.218019Z",
     "iopub.status.idle": "2024-08-08T19:06:08.246792Z",
     "shell.execute_reply": "2024-08-08T19:06:08.246575Z"
    }
   },
   "outputs": [],
   "source": [
    "tao2 = Tao(\n",
    "    \"-init $ACC_ROOT_DIR/bmad-doc/tao_examples/csr_beam_tracking/tao.init -noplot\"\n",
    ")"
   ]
  },
  {
   "cell_type": "markdown",
   "metadata": {},
   "source": [
    "but internally connects to:"
   ]
  },
  {
   "cell_type": "code",
   "execution_count": null,
   "metadata": {
    "execution": {
     "iopub.execute_input": "2024-08-08T19:06:08.248065Z",
     "iopub.status.busy": "2024-08-08T19:06:08.247982Z",
     "iopub.status.idle": "2024-08-08T19:06:08.250028Z",
     "shell.execute_reply": "2024-08-08T19:06:08.249838Z"
    }
   },
   "outputs": [],
   "source": [
    "tao.lat_list(\"*\", \"ele.name\")"
   ]
  },
  {
   "cell_type": "markdown",
   "metadata": {},
   "source": [
    "## Bunch data\n",
    "\n",
    "This example has bunch data. There are three methods:\n",
    "\n",
    "- `tao.bunch_params` to get a dict of statistical data\n",
    "    \n",
    "- `tao.bunch1` to get coordinate data arrays\n",
    "    \n",
    "- `tao.bunch_data` to get a dict of many coordinate arrays. These can be used to instantiate a ParticleGroup object from the openPMD-beamphysics package.\n",
    "\n",
    "Statistical data:"
   ]
  },
  {
   "cell_type": "code",
   "execution_count": null,
   "metadata": {
    "execution": {
     "iopub.execute_input": "2024-08-08T19:06:08.251226Z",
     "iopub.status.busy": "2024-08-08T19:06:08.251142Z",
     "iopub.status.idle": "2024-08-08T19:06:08.253159Z",
     "shell.execute_reply": "2024-08-08T19:06:08.252993Z"
    }
   },
   "outputs": [],
   "source": [
    "stats = tao.bunch_params(\"end\")\n",
    "stats.keys()"
   ]
  },
  {
   "cell_type": "markdown",
   "metadata": {},
   "source": [
    "Array data:"
   ]
  },
  {
   "cell_type": "code",
   "execution_count": null,
   "metadata": {
    "execution": {
     "iopub.execute_input": "2024-08-08T19:06:08.254297Z",
     "iopub.status.busy": "2024-08-08T19:06:08.254234Z",
     "iopub.status.idle": "2024-08-08T19:06:08.325683Z",
     "shell.execute_reply": "2024-08-08T19:06:08.325464Z"
    }
   },
   "outputs": [],
   "source": [
    "x = tao.bunch1(\"end\", coordinate=\"x\")\n",
    "px = tao.bunch1(\"end\", coordinate=\"px\")\n",
    "plt.scatter(x, px);"
   ]
  },
  {
   "cell_type": "markdown",
   "metadata": {},
   "source": [
    "The state will be returned as an integer array. "
   ]
  },
  {
   "cell_type": "code",
   "execution_count": null,
   "metadata": {
    "execution": {
     "iopub.execute_input": "2024-08-08T19:06:08.327038Z",
     "iopub.status.busy": "2024-08-08T19:06:08.326944Z",
     "iopub.status.idle": "2024-08-08T19:06:08.329151Z",
     "shell.execute_reply": "2024-08-08T19:06:08.328945Z"
    }
   },
   "outputs": [],
   "source": [
    "state = tao.bunch1(\"end\", coordinate=\"state\")\n",
    "state.dtype"
   ]
  },
  {
   "cell_type": "markdown",
   "metadata": {},
   "source": [
    "# ParticleGroup from openPMD-beamphysics\n",
    "\n",
    "openPMD-beamphysics is an external package that can be useful for further bunch analysis, plotting, and conversion. \n",
    "\n",
    "https://github.com/ChristopherMayes/openPMD-beamphysics\n",
    "\n",
    "Here is example usage to extract bunch data and instantiate as a `ParticleGroup` object.\n",
    "\n",
    "*Note that the momentum units in openPMD-beamphysics are in eV/c, whereas Bmad's momenta are normalized by a refrence momentum.*"
   ]
  },
  {
   "cell_type": "code",
   "execution_count": null,
   "metadata": {
    "execution": {
     "iopub.execute_input": "2024-08-08T19:06:08.330350Z",
     "iopub.status.busy": "2024-08-08T19:06:08.330278Z",
     "iopub.status.idle": "2024-08-08T19:06:08.556401Z",
     "shell.execute_reply": "2024-08-08T19:06:08.556039Z"
    }
   },
   "outputs": [],
   "source": [
    "from pmd_beamphysics import ParticleGroup"
   ]
  },
  {
   "cell_type": "markdown",
   "metadata": {},
   "source": [
    "This data is suitable for the `ParticleGroup` class"
   ]
  },
  {
   "cell_type": "code",
   "execution_count": null,
   "metadata": {
    "execution": {
     "iopub.execute_input": "2024-08-08T19:06:08.558048Z",
     "iopub.status.busy": "2024-08-08T19:06:08.557935Z",
     "iopub.status.idle": "2024-08-08T19:06:08.560673Z",
     "shell.execute_reply": "2024-08-08T19:06:08.560448Z"
    }
   },
   "outputs": [],
   "source": [
    "data = tao.bunch_data(\"end\")\n",
    "data.keys()"
   ]
  },
  {
   "cell_type": "code",
   "execution_count": null,
   "metadata": {
    "execution": {
     "iopub.execute_input": "2024-08-08T19:06:08.561903Z",
     "iopub.status.busy": "2024-08-08T19:06:08.561808Z",
     "iopub.status.idle": "2024-08-08T19:06:08.768513Z",
     "shell.execute_reply": "2024-08-08T19:06:08.768262Z"
    }
   },
   "outputs": [],
   "source": [
    "P = ParticleGroup(data=data)\n",
    "\n",
    "P.plot(\"x\", \"px\")"
   ]
  },
  {
   "cell_type": "markdown",
   "metadata": {},
   "source": [
    "Tao's write format is already in the openPMD-beamphysics, so particles can be written and read in this way as well."
   ]
  },
  {
   "cell_type": "code",
   "execution_count": null,
   "metadata": {
    "execution": {
     "iopub.execute_input": "2024-08-08T19:06:08.769838Z",
     "iopub.status.busy": "2024-08-08T19:06:08.769762Z",
     "iopub.status.idle": "2024-08-08T19:06:08.774124Z",
     "shell.execute_reply": "2024-08-08T19:06:08.773937Z"
    }
   },
   "outputs": [],
   "source": [
    "tao.cmd(\"write beam -at end test.h5\")"
   ]
  },
  {
   "cell_type": "code",
   "execution_count": null,
   "metadata": {
    "execution": {
     "iopub.execute_input": "2024-08-08T19:06:08.775311Z",
     "iopub.status.busy": "2024-08-08T19:06:08.775227Z",
     "iopub.status.idle": "2024-08-08T19:06:08.939935Z",
     "shell.execute_reply": "2024-08-08T19:06:08.939684Z"
    }
   },
   "outputs": [],
   "source": [
    "P2 = ParticleGroup(\"test.h5\")\n",
    "P2.plot(\"x\", \"px\")"
   ]
  },
  {
   "cell_type": "code",
   "execution_count": null,
   "metadata": {
    "execution": {
     "iopub.execute_input": "2024-08-08T19:06:08.941343Z",
     "iopub.status.busy": "2024-08-08T19:06:08.941234Z",
     "iopub.status.idle": "2024-08-08T19:06:09.088745Z",
     "shell.execute_reply": "2024-08-08T19:06:09.088167Z"
    }
   },
   "outputs": [],
   "source": [
    "# Cleanup\n",
    "!rm test.h5"
   ]
  },
  {
   "cell_type": "markdown",
   "metadata": {},
   "source": [
    "# Error handling and Debugging\n",
    "\n",
    "All methods have a `raises=True` option. This will raise a RuntimeError if any errors are seen from Tao.\n"
   ]
  },
  {
   "cell_type": "code",
   "execution_count": null,
   "metadata": {
    "execution": {
     "iopub.execute_input": "2024-08-08T19:06:09.091339Z",
     "iopub.status.busy": "2024-08-08T19:06:09.091135Z",
     "iopub.status.idle": "2024-08-08T19:06:09.095273Z",
     "shell.execute_reply": "2024-08-08T19:06:09.094902Z"
    },
    "tags": []
   },
   "outputs": [],
   "source": [
    "tao.lat_list(\"*\", \"ele.s\")"
   ]
  },
  {
   "cell_type": "code",
   "execution_count": null,
   "metadata": {
    "execution": {
     "iopub.execute_input": "2024-08-08T19:06:09.097130Z",
     "iopub.status.busy": "2024-08-08T19:06:09.096993Z",
     "iopub.status.idle": "2024-08-08T19:06:09.099609Z",
     "shell.execute_reply": "2024-08-08T19:06:09.099267Z"
    }
   },
   "outputs": [],
   "source": [
    "try:\n",
    "    tao.var(\"foobar\")\n",
    "except Exception as ex:\n",
    "    print(\"Exception handled:\", ex)"
   ]
  },
  {
   "cell_type": "markdown",
   "metadata": {},
   "source": [
    "This suppresses the exceptions, returning the error text:"
   ]
  },
  {
   "cell_type": "code",
   "execution_count": null,
   "metadata": {
    "execution": {
     "iopub.execute_input": "2024-08-08T19:06:09.101413Z",
     "iopub.status.busy": "2024-08-08T19:06:09.101302Z",
     "iopub.status.idle": "2024-08-08T19:06:09.104055Z",
     "shell.execute_reply": "2024-08-08T19:06:09.103792Z"
    }
   },
   "outputs": [],
   "source": [
    "tao.cmd(\"invalid_command\", raises=False)"
   ]
  },
  {
   "cell_type": "markdown",
   "metadata": {},
   "source": [
    "# Logging\n",
    "\n",
    "All input commands are recorded as debug messages using standard Python logging. \n",
    "\n",
    "Enable stdout to see the log messages:"
   ]
  },
  {
   "cell_type": "code",
   "execution_count": null,
   "metadata": {
    "execution": {
     "iopub.execute_input": "2024-08-08T19:06:09.105707Z",
     "iopub.status.busy": "2024-08-08T19:06:09.105590Z",
     "iopub.status.idle": "2024-08-08T19:06:09.107600Z",
     "shell.execute_reply": "2024-08-08T19:06:09.107326Z"
    }
   },
   "outputs": [],
   "source": [
    "import logging\n",
    "import sys\n",
    "\n",
    "logging.basicConfig(stream=sys.stdout, level=logging.DEBUG)"
   ]
  },
  {
   "cell_type": "code",
   "execution_count": null,
   "metadata": {
    "execution": {
     "iopub.execute_input": "2024-08-08T19:06:09.109172Z",
     "iopub.status.busy": "2024-08-08T19:06:09.109030Z",
     "iopub.status.idle": "2024-08-08T19:06:09.112306Z",
     "shell.execute_reply": "2024-08-08T19:06:09.111962Z"
    }
   },
   "outputs": [],
   "source": [
    "tao.cmd(\"sho ele 2\");"
   ]
  },
  {
   "cell_type": "markdown",
   "metadata": {},
   "source": [
    "# Cleanup"
   ]
  },
  {
   "cell_type": "code",
   "execution_count": null,
   "metadata": {
    "execution": {
     "iopub.execute_input": "2024-08-08T19:06:09.113840Z",
     "iopub.status.busy": "2024-08-08T19:06:09.113736Z",
     "iopub.status.idle": "2024-08-08T19:06:09.234680Z",
     "shell.execute_reply": "2024-08-08T19:06:09.234086Z"
    }
   },
   "outputs": [],
   "source": [
    "!rm csr_wake.dat"
   ]
  }
 ],
 "metadata": {
  "kernelspec": {
   "display_name": "Python 3 (ipykernel)",
   "language": "python",
   "name": "python3"
  },
  "language_info": {
   "codemirror_mode": {
    "name": "ipython",
    "version": 3
   },
   "file_extension": ".py",
   "mimetype": "text/x-python",
   "name": "python",
   "nbconvert_exporter": "python",
   "pygments_lexer": "ipython3",
   "version": "3.12.0"
  },
  "vscode": {
   "interpreter": {
    "hash": "8acfe5d4ac94dcea04347ba5d21ed6ccc77e9ec6b4167c9c2482da2d61a71842"
   }
  }
 },
 "nbformat": 4,
 "nbformat_minor": 4
}
