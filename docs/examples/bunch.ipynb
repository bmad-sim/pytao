{
 "cells": [
  {
   "cell_type": "markdown",
   "metadata": {},
   "source": [
    "# Bunch Commands"
   ]
  },
  {
   "cell_type": "code",
   "execution_count": null,
   "metadata": {
    "execution": {
     "iopub.execute_input": "2024-08-08T19:06:11.051652Z",
     "iopub.status.busy": "2024-08-08T19:06:11.051238Z",
     "iopub.status.idle": "2024-08-08T19:06:11.474468Z",
     "shell.execute_reply": "2024-08-08T19:06:11.474143Z"
    }
   },
   "outputs": [],
   "source": [
    "from pytao import Tao"
   ]
  },
  {
   "cell_type": "code",
   "execution_count": null,
   "metadata": {
    "execution": {
     "iopub.execute_input": "2024-08-08T19:06:11.476162Z",
     "iopub.status.busy": "2024-08-08T19:06:11.476030Z",
     "iopub.status.idle": "2024-08-08T19:06:11.477719Z",
     "shell.execute_reply": "2024-08-08T19:06:11.477498Z"
    }
   },
   "outputs": [],
   "source": [
    "import numpy as np\n",
    "import matplotlib.pyplot as plt"
   ]
  },
  {
   "cell_type": "markdown",
   "metadata": {},
   "source": [
    "# Initialize Tao on the CSR beam tracking example"
   ]
  },
  {
   "cell_type": "code",
   "execution_count": null,
   "metadata": {
    "execution": {
     "iopub.execute_input": "2024-08-08T19:06:11.479020Z",
     "iopub.status.busy": "2024-08-08T19:06:11.478945Z",
     "iopub.status.idle": "2024-08-08T19:06:11.553162Z",
     "shell.execute_reply": "2024-08-08T19:06:11.552948Z"
    }
   },
   "outputs": [],
   "source": [
    "tao = Tao(\n",
    "    \"-init $ACC_ROOT_DIR/bmad-doc/tao_examples/csr_beam_tracking/tao.init -noplot\"\n",
    ")"
   ]
  },
  {
   "cell_type": "markdown",
   "metadata": {},
   "source": [
    "## bunch_params\n",
    "\n",
    "Bunch statistics can be retrieved from any element as a dict."
   ]
  },
  {
   "cell_type": "code",
   "execution_count": null,
   "metadata": {
    "execution": {
     "iopub.execute_input": "2024-08-08T19:06:11.554560Z",
     "iopub.status.busy": "2024-08-08T19:06:11.554465Z",
     "iopub.status.idle": "2024-08-08T19:06:11.558252Z",
     "shell.execute_reply": "2024-08-08T19:06:11.558045Z"
    }
   },
   "outputs": [],
   "source": [
    "stats = tao.bunch_params(\"end\")\n",
    "stats"
   ]
  },
  {
   "cell_type": "markdown",
   "metadata": {},
   "source": [
    "This says that the full beam is saved at this element"
   ]
  },
  {
   "cell_type": "code",
   "execution_count": null,
   "metadata": {
    "execution": {
     "iopub.execute_input": "2024-08-08T19:06:11.576223Z",
     "iopub.status.busy": "2024-08-08T19:06:11.576125Z",
     "iopub.status.idle": "2024-08-08T19:06:11.578083Z",
     "shell.execute_reply": "2024-08-08T19:06:11.577858Z"
    }
   },
   "outputs": [],
   "source": [
    "stats[\"beam_saved\"]"
   ]
  },
  {
   "cell_type": "markdown",
   "metadata": {},
   "source": [
    "## bunch1\n",
    "\n",
    "Array data from a bunch can be retrieved. Available coordinates are:\n",
    "\n",
    "x, px, y, py, z, pz, s, t, charge, p0c, state, ix_ele\n",
    "\n",
    "Appropriate data types are returned"
   ]
  },
  {
   "cell_type": "code",
   "execution_count": null,
   "metadata": {
    "execution": {
     "iopub.execute_input": "2024-08-08T19:06:11.579304Z",
     "iopub.status.busy": "2024-08-08T19:06:11.579214Z",
     "iopub.status.idle": "2024-08-08T19:06:11.581499Z",
     "shell.execute_reply": "2024-08-08T19:06:11.581254Z"
    }
   },
   "outputs": [],
   "source": [
    "tao.bunch1(\"end\", \"x\")[0:10]"
   ]
  },
  {
   "cell_type": "code",
   "execution_count": null,
   "metadata": {
    "execution": {
     "iopub.execute_input": "2024-08-08T19:06:11.582778Z",
     "iopub.status.busy": "2024-08-08T19:06:11.582691Z",
     "iopub.status.idle": "2024-08-08T19:06:11.584759Z",
     "shell.execute_reply": "2024-08-08T19:06:11.584527Z"
    }
   },
   "outputs": [],
   "source": [
    "tao.bunch1(\"end\", \"ix_ele\")[0:10]"
   ]
  },
  {
   "cell_type": "markdown",
   "metadata": {},
   "source": [
    "## Plot in matplotlib\n",
    "\n",
    "This can be used to plot particles."
   ]
  },
  {
   "cell_type": "code",
   "execution_count": null,
   "metadata": {
    "execution": {
     "iopub.execute_input": "2024-08-08T19:06:11.586019Z",
     "iopub.status.busy": "2024-08-08T19:06:11.585934Z",
     "iopub.status.idle": "2024-08-08T19:06:11.587358Z",
     "shell.execute_reply": "2024-08-08T19:06:11.587151Z"
    }
   },
   "outputs": [],
   "source": []
  },
  {
   "cell_type": "code",
   "execution_count": null,
   "metadata": {
    "execution": {
     "iopub.execute_input": "2024-08-08T19:06:11.588513Z",
     "iopub.status.busy": "2024-08-08T19:06:11.588439Z",
     "iopub.status.idle": "2024-08-08T19:06:11.593745Z",
     "shell.execute_reply": "2024-08-08T19:06:11.593515Z"
    }
   },
   "outputs": [],
   "source": [
    "%config InlineBackend.figure_format = 'retina' # Nicer plotting\n",
    "%matplotlib inline"
   ]
  },
  {
   "cell_type": "code",
   "execution_count": null,
   "metadata": {
    "execution": {
     "iopub.execute_input": "2024-08-08T19:06:11.594975Z",
     "iopub.status.busy": "2024-08-08T19:06:11.594905Z",
     "iopub.status.idle": "2024-08-08T19:06:11.596850Z",
     "shell.execute_reply": "2024-08-08T19:06:11.596622Z"
    }
   },
   "outputs": [],
   "source": [
    "xdat = tao.bunch1(\"end\", \"x\")\n",
    "pxdat = tao.bunch1(\"end\", \"px\")\n",
    "chargedat = tao.bunch1(\"end\", \"charge\")\n",
    "\n",
    "xdata = 1000 * xdat\n",
    "ydata = 1000 * pxdat\n",
    "weights = chargedat"
   ]
  },
  {
   "cell_type": "code",
   "execution_count": null,
   "metadata": {
    "execution": {
     "iopub.execute_input": "2024-08-08T19:06:11.598048Z",
     "iopub.status.busy": "2024-08-08T19:06:11.597978Z",
     "iopub.status.idle": "2024-08-08T19:06:11.658295Z",
     "shell.execute_reply": "2024-08-08T19:06:11.658041Z"
    }
   },
   "outputs": [],
   "source": [
    "# hist2d\n",
    "\n",
    "mycmap = plt.get_cmap(\"plasma\")  # viridis plasma inferno magma and _r versions\n",
    "mycmap.set_under(color=\"white\")  # map 0 to this color\n",
    "myvmin = 1e-30  # something tiny\n",
    "# Bin particles\n",
    "plt.hist2d(\n",
    "    x=1000 * xdata, y=ydata, bins=2 * [40], weights=weights, cmap=mycmap, vmin=myvmin\n",
    ")\n",
    "plt.xlabel(\"x (mm)\")\n",
    "plt.ylabel(\"px (mrad)\")\n",
    "plt.show()"
   ]
  },
  {
   "cell_type": "markdown",
   "metadata": {},
   "source": [
    "Numpy histogram 2d, with custom color map"
   ]
  },
  {
   "cell_type": "code",
   "execution_count": null,
   "metadata": {
    "execution": {
     "iopub.execute_input": "2024-08-08T19:06:11.659592Z",
     "iopub.status.busy": "2024-08-08T19:06:11.659518Z",
     "iopub.status.idle": "2024-08-08T19:06:11.748004Z",
     "shell.execute_reply": "2024-08-08T19:06:11.747752Z"
    }
   },
   "outputs": [],
   "source": [
    "import matplotlib.colors as colors\n",
    "\n",
    "mycmap = plt.get_cmap(\"viridis\")  # viridis plasma inferno magma and _r versions\n",
    "mycmap.set_under(color=\"white\")  # map 0 to this color\n",
    "H, xedges, yedges = np.histogram2d(xdata, ydata, weights=chargedat, bins=40)\n",
    "\n",
    "xmin, xmax = min(xedges), max(xedges)\n",
    "ymin, ymax = min(yedges), max(yedges)\n",
    "\n",
    "image = np.flip(H.T, axis=0)  #\n",
    "imax = np.max(image)\n",
    "norm = colors.Normalize(vmin=1e-12 * imax, vmax=imax)\n",
    "plt.xlabel(\"x (mm)\")\n",
    "plt.ylabel(\"px (mrad)\")\n",
    "plt.imshow(\n",
    "    image, cmap=mycmap, norm=norm, extent=[xmin, xmax, ymin, ymax], aspect=\"auto\"\n",
    ");"
   ]
  },
  {
   "cell_type": "code",
   "execution_count": null,
   "metadata": {
    "execution": {
     "iopub.execute_input": "2024-08-08T19:06:11.749344Z",
     "iopub.status.busy": "2024-08-08T19:06:11.749267Z",
     "iopub.status.idle": "2024-08-08T19:06:11.751372Z",
     "shell.execute_reply": "2024-08-08T19:06:11.751138Z"
    }
   },
   "outputs": [],
   "source": [
    "np.min(image), np.max(image)"
   ]
  },
  {
   "cell_type": "markdown",
   "metadata": {},
   "source": [
    "## Plot in Bokeh"
   ]
  },
  {
   "cell_type": "code",
   "execution_count": null,
   "metadata": {
    "execution": {
     "iopub.execute_input": "2024-08-08T19:06:11.752645Z",
     "iopub.status.busy": "2024-08-08T19:06:11.752569Z",
     "iopub.status.idle": "2024-08-08T19:06:11.925850Z",
     "shell.execute_reply": "2024-08-08T19:06:11.925603Z"
    }
   },
   "outputs": [],
   "source": [
    "from bokeh.plotting import figure, show, output_notebook\n",
    "from bokeh import palettes, colors\n",
    "from bokeh.models import ColumnDataSource\n",
    "\n",
    "output_notebook(verbose=False, hide_banner=True)\n",
    "\n",
    "pal = palettes.Viridis[256]\n",
    "# white=colors.named.white\n",
    "# pal[0] = white # replace 0 with white"
   ]
  },
  {
   "cell_type": "code",
   "execution_count": null,
   "metadata": {
    "execution": {
     "iopub.execute_input": "2024-08-08T19:06:11.927211Z",
     "iopub.status.busy": "2024-08-08T19:06:11.927091Z",
     "iopub.status.idle": "2024-08-08T19:06:11.929129Z",
     "shell.execute_reply": "2024-08-08T19:06:11.928901Z"
    }
   },
   "outputs": [],
   "source": [
    "H, xedges, yedges = np.histogram2d(xdata, ydata, weights=chargedat, bins=40)\n",
    "xmin, xmax = min(xedges), max(xedges)\n",
    "ymin, ymax = min(yedges), max(yedges)"
   ]
  },
  {
   "cell_type": "code",
   "execution_count": null,
   "metadata": {
    "execution": {
     "iopub.execute_input": "2024-08-08T19:06:11.930266Z",
     "iopub.status.busy": "2024-08-08T19:06:11.930181Z",
     "iopub.status.idle": "2024-08-08T19:06:12.104030Z",
     "shell.execute_reply": "2024-08-08T19:06:12.103788Z"
    }
   },
   "outputs": [],
   "source": [
    "ds = ColumnDataSource(data=dict(image=[H.transpose()]))\n",
    "p = figure(\n",
    "    x_range=[xmin, xmax],\n",
    "    y_range=[ymin, ymax],\n",
    "    title=\"Bunch at end\",\n",
    "    x_axis_label=\"x (mm)\",\n",
    "    y_axis_label=\"px (mrad)\",\n",
    "    width=500,\n",
    "    height=500,\n",
    ")\n",
    "p.image(\n",
    "    image=\"image\",\n",
    "    source=ds,\n",
    "    x=xmin,\n",
    "    y=ymin,\n",
    "    dw=xmax - xmin,\n",
    "    dh=ymax - ymin,\n",
    "    palette=pal,\n",
    ")\n",
    "show(p)"
   ]
  },
  {
   "cell_type": "markdown",
   "metadata": {},
   "source": [
    "## Data for ParticleGroup\n",
    "\n",
    "The above commands have been packaged into two functions for easier use, and to easily create ParticleGroup objects"
   ]
  },
  {
   "cell_type": "code",
   "execution_count": null,
   "metadata": {
    "execution": {
     "iopub.execute_input": "2024-08-08T19:06:12.105482Z",
     "iopub.status.busy": "2024-08-08T19:06:12.105358Z",
     "iopub.status.idle": "2024-08-08T19:06:12.107955Z",
     "shell.execute_reply": "2024-08-08T19:06:12.107737Z"
    }
   },
   "outputs": [],
   "source": [
    "data = tao.bunch_data(\"end\")\n",
    "data.keys()"
   ]
  },
  {
   "cell_type": "code",
   "execution_count": null,
   "metadata": {
    "execution": {
     "iopub.execute_input": "2024-08-08T19:06:12.109142Z",
     "iopub.status.busy": "2024-08-08T19:06:12.109057Z",
     "iopub.status.idle": "2024-08-08T19:06:12.324472Z",
     "shell.execute_reply": "2024-08-08T19:06:12.324228Z"
    }
   },
   "outputs": [],
   "source": [
    "from pmd_beamphysics import ParticleGroup\n",
    "\n",
    "P = ParticleGroup(data=data)\n",
    "P"
   ]
  },
  {
   "cell_type": "code",
   "execution_count": null,
   "metadata": {
    "execution": {
     "iopub.execute_input": "2024-08-08T19:06:12.325810Z",
     "iopub.status.busy": "2024-08-08T19:06:12.325685Z",
     "iopub.status.idle": "2024-08-08T19:06:12.534200Z",
     "shell.execute_reply": "2024-08-08T19:06:12.533958Z"
    }
   },
   "outputs": [],
   "source": [
    "P.plot(\"x\", \"px\")"
   ]
  },
  {
   "cell_type": "code",
   "execution_count": null,
   "metadata": {
    "execution": {
     "iopub.execute_input": "2024-08-08T19:06:12.535522Z",
     "iopub.status.busy": "2024-08-08T19:06:12.535425Z",
     "iopub.status.idle": "2024-08-08T19:06:12.538098Z",
     "shell.execute_reply": "2024-08-08T19:06:12.537876Z"
    }
   },
   "outputs": [],
   "source": [
    "P.twiss(\"xy\")"
   ]
  },
  {
   "cell_type": "markdown",
   "metadata": {},
   "source": [
    "# bunch_comb"
   ]
  },
  {
   "cell_type": "code",
   "execution_count": null,
   "metadata": {
    "execution": {
     "iopub.execute_input": "2024-08-08T19:06:12.539365Z",
     "iopub.status.busy": "2024-08-08T19:06:12.539273Z",
     "iopub.status.idle": "2024-08-08T19:06:12.541453Z",
     "shell.execute_reply": "2024-08-08T19:06:12.541219Z"
    }
   },
   "outputs": [],
   "source": [
    "tao.bunch_comb(\"x\")"
   ]
  },
  {
   "cell_type": "markdown",
   "metadata": {},
   "source": [
    "Make a nice plot with the beam envelope"
   ]
  },
  {
   "cell_type": "code",
   "execution_count": null,
   "metadata": {
    "execution": {
     "iopub.execute_input": "2024-08-08T19:06:12.542665Z",
     "iopub.status.busy": "2024-08-08T19:06:12.542579Z",
     "iopub.status.idle": "2024-08-08T19:06:12.630563Z",
     "shell.execute_reply": "2024-08-08T19:06:12.630335Z"
    }
   },
   "outputs": [],
   "source": [
    "s = tao.bunch_comb(\"s\")\n",
    "mean_x = tao.bunch_comb(\"x\")\n",
    "max_x = mean_x + tao.bunch_comb(\"rel_max.1\")\n",
    "min_x = mean_x + tao.bunch_comb(\"rel_min.1\")\n",
    "sigma_x = np.sqrt(tao.bunch_comb(\"sigma.11\"))\n",
    "fig, ax = plt.subplots()\n",
    "\n",
    "ax.fill_between(s, min_x, max_x, alpha=0.2)\n",
    "ax.plot(s, sigma_x, label=r\"$+\\sigma_x$\")\n",
    "ax.plot(s, mean_x, label=r\"$<x>$\", marker=\".\")\n",
    "ax.plot(s, -sigma_x, label=r\"$-\\sigma_x$\")\n",
    "ax.set_xlabel(\"s (m)\")\n",
    "ax.set_ylabel(\"beam sizes (m)\")\n",
    "plt.legend();"
   ]
  },
  {
   "cell_type": "markdown",
   "metadata": {},
   "source": [
    "Beam betas"
   ]
  },
  {
   "cell_type": "code",
   "execution_count": null,
   "metadata": {
    "execution": {
     "iopub.execute_input": "2024-08-08T19:06:12.631848Z",
     "iopub.status.busy": "2024-08-08T19:06:12.631773Z",
     "iopub.status.idle": "2024-08-08T19:06:12.748443Z",
     "shell.execute_reply": "2024-08-08T19:06:12.748182Z"
    }
   },
   "outputs": [],
   "source": [
    "plt.plot(tao.bunch_comb(\"s\"), 1000 * tao.bunch_comb(\"x.beta\"), label=\"beam beta_x\")\n",
    "plt.plot(tao.bunch_comb(\"s\"), 1000 * tao.bunch_comb(\"y.beta\"), label=\"beam beta_y\")\n",
    "plt.xlabel(\"s (m)\")\n",
    "plt.ylabel(\"beam Twiss beta (m)\")\n",
    "plt.legend();"
   ]
  }
 ],
 "metadata": {
  "kernelspec": {
   "display_name": "Python 3 (ipykernel)",
   "language": "python",
   "name": "python3"
  },
  "language_info": {
   "codemirror_mode": {
    "name": "ipython",
    "version": 3
   },
   "file_extension": ".py",
   "mimetype": "text/x-python",
   "name": "python",
   "nbconvert_exporter": "python",
   "pygments_lexer": "ipython3",
   "version": "3.12.0"
  },
  "vscode": {
   "interpreter": {
    "hash": "60703f99bc9a1e465ed9e894ac1e8f256837fa55699b4912a7939def4ae95691"
   }
  }
 },
 "nbformat": 4,
 "nbformat_minor": 4
}
