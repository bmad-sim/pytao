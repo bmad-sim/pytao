{
 "cells": [
  {
   "cell_type": "markdown",
   "metadata": {},
   "source": [
    "# Advanced usage"
   ]
  },
  {
   "cell_type": "code",
   "execution_count": null,
   "metadata": {
    "execution": {
     "iopub.execute_input": "2024-08-08T19:06:01.866218Z",
     "iopub.status.busy": "2024-08-08T19:06:01.865795Z",
     "iopub.status.idle": "2024-08-08T19:06:01.877393Z",
     "shell.execute_reply": "2024-08-08T19:06:01.876159Z"
    }
   },
   "outputs": [],
   "source": [
    "# Useful for debugging\n",
    "# %load_ext autoreload\n",
    "# %autoreload 2\n",
    "\n",
    "# Nicer plots\n",
    "%config InlineBackend.figure_format = 'retina'"
   ]
  },
  {
   "cell_type": "code",
   "execution_count": null,
   "metadata": {
    "execution": {
     "iopub.execute_input": "2024-08-08T19:06:01.881604Z",
     "iopub.status.busy": "2024-08-08T19:06:01.881288Z",
     "iopub.status.idle": "2024-08-08T19:06:02.110503Z",
     "shell.execute_reply": "2024-08-08T19:06:02.110201Z"
    }
   },
   "outputs": [],
   "source": [
    "import matplotlib.pyplot as plt"
   ]
  },
  {
   "cell_type": "code",
   "execution_count": null,
   "metadata": {
    "execution": {
     "iopub.execute_input": "2024-08-08T19:06:02.112113Z",
     "iopub.status.busy": "2024-08-08T19:06:02.111966Z",
     "iopub.status.idle": "2024-08-08T19:06:02.304780Z",
     "shell.execute_reply": "2024-08-08T19:06:02.304518Z"
    }
   },
   "outputs": [],
   "source": [
    "from pytao import run_tao\n",
    "from pytao.tao_ctypes.evaluate import evaluate_tao\n",
    "import os"
   ]
  },
  {
   "cell_type": "markdown",
   "metadata": {},
   "source": [
    "## Inititialize Tao"
   ]
  },
  {
   "cell_type": "code",
   "execution_count": null,
   "metadata": {
    "execution": {
     "iopub.execute_input": "2024-08-08T19:06:02.306217Z",
     "iopub.status.busy": "2024-08-08T19:06:02.306142Z",
     "iopub.status.idle": "2024-08-08T19:06:02.308059Z",
     "shell.execute_reply": "2024-08-08T19:06:02.307805Z"
    }
   },
   "outputs": [],
   "source": [
    "INPUT_FILE = os.path.expandvars(\n",
    "    \"$ACC_ROOT_DIR/bmad-doc/tao_examples/csr_beam_tracking/tao.init\"\n",
    ")\n",
    "assert os.path.exists(os.path.expandvars(INPUT_FILE))"
   ]
  },
  {
   "cell_type": "markdown",
   "metadata": {},
   "source": [
    "## run_tao"
   ]
  },
  {
   "cell_type": "code",
   "execution_count": null,
   "metadata": {
    "execution": {
     "iopub.execute_input": "2024-08-08T19:06:02.309351Z",
     "iopub.status.busy": "2024-08-08T19:06:02.309276Z",
     "iopub.status.idle": "2024-08-08T19:06:02.392332Z",
     "shell.execute_reply": "2024-08-08T19:06:02.392121Z"
    }
   },
   "outputs": [],
   "source": [
    "M = run_tao(input_file=INPUT_FILE, ploton=False)\n",
    "M"
   ]
  },
  {
   "cell_type": "markdown",
   "metadata": {},
   "source": [
    "## evaluate_tao"
   ]
  },
  {
   "cell_type": "code",
   "execution_count": null,
   "metadata": {
    "execution": {
     "iopub.execute_input": "2024-08-08T19:06:02.410517Z",
     "iopub.status.busy": "2024-08-08T19:06:02.410413Z",
     "iopub.status.idle": "2024-08-08T19:06:02.756794Z",
     "shell.execute_reply": "2024-08-08T19:06:02.756537Z"
    }
   },
   "outputs": [],
   "source": [
    "res = evaluate_tao(\n",
    "    settings={\"space_charge_com:ds_track_step\": 0.001},\n",
    "    input_file=INPUT_FILE,\n",
    "    run_commands=[\"set global track_type=beam\"],\n",
    "    expressions=[\"lat::orbit.x[FF.PIP02A]\", \"beam::norm_emit.x[end]\"],\n",
    "    ploton=False,\n",
    "    archive_csr_wake=True,\n",
    "    beam_archive_path=\".\",\n",
    ")\n",
    "res"
   ]
  },
  {
   "cell_type": "code",
   "execution_count": null,
   "metadata": {
    "execution": {
     "iopub.execute_input": "2024-08-08T19:06:02.758073Z",
     "iopub.status.busy": "2024-08-08T19:06:02.757991Z",
     "iopub.status.idle": "2024-08-08T19:06:04.783014Z",
     "shell.execute_reply": "2024-08-08T19:06:04.782750Z"
    }
   },
   "outputs": [],
   "source": [
    "from pmd_beamphysics import ParticleGroup, particle_paths\n",
    "from h5py import File\n",
    "\n",
    "afile = res[\"beam_archive\"]\n",
    "h5 = File(afile, \"r\")\n",
    "ppaths = particle_paths(h5)\n",
    "ppaths"
   ]
  },
  {
   "cell_type": "markdown",
   "metadata": {},
   "source": [
    "Note that csr_wake is in here"
   ]
  },
  {
   "cell_type": "code",
   "execution_count": null,
   "metadata": {
    "execution": {
     "iopub.execute_input": "2024-08-08T19:06:04.784643Z",
     "iopub.status.busy": "2024-08-08T19:06:04.784501Z",
     "iopub.status.idle": "2024-08-08T19:06:04.786687Z",
     "shell.execute_reply": "2024-08-08T19:06:04.786451Z"
    }
   },
   "outputs": [],
   "source": [
    "list(h5)"
   ]
  },
  {
   "cell_type": "code",
   "execution_count": null,
   "metadata": {
    "execution": {
     "iopub.execute_input": "2024-08-08T19:06:04.787968Z",
     "iopub.status.busy": "2024-08-08T19:06:04.787876Z",
     "iopub.status.idle": "2024-08-08T19:06:05.165975Z",
     "shell.execute_reply": "2024-08-08T19:06:05.165725Z"
    }
   },
   "outputs": [],
   "source": [
    "P = ParticleGroup(h5[ppaths[-1]])\n",
    "P.plot(\"delta_t\", \"delta_pz\", bins=200)"
   ]
  },
  {
   "cell_type": "code",
   "execution_count": null,
   "metadata": {
    "execution": {
     "iopub.execute_input": "2024-08-08T19:06:05.167383Z",
     "iopub.status.busy": "2024-08-08T19:06:05.167284Z",
     "iopub.status.idle": "2024-08-08T19:06:05.168963Z",
     "shell.execute_reply": "2024-08-08T19:06:05.168735Z"
    }
   },
   "outputs": [],
   "source": [
    "os.remove(afile)"
   ]
  },
  {
   "cell_type": "markdown",
   "metadata": {},
   "source": [
    "## evaluate examples"
   ]
  },
  {
   "cell_type": "code",
   "execution_count": null,
   "metadata": {
    "execution": {
     "iopub.execute_input": "2024-08-08T19:06:05.170221Z",
     "iopub.status.busy": "2024-08-08T19:06:05.170151Z",
     "iopub.status.idle": "2024-08-08T19:06:05.172146Z",
     "shell.execute_reply": "2024-08-08T19:06:05.171943Z"
    }
   },
   "outputs": [],
   "source": [
    "M.evaluate(\"lat::orbit.x[end]\")"
   ]
  },
  {
   "cell_type": "markdown",
   "metadata": {},
   "source": [
    "## csr_wake diagnostic file"
   ]
  },
  {
   "cell_type": "code",
   "execution_count": null,
   "metadata": {
    "execution": {
     "iopub.execute_input": "2024-08-08T19:06:05.173414Z",
     "iopub.status.busy": "2024-08-08T19:06:05.173332Z",
     "iopub.status.idle": "2024-08-08T19:06:05.174877Z",
     "shell.execute_reply": "2024-08-08T19:06:05.174681Z"
    }
   },
   "outputs": [],
   "source": [
    "from pytao.misc.csr import read_csr_wake_data_h5, process_csr_wake_data"
   ]
  },
  {
   "cell_type": "markdown",
   "metadata": {},
   "source": [
    "csr_wake is stored in the HDF5 file"
   ]
  },
  {
   "cell_type": "code",
   "execution_count": null,
   "metadata": {
    "execution": {
     "iopub.execute_input": "2024-08-08T19:06:05.176065Z",
     "iopub.status.busy": "2024-08-08T19:06:05.175991Z",
     "iopub.status.idle": "2024-08-08T19:06:05.180138Z",
     "shell.execute_reply": "2024-08-08T19:06:05.179895Z"
    }
   },
   "outputs": [],
   "source": [
    "cdat = read_csr_wake_data_h5(h5)"
   ]
  },
  {
   "cell_type": "markdown",
   "metadata": {},
   "source": [
    "This is the actual data"
   ]
  },
  {
   "cell_type": "code",
   "execution_count": null,
   "metadata": {
    "execution": {
     "iopub.execute_input": "2024-08-08T19:06:05.181356Z",
     "iopub.status.busy": "2024-08-08T19:06:05.181284Z",
     "iopub.status.idle": "2024-08-08T19:06:05.183200Z",
     "shell.execute_reply": "2024-08-08T19:06:05.182976Z"
    }
   },
   "outputs": [],
   "source": [
    "dat = cdat[\"3:FF.BEN01\"][\"data\"]\n",
    "dat.shape"
   ]
  },
  {
   "cell_type": "markdown",
   "metadata": {},
   "source": [
    "This will process into a more useful form for data analysis."
   ]
  },
  {
   "cell_type": "code",
   "execution_count": null,
   "metadata": {
    "execution": {
     "iopub.execute_input": "2024-08-08T19:06:05.184476Z",
     "iopub.status.busy": "2024-08-08T19:06:05.184406Z",
     "iopub.status.idle": "2024-08-08T19:06:05.187529Z",
     "shell.execute_reply": "2024-08-08T19:06:05.187327Z"
    }
   },
   "outputs": [],
   "source": [
    "pdat = process_csr_wake_data(cdat)\n",
    "\n",
    "pdat[\"s_position\"]"
   ]
  },
  {
   "cell_type": "code",
   "execution_count": null,
   "metadata": {
    "execution": {
     "iopub.execute_input": "2024-08-08T19:06:05.188698Z",
     "iopub.status.busy": "2024-08-08T19:06:05.188631Z",
     "iopub.status.idle": "2024-08-08T19:06:05.192814Z",
     "shell.execute_reply": "2024-08-08T19:06:05.192622Z"
    }
   },
   "outputs": [],
   "source": [
    "from pytao.misc.csr_plot import plot_csr_wake, plot_csr_stats"
   ]
  },
  {
   "cell_type": "code",
   "execution_count": null,
   "metadata": {
    "execution": {
     "iopub.execute_input": "2024-08-08T19:06:05.193993Z",
     "iopub.status.busy": "2024-08-08T19:06:05.193912Z",
     "iopub.status.idle": "2024-08-08T19:06:05.315866Z",
     "shell.execute_reply": "2024-08-08T19:06:05.315637Z"
    }
   },
   "outputs": [],
   "source": [
    "from ipywidgets import interact\n",
    "\n",
    "\n",
    "def plot1(step=0):\n",
    "    plot_csr_wake(pdat, step=step)\n",
    "\n",
    "\n",
    "nstep = len(pdat[\"z\"])\n",
    "interact(plot1, step=(0, nstep - 1, 1));"
   ]
  },
  {
   "cell_type": "markdown",
   "metadata": {},
   "source": [
    "Check the s-position for each step"
   ]
  },
  {
   "cell_type": "code",
   "execution_count": null,
   "metadata": {
    "execution": {
     "iopub.execute_input": "2024-08-08T19:06:05.318168Z",
     "iopub.status.busy": "2024-08-08T19:06:05.318098Z",
     "iopub.status.idle": "2024-08-08T19:06:05.373924Z",
     "shell.execute_reply": "2024-08-08T19:06:05.373705Z"
    }
   },
   "outputs": [],
   "source": [
    "plt.plot(pdat[\"s_position\"], marker=\".\");"
   ]
  },
  {
   "cell_type": "markdown",
   "metadata": {},
   "source": [
    "Another convenience plot"
   ]
  },
  {
   "cell_type": "code",
   "execution_count": null,
   "metadata": {
    "execution": {
     "iopub.execute_input": "2024-08-08T19:06:05.375195Z",
     "iopub.status.busy": "2024-08-08T19:06:05.375120Z",
     "iopub.status.idle": "2024-08-08T19:06:05.485644Z",
     "shell.execute_reply": "2024-08-08T19:06:05.485403Z"
    }
   },
   "outputs": [],
   "source": [
    "plot_csr_stats(pdat)"
   ]
  },
  {
   "cell_type": "markdown",
   "metadata": {},
   "source": [
    "Cleanup"
   ]
  },
  {
   "cell_type": "code",
   "execution_count": null,
   "metadata": {
    "execution": {
     "iopub.execute_input": "2024-08-08T19:06:05.486978Z",
     "iopub.status.busy": "2024-08-08T19:06:05.486887Z",
     "iopub.status.idle": "2024-08-08T19:06:05.493727Z",
     "shell.execute_reply": "2024-08-08T19:06:05.493530Z"
    },
    "tags": []
   },
   "outputs": [],
   "source": [
    "os.remove(\"wake.dat\")"
   ]
  }
 ],
 "metadata": {
  "kernelspec": {
   "display_name": "Python 3 (ipykernel)",
   "language": "python",
   "name": "python3"
  },
  "language_info": {
   "codemirror_mode": {
    "name": "ipython",
    "version": 3
   },
   "file_extension": ".py",
   "mimetype": "text/x-python",
   "name": "python",
   "nbconvert_exporter": "python",
   "pygments_lexer": "ipython3",
   "version": "3.12.0"
  },
  "vscode": {
   "interpreter": {
    "hash": "8acfe5d4ac94dcea04347ba5d21ed6ccc77e9ec6b4167c9c2482da2d61a71842"
   }
  },
  "widgets": {
   "application/vnd.jupyter.widget-state+json": {
    "state": {
     "1c701eb71c6447d89fed4e5444c2e0bd": {
      "model_module": "@jupyter-widgets/controls",
      "model_module_version": "2.0.0",
      "model_name": "SliderStyleModel",
      "state": {
       "_model_module": "@jupyter-widgets/controls",
       "_model_module_version": "2.0.0",
       "_model_name": "SliderStyleModel",
       "_view_count": null,
       "_view_module": "@jupyter-widgets/base",
       "_view_module_version": "2.0.0",
       "_view_name": "StyleView",
       "description_width": "",
       "handle_color": null
      }
     },
     "1f02c357cbaa4507868f3e1d22c2cfca": {
      "model_module": "@jupyter-widgets/base",
      "model_module_version": "2.0.0",
      "model_name": "LayoutModel",
      "state": {
       "_model_module": "@jupyter-widgets/base",
       "_model_module_version": "2.0.0",
       "_model_name": "LayoutModel",
       "_view_count": null,
       "_view_module": "@jupyter-widgets/base",
       "_view_module_version": "2.0.0",
       "_view_name": "LayoutView",
       "align_content": null,
       "align_items": null,
       "align_self": null,
       "border_bottom": null,
       "border_left": null,
       "border_right": null,
       "border_top": null,
       "bottom": null,
       "display": null,
       "flex": null,
       "flex_flow": null,
       "grid_area": null,
       "grid_auto_columns": null,
       "grid_auto_flow": null,
       "grid_auto_rows": null,
       "grid_column": null,
       "grid_gap": null,
       "grid_row": null,
       "grid_template_areas": null,
       "grid_template_columns": null,
       "grid_template_rows": null,
       "height": null,
       "justify_content": null,
       "justify_items": null,
       "left": null,
       "margin": null,
       "max_height": null,
       "max_width": null,
       "min_height": null,
       "min_width": null,
       "object_fit": null,
       "object_position": null,
       "order": null,
       "overflow": null,
       "padding": null,
       "right": null,
       "top": null,
       "visibility": null,
       "width": null
      }
     },
     "8820854e7d6a452cada83f1831f70e0a": {
      "model_module": "@jupyter-widgets/output",
      "model_module_version": "1.0.0",
      "model_name": "OutputModel",
      "state": {
       "_dom_classes": [],
       "_model_module": "@jupyter-widgets/output",
       "_model_module_version": "1.0.0",
       "_model_name": "OutputModel",
       "_view_count": null,
       "_view_module": "@jupyter-widgets/output",
       "_view_module_version": "1.0.0",
       "_view_name": "OutputView",
       "layout": "IPY_MODEL_e8e1800085ef4f89821ef5c9dfbe1805",
       "msg_id": "",
       "outputs": [
        {
         "data": {
          "image/png": "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",
          "text/plain": "<Figure size 640x480 with 2 Axes>"
         },
         "metadata": {
          "image/png": {
           "height": 448,
           "width": 665
          }
         },
         "output_type": "display_data"
        }
       ],
       "tabbable": null,
       "tooltip": null
      }
     },
     "a4f68cfbbcf14b268ce3ff1ee900c4f4": {
      "model_module": "@jupyter-widgets/base",
      "model_module_version": "2.0.0",
      "model_name": "LayoutModel",
      "state": {
       "_model_module": "@jupyter-widgets/base",
       "_model_module_version": "2.0.0",
       "_model_name": "LayoutModel",
       "_view_count": null,
       "_view_module": "@jupyter-widgets/base",
       "_view_module_version": "2.0.0",
       "_view_name": "LayoutView",
       "align_content": null,
       "align_items": null,
       "align_self": null,
       "border_bottom": null,
       "border_left": null,
       "border_right": null,
       "border_top": null,
       "bottom": null,
       "display": null,
       "flex": null,
       "flex_flow": null,
       "grid_area": null,
       "grid_auto_columns": null,
       "grid_auto_flow": null,
       "grid_auto_rows": null,
       "grid_column": null,
       "grid_gap": null,
       "grid_row": null,
       "grid_template_areas": null,
       "grid_template_columns": null,
       "grid_template_rows": null,
       "height": null,
       "justify_content": null,
       "justify_items": null,
       "left": null,
       "margin": null,
       "max_height": null,
       "max_width": null,
       "min_height": null,
       "min_width": null,
       "object_fit": null,
       "object_position": null,
       "order": null,
       "overflow": null,
       "padding": null,
       "right": null,
       "top": null,
       "visibility": null,
       "width": null
      }
     },
     "c04025ea966c4f608dcb50bbc76219f3": {
      "model_module": "@jupyter-widgets/controls",
      "model_module_version": "2.0.0",
      "model_name": "IntSliderModel",
      "state": {
       "_dom_classes": [],
       "_model_module": "@jupyter-widgets/controls",
       "_model_module_version": "2.0.0",
       "_model_name": "IntSliderModel",
       "_view_count": null,
       "_view_module": "@jupyter-widgets/controls",
       "_view_module_version": "2.0.0",
       "_view_name": "IntSliderView",
       "behavior": "drag-tap",
       "continuous_update": true,
       "description": "step",
       "description_allow_html": false,
       "disabled": false,
       "layout": "IPY_MODEL_a4f68cfbbcf14b268ce3ff1ee900c4f4",
       "max": 449,
       "min": 0,
       "orientation": "horizontal",
       "readout": true,
       "readout_format": "d",
       "step": 1,
       "style": "IPY_MODEL_1c701eb71c6447d89fed4e5444c2e0bd",
       "tabbable": null,
       "tooltip": null,
       "value": 0
      }
     },
     "c2f4f64ea7944702bdfaad81cbbf122b": {
      "model_module": "@jupyter-widgets/controls",
      "model_module_version": "2.0.0",
      "model_name": "VBoxModel",
      "state": {
       "_dom_classes": [
        "widget-interact"
       ],
       "_model_module": "@jupyter-widgets/controls",
       "_model_module_version": "2.0.0",
       "_model_name": "VBoxModel",
       "_view_count": null,
       "_view_module": "@jupyter-widgets/controls",
       "_view_module_version": "2.0.0",
       "_view_name": "VBoxView",
       "box_style": "",
       "children": [
        "IPY_MODEL_c04025ea966c4f608dcb50bbc76219f3",
        "IPY_MODEL_8820854e7d6a452cada83f1831f70e0a"
       ],
       "layout": "IPY_MODEL_1f02c357cbaa4507868f3e1d22c2cfca",
       "tabbable": null,
       "tooltip": null
      }
     },
     "e8e1800085ef4f89821ef5c9dfbe1805": {
      "model_module": "@jupyter-widgets/base",
      "model_module_version": "2.0.0",
      "model_name": "LayoutModel",
      "state": {
       "_model_module": "@jupyter-widgets/base",
       "_model_module_version": "2.0.0",
       "_model_name": "LayoutModel",
       "_view_count": null,
       "_view_module": "@jupyter-widgets/base",
       "_view_module_version": "2.0.0",
       "_view_name": "LayoutView",
       "align_content": null,
       "align_items": null,
       "align_self": null,
       "border_bottom": null,
       "border_left": null,
       "border_right": null,
       "border_top": null,
       "bottom": null,
       "display": null,
       "flex": null,
       "flex_flow": null,
       "grid_area": null,
       "grid_auto_columns": null,
       "grid_auto_flow": null,
       "grid_auto_rows": null,
       "grid_column": null,
       "grid_gap": null,
       "grid_row": null,
       "grid_template_areas": null,
       "grid_template_columns": null,
       "grid_template_rows": null,
       "height": null,
       "justify_content": null,
       "justify_items": null,
       "left": null,
       "margin": null,
       "max_height": null,
       "max_width": null,
       "min_height": null,
       "min_width": null,
       "object_fit": null,
       "object_position": null,
       "order": null,
       "overflow": null,
       "padding": null,
       "right": null,
       "top": null,
       "visibility": null,
       "width": null
      }
     }
    },
    "version_major": 2,
    "version_minor": 0
   }
  }
 },
 "nbformat": 4,
 "nbformat_minor": 4
}
