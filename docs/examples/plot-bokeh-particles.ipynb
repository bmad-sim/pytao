{
 "cells": [
  {
   "cell_type": "markdown",
   "id": "89e0e2c9-e460-4e3f-97be-c627c9627450",
   "metadata": {},
   "source": [
    "## Floor plan plot with ParticleGroup plot overlays"
   ]
  },
  {
   "cell_type": "code",
   "execution_count": null,
   "id": "f10781c7-d616-4338-9477-555ef0c0aa2d",
   "metadata": {},
   "outputs": [],
   "source": [
    "import dataclasses\n",
    "import logging\n",
    "\n",
    "import bokeh.plotting\n",
    "import matplotlib.pyplot as plt\n",
    "import numpy as np\n",
    "import pytao\n",
    "from pmd_beamphysics import ParticleGroup\n",
    "from pytao.plotting.bokeh import BokehAppCreator, BokehFloorPlanGraph, FloorPlanElement"
   ]
  },
  {
   "cell_type": "markdown",
   "id": "98db08a4-b9d5-4633-bd19-0f3238476a44",
   "metadata": {},
   "source": [
    "### Configuration"
   ]
  },
  {
   "cell_type": "code",
   "execution_count": null,
   "id": "38e69fef-13e4-4700-ab63-ede40c359d95",
   "metadata": {},
   "outputs": [],
   "source": [
    "# The number of particles to generate.\n",
    "N_PARTICLE = 10000\n",
    "# Change this glob string (\"*\") to tell bmad when to save particles:\n",
    "BEAM_SAVED_AT = \"*\"\n",
    "# The matplotlib figure size for ParticleGroup:\n",
    "PLOT_FIGSIZE = (4.0, 4.0)\n",
    "# The dots per inch (DPI) for ParticleGroup plots:\n",
    "PLOT_DPI = 100\n",
    "# The size of the overlay image, in floor coordinates:\n",
    "OVERLAY_DISPLAY_WIDTH = 1.0\n",
    "# Calculated aspect ratio and floor coordinate height of the image:\n",
    "OVERLAY_ASPECT = float(PLOT_FIGSIZE[1]) / PLOT_FIGSIZE[0]\n",
    "OVERLAY_DISPLAY_HEIGHT = OVERLAY_ASPECT * OVERLAY_DISPLAY_WIDTH\n",
    "# For each of matching key here, an offset will be added to the floor position:\n",
    "NAME_TO_OFFSET = {\n",
    "    # This matches all elements - it's our default offset:\n",
    "    \"\": (-OVERLAY_DISPLAY_WIDTH / 2.0, OVERLAY_DISPLAY_HEIGHT / 2.0),\n",
    "    # For this example, P5 overlaps - so move it up:\n",
    "    \"P5\": (0, OVERLAY_DISPLAY_HEIGHT),\n",
    "    # The remainder are examples of other offsets you could use for multipass elements\n",
    "    \".END\": (0, OVERLAY_DISPLAY_HEIGHT),\n",
    "    r\"\\2\": (0, OVERLAY_DISPLAY_HEIGHT),\n",
    "    r\"\\3\": (0, OVERLAY_DISPLAY_HEIGHT),\n",
    "}\n",
    "# Skip these elements (by name)\n",
    "SKIP_ELEMENTS = []\n",
    "# Use a transparent background for the plots:\n",
    "TRANSPARENT_BACKGROUND = True\n",
    "# The width and height of the bokeh plot:\n",
    "BOKEH_WIDTH = 1000\n",
    "BOKEH_HEIGHT = 500"
   ]
  },
  {
   "cell_type": "markdown",
   "id": "63ac2aec-6561-4188-9d6b-8e721feacc9b",
   "metadata": {},
   "source": [
    "### Tao setup"
   ]
  },
  {
   "cell_type": "code",
   "execution_count": null,
   "id": "6f94b997-d8c2-4e3e-95ae-c337f38efb48",
   "metadata": {},
   "outputs": [],
   "source": [
    "tao = pytao.Tao(\n",
    "    init_file=\"$ACC_ROOT_DIR/bmad-doc/tao_examples/optics_matching/tao.init\",\n",
    "    plot=\"bokeh\",\n",
    ")\n",
    "\n",
    "for cmd in [\n",
    "    f\"set beam_init beam_saved_at = {BEAM_SAVED_AT}\",\n",
    "    f\"set beam_init n_particle = {N_PARTICLE}\",\n",
    "    \"set global track_type = beam\",\n",
    "    \"set beam_init distribution_type(1) = ran_gauss\",\n",
    "    \"set beam_init distribution_type(2) = ran_gauss\",\n",
    "    \"set beam_init distribution_type(3) = ran_gauss\",\n",
    "]:\n",
    "    print(f\"Tao> {cmd}\")\n",
    "    print(\"\\n\".join(tao.cmd(cmd)))"
   ]
  },
  {
   "cell_type": "markdown",
   "id": "d40a5a6b-f6f9-45a7-aaaf-45825900c9dc",
   "metadata": {},
   "source": [
    "### Helper dataclasses"
   ]
  },
  {
   "cell_type": "code",
   "execution_count": null,
   "id": "ce06a226-2458-4b3d-b2e5-6edf7b242845",
   "metadata": {},
   "outputs": [],
   "source": [
    "@dataclasses.dataclass\n",
    "class Position:\n",
    "    x: float\n",
    "    y: float\n",
    "    w: float\n",
    "    h: float\n",
    "    floor_x: float\n",
    "    floor_y: float\n",
    "\n",
    "\n",
    "@dataclasses.dataclass\n",
    "class Element:\n",
    "    index: int\n",
    "    name: str\n",
    "    head: dict\n",
    "    bunch_params: dict\n",
    "    particles: ParticleGroup\n",
    "    particles_filename: str\n",
    "    position: Position\n",
    "    floor_ele: FloorPlanElement | None = None\n",
    "    image: np.ndarray | None = None"
   ]
  },
  {
   "cell_type": "markdown",
   "id": "67c3e84c-0b09-4833-bfb5-5d27384fe245",
   "metadata": {},
   "source": [
    "### Helper functions"
   ]
  },
  {
   "cell_type": "code",
   "execution_count": null,
   "id": "ab42e631-d0aa-409c-9eb9-e7c01549a3d6",
   "metadata": {},
   "outputs": [],
   "source": [
    "def position_overlay_for_element(floor_ele: FloorPlanElement, ele_name: str) -> Position:\n",
    "    \"\"\"\n",
    "    Calculate the position of an overlay image on the floor plan.\n",
    "\n",
    "    Parameters\n",
    "    ----------\n",
    "    floor_ele : FloorPlanElement\n",
    "    ele_name : str\n",
    "        The name of the element to be overlayed.\n",
    "\n",
    "    Returns\n",
    "    -------\n",
    "    Position\n",
    "    \"\"\"\n",
    "    dw = OVERLAY_DISPLAY_WIDTH\n",
    "    dh = OVERLAY_DISPLAY_HEIGHT\n",
    "\n",
    "    floor_x = floor_ele.info[\"end1_r1\"]\n",
    "    floor_y = floor_ele.info[\"end1_r2\"]\n",
    "    image_x = floor_x\n",
    "    image_y = floor_y\n",
    "\n",
    "    for match, (offset_x, offset_y) in NAME_TO_OFFSET.items():\n",
    "        if match in ele_name:\n",
    "            image_x += offset_x\n",
    "            image_y += offset_y\n",
    "\n",
    "    return Position(x=image_x, y=image_y, w=dw, h=dh, floor_x=floor_x, floor_y=floor_y)\n",
    "\n",
    "\n",
    "def fig_to_image(fig, dpi: int) -> np.ndarray:\n",
    "    \"\"\"\n",
    "    Convert a Matplotlib figure to an RGBA numpy array.\n",
    "\n",
    "    Parameters\n",
    "    ----------\n",
    "    fig : matplotlib.figure.Figure\n",
    "        The figure to convert.\n",
    "    dpi : int\n",
    "        The resolution in dots per inch.\n",
    "\n",
    "    Returns\n",
    "    -------\n",
    "    np.ndarray\n",
    "        The RGBA image array of the figure.\n",
    "    \"\"\"\n",
    "    fig.set_tight_layout(True)\n",
    "    fig.set_dpi(dpi)\n",
    "    fig.canvas.draw()\n",
    "    return np.array(fig.canvas.renderer.buffer_rgba())\n",
    "\n",
    "\n",
    "def image_array_to_bokeh(img: np.ndarray) -> np.ndarray:\n",
    "    \"\"\"\n",
    "    Convert a numpy image array to a format compatible with Bokeh.\n",
    "\n",
    "    Mirrors horizontally.\n",
    "    \"\"\"\n",
    "    return img.view(dtype=np.uint32).reshape(img.shape[0], img.shape[1])[::-1, :]"
   ]
  },
  {
   "cell_type": "markdown",
   "id": "ae83aed6-e6d5-40cd-b251-7ea468929f2e",
   "metadata": {},
   "source": [
    "### Create the floor plan\n",
    "\n",
    "We need to interact directly with the Bokeh graph manager built into PyTao, rather than using the `tao.plot` functionality here.\n",
    "\n",
    "`prepare_graphs_by_name` asks Tao to place a floor plan for us, and then PyTao inspects the graph to generate the `floor_graph` object.\n",
    "That object contains information about all elements in the floor plan, what shape they are, where they are located, and so on."
   ]
  },
  {
   "cell_type": "code",
   "execution_count": null,
   "id": "911fcc49-b76c-4241-8af0-d1892902d419",
   "metadata": {},
   "outputs": [],
   "source": [
    "(floor_graph,) = tao.bokeh.prepare_graphs_by_name(\"floor\")\n",
    "bokeh_app = BokehAppCreator(\n",
    "    graphs=(floor_graph,),\n",
    "    include_variables=False,\n",
    "    manager=tao.bokeh,\n",
    "    width=BOKEH_WIDTH,\n",
    "    height=BOKEH_HEIGHT,\n",
    ")\n",
    "\n",
    "index_to_floor_plan_element = {\n",
    "    floor_ele.index: floor_ele for floor_ele in floor_graph.elements\n",
    "}"
   ]
  },
  {
   "cell_type": "markdown",
   "id": "1742aa69-1c3c-461a-9a6f-849f4cfdee57",
   "metadata": {},
   "source": [
    "### Gather all of the elements\n",
    "\n",
    "For all elements which:\n",
    "* Have particles saved by bmad ('beam_saved' bunch parameter)\n",
    "* Are not in the skip list\n",
    "* Are included in the Tao floor plan\n",
    "\n",
    "We save OpenPMD standard particle data to a corresponding HDF5 file.\n",
    "We create an `Element()` instance for each of these with all relevant information."
   ]
  },
  {
   "cell_type": "code",
   "execution_count": null,
   "id": "88645e86-f203-4e0c-84fc-f35898fd2ff4",
   "metadata": {},
   "outputs": [],
   "source": [
    "elements = []\n",
    "for idx in tao.lat_list(\"*\", \"ele.ix_ele\", flags=\"-array_out -track_only\"):\n",
    "    head = tao.ele_head(idx)\n",
    "    ele_name = head[\"name\"]\n",
    "\n",
    "    if ele_name in SKIP_ELEMENTS:\n",
    "        print(f\"Skipping {ele_name} ({idx}) as configured\")\n",
    "        continue\n",
    "\n",
    "    bunch_params = tao.bunch_params(idx)\n",
    "    if not bunch_params[\"beam_saved\"]:\n",
    "        print(f\"Skipping {ele_name} ({idx}) has no particles\")\n",
    "        continue\n",
    "\n",
    "    floor_ele = index_to_floor_plan_element.get(idx, None)\n",
    "    if floor_ele is None:\n",
    "        print(f\"Skipping {ele_name} ({idx}) as it's not in the floor plan\")\n",
    "        continue\n",
    "\n",
    "    fn = f\"{ele_name}.h5\".replace(\"#\", \"_\").replace(\"\\\\\", \"_pass\")\n",
    "\n",
    "    # Write the particles at this element to 'fn':\n",
    "    tao.cmd(f\"write beam -at {idx} {fn}\")\n",
    "\n",
    "    print(f\"{ele_name} ({idx}) particles in {fn}\")\n",
    "\n",
    "    elements.append(\n",
    "        Element(\n",
    "            index=idx,\n",
    "            name=ele_name,\n",
    "            head=head,\n",
    "            bunch_params=bunch_params,\n",
    "            particles=ParticleGroup(h5=fn),\n",
    "            particles_filename=fn,\n",
    "            position=position_overlay_for_element(floor_ele, ele_name),\n",
    "            floor_ele=floor_ele,\n",
    "        )\n",
    "    )"
   ]
  },
  {
   "cell_type": "markdown",
   "id": "c17982dd-332e-4ecc-ada8-7ee021d3bcbd",
   "metadata": {},
   "source": [
    "### Create the bokeh floor plan\n",
    "\n",
    "For each element, we overlay the generated image into its position.\n",
    "Optionally, the white background of the particle plot is removed."
   ]
  },
  {
   "cell_type": "code",
   "execution_count": null,
   "id": "8a264899-91f6-4be6-8570-9431c050bbc5",
   "metadata": {},
   "outputs": [],
   "source": [
    "white = 0xff_ff_ff_ff  # 32-bit RGBA all bits set -> white\n",
    "transparent = 0  # transparent color -> alpha channel all 0\n",
    "\n",
    "# Create the base bokeh floor plan graph:\n",
    "bokeh_fig = bokeh_app.create_state().figures[0]\n",
    "\n",
    "for ele in elements:\n",
    "    fig = ele.particles.plot(\"t\", \"energy\", return_figure=True, figsize=PLOT_FIGSIZE)\n",
    "    fig.axes[0].set_title(ele.name)\n",
    "    ele.image = fig_to_image(fig, dpi=PLOT_DPI)\n",
    "    plt.close()\n",
    "\n",
    "    img = image_array_to_bokeh(ele.image)\n",
    "    if TRANSPARENT_BACKGROUND:\n",
    "        img[img == white] = transparent\n",
    "\n",
    "    pos = ele.position\n",
    "\n",
    "    bokeh_fig.image_rgba(image=[img], x=pos.x, y=pos.y, dw=pos.w, dh=pos.h)\n",
    "    bokeh_fig.line(\n",
    "        [pos.floor_x, pos.x + pos.w / 2.0], [pos.floor_y, pos.y], line_dash=\"dotted\"\n",
    "    )\n",
    "\n",
    "# bokeh.plotting.output_file(\"gen-overlay.html\")\n",
    "# bokeh.plotting.save(bokeh_fig)\n",
    "bokeh.plotting.output_notebook()\n",
    "bokeh.plotting.show(bokeh_fig)"
   ]
  }
 ],
 "metadata": {
  "kernelspec": {
   "display_name": "Python 3 (ipykernel)",
   "language": "python",
   "name": "python3"
  },
  "language_info": {
   "codemirror_mode": {
    "name": "ipython",
    "version": 3
   },
   "file_extension": ".py",
   "mimetype": "text/x-python",
   "name": "python",
   "nbconvert_exporter": "python",
   "pygments_lexer": "ipython3",
   "version": "3.12.5"
  }
 },
 "nbformat": 4,
 "nbformat_minor": 5
}
