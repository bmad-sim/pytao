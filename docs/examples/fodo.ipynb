{
 "cells": [
  {
   "cell_type": "markdown",
   "id": "486b510e-904a-40ab-b744-d6cc30bce59a",
   "metadata": {},
   "source": [
    "# FODO optics\n",
    "\n",
    "This will demonstrate how to scan symmetrically and asymetrically the quadruople strengths in a standard FODO lattice.\n",
    "\n",
    "Later we will optimize for particular average beta function.\n",
    "\n",
    "Finally, we will track a beam and gather statistics from the particles."
   ]
  },
  {
   "cell_type": "code",
   "execution_count": null,
   "id": "e9cad9ba-e9a5-40dd-9b92-73186a2b8ae4",
   "metadata": {},
   "outputs": [],
   "source": [
    "from pytao import Tao\n",
    "import numpy as np\n",
    "import matplotlib.pyplot as plt\n",
    "import os\n",
    "\n",
    "%config InlineBackend.figure_format = 'retina'"
   ]
  },
  {
   "cell_type": "code",
   "execution_count": null,
   "id": "792aef00-8f6b-4e11-9737-11addb070c10",
   "metadata": {},
   "outputs": [],
   "source": [
    "tao = Tao(\n",
    "    \"-init $ACC_ROOT_DIR/bmad-doc/tao_examples/fodo/tao.init -lat $ACC_ROOT_DIR/bmad-doc/tao_examples/fodo/fodo.bmad -noplot\"\n",
    ")"
   ]
  },
  {
   "cell_type": "code",
   "execution_count": null,
   "id": "da32a879-df05-4826-9b7a-516d8629be77",
   "metadata": {},
   "outputs": [],
   "source": [
    "def add_info(d):\n",
    "    twiss1 = tao.ele_twiss(\"q1\")\n",
    "    twiss2 = tao.ele_twiss(\"q2\")\n",
    "\n",
    "    d[\"mean_beta_a\"] = (twiss1[\"beta_a\"] + twiss2[\"beta_a\"]) / 2\n",
    "    d[\"mean_beta_b\"] = (twiss1[\"beta_b\"] + twiss2[\"beta_b\"]) / 2\n",
    "    d[\"phi_a\"] = twiss2[\"phi_a\"]\n",
    "    d[\"phi_b\"] = twiss2[\"phi_b\"]\n",
    "    return d"
   ]
  },
  {
   "cell_type": "code",
   "execution_count": null,
   "id": "f5a7188a-68c9-4b94-af92-a55643f45f9b",
   "metadata": {},
   "outputs": [],
   "source": [
    "%%tao\n",
    "sho lat"
   ]
  },
  {
   "cell_type": "markdown",
   "id": "49ac2fae-bbbd-4c64-bf9a-a3458c61e654",
   "metadata": {},
   "source": [
    "## Symmetric FODO"
   ]
  },
  {
   "cell_type": "code",
   "execution_count": null,
   "id": "85c21987-a7b5-42d5-a5f5-7a65dce11a31",
   "metadata": {},
   "outputs": [],
   "source": [
    "def set_kx(k1):\n",
    "    cmds = [f\"set ele q1 k1 = {k1}\", f\"set ele q2 k1 = {-k1}\"]\n",
    "\n",
    "    d = {}\n",
    "    try:\n",
    "        tao.cmds(cmds)\n",
    "        tao.cmd(\"set global lattice_calc_on = T\")\n",
    "        d[\"good\"] = True\n",
    "        add_info(d)\n",
    "    except RuntimeError:\n",
    "        d[\"good\"] = False\n",
    "\n",
    "    return d\n",
    "\n",
    "\n",
    "x = set_kx(1.4142136e01)\n",
    "KEYS = x.keys()\n",
    "x"
   ]
  },
  {
   "cell_type": "code",
   "execution_count": null,
   "id": "c602c82b-fac0-4882-8dd9-e0583a3fa20c",
   "metadata": {},
   "outputs": [],
   "source": [
    "# Scan k1\n",
    "n1 = 20\n",
    "qvec1 = np.linspace(1, 25, n1)\n",
    "\n",
    "RESULTS = []\n",
    "\n",
    "# tao.cmd('set global plot_on = F')\n",
    "for k in qvec1:\n",
    "    res = set_kx(k)\n",
    "    RESULTS.append(res)\n",
    "# tao.cmd('set global plot_on = T')"
   ]
  },
  {
   "cell_type": "code",
   "execution_count": null,
   "id": "2357ea31-2055-491c-9b33-566b06a95984",
   "metadata": {},
   "outputs": [],
   "source": [
    "# Reshape data\n",
    "DAT = {}\n",
    "for key in KEYS:\n",
    "    print(key)\n",
    "    x = []\n",
    "    for res in RESULTS:\n",
    "        if key in res:\n",
    "            x.append(res[key])\n",
    "        else:\n",
    "            x.append(np.nan)\n",
    "    DAT[key] = np.array(x)"
   ]
  },
  {
   "cell_type": "code",
   "execution_count": null,
   "id": "d2b18bee-f598-45dd-bb23-4a0f0d484a9a",
   "metadata": {},
   "outputs": [],
   "source": [
    "DAT.keys()"
   ]
  },
  {
   "cell_type": "code",
   "execution_count": null,
   "id": "652a3472-d726-44be-9305-5441dbd71e4f",
   "metadata": {},
   "outputs": [],
   "source": [
    "for key in KEYS:\n",
    "    plt.plot(qvec1, DAT[key])\n",
    "    plt.ylabel(key)\n",
    "    plt.xlabel(r\"k1 (m$^{-2}$)\")\n",
    "    plt.show()"
   ]
  },
  {
   "cell_type": "code",
   "execution_count": null,
   "id": "0e7b5796-2ab8-4ac2-ad85-4e09d6d27c20",
   "metadata": {},
   "outputs": [],
   "source": [
    "%%tao\n",
    "sho dat"
   ]
  },
  {
   "cell_type": "markdown",
   "id": "ca9020bf-f839-4db5-b105-5e11602042bd",
   "metadata": {},
   "source": [
    "# Asymmetric FODO\n",
    "\n",
    "Scan k1 for each quad"
   ]
  },
  {
   "cell_type": "code",
   "execution_count": null,
   "id": "e27c52bd-9cf7-42e8-ab74-dece4569cdb5",
   "metadata": {},
   "outputs": [],
   "source": [
    "def set_k(k1, k2):\n",
    "    cmds = [f\"set ele q1 k1 = {k1}\", f\"set ele q2 k1 = {-k2}\"]\n",
    "\n",
    "    d = {}\n",
    "    try:\n",
    "        tao.cmds(cmds)\n",
    "        tao.cmd(\"set global lattice_calc_on = T\")\n",
    "        d[\"good\"] = True\n",
    "        add_info(d)\n",
    "    except RuntimeError:\n",
    "        d[\"good\"] = False\n",
    "\n",
    "    return d\n",
    "\n",
    "\n",
    "x = set_k(1.4142136e01, 1.4142136e01)\n",
    "KEYS = x.keys()\n",
    "x"
   ]
  },
  {
   "cell_type": "code",
   "execution_count": null,
   "id": "0847d120-cf80-42d8-8ee8-1afa03e8fb52",
   "metadata": {},
   "outputs": [],
   "source": [
    "set_k(1, 1)"
   ]
  },
  {
   "cell_type": "code",
   "execution_count": null,
   "id": "be51cc3a-f022-4824-ac0a-499845f1ec0a",
   "metadata": {},
   "outputs": [],
   "source": [
    "n1 = 50\n",
    "n2 = 60\n",
    "qvec1 = np.linspace(1, 15, n1)\n",
    "qvec2 = np.linspace(1, 15, n2)\n",
    "K1, K2 = np.meshgrid(qvec1, qvec2, indexing=\"ij\")\n",
    "\n",
    "fK1 = K1.flatten()\n",
    "fK2 = K2.flatten()"
   ]
  },
  {
   "cell_type": "code",
   "execution_count": null,
   "id": "3bfca083-1314-42f1-8399-3d1e26ab95fa",
   "metadata": {
    "tags": []
   },
   "outputs": [],
   "source": [
    "%%time\n",
    "# Make data\n",
    "\n",
    "tao.cmd(\"set global plot_on = F\")\n",
    "\n",
    "RESULTS = []\n",
    "for k1, k2 in zip(fK1, fK2):\n",
    "    res = set_k(k1, k2)\n",
    "    #    print(res)\n",
    "    RESULTS.append(res)\n",
    "\n",
    "\n",
    "# tao.cmd('set global plot_on = T')"
   ]
  },
  {
   "cell_type": "code",
   "execution_count": null,
   "id": "01622876-ab36-4cff-82e2-2dff1dbb1a29",
   "metadata": {},
   "outputs": [],
   "source": [
    "# Reshape data\n",
    "DAT = {}\n",
    "for key in RESULTS[0]:\n",
    "    print(key)\n",
    "    x = []\n",
    "    for res in RESULTS:\n",
    "        if key in res:\n",
    "            x.append(res[key])\n",
    "        else:\n",
    "            x.append(np.nan)\n",
    "\n",
    "    DAT[key] = np.array(x).reshape(n1, n2)"
   ]
  },
  {
   "cell_type": "markdown",
   "id": "f68946d2-db3e-4416-a9e1-2fbbcf2549c6",
   "metadata": {},
   "source": [
    "# Plots"
   ]
  },
  {
   "cell_type": "code",
   "execution_count": null,
   "id": "66105948-267e-4a21-a3f0-375b13adce33",
   "metadata": {},
   "outputs": [],
   "source": [
    "NICE = {}\n",
    "NICE[\"mean_beta_a\"] = r\"$<\\beta_x>$\"\n",
    "NICE[\"mean_beta_b\"] = r\"$<\\beta_y>$\"\n",
    "\n",
    "\n",
    "def nice(key):\n",
    "    if key in NICE:\n",
    "        return NICE[key]\n",
    "    return key"
   ]
  },
  {
   "cell_type": "code",
   "execution_count": null,
   "id": "e9689fc2-c433-468d-99aa-594ae07038a2",
   "metadata": {},
   "outputs": [],
   "source": [
    "# fig, ax = plt.subplots(figsize=(10,8))\n",
    "\n",
    "\n",
    "def plot1(key):\n",
    "    plt.imshow(\n",
    "        DAT[key],\n",
    "        origin=\"lower\",\n",
    "        extent=[qvec1.min(), qvec1.max(), qvec2.min(), qvec2.max()],\n",
    "        cmap=\"jet\",\n",
    "        vmax=10,\n",
    "    )\n",
    "    plt.xlabel(\"Q1 (+)k1 (1/m$^2$)\")\n",
    "    plt.ylabel(\"Q2 (-)k1 (1/m$^2$)\")\n",
    "    plt.colorbar(label=nice(key))\n",
    "    plt.show()\n",
    "\n",
    "\n",
    "plot1(\"mean_beta_a\")\n",
    "plot1(\"mean_beta_b\")"
   ]
  },
  {
   "cell_type": "markdown",
   "id": "49b278eb-bab0-42ca-b90b-6d7af5d184a8",
   "metadata": {},
   "source": [
    "# Optimize for some special beta functions"
   ]
  },
  {
   "cell_type": "code",
   "execution_count": null,
   "id": "bd151056-66eb-4f4a-ad07-39b3106bc445",
   "metadata": {},
   "outputs": [],
   "source": [
    "def optimize(beta_a, beta_b):\n",
    "    cmds = f\"\"\"\n",
    "alias setbetas\n",
    "veto var *\n",
    "set lattice model=design\n",
    "veto dat *\n",
    "use dat fodo.betas[1,2]\n",
    "use dat fodo.stability\n",
    "set dat fodo.betas[1]|meas={beta_a}\n",
    "set dat fodo.betas[2]|meas={beta_b}\n",
    "use var quad\n",
    "run\n",
    "show var -bmad -good\n",
    "    \"\"\"\n",
    "    lines = tao.cmds(\n",
    "        cmds.split(\"\\n\"),\n",
    "        suppress_lattice_calc=False,\n",
    "        suppress_plotting=False,\n",
    "        raises=False,\n",
    "    )\n",
    "\n",
    "    # Twiss at Q1\n",
    "    T = tao.ele_twiss(\"Q1\")\n",
    "    return T\n",
    "\n",
    "\n",
    "optimize(10, 20)"
   ]
  },
  {
   "cell_type": "code",
   "execution_count": null,
   "id": "bdf6e2cb-1e55-4141-b37f-b21d3b0bdba6",
   "metadata": {},
   "outputs": [],
   "source": [
    "# Check merit\n",
    "tao.merit()"
   ]
  },
  {
   "cell_type": "code",
   "execution_count": null,
   "id": "4ec11177-a124-4ede-afd5-6279a1688dae",
   "metadata": {},
   "outputs": [],
   "source": [
    "# Check that the optimization worked\n",
    "average_beta_a = tao.data(\"fodo\", \"betas\", dat_index=1)[\"model_value\"]\n",
    "average_beta_b = tao.data(\"fodo\", \"betas\", dat_index=2)[\"model_value\"]\n",
    "average_beta_a, average_beta_b"
   ]
  },
  {
   "cell_type": "code",
   "execution_count": null,
   "id": "30c1e68c-5868-4b67-b8f4-c90b4fc8c36a",
   "metadata": {},
   "outputs": [],
   "source": [
    "# These are the K\n",
    "kq1 = tao.ele_gen_attribs(\"Q1\")[\"K1\"]\n",
    "kq2 = tao.ele_gen_attribs(\"Q2\")[\"K1\"]\n",
    "kq1, kq2"
   ]
  },
  {
   "cell_type": "markdown",
   "id": "ddb7ae10-2ef7-4cdb-b2a6-7370a65f4c24",
   "metadata": {},
   "source": [
    "# Alternative method: alias\n",
    "\n",
    "A 'simple' Tao alias can be useful when running on the command line.\n"
   ]
  },
  {
   "cell_type": "code",
   "execution_count": null,
   "id": "e2b1c62c-86df-47fb-b9cb-34fb206a5693",
   "metadata": {},
   "outputs": [],
   "source": [
    "tao.cmd(\n",
    "    \"alias setbetas veto var *;veto dat *;use datafodo.stability;use dat fodo.betas[1,2];set dat fodo.betas[1]|meas=[[1]];set dat fodo.betas[2]|meas=[[2]];use var quad;run;show var -bmad -good\"\n",
    ")\n",
    "# tao.cmd('call SetBetas.tao', raises=False)\n",
    "\n",
    "lines = tao.cmd(\"setbetas 40 25\", raises=False)\n",
    "lines[-3:]\n",
    "tao.merit()"
   ]
  },
  {
   "cell_type": "code",
   "execution_count": null,
   "id": "cf9ea816-a8ee-4269-99e3-a0226983e3b6",
   "metadata": {},
   "outputs": [],
   "source": [
    "T = tao.ele_twiss(\"Q1\")\n",
    "T"
   ]
  },
  {
   "cell_type": "markdown",
   "id": "75ab6b61-fec0-4e10-ad12-71aa0f81439e",
   "metadata": {},
   "source": [
    "# Beam tracking \n",
    "\n",
    "Here we will make a new lattice with 10 cells that calls the single fodo lattice."
   ]
  },
  {
   "cell_type": "code",
   "execution_count": null,
   "id": "7eb23d45-05d2-46e6-9929-9596cfc7e00a",
   "metadata": {},
   "outputs": [],
   "source": [
    "from pytao.misc.markers import make_markers"
   ]
  },
  {
   "cell_type": "code",
   "execution_count": null,
   "id": "bf23526d-8a29-4b88-ac0c-a3acfac6de82",
   "metadata": {},
   "outputs": [],
   "source": [
    "?make_markers"
   ]
  },
  {
   "cell_type": "code",
   "execution_count": null,
   "id": "07e31b2e-14a2-4d14-9629-28033c0712b8",
   "metadata": {},
   "outputs": [],
   "source": [
    "smax = 20.0  # m\n",
    "\n",
    "# Alternatively, if the lattice were already loaded\n",
    "# smax = tao.lat_list('*', who='ele.s').max()\n",
    "\n",
    "slist = np.linspace(0, smax, 200)\n",
    "\n",
    "make_markers(slist, filename=\"markers.bmad\")\n",
    "smax"
   ]
  },
  {
   "cell_type": "code",
   "execution_count": null,
   "id": "3944eae5-6328-4b67-bad9-5cecca431350",
   "metadata": {},
   "outputs": [],
   "source": [
    "# Make a lattice and write to a local file\n",
    "\n",
    "latfile = os.path.join(os.getcwd(), \"fodo10.bmad\")\n",
    "\n",
    "LAT2 = f\"\"\"\n",
    "\n",
    "call, file = $ACC_ROOT_DIR/bmad-doc/tao_examples/fodo/fodo.bmad\n",
    "call, file = markers.bmad\n",
    "\n",
    "Q1[k1] = {kq1}\n",
    "Q2[k1] = {kq2}\n",
    "\n",
    "lat: line = (10*fodo1)\n",
    "\n",
    "use, lat\n",
    "\n",
    "\"\"\"\n",
    "open(latfile, \"w\").write(LAT2)"
   ]
  },
  {
   "cell_type": "code",
   "execution_count": null,
   "id": "24532821-6d8d-4ace-84e7-21748ee98af0",
   "metadata": {},
   "outputs": [],
   "source": [
    "# Run with this lattice\n",
    "tao = Tao(\n",
    "    f\"-init $ACC_ROOT_DIR/bmad-doc/tao_examples/fodo/tao.init -lat {latfile} -noplot\"\n",
    ")"
   ]
  },
  {
   "cell_type": "code",
   "execution_count": null,
   "id": "a2f0a836-03f8-4fc9-99fb-0a3f31ced8ba",
   "metadata": {},
   "outputs": [],
   "source": [
    "f\"-init $ACC_ROOT_DIR/bmad-doc/tao_examples/fodo/tao.init -lat {latfile} -noplot\""
   ]
  },
  {
   "cell_type": "code",
   "execution_count": null,
   "id": "ed805f78-89b6-4d87-bbe3-8ce9ae649238",
   "metadata": {},
   "outputs": [],
   "source": [
    "%%tao\n",
    "sho beam"
   ]
  },
  {
   "cell_type": "code",
   "execution_count": null,
   "id": "b29e148b-053a-4666-90d7-be7b47ee4b86",
   "metadata": {},
   "outputs": [],
   "source": [
    "# Toggle the beam on and off\n",
    "tao.cmd('set beam dump_file = beam_dump.h5')\n",
    "tao.cmd('set beam dump_at = *')\n",
    "tao.cmd(\"set beam_init n_particle = 1000\")\n",
    "tao.cmd(\"set beam_init bunch_charge =1e-15\")\n",
    "tao.cmd(\"set beam_init a_norm_emit = 1e-6\")\n",
    "tao.cmd(\"set beam_init b_norm_emit = 1e-6\")\n",
    "tao.cmd('set beam track_start = beginning')\n",
    "tao.cmd('set beam track_end = end')\n",
    "tao.cmd(\"set global track_type = beam;set global track_type = single\")"
   ]
  },
  {
   "cell_type": "code",
   "execution_count": null,
   "id": "b699cd99-7d97-44b3-b80f-19ef587e7d93",
   "metadata": {},
   "outputs": [],
   "source": [
    "%%tao\n",
    "sho beam"
   ]
  },
  {
   "cell_type": "markdown",
   "id": "bb69e217-aae8-4c59-a464-9ecf9908be04",
   "metadata": {},
   "source": [
    "## Get particles "
   ]
  },
  {
   "cell_type": "code",
   "execution_count": null,
   "id": "8047a9d2-d92d-4dcc-af75-3d98f9bd53a9",
   "metadata": {},
   "outputs": [],
   "source": [
    "import h5py\n",
    "from pmd_beamphysics import ParticleGroup, particle_paths\n",
    "\n",
    "with h5py.File(\"beam_dump.h5\", \"r\") as h5:\n",
    "    pp = particle_paths(h5)\n",
    "    Plist = [ParticleGroup(h5[g]) for g in pp]"
   ]
  },
  {
   "cell_type": "markdown",
   "id": "346b862c-a470-41a4-9965-1d135d5841de",
   "metadata": {},
   "source": [
    "## Pretty plot\n",
    "\n",
    "Traces can be made by gathering the coordinate arrays"
   ]
  },
  {
   "cell_type": "code",
   "execution_count": null,
   "id": "067d3f0a-7a7b-4c97-bb24-05d75222df4d",
   "metadata": {},
   "outputs": [],
   "source": [
    "skip = 1  # make larger for faster plotting\n",
    "fig, axes = plt.subplots(2, figsize=(12, 8))\n",
    "\n",
    "axes[0].plot(\n",
    "    [P.t[::skip] * 299792458 for P in Plist],\n",
    "    [P.x[::skip] * 1e6 for P in Plist],\n",
    "    alpha=0.01,\n",
    "    color=\"black\",\n",
    ")\n",
    "\n",
    "axes[1].plot(\n",
    "    [P.t[::skip] * 299792458 for P in Plist],\n",
    "    [P.y[::skip] * 1e6 for P in Plist],\n",
    "    alpha=0.01,\n",
    "    color=\"black\",\n",
    ")\n",
    "\n",
    "axes[0].set_ylabel(r\"$x$ (µm)\")\n",
    "axes[1].set_ylabel(r\"$y$ (µm)\")\n",
    "\n",
    "axes[1].set_xlabel(r\"$ct$ (m)\")\n",
    "\n",
    "for ax in axes:\n",
    "    ax.set_ylim(-2000, 2000)"
   ]
  },
  {
   "cell_type": "markdown",
   "id": "950afcea-221a-44ba-8b77-b25505f88dba",
   "metadata": {},
   "source": [
    "## Get some statistics"
   ]
  },
  {
   "cell_type": "code",
   "execution_count": null,
   "id": "78e1f010-5bef-47a9-af3c-7d488df46717",
   "metadata": {},
   "outputs": [],
   "source": [
    "k1 = \"sigma_x\"\n",
    "k2 = \"sigma_y\"\n",
    "\n",
    "x = np.array([P[\"mean_t\"] * 299792458 for P in Plist])\n",
    "y1 = np.array([P[k1] for P in Plist])\n",
    "y2 = np.array([P[k2] for P in Plist])\n",
    "\n",
    "fig, ax = plt.subplots(figsize=(12, 4))\n",
    "ax.plot(x, y1 * 1e6, label=k1)\n",
    "ax.plot(x, y2 * 1e6, label=k2)\n",
    "ax.set_xlabel(\"<ct> (m)\")\n",
    "ax.set_ylabel(f\"{k1}, {k2} (µm)\")\n",
    "plt.legend()"
   ]
  },
  {
   "cell_type": "markdown",
   "id": "e8fb30b0-2c9d-41a0-87a1-2f487fb5c2cd",
   "metadata": {},
   "source": [
    "## Cleanup"
   ]
  },
  {
   "cell_type": "code",
   "execution_count": null,
   "id": "3bf14254-fca3-4a2d-82b6-48f65774398b",
   "metadata": {},
   "outputs": [],
   "source": [
    "# Cleanup\n",
    "!rm beam_dump.h5\n",
    "!rm {latfile}\n",
    "!rm markers.bmad"
   ]
  }
 ],
 "metadata": {
  "kernelspec": {
   "display_name": "Python 3 (ipykernel)",
   "language": "python",
   "name": "python3"
  },
  "language_info": {
   "codemirror_mode": {
    "name": "ipython",
    "version": 3
   },
   "file_extension": ".py",
   "mimetype": "text/x-python",
   "name": "python",
   "nbconvert_exporter": "python",
   "pygments_lexer": "ipython3",
   "version": "3.13.3"
  },
  "vscode": {
   "interpreter": {
    "hash": "8acfe5d4ac94dcea04347ba5d21ed6ccc77e9ec6b4167c9c2482da2d61a71842"
   }
  }
 },
 "nbformat": 4,
 "nbformat_minor": 5
}
