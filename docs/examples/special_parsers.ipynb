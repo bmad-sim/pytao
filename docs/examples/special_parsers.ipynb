{
 "cells": [
  {
   "cell_type": "markdown",
   "id": "073838e5-0a4e-4e40-8928-2bcd5eea29ab",
   "metadata": {},
   "source": [
    "# Special Parsers\n",
    "\n",
    "Some of the Tao python commands output special structures in a `;` delimited fashion. Some PyTao methods parse these into more useful structures. "
   ]
  },
  {
   "cell_type": "code",
   "execution_count": null,
   "id": "fefc9efd-b53a-4ef8-b64e-91a0401b6959",
   "metadata": {},
   "outputs": [],
   "source": [
    "from pytao import Tao"
   ]
  },
  {
   "cell_type": "code",
   "execution_count": null,
   "id": "b91bb8e2-d3dd-4b8d-b5b1-75c14b5d4fa9",
   "metadata": {},
   "outputs": [],
   "source": [
    "tao = Tao(\"-init $ACC_ROOT_DIR/regression_tests/pipe_test/cesr/tao.init -noplot\")"
   ]
  },
  {
   "cell_type": "markdown",
   "id": "33fefcfc-eb6e-4a98-9346-8ea62d8ec1a9",
   "metadata": {},
   "source": [
    "## data_d_array"
   ]
  },
  {
   "cell_type": "code",
   "execution_count": null,
   "id": "6f549bd6-a8d3-472d-8a17-74ffb4a7b3ea",
   "metadata": {},
   "outputs": [],
   "source": [
    "tao.data_d_array(\"orbit\", \"x\")[7]"
   ]
  },
  {
   "cell_type": "markdown",
   "id": "d5e84efc-3a4e-4b52-860b-40c595c439bf",
   "metadata": {},
   "source": [
    "## derivative"
   ]
  },
  {
   "cell_type": "code",
   "execution_count": null,
   "id": "ed6c0fe6-0836-47b1-b6e2-ace2433b247e",
   "metadata": {},
   "outputs": [],
   "source": [
    "tao.cmd(\"veto var *;veto dat *;\")\n",
    "tao.cmd(\"use var quad_k1[3:5]\")\n",
    "tao.cmd(\"set dat orbit.x[1:5]|meas=0\")\n",
    "tao.cmd(\"use dat orbit.x[1:5]\");"
   ]
  },
  {
   "cell_type": "code",
   "execution_count": null,
   "id": "d8b4ede2-8437-4050-a2c0-7fdf65046cd9",
   "metadata": {},
   "outputs": [],
   "source": [
    "result = tao.derivative()\n",
    "result"
   ]
  },
  {
   "cell_type": "markdown",
   "id": "20ac7c9e",
   "metadata": {},
   "source": [
    "n_datums x n_variables"
   ]
  },
  {
   "cell_type": "code",
   "execution_count": null,
   "id": "f8123cb7-7707-401d-ab12-d1167ec420a0",
   "metadata": {},
   "outputs": [],
   "source": [
    "result[1].shape"
   ]
  },
  {
   "cell_type": "markdown",
   "id": "3f89b5c5-9a81-4c46-96a9-7185d43da9b1",
   "metadata": {},
   "source": [
    "## ele_control_var"
   ]
  },
  {
   "cell_type": "code",
   "execution_count": null,
   "id": "b55cec3d-1b71-4b58-8b6b-b2f4d66137be",
   "metadata": {},
   "outputs": [],
   "source": [
    "tao.ele_control_var(\"H01W\")"
   ]
  },
  {
   "cell_type": "markdown",
   "id": "55568ea5-ac47-4168-a21f-9fe4432fb022",
   "metadata": {},
   "source": [
    "## lat_ele_list"
   ]
  },
  {
   "cell_type": "code",
   "execution_count": null,
   "id": "c7760026-de43-44d7-987b-22f3b7cdb13a",
   "metadata": {},
   "outputs": [],
   "source": [
    "result = tao.lat_ele_list()\n",
    "\n",
    "result[0:5]"
   ]
  },
  {
   "cell_type": "markdown",
   "id": "4b11fdc0-3072-4f8d-8b3d-984ae797b2ed",
   "metadata": {},
   "source": [
    "## lord_control"
   ]
  },
  {
   "cell_type": "code",
   "execution_count": null,
   "id": "ae4d9d52-f5e2-413f-b7c7-f2275a23a1f5",
   "metadata": {},
   "outputs": [],
   "source": [
    "tao.lord_control('sex_20w')"
   ]
  },
  {
   "cell_type": "markdown",
   "id": "197d872a-0d75-4866-bd07-b0b2cc2c2e83",
   "metadata": {},
   "source": [
    "## matrix"
   ]
  },
  {
   "cell_type": "code",
   "execution_count": null,
   "id": "c71d455c-cb84-4fbc-9d91-c2cfcd046108",
   "metadata": {},
   "outputs": [],
   "source": [
    "tao.matrix(\"beginning\", \"end\")"
   ]
  },
  {
   "cell_type": "markdown",
   "id": "7dcdcd68-dbb3-47fe-84f8-443aceeffdc0",
   "metadata": {},
   "source": [
    "## merit"
   ]
  },
  {
   "cell_type": "code",
   "execution_count": null,
   "id": "140f2f74-7056-476e-ada1-39b47aaabd2d",
   "metadata": {},
   "outputs": [],
   "source": [
    "tao.merit()"
   ]
  },
  {
   "cell_type": "markdown",
   "id": "47ebe242-6d54-413b-bf9d-c58af86d818a",
   "metadata": {},
   "source": [
    "## plot_list"
   ]
  },
  {
   "cell_type": "code",
   "execution_count": null,
   "id": "33ca7c73-45c3-4d42-9dbc-a22c73eeb94d",
   "metadata": {},
   "outputs": [],
   "source": [
    "result = tao.plot_list(\"r\")\n",
    "\n",
    "result[0:2]"
   ]
  },
  {
   "cell_type": "code",
   "execution_count": null,
   "id": "cdebf45e-f4ed-40c3-8c99-db95bcce8e0b",
   "metadata": {},
   "outputs": [],
   "source": [
    "# 't' gives a mapping of template plot to index\n",
    "result = tao.plot_list(\"t\")\n",
    "\n",
    "result[\"cbar\"]"
   ]
  },
  {
   "cell_type": "markdown",
   "id": "047672b7-0d61-4082-a2a6-888c3b8c126d",
   "metadata": {},
   "source": [
    "## slave_control"
   ]
  },
  {
   "cell_type": "code",
   "execution_count": null,
   "id": "0b5cbd82-9020-46d4-bd01-b8bdede44e9e",
   "metadata": {},
   "outputs": [],
   "source": [
    "tao.slave_control(\"ASYM_IR\")"
   ]
  },
  {
   "cell_type": "code",
   "execution_count": null,
   "id": "b4cfea38-0a3d-4e53-a249-8e5491f62ae5",
   "metadata": {},
   "outputs": [],
   "source": [
    "tao.slave_control('cleo_sol')"
   ]
  },
  {
   "cell_type": "markdown",
   "id": "0db6008b-2274-486c-8c19-f15aace9122e",
   "metadata": {},
   "source": [
    "## spin_invariant"
   ]
  },
  {
   "cell_type": "code",
   "execution_count": null,
   "id": "f395652e-ddba-402a-a95e-02e02d35a31b",
   "metadata": {},
   "outputs": [],
   "source": [
    "tao.spin_invariant(\"l0\")"
   ]
  },
  {
   "cell_type": "markdown",
   "id": "419a215d-9406-4ae9-b946-ca7ff2e5a49b",
   "metadata": {},
   "source": [
    "## taylor_map"
   ]
  },
  {
   "cell_type": "code",
   "execution_count": null,
   "id": "278f52c1-1055-44de-9714-4810e04e7bb1",
   "metadata": {
    "tags": []
   },
   "outputs": [],
   "source": [
    "tt = tao.taylor_map(\"beginning\", \"end\", order=2)\n",
    "tt"
   ]
  },
  {
   "cell_type": "code",
   "execution_count": null,
   "id": "8d9c95ab-02ce-4982-880c-e723665d35d1",
   "metadata": {
    "tags": []
   },
   "outputs": [],
   "source": [
    "# Compare some terms with the matrix calc:\n",
    "tao.matrix(\"beginning\", \"end\")[\"mat6\"][0, 0], tt[1][(1, 0, 0, 0, 0, 0)]"
   ]
  },
  {
   "cell_type": "code",
   "execution_count": null,
   "id": "d55272fc-1ff1-4106-9361-5d4f44edd158",
   "metadata": {
    "tags": []
   },
   "outputs": [],
   "source": [
    "tao.matrix(\"beginning\", \"end\")[\"mat6\"][1, 0], tt[2][(1, 0, 0, 0, 0, 0)]"
   ]
  },
  {
   "cell_type": "markdown",
   "id": "36cdbe51-e4ed-4d0b-9af9-39a152720432",
   "metadata": {},
   "source": [
    "## var_v_array"
   ]
  },
  {
   "cell_type": "code",
   "execution_count": null,
   "id": "fe424bda-eb97-4e17-a5f9-6c7a1cb21634",
   "metadata": {},
   "outputs": [],
   "source": [
    "result = tao.var_v_array(\"quad_k1\")\n",
    "result[0:2]"
   ]
  },
  {
   "cell_type": "code",
   "execution_count": null,
   "id": "f215688f-92ca-40b9-b0b2-60eb60d33622",
   "metadata": {},
   "outputs": [],
   "source": []
  }
 ],
 "metadata": {
  "kernelspec": {
   "display_name": "Python 3 (ipykernel)",
   "language": "python",
   "name": "python3"
  },
  "language_info": {
   "codemirror_mode": {
    "name": "ipython",
    "version": 3
   },
   "file_extension": ".py",
   "mimetype": "text/x-python",
   "name": "python",
   "nbconvert_exporter": "python",
   "pygments_lexer": "ipython3",
   "version": "3.13.3"
  },
  "vscode": {
   "interpreter": {
    "hash": "8acfe5d4ac94dcea04347ba5d21ed6ccc77e9ec6b4167c9c2482da2d61a71842"
   }
  }
 },
 "nbformat": 4,
 "nbformat_minor": 5
}
