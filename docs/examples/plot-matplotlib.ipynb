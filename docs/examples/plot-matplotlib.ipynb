{
 "cells": [
  {
   "cell_type": "markdown",
   "metadata": {},
   "source": [
    "# PyTao plotting with Matplotlib"
   ]
  },
  {
   "cell_type": "markdown",
   "metadata": {},
   "source": [
    "PyTao supports plotting directly from the notebook, without a separate (X11) plot window.\n",
    "\n",
    "PyTao provides two backends:\n",
    "* Bokeh (with interactive plotting support)\n",
    "* Matplotlib \n",
    "\n",
    "When plotting is enabled, PyTao will automatically select the best available backend.\n",
    "\n",
    "\n",
    "The plotting backend may be specified explicitly, as we will do in this notebook in order to show off\n",
    "this backend's functionality."
   ]
  },
  {
   "cell_type": "markdown",
   "metadata": {},
   "source": [
    "---\n",
    "## Tao setup"
   ]
  },
  {
   "cell_type": "code",
   "execution_count": null,
   "metadata": {},
   "outputs": [],
   "source": [
    "%config InlineBackend.figure_format = \"retina\""
   ]
  },
  {
   "cell_type": "code",
   "execution_count": null,
   "metadata": {},
   "outputs": [],
   "source": [
    "import pytao\n",
    "from pytao import Tao, SubprocessTao\n",
    "\n",
    "import matplotlib.pyplot as plt"
   ]
  },
  {
   "cell_type": "code",
   "execution_count": null,
   "metadata": {},
   "outputs": [],
   "source": [
    "init_file = \"$ACC_ROOT_DIR/bmad-doc/tao_examples/optics_matching/tao.init\"\n",
    "\n",
    "tao = Tao(init_file=init_file, plot=\"mpl\")"
   ]
  },
  {
   "cell_type": "markdown",
   "metadata": {},
   "source": [
    "## Shape setup\n",
    "\n",
    "Let's update Tao's plotting shapes first, so that we see label names in the layout and floor plan.\n",
    "Customizing this in the Bmad init files is an alternative to doing this in PyTao."
   ]
  },
  {
   "cell_type": "code",
   "execution_count": null,
   "metadata": {},
   "outputs": [],
   "source": [
    "tao.update_plot_shapes(\"quadrupole\", type_label=\"name\", layout=True, floor=True);"
   ]
  },
  {
   "cell_type": "markdown",
   "metadata": {},
   "source": [
    "## The floor plan"
   ]
  },
  {
   "cell_type": "code",
   "execution_count": null,
   "metadata": {},
   "outputs": [],
   "source": [
    "tao.plot(\"floor_plan\", ylim=(-2, 2), figsize=(6, 4))"
   ]
  },
  {
   "cell_type": "markdown",
   "metadata": {},
   "source": [
    "## Single data plots"
   ]
  },
  {
   "cell_type": "code",
   "execution_count": null,
   "metadata": {},
   "outputs": [],
   "source": [
    "tao.plot(\"dispersion\", include_layout=True)"
   ]
  },
  {
   "cell_type": "markdown",
   "metadata": {},
   "source": [
    "## Plot fields"
   ]
  },
  {
   "cell_type": "code",
   "execution_count": null,
   "metadata": {},
   "outputs": [],
   "source": [
    "tao.cmd(\"set var quad[1]|model = -5\")\n",
    "tao.plot_field(\"Q1\")"
   ]
  },
  {
   "cell_type": "markdown",
   "metadata": {},
   "source": [
    "## Stacked plots"
   ]
  },
  {
   "cell_type": "code",
   "execution_count": null,
   "metadata": {},
   "outputs": [],
   "source": [
    "tao.plot([\"alpha\", \"beta\"])"
   ]
  },
  {
   "cell_type": "code",
   "execution_count": null,
   "metadata": {},
   "outputs": [],
   "source": [
    "tao.plot([\"alpha\", \"beta\"], include_layout=False)"
   ]
  },
  {
   "cell_type": "markdown",
   "metadata": {},
   "source": [
    "## Gridded plots"
   ]
  },
  {
   "cell_type": "code",
   "execution_count": null,
   "metadata": {},
   "outputs": [],
   "source": [
    "tao.plot([\"beta\", \"dispersion\", \"orbit\"], grid=(2, 2), figsize=(8, 8))"
   ]
  },
  {
   "cell_type": "markdown",
   "metadata": {},
   "source": [
    "## Saving plots\n",
    "\n",
    "The parameter `save` makes it convenient to simultaneously display and save the plot to a file."
   ]
  },
  {
   "cell_type": "code",
   "execution_count": null,
   "metadata": {},
   "outputs": [],
   "source": [
    "tao.plot(\"beta\", save=\"beta.png\", figsize=(3, 3), include_layout=False)"
   ]
  },
  {
   "cell_type": "markdown",
   "metadata": {},
   "source": [
    "## Customized plots"
   ]
  },
  {
   "cell_type": "code",
   "execution_count": null,
   "metadata": {},
   "outputs": [],
   "source": [
    "tao.plot([\"beta\", \"dispersion\", \"orbit\"], grid=(2, 2))\n",
    "\n",
    "# Access the figure by using `plt.gcf()` (\"get current figure\")\n",
    "fig = plt.gcf()\n",
    "fig.suptitle(\"Customized plot title\")\n",
    "\n",
    "# Access individual Axes objects by indexing `fig.axes`:\n",
    "fig.axes[0].set_title(\"Beta [model]\")\n",
    "fig.tight_layout()"
   ]
  },
  {
   "cell_type": "markdown",
   "metadata": {},
   "source": [
    "## Change defaults"
   ]
  },
  {
   "cell_type": "code",
   "execution_count": null,
   "metadata": {},
   "outputs": [],
   "source": [
    "tao.matplotlib.configure(layout_height=0.25, figsize=(4, 4))"
   ]
  },
  {
   "cell_type": "code",
   "execution_count": null,
   "metadata": {},
   "outputs": [],
   "source": [
    "tao.plot(\"beta\")"
   ]
  },
  {
   "cell_type": "markdown",
   "metadata": {},
   "source": [
    "## Accessing plot data"
   ]
  },
  {
   "cell_type": "code",
   "execution_count": null,
   "metadata": {},
   "outputs": [],
   "source": [
    "graphs, beta_fig, beta_ax = tao.last_plot"
   ]
  },
  {
   "cell_type": "code",
   "execution_count": null,
   "metadata": {},
   "outputs": [],
   "source": [
    "graphs[0].curves[0].line.xs[:10]"
   ]
  },
  {
   "cell_type": "markdown",
   "metadata": {},
   "source": [
    "## Advanced plotting settings\n",
    "\n",
    "`TaoGraphSettings` may be used to customize per-graph settings in single or gridded plots.\n",
    "\n",
    "Since each graph has its own settings, we specify a list of `TaoGraphSettings`.\n",
    "`TaoGraphSettings` includes customization of titles, legends, scales, per-axis settings (with `TaoAxisSettings`), and so on.  \n",
    "\n",
    "For example, to change the title of a plot, one could use:\n",
    "`TaoGraphSettings(title=\"something\")` - or equivalently a custom Tao command can be sent with `TaoGraphSettings(commands=[\"set graph {graph} title = something\"])`.\n",
    "\n",
    "See `TaoGraphSettings` documentation for further information on what may be customized. Not all settings will be supported by PyTao's plotting backends."
   ]
  },
  {
   "cell_type": "code",
   "execution_count": null,
   "metadata": {},
   "outputs": [],
   "source": [
    "from pytao.plotting import TaoGraphSettings, TaoAxisSettings\n",
    "\n",
    "# Let's use SubprocessTao to make an independent Tao instance in a subprocess.\n",
    "# Now we can use `tao` from above (`optics_matching`) and `erl` here simultaneously.\n",
    "erl = SubprocessTao(\n",
    "    init_file=\"$ACC_ROOT_DIR/bmad-doc/tao_examples/erl/tao.init\", \n",
    "    plot=\"mpl\", \n",
    "    # The ERL example startup file customizes plots in a way incompatible with pytao's external plotting.\n",
    "    # Set \"nostartup=True\" to avoid this.\n",
    "    nostartup=True,\n",
    ")\n",
    "\n",
    "erl.cmds(\n",
    "    [\n",
    "        \"set global track_type = beam\",\n",
    "        \"set var r56[1]|model = 0.234\",\n",
    "        \"set var t566[1]|model = 0.567\",\n",
    "    ]\n",
    ")\n",
    "\n",
    "erl.plot(\n",
    "    \"alpha\",\n",
    "    settings=TaoGraphSettings(\n",
    "        title=\"My Custom Alpha Plot\",\n",
    "        component=\"model\",\n",
    "        draw_grid=False,\n",
    "        x=TaoAxisSettings(\n",
    "            label=\"Position - s [m]\",\n",
    "        ),\n",
    "    ),\n",
    ")"
   ]
  },
  {
   "cell_type": "markdown",
   "metadata": {},
   "source": [
    "## Advanced curve settings\n",
    "\n",
    "`TaoCurveSettings` may be used to customize per-curve settings in simple or gridded plots.\n",
    "\n",
    "The below example has 4 plots in a 2x2 grid.\n",
    "\n",
    "Since each plot has a set of curves, we must specify a dictionary for each plot.\n",
    "\n",
    "That dictionary contains a mapping of `curve_index` (starting with 1) to a `TaoCurveSettings` instance.\n",
    "\n",
    "See `TaoCurveSettings` for further information on what may be customized."
   ]
  },
  {
   "cell_type": "code",
   "execution_count": null,
   "metadata": {},
   "outputs": [],
   "source": [
    "from pytao.plotting import TaoCurveSettings\n",
    "\n",
    "erl.plot(\n",
    "    [\"zphase\", \"zphase\", \"zphase\", \"zphase2\"],\n",
    "    grid=(2, 2),\n",
    "    curves=[\n",
    "        {1: TaoCurveSettings(ele_ref_name=r\"linac.beg\\1\")},\n",
    "        {1: TaoCurveSettings(ele_ref_name=r\"linac.end\\1\")},\n",
    "        {1: TaoCurveSettings(ele_ref_name=r\"linac.beg\\2\")},\n",
    "        {1: TaoCurveSettings(ele_ref_name=r\"linac.end\\2\")},\n",
    "    ],\n",
    "    xlim=(-3, 3),\n",
    "    ylim=(-10, 10),\n",
    "    share_x=False,\n",
    "    include_layout=False,\n",
    "    figsize=(6, 6),\n",
    ")"
   ]
  }
 ],
 "metadata": {
  "kernelspec": {
   "display_name": "Python 3 (ipykernel)",
   "language": "python",
   "name": "python3"
  },
  "language_info": {
   "codemirror_mode": {
    "name": "ipython",
    "version": 3
   },
   "file_extension": ".py",
   "mimetype": "text/x-python",
   "name": "python",
   "nbconvert_exporter": "python",
   "pygments_lexer": "ipython3",
   "version": "3.12.5"
  },
  "vscode": {
   "interpreter": {
    "hash": "610c699f0cd8c4f129acd9140687fff6866bed0eb8e82f249fc8848b827b628c"
   }
  }
 },
 "nbformat": 4,
 "nbformat_minor": 4
}
