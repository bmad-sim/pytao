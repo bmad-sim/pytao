{
 "cells": [
  {
   "cell_type": "markdown",
   "metadata": {},
   "source": [
    "# PyTao basic usage"
   ]
  },
  {
   "cell_type": "code",
   "execution_count": 1,
   "metadata": {},
   "outputs": [],
   "source": [
    "# Useful for debugging\n",
    "%load_ext autoreload\n",
    "%autoreload 2"
   ]
  },
  {
   "cell_type": "code",
   "execution_count": 2,
   "metadata": {},
   "outputs": [],
   "source": [
    "from pytao import Tao\n",
    "import os"
   ]
  },
  {
   "cell_type": "markdown",
   "metadata": {},
   "source": [
    "## Inititialize Tao"
   ]
  },
  {
   "cell_type": "code",
   "execution_count": 3,
   "metadata": {},
   "outputs": [
    {
     "name": "stdout",
     "output_type": "stream",
     "text": [
      "Bmad installation:  /Users/slepicka/sandbox/git-lume/bmad/bmad_dist_2020_1110\n"
     ]
    }
   ],
   "source": [
    "# Point to local installation\n",
    "BASE_DIR=os.environ['ACC_ROOT_DIR'] \n",
    "print('Bmad installation: ', BASE_DIR)\n",
    "\n",
    "\n",
    "# Pick an example init\n",
    "root = os.path.join(BASE_DIR,'tao/examples/cesr/')\n",
    "init = '-init '+root+'tao.init'\n",
    "# Make tao instance\n",
    "tao=Tao(init)   "
   ]
  },
  {
   "cell_type": "markdown",
   "metadata": {},
   "source": [
    "## Send a command"
   ]
  },
  {
   "cell_type": "code",
   "execution_count": 4,
   "metadata": {},
   "outputs": [
    {
     "data": {
      "text/plain": [
       "['# Values shown are for the Exit End of each Element:',\n",
       " '# Index  name          key                       s       l    beta   phi_a    eta   orbit    beta   phi_b    eta   orbit   Track',\n",
       " '#                                                                a   [2pi]      x  x [mm]       b   [2pi]      y  y [mm]   State',\n",
       " '      1  IP_L0         Marker                0.000   0.000    0.95   0.000  -0.00  -0.017    0.02   0.000   0.00   0.001   Alive',\n",
       " '      2  CLEO_SOL#3    Solenoid              0.622   0.622    1.34   0.093  -0.02   1.470   21.81   0.244   0.00   0.041   Alive',\n",
       " '      3  DET_00W       Marker                0.622   0.000    1.34   0.093  -0.02   1.470   21.81   0.244   0.00   0.041   Alive',\n",
       " '      4  CLEO_SOL#4    Solenoid              0.638   0.016    1.37   0.094  -0.02   1.507   22.92   0.244   0.00   0.043   Alive',\n",
       " '      5  Q00W\\\\CLEO_SOL Sol_Quad              1.755   1.117    7.73   0.160  -0.09   5.505   88.01   0.247  -0.01   0.486   Alive',\n",
       " '      6  Q00W#1        Quadrupole            2.163   0.408   15.96   0.166  -0.13   8.150   76.38   0.248  -0.01   0.717   Alive',\n",
       " '      7  D003          Drift                 2.493   0.331   27.03   0.169  -0.17  10.704   60.26   0.249  -0.02   0.931   Alive',\n",
       " '      8  DET_01W       Marker                2.493   0.000   27.03   0.169  -0.17  10.704   60.26   0.249  -0.02   0.931   Alive',\n",
       " '      9  D004          Drift                 2.924   0.431   45.79   0.171  -0.22  14.029   42.13   0.250  -0.02   1.209   Alive',\n",
       " '     10  Q01W          Quadrupole            3.874   0.950   66.94   0.173  -0.26  16.849   28.95   0.255  -0.02   1.212   Alive',\n",
       " '# Index  name          key                       s       l    beta   phi_a    eta   orbit    beta   phi_b    eta   orbit   Track',\n",
       " '#                                                                a   [2pi]      x  x [mm]       b   [2pi]      y  y [mm]   State',\n",
       " '# Values shown are for the Exit End of each Element:']"
      ]
     },
     "execution_count": 4,
     "metadata": {},
     "output_type": "execute_result"
    }
   ],
   "source": [
    "# Tao command\n",
    "tao.cmd('sho lat 1:10')"
   ]
  },
  {
   "cell_type": "markdown",
   "metadata": {},
   "source": [
    "## Jupyter magic %%tao"
   ]
  },
  {
   "cell_type": "markdown",
   "metadata": {},
   "source": [
    "This is an alternative way to send commands to Tao directly in the jupyter notebook, using the %%tao magic. Multiple lines can be executed."
   ]
  },
  {
   "cell_type": "code",
   "execution_count": 5,
   "metadata": {},
   "outputs": [
    {
     "name": "stdout",
     "output_type": "stream",
     "text": [
      "-------------------------\n",
      "Tao> sho lat 1:10\n",
      "# Values shown are for the Exit End of each Element:\n",
      "# Index  name          key                       s       l    beta   phi_a    eta   orbit    beta   phi_b    eta   orbit   Track\n",
      "#                                                                a   [2pi]      x  x [mm]       b   [2pi]      y  y [mm]   State\n",
      "      1  IP_L0         Marker                0.000   0.000    0.95   0.000  -0.00  -0.017    0.02   0.000   0.00   0.001   Alive\n",
      "      2  CLEO_SOL#3    Solenoid              0.622   0.622    1.34   0.093  -0.02   1.470   21.81   0.244   0.00   0.041   Alive\n",
      "      3  DET_00W       Marker                0.622   0.000    1.34   0.093  -0.02   1.470   21.81   0.244   0.00   0.041   Alive\n",
      "      4  CLEO_SOL#4    Solenoid              0.638   0.016    1.37   0.094  -0.02   1.507   22.92   0.244   0.00   0.043   Alive\n",
      "      5  Q00W\\CLEO_SOL Sol_Quad              1.755   1.117    7.73   0.160  -0.09   5.505   88.01   0.247  -0.01   0.486   Alive\n",
      "      6  Q00W#1        Quadrupole            2.163   0.408   15.96   0.166  -0.13   8.150   76.38   0.248  -0.01   0.717   Alive\n",
      "      7  D003          Drift                 2.493   0.331   27.03   0.169  -0.17  10.704   60.26   0.249  -0.02   0.931   Alive\n",
      "      8  DET_01W       Marker                2.493   0.000   27.03   0.169  -0.17  10.704   60.26   0.249  -0.02   0.931   Alive\n",
      "      9  D004          Drift                 2.924   0.431   45.79   0.171  -0.22  14.029   42.13   0.250  -0.02   1.209   Alive\n",
      "     10  Q01W          Quadrupole            3.874   0.950   66.94   0.173  -0.26  16.849   28.95   0.255  -0.02   1.212   Alive\n",
      "# Index  name          key                       s       l    beta   phi_a    eta   orbit    beta   phi_b    eta   orbit   Track\n",
      "#                                                                a   [2pi]      x  x [mm]       b   [2pi]      y  y [mm]   State\n",
      "# Values shown are for the Exit End of each Element:\n",
      "-------------------------\n",
      "Tao> sho ele 4\n",
      " Element #                4\n",
      " Element Name: CLEO_SOL#4\n",
      " Key: Solenoid\n",
      " S_start, S:      0.622301,      0.637956\n",
      " Ref_time:  2.127992E-09\n",
      "\n",
      " Attribute values [Only non-zero values shown]:\n",
      "    1  L                           =  1.5655000E-02 m        31  L_SOFT_EDGE                 =  0.0000000E+00 m\n",
      "    3  R_SOLENOID                  =  0.0000000E+00 m\n",
      "    5  KS                          = -8.5023386E-02 1/m      49  BS_FIELD                    =  1.5000000E+00 T\n",
      "   10  FRINGE_TYPE                 =  None (1)               11  FRINGE_AT                   =  No_End (4)\n",
      "   13  SPIN_FRINGE_ON              =  T (1)\n",
      "   47  PTC_CANONICAL_COORDS        =  T (1)\n",
      "   50  DELTA_REF_TIME              =  5.2219459E-11 sec\n",
      "   53  P0C                         =  5.2890000E+09 eV           BETA                        =  1.0000000E+00\n",
      "   54  E_TOT                       =  5.2890000E+09 eV           GAMMA                       =  1.0350315E+04\n",
      "   65  INTEGRATOR_ORDER            = 0\n",
      "   67  DS_STEP                     =  2.0000000E-01 m        66  NUM_STEPS                   = 1\n",
      "   68  CSR_DS_STEP                 =  0.0000000E+00 m\n",
      "\n",
      "       TRACKING_METHOD              =  Bmad_Standard             APERTURE_AT                =  Exit_End\n",
      "       MAT6_CALC_METHOD             =  Bmad_Standard             APERTURE_TYPE              =  Rectangular\n",
      "       SPIN_TRACKING_METHOD         =  Tracking                  OFFSET_MOVES_APERTURE      =  F\n",
      "       PTC_INTEGRATION_TYPE         =  Matrix_Kick               SYMPLECTIFY                =  F\n",
      "       CSR_METHOD                   =  Off                       FIELD_MASTER               =  F\n",
      "       SPACE_CHARGE_METHOD          =  Off                       LONGITUDINAL ORIENTATION   =       1\n",
      "       FIELD_CALC                   =  Refer_to_Lords.\n",
      "\n",
      "Slave_status: Super_Slave\n",
      "Associated Super_Lord(s):\n",
      "   Index   Name                             Type\n",
      "     872   CLEO_SOL                         Solenoid\n",
      "\n",
      "Lord_status:  Not_a_Lord\n",
      "\n",
      "Twiss at end of element:\n",
      "                          A              B            Cbar                        C_mat\n",
      "  Beta (m)         1.36514029    22.91900799  |  -0.11411117   0.00651400     -0.08489082   0.03643629\n",
      "  Alpha           -0.65686453   -35.87984339  |  -0.16218057   0.00347911     -0.09215803   0.03178740\n",
      "  Gamma (1/m)      1.04858894    56.21374023  |   Gamma_c =   0.99967023       Mode_Flip = F\n",
      "  Phi (rad)        0.59345801     1.53313012            X              Y              Z\n",
      "  Eta (m)         -0.02445852     0.00058099    -0.02454806     0.00008318     0.00005366\n",
      "  Etap            -0.03499518    -0.00132514    -0.03507931    -0.00204142     1.00000000\n",
      "  Sigma            0.00052593     0.00009469     0.00052620     0.00009469\n",
      "\n",
      "Orbit:  Electron   State: Alive\n",
      "         Position[mm] Momentum[mrad]        Spin   |\n",
      "  X:       1.50687846     2.38754979               | t_particle [sec]:        2.12799824E-09  E_tot: 5.28900E+09\n",
      "  Y:       0.04306828     0.06652991               | t_part-t_ref [sec]:      6.07406930E-15  PC:    5.28900E+09\n",
      "  Z:      -0.00182096     0.00000000               | (t_ref-t_part)*Vel [m]: -1.82096016E-06  Beta:  0.999999995\n",
      "-------------------------\n",
      "Tao> \n"
     ]
    }
   ],
   "source": [
    "%%tao\n",
    "sho lat 1:10\n",
    "sho ele 4"
   ]
  },
  {
   "cell_type": "markdown",
   "metadata": {},
   "source": [
    "## Tao python commands"
   ]
  },
  {
   "cell_type": "markdown",
   "metadata": {},
   "source": [
    "Tao has a special set of commands to send formtted data back for parsing in python. "
   ]
  },
  {
   "cell_type": "code",
   "execution_count": 6,
   "metadata": {},
   "outputs": [
    {
     "data": {
      "text/plain": [
       "['0;BEGINNING',\n",
       " '1;IP_L0',\n",
       " '2;CLEO_SOL#3',\n",
       " '3;DET_00W',\n",
       " '4;CLEO_SOL#4',\n",
       " '5;Q00W\\\\CLEO_SOL',\n",
       " '6;Q00W#1',\n",
       " '7;D003',\n",
       " '8;DET_01W',\n",
       " '9;D004']"
      ]
     },
     "execution_count": 6,
     "metadata": {},
     "output_type": "execute_result"
    }
   ],
   "source": [
    "python_dat = tao.cmd('python lat_ele_list 1@0')\n",
    "python_dat[0:10]"
   ]
  },
  {
   "cell_type": "code",
   "execution_count": 7,
   "metadata": {},
   "outputs": [
    {
     "data": {
      "text/plain": [
       "869"
      ]
     },
     "execution_count": 7,
     "metadata": {},
     "output_type": "execute_result"
    }
   ],
   "source": [
    "from pytao.tao_ctypes import util\n",
    "\n",
    "# Get index of end element, using a utility function to parse that data\n",
    "ixlist = util.parse_tao_lat_ele_list(python_dat)\n",
    "endix = ixlist['END']\n",
    "endix"
   ]
  },
  {
   "cell_type": "code",
   "execution_count": null,
   "metadata": {},
   "outputs": [],
   "source": []
  }
 ],
 "metadata": {
  "kernelspec": {
   "display_name": "Python 3",
   "language": "python",
   "name": "python3"
  },
  "language_info": {
   "codemirror_mode": {
    "name": "ipython",
    "version": 3
   },
   "file_extension": ".py",
   "mimetype": "text/x-python",
   "name": "python",
   "nbconvert_exporter": "python",
   "pygments_lexer": "ipython3",
   "version": "3.7.8"
  }
 },
 "nbformat": 4,
 "nbformat_minor": 4
}
