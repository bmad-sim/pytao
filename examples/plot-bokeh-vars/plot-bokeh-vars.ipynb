{
 "cells": [
  {
   "cell_type": "markdown",
   "metadata": {},
   "source": [
    "# PyTao Bokeh \"Single mode\""
   ]
  },
  {
   "cell_type": "code",
   "execution_count": 1,
   "metadata": {
    "execution": {
     "iopub.execute_input": "2025-04-02T01:25:14.391452Z",
     "iopub.status.busy": "2025-04-02T01:25:14.391261Z",
     "iopub.status.idle": "2025-04-02T01:25:14.567578Z",
     "shell.execute_reply": "2025-04-02T01:25:14.566984Z"
    }
   },
   "outputs": [],
   "source": [
    "from pytao import Tao"
   ]
  },
  {
   "cell_type": "code",
   "execution_count": 2,
   "metadata": {
    "execution": {
     "iopub.execute_input": "2025-04-02T01:25:14.569665Z",
     "iopub.status.busy": "2025-04-02T01:25:14.569384Z",
     "iopub.status.idle": "2025-04-02T01:25:14.718102Z",
     "shell.execute_reply": "2025-04-02T01:25:14.717650Z"
    }
   },
   "outputs": [],
   "source": [
    "init_file = \"$ACC_ROOT_DIR/bmad-doc/tao_examples/cbeta_cell/tao.init\"\n",
    "\n",
    "tao = Tao(init_file=init_file, plot=\"bokeh\")"
   ]
  },
  {
   "cell_type": "markdown",
   "metadata": {},
   "source": [
    "## Show names for our quadrupoles"
   ]
  },
  {
   "cell_type": "code",
   "execution_count": 3,
   "metadata": {
    "execution": {
     "iopub.execute_input": "2025-04-02T01:25:14.720235Z",
     "iopub.status.busy": "2025-04-02T01:25:14.719903Z",
     "iopub.status.idle": "2025-04-02T01:25:14.722927Z",
     "shell.execute_reply": "2025-04-02T01:25:14.722451Z"
    }
   },
   "outputs": [],
   "source": [
    "_ = tao.update_plot_shapes(\"quadrupole\", type_label=\"name\", layout=True)"
   ]
  },
  {
   "cell_type": "markdown",
   "metadata": {},
   "source": [
    "## Configure relevant settings"
   ]
  },
  {
   "cell_type": "code",
   "execution_count": 4,
   "metadata": {
    "execution": {
     "iopub.execute_input": "2025-04-02T01:25:14.724509Z",
     "iopub.status.busy": "2025-04-02T01:25:14.724337Z",
     "iopub.status.idle": "2025-04-02T01:25:15.572741Z",
     "shell.execute_reply": "2025-04-02T01:25:15.572149Z"
    }
   },
   "outputs": [
    {
     "data": {
      "text/html": [
       "<!-- Detected Jupyter. -->"
      ],
      "text/plain": []
     },
     "metadata": {},
     "output_type": "display_data"
    },
    {
     "data": {
      "text/html": [
       "    <style>\n",
       "        .bk-notebook-logo {\n",
       "            display: block;\n",
       "            width: 20px;\n",
       "            height: 20px;\n",
       "            background-image: url(data:image/png;base64,iVBORw0KGgoAAAANSUhEUgAAABQAAAAUCAYAAACNiR0NAAAABHNCSVQICAgIfAhkiAAAAAlwSFlzAAALEgAACxIB0t1+/AAAABx0RVh0U29mdHdhcmUAQWRvYmUgRmlyZXdvcmtzIENTNui8sowAAAOkSURBVDiNjZRtaJVlGMd/1/08zzln5zjP1LWcU9N0NkN8m2CYjpgQYQXqSs0I84OLIC0hkEKoPtiH3gmKoiJDU7QpLgoLjLIQCpEsNJ1vqUOdO7ppbuec5+V+rj4ctwzd8IIbbi6u+8f1539dt3A78eXC7QizUF7gyV1fD1Yqg4JWz84yffhm0qkFqBogB9rM8tZdtwVsPUhWhGcFJngGeWrPzHm5oaMmkfEg1usvLFyc8jLRqDOMru7AyC8saQr7GG7f5fvDeH7Ej8CM66nIF+8yngt6HWaKh7k49Soy9nXurCi1o3qUbS3zWfrYeQDTB/Qj6kX6Ybhw4B+bOYoLKCC9H3Nu/leUTZ1JdRWkkn2ldcCamzrcf47KKXdAJllSlxAOkRgyHsGC/zRday5Qld9DyoM4/q/rUoy/CXh3jzOu3bHUVZeU+DEn8FInkPBFlu3+nW3Nw0mk6vCDiWg8CeJaxEwuHS3+z5RgY+YBR6V1Z1nxSOfoaPa4LASWxxdNp+VWTk7+4vzaou8v8PN+xo+KY2xsw6une2frhw05CTYOmQvsEhjhWjn0bmXPjpE1+kplmmkP3suftwTubK9Vq22qKmrBhpY4jvd5afdRA3wGjFAgcnTK2s4hY0/GPNIb0nErGMCRxWOOX64Z8RAC4oCXdklmEvcL8o0BfkNK4lUg9HTl+oPlQxdNo3Mg4Nv175e/1LDGzZen30MEjRUtmXSfiTVu1kK8W4txyV6BMKlbgk3lMwYCiusNy9fVfvvwMxv8Ynl6vxoByANLTWplvuj/nF9m2+PDtt1eiHPBr1oIfhCChQMBw6Aw0UulqTKZdfVvfG7VcfIqLG9bcldL/+pdWTLxLUy8Qq38heUIjh4XlzZxzQm19lLFlr8vdQ97rjZVOLf8nclzckbcD4wxXMidpX30sFd37Fv/GtwwhzhxGVAprjbg0gCAEeIgwCZyTV2Z1REEW8O4py0wsjeloKoMr6iCY6dP92H6Vw/oTyICIthibxjm/DfN9lVz8IqtqKYLUXfoKVMVQVVJOElGjrnnUt9T9wbgp8AyYKaGlqingHZU/uG2NTZSVqwHQTWkx9hxjkpWDaCg6Ckj5qebgBVbT3V3NNXMSiWSDdGV3hrtzla7J+duwPOToIg42ChPQOQjspnSlp1V+Gjdged7+8UN5CRAV7a5EdFNwCjEaBR27b3W890TE7g24NAP/mMDXRWrGoFPQI9ls/MWO2dWFAar/xcOIImbbpA3zgAAAABJRU5ErkJggg==);\n",
       "        }\n",
       "    </style>\n",
       "    <div>\n",
       "        <a href=\"https://bokeh.org\" target=\"_blank\" class=\"bk-notebook-logo\"></a>\n",
       "        <span id=\"f7df8b94-5b47-48a3-bffb-7e7b50178e5c\">Loading BokehJS ...</span>\n",
       "    </div>\n"
      ]
     },
     "metadata": {},
     "output_type": "display_data"
    },
    {
     "data": {
      "application/javascript": [
       "'use strict';\n",
       "(function(root) {\n",
       "  function now() {\n",
       "    return new Date();\n",
       "  }\n",
       "\n",
       "  const force = true;\n",
       "\n",
       "  if (typeof root._bokeh_onload_callbacks === \"undefined\" || force === true) {\n",
       "    root._bokeh_onload_callbacks = [];\n",
       "    root._bokeh_is_loading = undefined;\n",
       "  }\n",
       "\n",
       "const JS_MIME_TYPE = 'application/javascript';\n",
       "  const HTML_MIME_TYPE = 'text/html';\n",
       "  const EXEC_MIME_TYPE = 'application/vnd.bokehjs_exec.v0+json';\n",
       "  const CLASS_NAME = 'output_bokeh rendered_html';\n",
       "\n",
       "  /**\n",
       "   * Render data to the DOM node\n",
       "   */\n",
       "  function render(props, node) {\n",
       "    const script = document.createElement(\"script\");\n",
       "    node.appendChild(script);\n",
       "  }\n",
       "\n",
       "  /**\n",
       "   * Handle when an output is cleared or removed\n",
       "   */\n",
       "  function handleClearOutput(event, handle) {\n",
       "    function drop(id) {\n",
       "      const view = Bokeh.index.get_by_id(id)\n",
       "      if (view != null) {\n",
       "        view.model.document.clear()\n",
       "        Bokeh.index.delete(view)\n",
       "      }\n",
       "    }\n",
       "\n",
       "    const cell = handle.cell;\n",
       "\n",
       "    const id = cell.output_area._bokeh_element_id;\n",
       "    const server_id = cell.output_area._bokeh_server_id;\n",
       "\n",
       "    // Clean up Bokeh references\n",
       "    if (id != null) {\n",
       "      drop(id)\n",
       "    }\n",
       "\n",
       "    if (server_id !== undefined) {\n",
       "      // Clean up Bokeh references\n",
       "      const cmd_clean = \"from bokeh.io.state import curstate; print(curstate().uuid_to_server['\" + server_id + \"'].get_sessions()[0].document.roots[0]._id)\";\n",
       "      cell.notebook.kernel.execute(cmd_clean, {\n",
       "        iopub: {\n",
       "          output: function(msg) {\n",
       "            const id = msg.content.text.trim()\n",
       "            drop(id)\n",
       "          }\n",
       "        }\n",
       "      });\n",
       "      // Destroy server and session\n",
       "      const cmd_destroy = \"import bokeh.io.notebook as ion; ion.destroy_server('\" + server_id + \"')\";\n",
       "      cell.notebook.kernel.execute(cmd_destroy);\n",
       "    }\n",
       "  }\n",
       "\n",
       "  /**\n",
       "   * Handle when a new output is added\n",
       "   */\n",
       "  function handleAddOutput(event, handle) {\n",
       "    const output_area = handle.output_area;\n",
       "    const output = handle.output;\n",
       "\n",
       "    // limit handleAddOutput to display_data with EXEC_MIME_TYPE content only\n",
       "    if ((output.output_type != \"display_data\") || (!Object.prototype.hasOwnProperty.call(output.data, EXEC_MIME_TYPE))) {\n",
       "      return\n",
       "    }\n",
       "\n",
       "    const toinsert = output_area.element.find(\".\" + CLASS_NAME.split(' ')[0]);\n",
       "\n",
       "    if (output.metadata[EXEC_MIME_TYPE][\"id\"] !== undefined) {\n",
       "      toinsert[toinsert.length - 1].firstChild.textContent = output.data[JS_MIME_TYPE];\n",
       "      // store reference to embed id on output_area\n",
       "      output_area._bokeh_element_id = output.metadata[EXEC_MIME_TYPE][\"id\"];\n",
       "    }\n",
       "    if (output.metadata[EXEC_MIME_TYPE][\"server_id\"] !== undefined) {\n",
       "      const bk_div = document.createElement(\"div\");\n",
       "      bk_div.innerHTML = output.data[HTML_MIME_TYPE];\n",
       "      const script_attrs = bk_div.children[0].attributes;\n",
       "      for (let i = 0; i < script_attrs.length; i++) {\n",
       "        toinsert[toinsert.length - 1].firstChild.setAttribute(script_attrs[i].name, script_attrs[i].value);\n",
       "        toinsert[toinsert.length - 1].firstChild.textContent = bk_div.children[0].textContent\n",
       "      }\n",
       "      // store reference to server id on output_area\n",
       "      output_area._bokeh_server_id = output.metadata[EXEC_MIME_TYPE][\"server_id\"];\n",
       "    }\n",
       "  }\n",
       "\n",
       "  function register_renderer(events, OutputArea) {\n",
       "\n",
       "    function append_mime(data, metadata, element) {\n",
       "      // create a DOM node to render to\n",
       "      const toinsert = this.create_output_subarea(\n",
       "        metadata,\n",
       "        CLASS_NAME,\n",
       "        EXEC_MIME_TYPE\n",
       "      );\n",
       "      this.keyboard_manager.register_events(toinsert);\n",
       "      // Render to node\n",
       "      const props = {data: data, metadata: metadata[EXEC_MIME_TYPE]};\n",
       "      render(props, toinsert[toinsert.length - 1]);\n",
       "      element.append(toinsert);\n",
       "      return toinsert\n",
       "    }\n",
       "\n",
       "    /* Handle when an output is cleared or removed */\n",
       "    events.on('clear_output.CodeCell', handleClearOutput);\n",
       "    events.on('delete.Cell', handleClearOutput);\n",
       "\n",
       "    /* Handle when a new output is added */\n",
       "    events.on('output_added.OutputArea', handleAddOutput);\n",
       "\n",
       "    /**\n",
       "     * Register the mime type and append_mime function with output_area\n",
       "     */\n",
       "    OutputArea.prototype.register_mime_type(EXEC_MIME_TYPE, append_mime, {\n",
       "      /* Is output safe? */\n",
       "      safe: true,\n",
       "      /* Index of renderer in `output_area.display_order` */\n",
       "      index: 0\n",
       "    });\n",
       "  }\n",
       "\n",
       "  // register the mime type if in Jupyter Notebook environment and previously unregistered\n",
       "  if (root.Jupyter !== undefined) {\n",
       "    const events = require('base/js/events');\n",
       "    const OutputArea = require('notebook/js/outputarea').OutputArea;\n",
       "\n",
       "    if (OutputArea.prototype.mime_types().indexOf(EXEC_MIME_TYPE) == -1) {\n",
       "      register_renderer(events, OutputArea);\n",
       "    }\n",
       "  }\n",
       "  if (typeof (root._bokeh_timeout) === \"undefined\" || force === true) {\n",
       "    root._bokeh_timeout = Date.now() + 5000;\n",
       "    root._bokeh_failed_load = false;\n",
       "  }\n",
       "\n",
       "  const NB_LOAD_WARNING = {'data': {'text/html':\n",
       "     \"<div style='background-color: #fdd'>\\n\"+\n",
       "     \"<p>\\n\"+\n",
       "     \"BokehJS does not appear to have successfully loaded. If loading BokehJS from CDN, this \\n\"+\n",
       "     \"may be due to a slow or bad network connection. Possible fixes:\\n\"+\n",
       "     \"</p>\\n\"+\n",
       "     \"<ul>\\n\"+\n",
       "     \"<li>re-rerun `output_notebook()` to attempt to load from CDN again, or</li>\\n\"+\n",
       "     \"<li>use INLINE resources instead, as so:</li>\\n\"+\n",
       "     \"</ul>\\n\"+\n",
       "     \"<code>\\n\"+\n",
       "     \"from bokeh.resources import INLINE\\n\"+\n",
       "     \"output_notebook(resources=INLINE)\\n\"+\n",
       "     \"</code>\\n\"+\n",
       "     \"</div>\"}};\n",
       "\n",
       "  function display_loaded(error = null) {\n",
       "    const el = document.getElementById(\"f7df8b94-5b47-48a3-bffb-7e7b50178e5c\");\n",
       "    if (el != null) {\n",
       "      const html = (() => {\n",
       "        if (typeof root.Bokeh === \"undefined\") {\n",
       "          if (error == null) {\n",
       "            return \"BokehJS is loading ...\";\n",
       "          } else {\n",
       "            return \"BokehJS failed to load.\";\n",
       "          }\n",
       "        } else {\n",
       "          const prefix = `BokehJS ${root.Bokeh.version}`;\n",
       "          if (error == null) {\n",
       "            return `${prefix} successfully loaded.`;\n",
       "          } else {\n",
       "            return `${prefix} <b>encountered errors</b> while loading and may not function as expected.`;\n",
       "          }\n",
       "        }\n",
       "      })();\n",
       "      el.innerHTML = html;\n",
       "\n",
       "      if (error != null) {\n",
       "        const wrapper = document.createElement(\"div\");\n",
       "        wrapper.style.overflow = \"auto\";\n",
       "        wrapper.style.height = \"5em\";\n",
       "        wrapper.style.resize = \"vertical\";\n",
       "        const content = document.createElement(\"div\");\n",
       "        content.style.fontFamily = \"monospace\";\n",
       "        content.style.whiteSpace = \"pre-wrap\";\n",
       "        content.style.backgroundColor = \"rgb(255, 221, 221)\";\n",
       "        content.textContent = error.stack ?? error.toString();\n",
       "        wrapper.append(content);\n",
       "        el.append(wrapper);\n",
       "      }\n",
       "    } else if (Date.now() < root._bokeh_timeout) {\n",
       "      setTimeout(() => display_loaded(error), 100);\n",
       "    }\n",
       "  }\n",
       "\n",
       "  function run_callbacks() {\n",
       "    try {\n",
       "      root._bokeh_onload_callbacks.forEach(function(callback) {\n",
       "        if (callback != null)\n",
       "          callback();\n",
       "      });\n",
       "    } finally {\n",
       "      delete root._bokeh_onload_callbacks\n",
       "    }\n",
       "    console.debug(\"Bokeh: all callbacks have finished\");\n",
       "  }\n",
       "\n",
       "  function load_libs(css_urls, js_urls, callback) {\n",
       "    if (css_urls == null) css_urls = [];\n",
       "    if (js_urls == null) js_urls = [];\n",
       "\n",
       "    root._bokeh_onload_callbacks.push(callback);\n",
       "    if (root._bokeh_is_loading > 0) {\n",
       "      console.debug(\"Bokeh: BokehJS is being loaded, scheduling callback at\", now());\n",
       "      return null;\n",
       "    }\n",
       "    if (js_urls == null || js_urls.length === 0) {\n",
       "      run_callbacks();\n",
       "      return null;\n",
       "    }\n",
       "    console.debug(\"Bokeh: BokehJS not loaded, scheduling load and callback at\", now());\n",
       "    root._bokeh_is_loading = css_urls.length + js_urls.length;\n",
       "\n",
       "    function on_load() {\n",
       "      root._bokeh_is_loading--;\n",
       "      if (root._bokeh_is_loading === 0) {\n",
       "        console.debug(\"Bokeh: all BokehJS libraries/stylesheets loaded\");\n",
       "        run_callbacks()\n",
       "      }\n",
       "    }\n",
       "\n",
       "    function on_error(url) {\n",
       "      console.error(\"failed to load \" + url);\n",
       "    }\n",
       "\n",
       "    for (let i = 0; i < css_urls.length; i++) {\n",
       "      const url = css_urls[i];\n",
       "      const element = document.createElement(\"link\");\n",
       "      element.onload = on_load;\n",
       "      element.onerror = on_error.bind(null, url);\n",
       "      element.rel = \"stylesheet\";\n",
       "      element.type = \"text/css\";\n",
       "      element.href = url;\n",
       "      console.debug(\"Bokeh: injecting link tag for BokehJS stylesheet: \", url);\n",
       "      document.body.appendChild(element);\n",
       "    }\n",
       "\n",
       "    for (let i = 0; i < js_urls.length; i++) {\n",
       "      const url = js_urls[i];\n",
       "      const element = document.createElement('script');\n",
       "      element.onload = on_load;\n",
       "      element.onerror = on_error.bind(null, url);\n",
       "      element.async = false;\n",
       "      element.src = url;\n",
       "      console.debug(\"Bokeh: injecting script tag for BokehJS library: \", url);\n",
       "      document.head.appendChild(element);\n",
       "    }\n",
       "  };\n",
       "\n",
       "  function inject_raw_css(css) {\n",
       "    const element = document.createElement(\"style\");\n",
       "    element.appendChild(document.createTextNode(css));\n",
       "    document.body.appendChild(element);\n",
       "  }\n",
       "\n",
       "  const js_urls = [\"https://cdn.bokeh.org/bokeh/release/bokeh-3.7.2.min.js\", \"https://cdn.bokeh.org/bokeh/release/bokeh-gl-3.7.2.min.js\", \"https://cdn.bokeh.org/bokeh/release/bokeh-widgets-3.7.2.min.js\", \"https://cdn.bokeh.org/bokeh/release/bokeh-tables-3.7.2.min.js\", \"https://cdn.bokeh.org/bokeh/release/bokeh-mathjax-3.7.2.min.js\"];\n",
       "  const css_urls = [];\n",
       "\n",
       "  const inline_js = [    function(Bokeh) {\n",
       "      Bokeh.set_log_level(\"info\");\n",
       "    },\n",
       "function(Bokeh) {\n",
       "    }\n",
       "  ];\n",
       "\n",
       "  function run_inline_js() {\n",
       "    if (root.Bokeh !== undefined || force === true) {\n",
       "      try {\n",
       "            for (let i = 0; i < inline_js.length; i++) {\n",
       "      inline_js[i].call(root, root.Bokeh);\n",
       "    }\n",
       "\n",
       "      } catch (error) {display_loaded(error);throw error;\n",
       "      }if (force === true) {\n",
       "        display_loaded();\n",
       "      }} else if (Date.now() < root._bokeh_timeout) {\n",
       "      setTimeout(run_inline_js, 100);\n",
       "    } else if (!root._bokeh_failed_load) {\n",
       "      console.log(\"Bokeh: BokehJS failed to load within specified timeout.\");\n",
       "      root._bokeh_failed_load = true;\n",
       "    } else if (force !== true) {\n",
       "      const cell = $(document.getElementById(\"f7df8b94-5b47-48a3-bffb-7e7b50178e5c\")).parents('.cell').data().cell;\n",
       "      cell.output_area.append_execute_result(NB_LOAD_WARNING)\n",
       "    }\n",
       "  }\n",
       "\n",
       "  if (root._bokeh_is_loading === 0) {\n",
       "    console.debug(\"Bokeh: BokehJS loaded, going straight to plotting\");\n",
       "    run_inline_js();\n",
       "  } else {\n",
       "    load_libs(css_urls, js_urls, function() {\n",
       "      console.debug(\"Bokeh: BokehJS plotting callback run at\", now());\n",
       "      run_inline_js();\n",
       "    });\n",
       "  }\n",
       "}(window));"
      ],
      "application/vnd.bokehjs_load.v0+json": "'use strict';\n(function(root) {\n  function now() {\n    return new Date();\n  }\n\n  const force = true;\n\n  if (typeof root._bokeh_onload_callbacks === \"undefined\" || force === true) {\n    root._bokeh_onload_callbacks = [];\n    root._bokeh_is_loading = undefined;\n  }\n\n\n  if (typeof (root._bokeh_timeout) === \"undefined\" || force === true) {\n    root._bokeh_timeout = Date.now() + 5000;\n    root._bokeh_failed_load = false;\n  }\n\n  const NB_LOAD_WARNING = {'data': {'text/html':\n     \"<div style='background-color: #fdd'>\\n\"+\n     \"<p>\\n\"+\n     \"BokehJS does not appear to have successfully loaded. If loading BokehJS from CDN, this \\n\"+\n     \"may be due to a slow or bad network connection. Possible fixes:\\n\"+\n     \"</p>\\n\"+\n     \"<ul>\\n\"+\n     \"<li>re-rerun `output_notebook()` to attempt to load from CDN again, or</li>\\n\"+\n     \"<li>use INLINE resources instead, as so:</li>\\n\"+\n     \"</ul>\\n\"+\n     \"<code>\\n\"+\n     \"from bokeh.resources import INLINE\\n\"+\n     \"output_notebook(resources=INLINE)\\n\"+\n     \"</code>\\n\"+\n     \"</div>\"}};\n\n  function display_loaded(error = null) {\n    const el = document.getElementById(\"f7df8b94-5b47-48a3-bffb-7e7b50178e5c\");\n    if (el != null) {\n      const html = (() => {\n        if (typeof root.Bokeh === \"undefined\") {\n          if (error == null) {\n            return \"BokehJS is loading ...\";\n          } else {\n            return \"BokehJS failed to load.\";\n          }\n        } else {\n          const prefix = `BokehJS ${root.Bokeh.version}`;\n          if (error == null) {\n            return `${prefix} successfully loaded.`;\n          } else {\n            return `${prefix} <b>encountered errors</b> while loading and may not function as expected.`;\n          }\n        }\n      })();\n      el.innerHTML = html;\n\n      if (error != null) {\n        const wrapper = document.createElement(\"div\");\n        wrapper.style.overflow = \"auto\";\n        wrapper.style.height = \"5em\";\n        wrapper.style.resize = \"vertical\";\n        const content = document.createElement(\"div\");\n        content.style.fontFamily = \"monospace\";\n        content.style.whiteSpace = \"pre-wrap\";\n        content.style.backgroundColor = \"rgb(255, 221, 221)\";\n        content.textContent = error.stack ?? error.toString();\n        wrapper.append(content);\n        el.append(wrapper);\n      }\n    } else if (Date.now() < root._bokeh_timeout) {\n      setTimeout(() => display_loaded(error), 100);\n    }\n  }\n\n  function run_callbacks() {\n    try {\n      root._bokeh_onload_callbacks.forEach(function(callback) {\n        if (callback != null)\n          callback();\n      });\n    } finally {\n      delete root._bokeh_onload_callbacks\n    }\n    console.debug(\"Bokeh: all callbacks have finished\");\n  }\n\n  function load_libs(css_urls, js_urls, callback) {\n    if (css_urls == null) css_urls = [];\n    if (js_urls == null) js_urls = [];\n\n    root._bokeh_onload_callbacks.push(callback);\n    if (root._bokeh_is_loading > 0) {\n      console.debug(\"Bokeh: BokehJS is being loaded, scheduling callback at\", now());\n      return null;\n    }\n    if (js_urls == null || js_urls.length === 0) {\n      run_callbacks();\n      return null;\n    }\n    console.debug(\"Bokeh: BokehJS not loaded, scheduling load and callback at\", now());\n    root._bokeh_is_loading = css_urls.length + js_urls.length;\n\n    function on_load() {\n      root._bokeh_is_loading--;\n      if (root._bokeh_is_loading === 0) {\n        console.debug(\"Bokeh: all BokehJS libraries/stylesheets loaded\");\n        run_callbacks()\n      }\n    }\n\n    function on_error(url) {\n      console.error(\"failed to load \" + url);\n    }\n\n    for (let i = 0; i < css_urls.length; i++) {\n      const url = css_urls[i];\n      const element = document.createElement(\"link\");\n      element.onload = on_load;\n      element.onerror = on_error.bind(null, url);\n      element.rel = \"stylesheet\";\n      element.type = \"text/css\";\n      element.href = url;\n      console.debug(\"Bokeh: injecting link tag for BokehJS stylesheet: \", url);\n      document.body.appendChild(element);\n    }\n\n    for (let i = 0; i < js_urls.length; i++) {\n      const url = js_urls[i];\n      const element = document.createElement('script');\n      element.onload = on_load;\n      element.onerror = on_error.bind(null, url);\n      element.async = false;\n      element.src = url;\n      console.debug(\"Bokeh: injecting script tag for BokehJS library: \", url);\n      document.head.appendChild(element);\n    }\n  };\n\n  function inject_raw_css(css) {\n    const element = document.createElement(\"style\");\n    element.appendChild(document.createTextNode(css));\n    document.body.appendChild(element);\n  }\n\n  const js_urls = [\"https://cdn.bokeh.org/bokeh/release/bokeh-3.7.2.min.js\", \"https://cdn.bokeh.org/bokeh/release/bokeh-gl-3.7.2.min.js\", \"https://cdn.bokeh.org/bokeh/release/bokeh-widgets-3.7.2.min.js\", \"https://cdn.bokeh.org/bokeh/release/bokeh-tables-3.7.2.min.js\", \"https://cdn.bokeh.org/bokeh/release/bokeh-mathjax-3.7.2.min.js\"];\n  const css_urls = [];\n\n  const inline_js = [    function(Bokeh) {\n      Bokeh.set_log_level(\"info\");\n    },\nfunction(Bokeh) {\n    }\n  ];\n\n  function run_inline_js() {\n    if (root.Bokeh !== undefined || force === true) {\n      try {\n            for (let i = 0; i < inline_js.length; i++) {\n      inline_js[i].call(root, root.Bokeh);\n    }\n\n      } catch (error) {display_loaded(error);throw error;\n      }if (force === true) {\n        display_loaded();\n      }} else if (Date.now() < root._bokeh_timeout) {\n      setTimeout(run_inline_js, 100);\n    } else if (!root._bokeh_failed_load) {\n      console.log(\"Bokeh: BokehJS failed to load within specified timeout.\");\n      root._bokeh_failed_load = true;\n    } else if (force !== true) {\n      const cell = $(document.getElementById(\"f7df8b94-5b47-48a3-bffb-7e7b50178e5c\")).parents('.cell').data().cell;\n      cell.output_area.append_execute_result(NB_LOAD_WARNING)\n    }\n  }\n\n  if (root._bokeh_is_loading === 0) {\n    console.debug(\"Bokeh: BokehJS loaded, going straight to plotting\");\n    run_inline_js();\n  } else {\n    load_libs(css_urls, js_urls, function() {\n      console.debug(\"Bokeh: BokehJS plotting callback run at\", now());\n      run_inline_js();\n    });\n  }\n}(window));"
     },
     "metadata": {},
     "output_type": "display_data"
    }
   ],
   "source": [
    "tao.bokeh.configure(variables_per_row=2, show_sliders=True);"
   ]
  },
  {
   "cell_type": "markdown",
   "metadata": {},
   "source": [
    "## Show a \"single mode\"-style plot with variables\n",
    "\n",
    "Please note that these interactive widgets will **not** display on https://bmad-sim.github.io/pytao documentation.  These only work with a live Tao session."
   ]
  },
  {
   "cell_type": "code",
   "execution_count": 5,
   "metadata": {
    "execution": {
     "iopub.execute_input": "2025-04-02T01:25:15.599495Z",
     "iopub.status.busy": "2025-04-02T01:25:15.598923Z",
     "iopub.status.idle": "2025-04-02T01:25:16.013888Z",
     "shell.execute_reply": "2025-04-02T01:25:16.013372Z"
    }
   },
   "outputs": [
    {
     "data": {
      "text/html": [
       "\n",
       "  <div id=\"e462262a-951a-46e7-97bf-6c26c3ea46be\" data-root-id=\"p1151\" style=\"display: contents;\"></div>\n"
      ]
     },
     "metadata": {},
     "output_type": "display_data"
    },
    {
     "data": {
      "application/javascript": [
       "(function(root) {\n",
       "  function embed_document(root) {\n",
       "  const docs_json = {\"3f6cb367-af31-4d24-b2cd-02819c180024\":{\"version\":\"3.7.2\",\"title\":\"Bokeh Application\",\"roots\":[{\"type\":\"object\",\"name\":\"GridPlot\",\"id\":\"p1151\",\"attributes\":{\"rows\":null,\"cols\":null,\"toolbar\":{\"type\":\"object\",\"name\":\"Toolbar\",\"id\":\"p1150\",\"attributes\":{\"tools\":[{\"type\":\"object\",\"name\":\"ToolProxy\",\"id\":\"p1143\",\"attributes\":{\"tools\":[{\"type\":\"object\",\"name\":\"PanTool\",\"id\":\"p1031\"},{\"type\":\"object\",\"name\":\"PanTool\",\"id\":\"p1089\"}]}},{\"type\":\"object\",\"name\":\"ToolProxy\",\"id\":\"p1144\",\"attributes\":{\"tools\":[{\"type\":\"object\",\"name\":\"WheelZoomTool\",\"id\":\"p1032\",\"attributes\":{\"renderers\":\"auto\"}},{\"type\":\"object\",\"name\":\"WheelZoomTool\",\"id\":\"p1090\",\"attributes\":{\"renderers\":\"auto\"}}]}},{\"type\":\"object\",\"name\":\"ToolProxy\",\"id\":\"p1145\",\"attributes\":{\"tools\":[{\"type\":\"object\",\"name\":\"BoxZoomTool\",\"id\":\"p1033\",\"attributes\":{\"dimensions\":\"both\",\"overlay\":{\"type\":\"object\",\"name\":\"BoxAnnotation\",\"id\":\"p1034\",\"attributes\":{\"syncable\":false,\"line_color\":\"black\",\"line_alpha\":1.0,\"line_width\":2,\"line_dash\":[4,4],\"fill_color\":\"lightgrey\",\"fill_alpha\":0.5,\"level\":\"overlay\",\"visible\":false,\"left\":{\"type\":\"number\",\"value\":\"nan\"},\"right\":{\"type\":\"number\",\"value\":\"nan\"},\"top\":{\"type\":\"number\",\"value\":\"nan\"},\"bottom\":{\"type\":\"number\",\"value\":\"nan\"},\"left_units\":\"canvas\",\"right_units\":\"canvas\",\"top_units\":\"canvas\",\"bottom_units\":\"canvas\",\"handles\":{\"type\":\"object\",\"name\":\"BoxInteractionHandles\",\"id\":\"p1040\",\"attributes\":{\"all\":{\"type\":\"object\",\"name\":\"AreaVisuals\",\"id\":\"p1039\",\"attributes\":{\"fill_color\":\"white\",\"hover_fill_color\":\"lightgray\"}}}}}}}},{\"type\":\"object\",\"name\":\"BoxZoomTool\",\"id\":\"p1091\",\"attributes\":{\"dimensions\":\"both\",\"overlay\":{\"type\":\"object\",\"name\":\"BoxAnnotation\",\"id\":\"p1092\",\"attributes\":{\"syncable\":false,\"line_color\":\"black\",\"line_alpha\":1.0,\"line_width\":2,\"line_dash\":[4,4],\"fill_color\":\"lightgrey\",\"fill_alpha\":0.5,\"level\":\"overlay\",\"visible\":false,\"left\":{\"type\":\"number\",\"value\":\"nan\"},\"right\":{\"type\":\"number\",\"value\":\"nan\"},\"top\":{\"type\":\"number\",\"value\":\"nan\"},\"bottom\":{\"type\":\"number\",\"value\":\"nan\"},\"left_units\":\"canvas\",\"right_units\":\"canvas\",\"top_units\":\"canvas\",\"bottom_units\":\"canvas\",\"handles\":{\"type\":\"object\",\"name\":\"BoxInteractionHandles\",\"id\":\"p1098\",\"attributes\":{\"all\":{\"type\":\"object\",\"name\":\"AreaVisuals\",\"id\":\"p1097\",\"attributes\":{\"fill_color\":\"white\",\"hover_fill_color\":\"lightgray\"}}}}}}}}]}},{\"type\":\"object\",\"name\":\"ToolProxy\",\"id\":\"p1146\",\"attributes\":{\"tools\":[{\"type\":\"object\",\"name\":\"ResetTool\",\"id\":\"p1041\"},{\"type\":\"object\",\"name\":\"ResetTool\",\"id\":\"p1099\"}]}},{\"type\":\"object\",\"name\":\"ToolProxy\",\"id\":\"p1147\",\"attributes\":{\"tools\":[{\"type\":\"object\",\"name\":\"HoverTool\",\"id\":\"p1042\",\"attributes\":{\"renderers\":\"auto\"}}]}},{\"type\":\"object\",\"name\":\"ToolProxy\",\"id\":\"p1148\",\"attributes\":{\"tools\":[{\"type\":\"object\",\"name\":\"HoverTool\",\"id\":\"p1139\",\"attributes\":{\"renderers\":[{\"type\":\"object\",\"name\":\"GlyphRenderer\",\"id\":\"p1124\",\"attributes\":{\"data_source\":{\"type\":\"object\",\"name\":\"ColumnDataSource\",\"id\":\"p1115\",\"attributes\":{\"selected\":{\"type\":\"object\",\"name\":\"Selection\",\"id\":\"p1116\",\"attributes\":{\"indices\":[],\"line_indices\":[]}},\"selection_policy\":{\"type\":\"object\",\"name\":\"UnionRenderers\",\"id\":\"p1117\"},\"data\":{\"type\":\"map\",\"entries\":[[\"xs\",[[[[0.0,0.05,0.05,0.0,0.0]]],[[[0.165302449549514,0.215302449549514,0.215302449549514,0.165302449549514,0.165302449549514]]],[[[0.215302449549514,0.322699081698724,0.322699081698724,0.215302449549514,0.215302449549514]]],[[[0.322699081698724,0.392699081698724,0.392699081698724,0.322699081698724,0.322699081698724]]],[[[0.05,0.165302449549514,0.165302449549514,0.05,0.05]]]]],[\"ys\",[[[[0.01,0.01,-0.01,-0.01,0.01]]],[[[0.01,0.01,-0.01,-0.01,0.01]]],[[[-3.84,-3.84,0.0,0.0,-3.84]]],[[[0.01,0.01,-0.01,-0.01,0.01]]],[[[3.96,3.96,0.0,0.0,3.96]]]]],[\"name\",[\"\",\"\",\"FF.QUA02\",\"\",\"FF.QUA01\"]],[\"color\",[\"black\",\"black\",\"blue\",\"black\",\"blue\"]],[\"line_width\",[0.5,0.5,0.5,0.5,0.5]],[\"s_start\",[0.0,0.165302449549514,0.215302449549514,0.322699081698724,0.05]],[\"s_end\",[0.05,0.215302449549514,0.322699081698724,0.392699081698724,0.165302449549514]]]}}},\"view\":{\"type\":\"object\",\"name\":\"CDSView\",\"id\":\"p1125\",\"attributes\":{\"filter\":{\"type\":\"object\",\"name\":\"AllIndices\",\"id\":\"p1126\"}}},\"glyph\":{\"type\":\"object\",\"name\":\"MultiPolygons\",\"id\":\"p1121\",\"attributes\":{\"xs\":{\"type\":\"field\",\"field\":\"xs\"},\"ys\":{\"type\":\"field\",\"field\":\"ys\"},\"line_color\":{\"type\":\"field\",\"field\":\"color\"},\"line_width\":{\"type\":\"field\",\"field\":\"line_width\"},\"fill_color\":{\"type\":\"field\",\"field\":\"color\"},\"fill_alpha\":{\"type\":\"value\",\"value\":0.0},\"hatch_color\":{\"type\":\"field\",\"field\":\"color\"}}},\"nonselection_glyph\":{\"type\":\"object\",\"name\":\"MultiPolygons\",\"id\":\"p1122\",\"attributes\":{\"xs\":{\"type\":\"field\",\"field\":\"xs\"},\"ys\":{\"type\":\"field\",\"field\":\"ys\"},\"line_color\":{\"type\":\"field\",\"field\":\"color\"},\"line_alpha\":{\"type\":\"value\",\"value\":0.1},\"line_width\":{\"type\":\"field\",\"field\":\"line_width\"},\"fill_color\":{\"type\":\"field\",\"field\":\"color\"},\"fill_alpha\":{\"type\":\"value\",\"value\":0.1},\"hatch_color\":{\"type\":\"field\",\"field\":\"color\"},\"hatch_alpha\":{\"type\":\"value\",\"value\":0.1}}},\"muted_glyph\":{\"type\":\"object\",\"name\":\"MultiPolygons\",\"id\":\"p1123\",\"attributes\":{\"xs\":{\"type\":\"field\",\"field\":\"xs\"},\"ys\":{\"type\":\"field\",\"field\":\"ys\"},\"line_color\":{\"type\":\"field\",\"field\":\"color\"},\"line_alpha\":{\"type\":\"value\",\"value\":0.2},\"line_width\":{\"type\":\"field\",\"field\":\"line_width\"},\"fill_color\":{\"type\":\"field\",\"field\":\"color\"},\"fill_alpha\":{\"type\":\"value\",\"value\":0.2},\"hatch_color\":{\"type\":\"field\",\"field\":\"color\"},\"hatch_alpha\":{\"type\":\"value\",\"value\":0.2}}}}}],\"tooltips\":[[\"name\",\"@name\"],[\"s start [m]\",\"@s_start\"],[\"s end [m]\",\"@s_end\"]],\"mode\":\"vline\"}}]}},{\"type\":\"object\",\"name\":\"ToolProxy\",\"id\":\"p1149\",\"attributes\":{\"tools\":[{\"type\":\"object\",\"name\":\"CrosshairTool\",\"id\":\"p1043\",\"attributes\":{\"overlay\":[{\"type\":\"object\",\"name\":\"Span\",\"id\":\"p1141\",\"attributes\":{\"line_dash\":[2,4]}},{\"type\":\"object\",\"name\":\"Span\",\"id\":\"p1142\",\"attributes\":{\"dimension\":\"height\",\"line_dash\":[2,4]}}]}},{\"type\":\"object\",\"name\":\"CrosshairTool\",\"id\":\"p1100\",\"attributes\":{\"overlay\":[{\"id\":\"p1141\"},{\"id\":\"p1142\"}]}}]}},{\"type\":\"object\",\"name\":\"SaveTool\",\"id\":\"p1153\"}],\"logo\":null}},\"children\":[[{\"type\":\"object\",\"name\":\"Figure\",\"id\":\"p1009\",\"attributes\":{\"width\":null,\"height\":null,\"sizing_mode\":\"inherit\",\"x_range\":{\"type\":\"object\",\"name\":\"Range1d\",\"id\":\"p1001\",\"attributes\":{\"start\":-0.0020000000000000018,\"end\":0.402}},\"y_range\":{\"type\":\"object\",\"name\":\"Range1d\",\"id\":\"p1002\",\"attributes\":{\"start\":-0.009372599999999953,\"end\":1.8838925999999998}},\"x_scale\":{\"type\":\"object\",\"name\":\"LinearScale\",\"id\":\"p1019\"},\"y_scale\":{\"type\":\"object\",\"name\":\"LinearScale\",\"id\":\"p1020\"},\"title\":{\"type\":\"object\",\"name\":\"Title\",\"id\":\"p1012\",\"attributes\":{\"text\":\" [model uni:1]\"}},\"renderers\":[{\"type\":\"object\",\"name\":\"GlyphRenderer\",\"id\":\"p1050\",\"attributes\":{\"name\":\"c1\",\"data_source\":{\"type\":\"object\",\"name\":\"ColumnDataSource\",\"id\":\"p1003\",\"attributes\":{\"selected\":{\"type\":\"object\",\"name\":\"Selection\",\"id\":\"p1004\",\"attributes\":{\"indices\":[],\"line_indices\":[]}},\"selection_policy\":{\"type\":\"object\",\"name\":\"UnionRenderers\",\"id\":\"p1005\"},\"data\":{\"type\":\"map\",\"entries\":[[\"x\",[0.0,0.000436817665960761,0.000873635331921522,0.00131045299788228,0.00174727066384304,0.00218408832980381,0.00262090599576457,0.00305772366172533,0.00349454132768609,0.00393135899364685,0.00436817665960761,0.00480499432556837,0.00524181199152913,0.00567862965748989,0.00611544732345065,0.00655226498941141,0.00698908265537218,0.00742590032133294,0.0078627179872937,0.00829953565325446,0.00873635331921522,0.00917317098517598,0.00960998865113674,0.0100468063170975,0.0104836239830583,0.010920441649019,0.0113572593149798,0.0117940769809405,0.0122308946469013,0.0126677123128621,0.0131045299788228,0.0135413476447836,0.0139781653107444,0.0144149829767051,0.0148518006426659,0.0152886183086266,0.0157254359745874,0.0161622536405482,0.0165990713065089,0.0170358889724697,0.0174727066384304,0.0179095243043912,0.018346341970352,0.0187831596363127,0.0192199773022735,0.0196567949682342,0.020093612634195,0.0205304303001558,0.0209672479661165,0.0214040656320773,0.0218408832980381,0.0222777009639988,0.0227145186299596,0.0231513362959203,0.0235881539618811,0.0240249716278419,0.0244617892938026,0.0248986069597634,0.0253354246257241,0.0257722422916849,0.0262090599576457,0.0266458776236064,0.0270826952895672,0.0275195129555279,0.0279563306214887,0.0283931482874495,0.0288299659534102,0.029266783619371,0.0297036012853318,0.0301404189512925,0.0305772366172533,0.031014054283214,0.0314508719491748,0.0318876896151356,0.0323245072810963,0.0327613249470571,0.0331981426130178,0.0336349602789786,0.0340717779449394,0.0345085956109001,0.0349454132768609,0.0353822309428216,0.0358190486087824,0.0362558662747432,0.0366926839407039,0.0371295016066647,0.0375663192726254,0.0380031369385862,0.038439954604547,0.0388767722705077,0.0393135899364685,0.0397504076024293,0.04018722526839,0.0406240429343508,0.0410608606003115,0.0414976782662723,0.0419344959322331,0.0423713135981938,0.0428081312641546,0.0432449489301153,0.0436817665960761,0.0441185842620369,0.0445554019279976,0.0449922195939584,0.0454290372599191,0.0458658549258799,0.0463026725918407,0.0467394902578014,0.0471763079237622,0.0476131255897229,0.0480499432556837,0.0484867609216445,0.0489235785876052,0.049360396253566,0.0497972139195268,0.0502340315854875,0.0506708492514483,0.051107666917409,0.0515444845833698,0.0519813022493306,0.0524181199152913,0.0528549375812521,0.0532917552472128,0.0537285729131736,0.0541653905791344,0.0546022082450951,0.0550390259110559,0.0554758435770166,0.0559126612429774,0.0563494789089382,0.0567862965748989,0.0572231142408597,0.0576599319068205,0.0580967495727812,0.058533567238742,0.0589703849047027,0.0594072025706635,0.0598440202366243,0.060280837902585,0.0607176555685458,0.0611544732345065,0.0615912909004673,0.0620281085664281,0.0624649262323888,0.0629017438983496,0.0633385615643104,0.0637753792302711,0.0642121968962319,0.0646490145621926,0.0650858322281534,0.0655226498941141,0.0659594675600749,0.0663962852260357,0.0668331028919964,0.0672699205579572,0.067706738223918,0.0681435558898787,0.0685803735558395,0.0690171912218002,0.069454008887761,0.0698908265537218,0.0703276442196825,0.0707644618856433,0.071201279551604,0.0716380972175648,0.0720749148835256,0.0725117325494863,0.0729485502154471,0.0733853678814079,0.0738221855473686,0.0742590032133294,0.0746958208792901,0.0751326385452509,0.0755694562112117,0.0760062738771724,0.0764430915431332,0.0768799092090939,0.0773167268750547,0.0777535445410155,0.0781903622069762,0.078627179872937,0.0790639975388977,0.0795008152048585,0.0799376328708193,0.08037445053678,0.0808112682027408,0.0812480858687015,0.0816849035346623,0.0821217212006231,0.0825585388665838,0.0829953565325446,0.0834321741985053,0.0838689918644661,0.0843058095304269,0.0847426271963876,0.0851794448623484,0.0856162625283091,0.0860530801942699,0.0864898978602307,0.0869267155261914,0.0873635331921522,0.087800350858113,0.0882371685240737,0.0886739861900345,0.0891108038559952,0.089547621521956,0.0899844391879168,0.0904212568538775,0.0908580745198383,0.0912948921857991,0.0917317098517598,0.0921685275177206,0.0926053451836813,0.0930421628496421,0.0934789805156029,0.0939157981815636,0.0943526158475244,0.0947894335134851,0.0952262511794459,0.0956630688454067,0.0960998865113674,0.0965367041773282,0.0969735218432889,0.0974103395092497,0.0978471571752105,0.0982839748411712,0.098720792507132,0.0991576101730927,0.0995944278390535,0.100031245505014,0.100468063170975,0.100904880836936,0.101341698502897,0.101778516168857,0.102215333834818,0.102652151500779,0.10308896916674,0.1035257868327,0.103962604498661,0.104399422164622,0.104836239830583,0.105273057496543,0.105709875162504,0.106146692828465,0.106583510494426,0.107020328160386,0.107457145826347,0.107893963492308,0.108330781158269,0.108767598824229,0.10920441649019,0.109641234156151,0.110078051822112,0.110514869488073,0.110951687154033,0.111388504819994,0.111825322485955,0.112262140151916,0.112698957817876,0.113135775483837,0.113572593149798,0.114009410815759,0.114446228481719,0.11488304614768,0.115319863813641,0.115756681479602,0.116193499145562,0.116630316811523,0.117067134477484,0.117503952143445,0.117940769809405,0.118377587475366,0.118814405141327,0.119251222807288,0.119688040473249,0.120124858139209,0.12056167580517,0.120998493471131,0.121435311137092,0.121872128803052,0.122308946469013,0.122745764134974,0.123182581800935,0.123619399466895,0.124056217132856,0.124493034798817,0.124929852464778,0.125366670130738,0.125803487796699,0.12624030546266,0.126677123128621,0.127113940794581,0.127550758460542,0.127987576126503,0.128424393792464,0.128861211458424,0.129298029124385,0.129734846790346,0.130171664456307,0.130608482122268,0.131045299788228,0.131482117454189,0.13191893512015,0.132355752786111,0.132792570452071,0.133229388118032,0.133666205783993,0.134103023449954,0.134539841115914,0.134976658781875,0.135413476447836,0.135850294113797,0.136287111779757,0.136723929445718,0.137160747111679,0.13759756477764,0.1380343824436,0.138471200109561,0.138908017775522,0.139344835441483,0.139781653107444,0.140218470773404,0.140655288439365,0.141092106105326,0.141528923771287,0.141965741437247,0.142402559103208,0.142839376769169,0.14327619443513,0.14371301210109,0.144149829767051,0.144586647433012,0.145023465098973,0.145460282764933,0.145897100430894,0.146333918096855,0.146770735762816,0.147207553428776,0.147644371094737,0.148081188760698,0.148518006426659,0.148954824092619,0.14939164175858,0.149828459424541,0.150265277090502,0.150702094756463,0.151138912422423,0.151575730088384,0.152012547754345,0.152449365420306,0.152886183086266,0.153323000752227,0.153759818418188,0.154196636084149,0.154633453750109,0.15507027141607,0.155507089082031,0.155943906747992,0.156380724413952,0.156817542079913,0.157254359745874,0.157691177411835,0.158127995077795,0.158564812743756,0.159001630409717,0.159438448075678,0.159875265741639,0.160312083407599,0.16074890107356,0.161185718739521,0.161622536405482,0.162059354071442,0.162496171737403,0.162932989403364,0.163369807069325,0.163806624735285,0.164243442401246,0.164680260067207,0.165117077733168,0.165553895399128,0.165990713065089,0.16642753073105,0.166864348397011,0.167301166062971,0.167737983728932,0.168174801394893,0.168611619060854,0.169048436726815,0.169485254392775,0.169922072058736,0.170358889724697,0.170795707390658,0.171232525056618,0.171669342722579,0.17210616038854,0.172542978054501,0.172979795720461,0.173416613386422,0.173853431052383,0.174290248718344,0.174727066384304,0.175163884050265,0.175600701716226,0.176037519382187,0.176474337048147,0.176911154714108,0.177347972380069,0.17778479004603,0.17822160771199,0.178658425377951,0.179095243043912,0.179532060709873,0.179968878375834,0.180405696041794,0.180842513707755,0.181279331373716,0.181716149039677,0.182152966705637,0.182589784371598,0.183026602037559,0.18346341970352,0.18390023736948,0.184337055035441,0.184773872701402,0.185210690367363,0.185647508033323,0.186084325699284,0.186521143365245,0.186957961031206,0.187394778697166,0.187831596363127,0.188268414029088,0.188705231695049,0.18914204936101,0.18957886702697,0.190015684692931,0.190452502358892,0.190889320024853,0.191326137690813,0.191762955356774,0.192199773022735,0.192636590688696,0.193073408354656,0.193510226020617,0.193947043686578,0.194383861352539,0.194820679018499,0.19525749668446,0.195694314350421,0.196131132016382,0.196567949682342,0.197004767348303,0.197441585014264,0.197878402680225,0.198315220346185,0.198752038012146,0.199188855678107,0.199625673344068,0.200062491010029,0.200499308675989,0.20093612634195,0.201372944007911,0.201809761673872,0.202246579339832,0.202683397005793,0.203120214671754,0.203557032337715,0.203993850003675,0.204430667669636,0.204867485335597,0.205304303001558,0.205741120667518,0.206177938333479,0.20661475599944,0.207051573665401,0.207488391331361,0.207925208997322,0.208362026663283,0.208798844329244,0.209235661995205,0.209672479661165,0.210109297327126,0.210546114993087,0.210982932659048,0.211419750325008,0.211856567990969,0.21229338565693,0.212730203322891,0.213167020988851,0.213603838654812,0.214040656320773,0.214477473986734,0.214914291652694,0.215351109318655,0.215787926984616,0.216224744650577,0.216661562316537,0.217098379982498,0.217535197648459,0.21797201531442,0.21840883298038,0.218845650646341,0.219282468312302,0.219719285978263,0.220156103644224,0.220592921310184,0.221029738976145,0.221466556642106,0.221903374308067,0.222340191974027,0.222777009639988,0.223213827305949,0.22365064497191,0.22408746263787,0.224524280303831,0.224961097969792,0.225397915635753,0.225834733301713,0.226271550967674,0.226708368633635,0.227145186299596,0.227582003965556,0.228018821631517,0.228455639297478,0.228892456963439,0.2293292746294,0.22976609229536,0.230202909961321,0.230639727627282,0.231076545293243,0.231513362959203,0.231950180625164,0.232386998291125,0.232823815957086,0.233260633623046,0.233697451289007,0.234134268954968,0.234571086620929,0.235007904286889,0.23544472195285,0.235881539618811,0.236318357284772,0.236755174950732,0.237191992616693,0.237628810282654,0.238065627948615,0.238502445614576,0.238939263280536,0.239376080946497,0.239812898612458,0.240249716278419,0.240686533944379,0.24112335161034,0.241560169276301,0.241996986942262,0.242433804608222,0.242870622274183,0.243307439940144,0.243744257606105,0.244181075272065,0.244617892938026,0.245054710603987,0.245491528269948,0.245928345935908,0.246365163601869,0.24680198126783,0.247238798933791,0.247675616599751,0.248112434265712,0.248549251931673,0.248986069597634,0.249422887263595,0.249859704929555,0.250296522595516,0.250733340261477,0.251170157927438,0.251606975593398,0.252043793259359,0.25248061092532,0.252917428591281,0.253354246257241,0.253791063923202,0.254227881589163,0.254664699255124,0.255101516921084,0.255538334587045,0.255975152253006,0.256411969918967,0.256848787584927,0.257285605250888,0.257722422916849,0.25815924058281,0.258596058248771,0.259032875914731,0.259469693580692,0.259906511246653,0.260343328912614,0.260780146578574,0.261216964244535,0.261653781910496,0.262090599576457,0.262527417242417,0.262964234908378,0.263401052574339,0.2638378702403,0.26427468790626,0.264711505572221,0.265148323238182,0.265585140904143,0.266021958570103,0.266458776236064,0.266895593902025,0.267332411567986,0.267769229233946,0.268206046899907,0.268642864565868,0.269079682231829,0.26951649989779,0.26995331756375,0.270390135229711,0.270826952895672,0.271263770561633,0.271700588227593,0.272137405893554,0.272574223559515,0.273011041225476,0.273447858891436,0.273884676557397,0.274321494223358,0.274758311889319,0.275195129555279,0.27563194722124,0.276068764887201,0.276505582553162,0.276942400219122,0.277379217885083,0.277816035551044,0.278252853217005,0.278689670882966,0.279126488548926,0.279563306214887,0.280000123880848,0.280436941546809,0.280873759212769,0.28131057687873,0.281747394544691,0.282184212210652,0.282621029876612,0.283057847542573,0.283494665208534,0.283931482874495,0.284368300540455,0.284805118206416,0.285241935872377,0.285678753538338,0.286115571204298,0.286552388870259,0.28698920653622,0.287426024202181,0.287862841868141,0.288299659534102,0.288736477200063,0.289173294866024,0.289610112531985,0.290046930197945,0.290483747863906,0.290920565529867,0.291357383195828,0.291794200861788,0.292231018527749,0.29266783619371,0.293104653859671,0.293541471525631,0.293978289191592,0.294415106857553,0.294851924523514,0.295288742189474,0.295725559855435,0.296162377521396,0.296599195187357,0.297036012853317,0.297472830519278,0.297909648185239,0.2983464658512,0.298783283517161,0.299220101183121,0.299656918849082,0.300093736515043,0.300530554181004,0.300967371846964,0.301404189512925,0.301841007178886,0.302277824844847,0.302714642510807,0.303151460176768,0.303588277842729,0.30402509550869,0.30446191317465,0.304898730840611,0.305335548506572,0.305772366172533,0.306209183838493,0.306646001504454,0.307082819170415,0.307519636836376,0.307956454502336,0.308393272168297,0.308830089834258,0.309266907500219,0.30970372516618,0.31014054283214,0.310577360498101,0.311014178164062,0.311450995830023,0.311887813495983,0.312324631161944,0.312761448827905,0.313198266493866,0.313635084159826,0.314071901825787,0.314508719491748,0.314945537157709,0.315382354823669,0.31581917248963,0.316255990155591,0.316692807821552,0.317129625487513,0.317566443153473,0.318003260819434,0.318440078485395,0.318876896151356,0.319313713817316,0.319750531483277,0.320187349149238,0.320624166815199,0.321060984481159,0.32149780214712,0.321934619813081,0.322371437479042,0.322808255145002,0.323245072810963,0.323681890476924,0.324118708142885,0.324555525808845,0.324992343474806,0.325429161140767,0.325865978806728,0.326302796472688,0.326739614138649,0.32717643180461,0.327613249470571,0.328050067136532,0.328486884802492,0.328923702468453,0.329360520134414,0.329797337800375,0.330234155466335,0.330670973132296,0.331107790798257,0.331544608464218,0.331981426130178,0.332418243796139,0.3328550614621,0.333291879128061,0.333728696794021,0.334165514459982,0.334602332125943,0.335039149791904,0.335475967457864,0.335912785123825,0.336349602789786,0.336786420455747,0.337223238121708,0.337660055787668,0.338096873453629,0.33853369111959,0.338970508785551,0.339407326451511,0.339844144117472,0.340280961783433,0.340717779449394,0.341154597115354,0.341591414781315,0.342028232447276,0.342465050113237,0.342901867779197,0.343338685445158,0.343775503111119,0.34421232077708,0.34464913844304,0.345085956109001,0.345522773774962,0.345959591440923,0.346396409106883,0.346833226772844,0.347270044438805,0.347706862104766,0.348143679770727,0.348580497436687,0.349017315102648,0.349454132768609,0.34989095043457,0.35032776810053,0.350764585766491,0.351201403432452,0.351638221098413,0.352075038764373,0.352511856430334,0.352948674096295,0.353385491762256,0.353822309428216,0.354259127094177,0.354695944760138,0.355132762426099,0.355569580092059,0.35600639775802,0.356443215423981,0.356880033089942,0.357316850755903,0.357753668421863,0.358190486087824,0.358627303753785,0.359064121419746,0.359500939085706,0.359937756751667,0.360374574417628,0.360811392083589,0.361248209749549,0.36168502741551,0.362121845081471,0.362558662747432,0.362995480413392,0.363432298079353,0.363869115745314,0.364305933411275,0.364742751077235,0.365179568743196,0.365616386409157,0.366053204075118,0.366490021741078,0.366926839407039,0.367363657073,0.367800474738961,0.368237292404922,0.368674110070882,0.369110927736843,0.369547745402804,0.369984563068765,0.370421380734725,0.370858198400686,0.371295016066647,0.371731833732608,0.372168651398568,0.372605469064529,0.37304228673049,0.373479104396451,0.373915922062411,0.374352739728372,0.374789557394333,0.375226375060294,0.375663192726254,0.376100010392215,0.376536828058176,0.376973645724137,0.377410463390097,0.377847281056058,0.378284098722019,0.37872091638798,0.379157734053941,0.379594551719901,0.380031369385862,0.380468187051823,0.380905004717784,0.381341822383744,0.381778640049705,0.382215457715666,0.382652275381627,0.383089093047587,0.383525910713548,0.383962728379509,0.38439954604547,0.38483636371143,0.385273181377391,0.385709999043352,0.386146816709313,0.386583634375273,0.387020452041234,0.387457269707195,0.387894087373156,0.388330905039117,0.388767722705077,0.389204540371038,0.389641358036999,0.39007817570296,0.39051499336892,0.390951811034881,0.391388628700842,0.391825446366803,0.392262264032763,0.392699081698724]],[\"y\",[0.733087313358451,0.737750065765777,0.742430565140419,0.747128811482378,0.751844804791653,0.756578545068245,0.761330032312154,0.766099266523379,0.77088624770192,0.775690975847779,0.780513450960953,0.785353673041445,0.790211642089253,0.795087358104377,0.799980821086818,0.804892031036575,0.809820987953649,0.81476769183804,0.819732142689747,0.824714340508771,0.829714285295111,0.834731977048768,0.839767415769741,0.844820601458031,0.849891534113638,0.854980213736561,0.8600866403268,0.865210813884356,0.870352734409229,0.875512401901418,0.880689816360924,0.885884977787747,0.891097886181886,0.896328541543341,0.901576943872113,0.906843093168202,0.912126989431607,0.917428632662328,0.922748022860367,0.928085160025722,0.933440044158393,0.938812675258381,0.944203053325685,0.949611178360306,0.955037050362244,0.960480669331498,0.965942035268068,0.971421148171956,0.976918008043159,0.98243261488168,0.987964968687517,0.99351506946067,0.99908291720114,1.00466851190893,1.01027185358403,1.01589294222645,1.02153177783619,1.02718836041324,1.03286268995761,1.03855476646929,1.0442645899483,1.04999216039461,1.05573747780825,1.0615005421892,1.06728135353747,1.07307991185306,1.07889621713596,1.08473026938618,1.09058206860371,1.09645161478856,1.10233890794073,1.10824394806022,1.11416673514702,1.12010726920113,1.12606555022257,1.13204157821132,1.13803535316739,1.14404687509077,1.15007614398147,1.15612315983949,1.16218792266482,1.16827043245747,1.17437068921744,1.18048869294472,1.18662444363932,1.19277794130124,1.19894918593047,1.20513817752702,1.21134491609089,1.21756940162207,1.22381163412057,1.23007161358638,1.23634934001951,1.24264481341996,1.24895803378773,1.25528900112281,1.26163771542521,1.26800417669492,1.27438838493196,1.2807903401363,1.28721004230797,1.29364749144695,1.30010268755325,1.30657563062686,1.31306632066779,1.31957475767604,1.3261009416516,1.33264487259448,1.33920655050468,1.34578597538219,1.35238314722702,1.35899806603917,1.36563073181863,1.37228114456541,1.37894930427951,1.45784720688995,1.46434623502018,1.4708087245255,1.47723421344401,1.48362224245874,1.48997235493051,1.49628409693054,1.50255701727291,1.5087906675468,1.51498460214857,1.52113837831359,1.52725155614791,1.53332369865968,1.53935437179041,1.54534314444598,1.55128958852749,1.5571932789618,1.563053793732,1.56887071390749,1.57464362367398,1.58037211036322,1.58605576448247,1.59169417974376,1.59728695309299,1.60283368473868,1.6083339781806,1.61378744023808,1.6191936810781,1.62455231424323,1.62986295667917,1.63512522876218,1.6403387543262,1.64550316068977,1.65061807868261,1.65568314267207,1.66069799058925,1.66566226395484,1.67057560790482,1.67543767121575,1.68024810632996,1.68500656938029,1.68971272021478,1.69436622242091,1.69896674334968,1.70351395413938,1.70800752973909,1.71244714893193,1.71683249435804,1.72116325253721,1.72543911389133,1.72965977276654,1.73382492745501,1.73793428021657,1.74198753729998,1.74598440896389,1.74992460949761,1.7538078572415,1.75763387460709,1.76140238809697,1.7651131283243,1.76876583003207,1.77236023211209,1.77589607762362,1.77937311381176,1.78279109212553,1.78614976823557,1.7894489020517,1.79268825774003,1.79586760373979,1.79898671277996,1.80204536189545,1.80504333244307,1.80798041011715,1.81085638496485,1.81367105140121,1.81642420822376,1.81911565862702,1.82174521021647,1.82431267502234,1.82681786951305,1.82926061460833,1.83164073569201,1.83395806262451,1.83621242975501,1.83840367593327,1.84053164452117,1.84259618340388,1.84459714500078,1.84653438627597,1.8484077687485,1.85021715850229,1.85196242619567,1.85364344707066,1.85526010096186,1.85681227230508,1.85829985014554,1.85972272814585,1.86108080459359,1.86237398240861,1.8636021691499,1.8647652770223,1.86586322288269,1.86689592824595,1.86786331929062,1.86876532686411,1.86960188648771,1.87037293836112,1.8710784273668,1.87171830307386,1.87229251974171,1.87280103632328,1.87324381646798,1.8736208285243,1.87393204554207,1.87417744527438,1.87435701017918,1.87447072742053,1.87451858886951,1.87450059110481,1.87441673541299,1.87426702778834,1.8740514789325,1.87377010425367,1.87342292386553,1.87300996258578,1.87253124993435,1.87198682013136,1.87137671209459,1.87070096943674,1.86995964046233,1.8691527781642,1.86828044021976,1.86734268898685,1.86633959149929,1.86527121946207,1.86413764924626,1.86293896188352,1.8616752430603,1.86034658311176,1.85895307701527,1.85749482438364,1.85597192945798,1.85438450110028,1.8527326527856,1.85101650259398,1.84923617320197,1.8473917918739,1.84548349045275,1.84351140535074,1.84147567753958,1.83937645254037,1.83721388041324,1.8349881157466,1.83269931764606,1.83034764972311,1.82793328008341,1.82545638131473,1.82291713047468,1.82031570907799,1.81765230308358,1.81492710288125,1.81214030327807,1.80929210348446,1.80638270709994,1.80341232209858,1.80038116081414,1.79728943992488,1.79413738043808,1.79092520767424,1.78765315125098,1.78432144506661,1.78093032728341,1.77748004031064,1.77397083078715,1.77040294956381,1.76677665168555,1.76309219637313,1.75934984700461,1.75554987109653,1.75169254028476,1.74777813030513,1.74380692097369,1.73977919616669,1.73569524380034,1.73155535581017,1.7273598281302,1.72310896067177,1.71880305730212,1.71444242582264,1.71002737794688,1.70555822927827,1.70103529928757,1.69645891129,1.69182939242218,1.6871470736187,1.68241228958845,1.67762537879078,1.67278668341119,1.66789654933697,1.66295532613241,1.65796336701385,1.65292102882439,1.64782867200843,1.64268666058587,1.6374953621261,1.63225514772173,1.62696639196205,1.62162947290625,1.61624477205643,1.61081267433029,1.60533356803363,1.59980784483257,1.59423589972562,1.58861813101536,1.58295494028001,1.57724673234473,1.57149391525266,1.56569690023578,1.55985610168547,1.55397193712293,1.54804482716932,1.54207519551569,1.53606346889268,1.53001007704004,1.5239154526759,1.51778003146583,1.51160425199172,1.50538855572039,1.49913338697208,1.49283919288866,1.48650642340164,1.48013553120008,1.47372697169817,1.46728120300269,1.46079868588026,1.45427988372443,1.44772526252252,1.44113529082233,1.43451043969864,1.42785118271952,1.42115799591252,1.4144313577306,1.40767174901793,1.40087965297557,1.39405555512687,1.38719994328276,1.38031330750695,1.37339614008081,1.36644893546824,1.35947219028032,1.35246640323977,1.34543207514534,1.33836970883599,1.33127980915496,1.32416288291367,1.31701943885549,1.30984998761938,1.3026550417034,1.29543511542804,1.28819072489949,1.28092238797274,1.27363062421452,1.26631595486624,1.25897890280664,1.19278578335781,1.18521024793193,1.17766071968997,1.17013719863191,1.16263968475776,1.15516817806752,1.14772267856119,1.14030318623877,1.13290970110026,1.12554222314566,1.11820075237497,1.11088528878819,1.10359583238531,1.09633238316635,1.0890949411313,1.08188350628016,1.07469807861293,1.0675386581296,1.06040524483019,1.05329783871469,1.0462164397831,1.03916104803541,1.03213166347164,1.02512828609177,1.01815091589582,1.01119955288377,1.00427419705564,0.997374848411415,0.9905015069511,0.983654172674694,0.976832845582198,0.970037525673612,0.963268212948936,0.956524907408169,0.949807609051312,0.943116317878365,0.936451033889327,0.929811757084199,0.923198487462982,0.916611225025673,0.910049969772275,0.903514721702786,0.897005480817208,0.890522247115538,0.884065020597779,0.877633801263929,0.871228589113989,0.864849384147959,0.858496186365838,0.852168995767628,0.845867812353327,0.839592636122936,0.833343467076454,0.827120305213882,0.82092315053522,0.814752003040468,0.808606862729625,0.802487729602693,0.796394603659669,0.790327484900556,0.784286373325353,0.778271268934058,0.772282171726674,0.7663190817032,0.760381998863635,0.754470923207981,0.748585854736236,0.7427267934484,0.736893739344475,0.731086692424459,0.725305652688352,0.719550620136156,0.71382159476787,0.708118576583493,0.702441565583025,0.696790561766468,0.691165565133821,0.685566575685083,0.679993593420254,0.674446618339336,0.668925650442327,0.663430689729228,0.657961736200039,0.652518789854759,0.64710185069339,0.64171091871593,0.63634599392238,0.631007076312739,0.625694165887008,0.620407262645187,0.615146366587276,0.609911477713275,0.604702596023182,0.599519721517001,0.594362854194728,0.589231994056366,0.584127141101913,0.57904829533137,0.573995456744737,0.568968625342013,0.563967801123199,0.558992984088295,0.554044174237301,0.549121371570216,0.544224576087041,0.539353787787776,0.534509006672421,0.529690232740975,0.524897465993439,0.520130706429813,0.515389954050097,0.51067520885429,0.505986470842393,0.501323740014406,0.462066403639163,0.457431588644623,0.452840573930945,0.448293040892233,0.443788673940116,0.439327160481853,0.434908190898636,0.430531458524106,0.426196659623067,0.421903493370412,0.417651661830244,0.413440869935199,0.409270825465973,0.405141239031036,0.401051824046557,0.397002296716508,0.392992376012976,0.389021783656655,0.385090244097536,0.381197484495786,0.377343234702811,0.373527227242511,0.369749197292714,0.366008882666802,0.362306023795513,0.358640363708929,0.355011648018642,0.351419624900102,0.347864045075136,0.344344661794655,0.340861230821526,0.337413510413625,0.334001261307058,0.330624246699558,0.327282232234052,0.323974985982397,0.320702278429284,0.317463882456309,0.314259573326216,0.311089128667294,0.307952328457954,0.304848955011449,0.301778792960776,0.298741629243727,0.2957372530881,0.292765455997077,0.289826031734751,0.286918776311818,0.284043487971413,0.281199967175117,0.278388016589105,0.275607441070451,0.272858047653587,0.270139645536914,0.267452046069554,0.264795062738265,0.262168511154494,0.259572209041582,0.257005976222113,0.254469634605412,0.251963008175184,0.249485922977301,0.247038207107727,0.244619690700592,0.242230205916401,0.239869586930388,0.237537669921004,0.235234293058555,0.232959296493967,0.230712522347692,0.228493814698754,0.226303019573929,0.224139984937056,0.22200456067849,0.219896598604682,0.217815952427895,0.215762477756055,0.213736032082726,0.211736474777222,0.209763667074851,0.207817472067279,0.205897754693035,0.204004381728133,0.202137221776828,0.200296145262501,0.19848102441866,0.196691733280081,0.194928147674059,0.193190145211796,0.191477605279904,0.189790409032038,0.188128439380646,0.186491580988843,0.184879720262408,0.183292745341902,0.181730546094904,0.180193014108365,0.178680042681091,0.177191526816333,0.175727363214501,0.174287450265997,0.172871688044163,0.171479978298347,0.170112224447082,0.168768331571386,0.167448206408173,0.166151757343783,0.164878894407624,0.163629529265924,0.162403575215606,0.161200947178271,0.160021561694287,0.158865336917007,0.157732192607081,0.15662205012689,0.155534832435093,0.154470464081271,0.153428871200703,0.15240998150923,0.151413724298241,0.150440030429771,0.149488832331696,0.14856006399305,0.147653660959438,0.146769560328567,0.145907700745881,0.145068022400298,0.144250467020068,0.143454977868721,0.142681499741132,0.141929978959693,0.141200363370584,0.140492602340156,0.139806646751415,0.139142449000616,0.138499962993958,0.137879144144384,0.137279949368488,0.136702337083528,0.136146267204535,0.135611701141533,0.135098601796863,0.134606933562607,0.134136662318115,0.133687755427643,0.13326018173808,0.132853911576793,0.132468916749563,0.132105170538632,0.131762647700847,0.131441324465908,0.131141178534718,0.130862189077839,0.130604336734041,0.130367603608964,0.130151973273869,0.129957430764508,0.129783962580075,0.129631556682275,0.12950020249449,0.129389890901039,0.129300614246551,0.129232366335431,0.129185142431429,0.129158939257316,0.12915375499465,0.129169589283657,0.129206443223199,0.129264319370856,0.129343221743099,0.129443155815572,0.129564128523471,0.129706148262024,0.129869224887075,0.13005336971577,0.130258595527336,0.130484916563975,0.130732348531847,0.131000908602165,0.131290615412381,0.131601489067484,0.131933551141393,0.132286824678456,0.132661334195045,0.133057105681262,0.133474166602742,0.133912545902557,0.134372274003225,0.134853382808823,0.135355905707198,0.135879877572289,0.136425334766542,0.136992315143435,0.137580858050107,0.138191004330087,0.138822796326128,0.139476277883147,0.140151494351266,0.140848492588959,0.141567320966307,0.142308029368352,0.143070669198559,0.143855293382384,0.144661956370947,0.14549071414481,0.146341624217864,0.147214745641316,0.148110139007792,0.149027866455541,0.149967991672742,0.150930579901931,0.151915697944525,0.152923414165457,0.153953798497924,0.155006922448237,0.156082859100784,0.157181683123102,0.158303470771059,0.159448299894149,0.160616249940886,0.161807401964328,0.163021838627693,0.164259644210105,0.165520904612431,0.166805707363254,0.168114141624939,0.169446298199825,0.170802269536524,0.17218214973634,0.173586034559795,0.175014021433278,0.176466209455806,0.177942699405897,0.17944359374857,0.180968996642453,0.182519013947009,0.184093753229888,0.185693323774384,0.187317836587029,0.188967404405287,0.190642141705383,0.192342164710249,0.194067591397583,0.195818541508042,0.197595136553551,0.199397499825734,0.215627867223699,0.217451104860376,0.219292089464371,0.221150821035681,0.223027299574309,0.224921525080252,0.226833497553512,0.228763216994088,0.230710683401982,0.232675896777191,0.234658857119718,0.23665956442956,0.23867801870672,0.240714219951196,0.242768168162988,0.244839863342096,0.246929305488522,0.249036494602265,0.251161430683323,0.253304113731698,0.25546454374739,0.257642720730398,0.259838644680722,0.262052315598363,0.264283733483321,0.266532898335596,0.268799810155186,0.271084468942094,0.273386874696318,0.275707027417858,0.278044927106715,0.280400573762888,0.282773967386378,0.285165107977185,0.287573995535307,0.290000630060748,0.292445011553504,0.294907140013576,0.297387015440965,0.299884637835672,0.302400007197694,0.304933123527032,0.307483986823688,0.31005259708766,0.312638954318948,0.315243058517553,0.317864909683474,0.320504507816712,0.323161852917267,0.325836944985138,0.328529784020325,0.331240370022829,0.33396870299265,0.336714782929788,0.339478609834241,0.342260183706011,0.345059504545098,0.347876572351501,0.350711387125222,0.353563948866258,0.356434257574611,0.359322313250281,0.362228115893267,0.365151665503569,0.368092962081188,0.371052005626124,0.374028796138375,0.377023333617945,0.38003561806483,0.383065649479031,0.38611342786055,0.389178953209384,0.392262225525535,0.395363244809004,0.398482011059788,0.401618524277889,0.404772784463306,0.40794479161604,0.41113454573609,0.414342046823458,0.417567294878141,0.420810289900141,0.424071031889458,0.427349520846092,0.430645756770042,0.433959739661308,0.43729146951989,0.44064094634579,0.444008170139006,0.447393140899538,0.450795858627388,0.454216323322553,0.457654534985034,0.461110493614833,0.464584199211948,0.468075651776379,0.471584851308128,0.475111797807194,0.478656491273574,0.482218931707272,0.485799119108286,0.489397053476618,0.493012734812265,0.496646163115229,0.500297338385509,0.503966260623106,0.50765292982802,0.511357346000249,0.515079509139796,0.518819419246659,0.522577076320838,0.526352480362334,0.530145631371147,0.533956529347275,0.53778517429072,0.541631566201483,0.545495705079562,0.549377590924958,0.553277223737668,0.557194603517697,0.561129730265042,0.565082603979703,0.56905322466168,0.573041592310975,0.577047706927585,0.581071568511512,0.585113177062758,0.589172532581317,0.593249635067194,0.597344484520387,0.601457080940897,0.605587424328723,0.609735514683867,0.613901352006325,0.618084936296102,0.622286267553194,0.626505345777604,0.630742170969331,0.634996743128372,0.63926906225473,0.643559128348406,0.647866941409398,0.652192501437706,0.656535808433331,0.660896862396272,0.66527566332653,0.669672211224104,0.674086506088995,0.678518547921202,0.682968336720727,0.687435872487566,0.691921155221724,0.696424184923198,0.700944961591988,0.705483485228094,0.710039755831517,0.714613773402258,0.719205537940314,0.723815049445687,0.728442307918376,0.733087313358382]]]}}},\"view\":{\"type\":\"object\",\"name\":\"CDSView\",\"id\":\"p1051\",\"attributes\":{\"filter\":{\"type\":\"object\",\"name\":\"AllIndices\",\"id\":\"p1052\"}}},\"glyph\":{\"type\":\"object\",\"name\":\"Line\",\"id\":\"p1047\",\"attributes\":{\"x\":{\"type\":\"field\",\"field\":\"x\"},\"y\":{\"type\":\"field\",\"field\":\"y\"},\"line_color\":\"red\"}},\"nonselection_glyph\":{\"type\":\"object\",\"name\":\"Line\",\"id\":\"p1048\",\"attributes\":{\"x\":{\"type\":\"field\",\"field\":\"x\"},\"y\":{\"type\":\"field\",\"field\":\"y\"},\"line_color\":\"red\",\"line_alpha\":0.1}},\"muted_glyph\":{\"type\":\"object\",\"name\":\"Line\",\"id\":\"p1049\",\"attributes\":{\"x\":{\"type\":\"field\",\"field\":\"x\"},\"y\":{\"type\":\"field\",\"field\":\"y\"},\"line_color\":\"red\",\"line_alpha\":0.2}}}},{\"type\":\"object\",\"name\":\"GlyphRenderer\",\"id\":\"p1061\",\"attributes\":{\"name\":\"c2\",\"data_source\":{\"type\":\"object\",\"name\":\"ColumnDataSource\",\"id\":\"p1006\",\"attributes\":{\"selected\":{\"type\":\"object\",\"name\":\"Selection\",\"id\":\"p1007\",\"attributes\":{\"indices\":[],\"line_indices\":[]}},\"selection_policy\":{\"type\":\"object\",\"name\":\"UnionRenderers\",\"id\":\"p1008\"},\"data\":{\"type\":\"map\",\"entries\":[[\"x\",[0.0,0.000436817665960761,0.000873635331921522,0.00131045299788228,0.00174727066384304,0.00218408832980381,0.00262090599576457,0.00305772366172533,0.00349454132768609,0.00393135899364685,0.00436817665960761,0.00480499432556837,0.00524181199152913,0.00567862965748989,0.00611544732345065,0.00655226498941141,0.00698908265537218,0.00742590032133294,0.0078627179872937,0.00829953565325446,0.00873635331921522,0.00917317098517598,0.00960998865113674,0.0100468063170975,0.0104836239830583,0.010920441649019,0.0113572593149798,0.0117940769809405,0.0122308946469013,0.0126677123128621,0.0131045299788228,0.0135413476447836,0.0139781653107444,0.0144149829767051,0.0148518006426659,0.0152886183086266,0.0157254359745874,0.0161622536405482,0.0165990713065089,0.0170358889724697,0.0174727066384304,0.0179095243043912,0.018346341970352,0.0187831596363127,0.0192199773022735,0.0196567949682342,0.020093612634195,0.0205304303001558,0.0209672479661165,0.0214040656320773,0.0218408832980381,0.0222777009639988,0.0227145186299596,0.0231513362959203,0.0235881539618811,0.0240249716278419,0.0244617892938026,0.0248986069597634,0.0253354246257241,0.0257722422916849,0.0262090599576457,0.0266458776236064,0.0270826952895672,0.0275195129555279,0.0279563306214887,0.0283931482874495,0.0288299659534102,0.029266783619371,0.0297036012853318,0.0301404189512925,0.0305772366172533,0.031014054283214,0.0314508719491748,0.0318876896151356,0.0323245072810963,0.0327613249470571,0.0331981426130178,0.0336349602789786,0.0340717779449394,0.0345085956109001,0.0349454132768609,0.0353822309428216,0.0358190486087824,0.0362558662747432,0.0366926839407039,0.0371295016066647,0.0375663192726254,0.0380031369385862,0.038439954604547,0.0388767722705077,0.0393135899364685,0.0397504076024293,0.04018722526839,0.0406240429343508,0.0410608606003115,0.0414976782662723,0.0419344959322331,0.0423713135981938,0.0428081312641546,0.0432449489301153,0.0436817665960761,0.0441185842620369,0.0445554019279976,0.0449922195939584,0.0454290372599191,0.0458658549258799,0.0463026725918407,0.0467394902578014,0.0471763079237622,0.0476131255897229,0.0480499432556837,0.0484867609216445,0.0489235785876052,0.049360396253566,0.0497972139195268,0.0502340315854875,0.0506708492514483,0.051107666917409,0.0515444845833698,0.0519813022493306,0.0524181199152913,0.0528549375812521,0.0532917552472128,0.0537285729131736,0.0541653905791344,0.0546022082450951,0.0550390259110559,0.0554758435770166,0.0559126612429774,0.0563494789089382,0.0567862965748989,0.0572231142408597,0.0576599319068205,0.0580967495727812,0.058533567238742,0.0589703849047027,0.0594072025706635,0.0598440202366243,0.060280837902585,0.0607176555685458,0.0611544732345065,0.0615912909004673,0.0620281085664281,0.0624649262323888,0.0629017438983496,0.0633385615643104,0.0637753792302711,0.0642121968962319,0.0646490145621926,0.0650858322281534,0.0655226498941141,0.0659594675600749,0.0663962852260357,0.0668331028919964,0.0672699205579572,0.067706738223918,0.0681435558898787,0.0685803735558395,0.0690171912218002,0.069454008887761,0.0698908265537218,0.0703276442196825,0.0707644618856433,0.071201279551604,0.0716380972175648,0.0720749148835256,0.0725117325494863,0.0729485502154471,0.0733853678814079,0.0738221855473686,0.0742590032133294,0.0746958208792901,0.0751326385452509,0.0755694562112117,0.0760062738771724,0.0764430915431332,0.0768799092090939,0.0773167268750547,0.0777535445410155,0.0781903622069762,0.078627179872937,0.0790639975388977,0.0795008152048585,0.0799376328708193,0.08037445053678,0.0808112682027408,0.0812480858687015,0.0816849035346623,0.0821217212006231,0.0825585388665838,0.0829953565325446,0.0834321741985053,0.0838689918644661,0.0843058095304269,0.0847426271963876,0.0851794448623484,0.0856162625283091,0.0860530801942699,0.0864898978602307,0.0869267155261914,0.0873635331921522,0.087800350858113,0.0882371685240737,0.0886739861900345,0.0891108038559952,0.089547621521956,0.0899844391879168,0.0904212568538775,0.0908580745198383,0.0912948921857991,0.0917317098517598,0.0921685275177206,0.0926053451836813,0.0930421628496421,0.0934789805156029,0.0939157981815636,0.0943526158475244,0.0947894335134851,0.0952262511794459,0.0956630688454067,0.0960998865113674,0.0965367041773282,0.0969735218432889,0.0974103395092497,0.0978471571752105,0.0982839748411712,0.098720792507132,0.0991576101730927,0.0995944278390535,0.100031245505014,0.100468063170975,0.100904880836936,0.101341698502897,0.101778516168857,0.102215333834818,0.102652151500779,0.10308896916674,0.1035257868327,0.103962604498661,0.104399422164622,0.104836239830583,0.105273057496543,0.105709875162504,0.106146692828465,0.106583510494426,0.107020328160386,0.107457145826347,0.107893963492308,0.108330781158269,0.108767598824229,0.10920441649019,0.109641234156151,0.110078051822112,0.110514869488073,0.110951687154033,0.111388504819994,0.111825322485955,0.112262140151916,0.112698957817876,0.113135775483837,0.113572593149798,0.114009410815759,0.114446228481719,0.11488304614768,0.115319863813641,0.115756681479602,0.116193499145562,0.116630316811523,0.117067134477484,0.117503952143445,0.117940769809405,0.118377587475366,0.118814405141327,0.119251222807288,0.119688040473249,0.120124858139209,0.12056167580517,0.120998493471131,0.121435311137092,0.121872128803052,0.122308946469013,0.122745764134974,0.123182581800935,0.123619399466895,0.124056217132856,0.124493034798817,0.124929852464778,0.125366670130738,0.125803487796699,0.12624030546266,0.126677123128621,0.127113940794581,0.127550758460542,0.127987576126503,0.128424393792464,0.128861211458424,0.129298029124385,0.129734846790346,0.130171664456307,0.130608482122268,0.131045299788228,0.131482117454189,0.13191893512015,0.132355752786111,0.132792570452071,0.133229388118032,0.133666205783993,0.134103023449954,0.134539841115914,0.134976658781875,0.135413476447836,0.135850294113797,0.136287111779757,0.136723929445718,0.137160747111679,0.13759756477764,0.1380343824436,0.138471200109561,0.138908017775522,0.139344835441483,0.139781653107444,0.140218470773404,0.140655288439365,0.141092106105326,0.141528923771287,0.141965741437247,0.142402559103208,0.142839376769169,0.14327619443513,0.14371301210109,0.144149829767051,0.144586647433012,0.145023465098973,0.145460282764933,0.145897100430894,0.146333918096855,0.146770735762816,0.147207553428776,0.147644371094737,0.148081188760698,0.148518006426659,0.148954824092619,0.14939164175858,0.149828459424541,0.150265277090502,0.150702094756463,0.151138912422423,0.151575730088384,0.152012547754345,0.152449365420306,0.152886183086266,0.153323000752227,0.153759818418188,0.154196636084149,0.154633453750109,0.15507027141607,0.155507089082031,0.155943906747992,0.156380724413952,0.156817542079913,0.157254359745874,0.157691177411835,0.158127995077795,0.158564812743756,0.159001630409717,0.159438448075678,0.159875265741639,0.160312083407599,0.16074890107356,0.161185718739521,0.161622536405482,0.162059354071442,0.162496171737403,0.162932989403364,0.163369807069325,0.163806624735285,0.164243442401246,0.164680260067207,0.165117077733168,0.165553895399128,0.165990713065089,0.16642753073105,0.166864348397011,0.167301166062971,0.167737983728932,0.168174801394893,0.168611619060854,0.169048436726815,0.169485254392775,0.169922072058736,0.170358889724697,0.170795707390658,0.171232525056618,0.171669342722579,0.17210616038854,0.172542978054501,0.172979795720461,0.173416613386422,0.173853431052383,0.174290248718344,0.174727066384304,0.175163884050265,0.175600701716226,0.176037519382187,0.176474337048147,0.176911154714108,0.177347972380069,0.17778479004603,0.17822160771199,0.178658425377951,0.179095243043912,0.179532060709873,0.179968878375834,0.180405696041794,0.180842513707755,0.181279331373716,0.181716149039677,0.182152966705637,0.182589784371598,0.183026602037559,0.18346341970352,0.18390023736948,0.184337055035441,0.184773872701402,0.185210690367363,0.185647508033323,0.186084325699284,0.186521143365245,0.186957961031206,0.187394778697166,0.187831596363127,0.188268414029088,0.188705231695049,0.18914204936101,0.18957886702697,0.190015684692931,0.190452502358892,0.190889320024853,0.191326137690813,0.191762955356774,0.192199773022735,0.192636590688696,0.193073408354656,0.193510226020617,0.193947043686578,0.194383861352539,0.194820679018499,0.19525749668446,0.195694314350421,0.196131132016382,0.196567949682342,0.197004767348303,0.197441585014264,0.197878402680225,0.198315220346185,0.198752038012146,0.199188855678107,0.199625673344068,0.200062491010029,0.200499308675989,0.20093612634195,0.201372944007911,0.201809761673872,0.202246579339832,0.202683397005793,0.203120214671754,0.203557032337715,0.203993850003675,0.204430667669636,0.204867485335597,0.205304303001558,0.205741120667518,0.206177938333479,0.20661475599944,0.207051573665401,0.207488391331361,0.207925208997322,0.208362026663283,0.208798844329244,0.209235661995205,0.209672479661165,0.210109297327126,0.210546114993087,0.210982932659048,0.211419750325008,0.211856567990969,0.21229338565693,0.212730203322891,0.213167020988851,0.213603838654812,0.214040656320773,0.214477473986734,0.214914291652694,0.215351109318655,0.215787926984616,0.216224744650577,0.216661562316537,0.217098379982498,0.217535197648459,0.21797201531442,0.21840883298038,0.218845650646341,0.219282468312302,0.219719285978263,0.220156103644224,0.220592921310184,0.221029738976145,0.221466556642106,0.221903374308067,0.222340191974027,0.222777009639988,0.223213827305949,0.22365064497191,0.22408746263787,0.224524280303831,0.224961097969792,0.225397915635753,0.225834733301713,0.226271550967674,0.226708368633635,0.227145186299596,0.227582003965556,0.228018821631517,0.228455639297478,0.228892456963439,0.2293292746294,0.22976609229536,0.230202909961321,0.230639727627282,0.231076545293243,0.231513362959203,0.231950180625164,0.232386998291125,0.232823815957086,0.233260633623046,0.233697451289007,0.234134268954968,0.234571086620929,0.235007904286889,0.23544472195285,0.235881539618811,0.236318357284772,0.236755174950732,0.237191992616693,0.237628810282654,0.238065627948615,0.238502445614576,0.238939263280536,0.239376080946497,0.239812898612458,0.240249716278419,0.240686533944379,0.24112335161034,0.241560169276301,0.241996986942262,0.242433804608222,0.242870622274183,0.243307439940144,0.243744257606105,0.244181075272065,0.244617892938026,0.245054710603987,0.245491528269948,0.245928345935908,0.246365163601869,0.24680198126783,0.247238798933791,0.247675616599751,0.248112434265712,0.248549251931673,0.248986069597634,0.249422887263595,0.249859704929555,0.250296522595516,0.250733340261477,0.251170157927438,0.251606975593398,0.252043793259359,0.25248061092532,0.252917428591281,0.253354246257241,0.253791063923202,0.254227881589163,0.254664699255124,0.255101516921084,0.255538334587045,0.255975152253006,0.256411969918967,0.256848787584927,0.257285605250888,0.257722422916849,0.25815924058281,0.258596058248771,0.259032875914731,0.259469693580692,0.259906511246653,0.260343328912614,0.260780146578574,0.261216964244535,0.261653781910496,0.262090599576457,0.262527417242417,0.262964234908378,0.263401052574339,0.2638378702403,0.26427468790626,0.264711505572221,0.265148323238182,0.265585140904143,0.266021958570103,0.266458776236064,0.266895593902025,0.267332411567986,0.267769229233946,0.268206046899907,0.268642864565868,0.269079682231829,0.26951649989779,0.26995331756375,0.270390135229711,0.270826952895672,0.271263770561633,0.271700588227593,0.272137405893554,0.272574223559515,0.273011041225476,0.273447858891436,0.273884676557397,0.274321494223358,0.274758311889319,0.275195129555279,0.27563194722124,0.276068764887201,0.276505582553162,0.276942400219122,0.277379217885083,0.277816035551044,0.278252853217005,0.278689670882966,0.279126488548926,0.279563306214887,0.280000123880848,0.280436941546809,0.280873759212769,0.28131057687873,0.281747394544691,0.282184212210652,0.282621029876612,0.283057847542573,0.283494665208534,0.283931482874495,0.284368300540455,0.284805118206416,0.285241935872377,0.285678753538338,0.286115571204298,0.286552388870259,0.28698920653622,0.287426024202181,0.287862841868141,0.288299659534102,0.288736477200063,0.289173294866024,0.289610112531985,0.290046930197945,0.290483747863906,0.290920565529867,0.291357383195828,0.291794200861788,0.292231018527749,0.29266783619371,0.293104653859671,0.293541471525631,0.293978289191592,0.294415106857553,0.294851924523514,0.295288742189474,0.295725559855435,0.296162377521396,0.296599195187357,0.297036012853317,0.297472830519278,0.297909648185239,0.2983464658512,0.298783283517161,0.299220101183121,0.299656918849082,0.300093736515043,0.300530554181004,0.300967371846964,0.301404189512925,0.301841007178886,0.302277824844847,0.302714642510807,0.303151460176768,0.303588277842729,0.30402509550869,0.30446191317465,0.304898730840611,0.305335548506572,0.305772366172533,0.306209183838493,0.306646001504454,0.307082819170415,0.307519636836376,0.307956454502336,0.308393272168297,0.308830089834258,0.309266907500219,0.30970372516618,0.31014054283214,0.310577360498101,0.311014178164062,0.311450995830023,0.311887813495983,0.312324631161944,0.312761448827905,0.313198266493866,0.313635084159826,0.314071901825787,0.314508719491748,0.314945537157709,0.315382354823669,0.31581917248963,0.316255990155591,0.316692807821552,0.317129625487513,0.317566443153473,0.318003260819434,0.318440078485395,0.318876896151356,0.319313713817316,0.319750531483277,0.320187349149238,0.320624166815199,0.321060984481159,0.32149780214712,0.321934619813081,0.322371437479042,0.322808255145002,0.323245072810963,0.323681890476924,0.324118708142885,0.324555525808845,0.324992343474806,0.325429161140767,0.325865978806728,0.326302796472688,0.326739614138649,0.32717643180461,0.327613249470571,0.328050067136532,0.328486884802492,0.328923702468453,0.329360520134414,0.329797337800375,0.330234155466335,0.330670973132296,0.331107790798257,0.331544608464218,0.331981426130178,0.332418243796139,0.3328550614621,0.333291879128061,0.333728696794021,0.334165514459982,0.334602332125943,0.335039149791904,0.335475967457864,0.335912785123825,0.336349602789786,0.336786420455747,0.337223238121708,0.337660055787668,0.338096873453629,0.33853369111959,0.338970508785551,0.339407326451511,0.339844144117472,0.340280961783433,0.340717779449394,0.341154597115354,0.341591414781315,0.342028232447276,0.342465050113237,0.342901867779197,0.343338685445158,0.343775503111119,0.34421232077708,0.34464913844304,0.345085956109001,0.345522773774962,0.345959591440923,0.346396409106883,0.346833226772844,0.347270044438805,0.347706862104766,0.348143679770727,0.348580497436687,0.349017315102648,0.349454132768609,0.34989095043457,0.35032776810053,0.350764585766491,0.351201403432452,0.351638221098413,0.352075038764373,0.352511856430334,0.352948674096295,0.353385491762256,0.353822309428216,0.354259127094177,0.354695944760138,0.355132762426099,0.355569580092059,0.35600639775802,0.356443215423981,0.356880033089942,0.357316850755903,0.357753668421863,0.358190486087824,0.358627303753785,0.359064121419746,0.359500939085706,0.359937756751667,0.360374574417628,0.360811392083589,0.361248209749549,0.36168502741551,0.362121845081471,0.362558662747432,0.362995480413392,0.363432298079353,0.363869115745314,0.364305933411275,0.364742751077235,0.365179568743196,0.365616386409157,0.366053204075118,0.366490021741078,0.366926839407039,0.367363657073,0.367800474738961,0.368237292404922,0.368674110070882,0.369110927736843,0.369547745402804,0.369984563068765,0.370421380734725,0.370858198400686,0.371295016066647,0.371731833732608,0.372168651398568,0.372605469064529,0.37304228673049,0.373479104396451,0.373915922062411,0.374352739728372,0.374789557394333,0.375226375060294,0.375663192726254,0.376100010392215,0.376536828058176,0.376973645724137,0.377410463390097,0.377847281056058,0.378284098722019,0.37872091638798,0.379157734053941,0.379594551719901,0.380031369385862,0.380468187051823,0.380905004717784,0.381341822383744,0.381778640049705,0.382215457715666,0.382652275381627,0.383089093047587,0.383525910713548,0.383962728379509,0.38439954604547,0.38483636371143,0.385273181377391,0.385709999043352,0.386146816709313,0.386583634375273,0.387020452041234,0.387457269707195,0.387894087373156,0.388330905039117,0.388767722705077,0.389204540371038,0.389641358036999,0.39007817570296,0.39051499336892,0.390951811034881,0.391388628700842,0.391825446366803,0.392262264032763,0.392699081698724]],[\"y\",[0.584481983183544,0.580877910441824,0.577288674980815,0.573714276800515,0.570154715900925,0.566609992282045,0.563080105943875,0.559565056886415,0.556064845109665,0.552579470613625,0.549108933398295,0.545653233463675,0.542212370809765,0.538786345436564,0.535375157344074,0.531978806532294,0.528597293001223,0.525230616750863,0.521878777781212,0.518541776092272,0.515219611684041,0.511912284556521,0.50861979470971,0.50534214214361,0.502079326858219,0.498831348853538,0.495598208129567,0.492379904686306,0.489176438523755,0.485987809641914,0.482814018040783,0.479655063720362,0.476510946680651,0.47338166692165,0.470267224443359,0.467167619245778,0.464082851328906,0.461012920692745,0.457957827337294,0.454917571262552,0.451892152468521,0.448881570955199,0.445885826722588,0.442904919770686,0.439938850099495,0.436987617709013,0.434051222599241,0.431129664770179,0.428222944221827,0.425331060954186,0.422454014967254,0.419591806261032,0.41674443483552,0.413911900690718,0.411094203826626,0.408291344243244,0.405503321940571,0.402730136918609,0.399971789177357,0.397228278716815,0.394499605536982,0.39178576963786,0.389086771019447,0.386402609681745,0.383733285624752,0.38107879884847,0.378439149352897,0.375814337138035,0.373204362203882,0.370609224550439,0.368028924177706,0.365463461085683,0.362912835274371,0.360377046743768,0.357856095493875,0.355349981524692,0.352858704836219,0.350382265428455,0.347920663301402,0.345473898455059,0.343041970889426,0.340624880604503,0.338222627600289,0.335835211876786,0.333462633433992,0.331104892271909,0.328761988390535,0.326433921789872,0.324120692469918,0.321822300430675,0.319538745672141,0.317270028194317,0.315016147997203,0.3127771050808,0.310552899445106,0.308343531090122,0.306149000015848,0.303969306222284,0.30180444970943,0.299654430477286,0.297519248525852,0.295398903855127,0.293293396465113,0.291202726355809,0.289126893527215,0.28706589797933,0.285019739712156,0.282988418725691,0.280971935019937,0.278970288594892,0.276983479450558,0.275011507586933,0.273054373004018,0.271112075701814,0.269184615680319,0.253907585364935,0.252011162267651,0.250139265000771,0.24829175975278,0.246468514455814,0.244669398776217,0.242894284105224,0.241143043549771,0.239415551923418,0.237711685737408,0.236031323191832,0.234374344166926,0.232740630214485,0.231130064549394,0.229542532041279,0.227977919206279,0.226436114198934,0.224917006804186,0.223420488429506,0.221946452097125,0.220494792436393,0.219065405676242,0.217658189637771,0.216273043726938,0.214909868927375,0.213568567793303,0.212249044442572,0.210951204549803,0.209674955339649,0.208420205580156,0.207186865576252,0.205974847163326,0.204784063700927,0.203614430066576,0.202465862649677,0.201338279345538,0.200231599549506,0.199145744151205,0.198080635528876,0.197036197543834,0.196012355535022,0.195009036313674,0.194026168158086,0.193063680808484,0.192121505462007,0.191199574767783,0.19029782282212,0.189416185163791,0.18855459876943,0.18771300204902,0.186891334841498,0.18608953841045,0.185307555439911,0.184545330030274,0.183802807694286,0.183079935353161,0.182376661332778,0.181692935359993,0.181028708559043,0.180383933448051,0.179758563935635,0.179152555317609,0.178565864273792,0.177998448864906,0.177450268529583,0.176921284081463,0.176411457706391,0.175920752959721,0.175449134763699,0.174996569404968,0.174563024532149,0.174148469153533,0.173752873634864,0.17337620969722,0.173018450414994,0.172679570213966,0.172359544869478,0.172058351504698,0.17177596858899,0.171512375936372,0.171267554704073,0.171041487391184,0.170834157837413,0.170645551221924,0.170475654062281,0.17032445421348,0.170191940867088,0.170078104550461,0.169982937126076,0.169906431790943,0.169848583076122,0.169809386846331,0.169788840299648,0.169786941967317,0.169803691713634,0.169839090735948,0.169893141564736,0.169965848063792,0.170057215430498,0.170167250196199,0.170295960226668,0.170443354722668,0.17060944422061,0.17079424059331,0.17099775705083,0.171220008141429,0.1714610097526,0.171720779112207,0.171999334789715,0.172296696697519,0.172612886092366,0.172947925576876,0.173301839101155,0.173674651964513,0.174066390817264,0.174477083662638,0.174906759858782,0.175355450120853,0.17582318652322,0.176310002501756,0.176815932856224,0.177341013752769,0.177885282726501,0.178448778684178,0.179031541906991,0.179633614053436,0.1802550381623,0.180895858655734,0.181556121342425,0.182235873420879,0.182935163482788,0.183654041516504,0.184392558910615,0.185150768457621,0.185928724357698,0.186726482222584,0.187544099079548,0.188381633375466,0.189239144981004,0.190116695194891,0.191014346748306,0.191932163809363,0.192870211987693,0.193828558339138,0.194807271370544,0.195806421044657,0.196826078785123,0.197866317481599,0.198927211494959,0.200008836662608,0.201111270303908,0.202234591225704,0.203378879727953,0.20454421760947,0.205730688173774,0.20693837623504,0.208167368124163,0.209417751694931,0.210689616330306,0.21198305294881,0.213298154011024,0.214635013526203,0.215993727058992,0.217374391736256,0.218777106254027,0.220201970884557,0.221649087483485,0.223118559497122,0.224610491969839,0.226124991551585,0.227662166505502,0.229222126715671,0.230804983694962,0.232410850593009,0.234039842204297,0.235692074976366,0.237367667018139,0.239066738108364,0.240789409704173,0.242535804949768,0.244306048685223,0.246100267455408,0.247918589519033,0.249761144857821,0.251628065185793,0.253519483958693,0.255435536383516,0.257376359428186,0.259342091831335,0.26133287411223,0.263348848580813,0.265390159347877,0.267456952335362,0.269549375286794,0.271667577777841,0.273811711227007,0.275981928906454,0.278178385952964,0.280401239379021,0.282650648084043,0.284926772865736,0.287229776431587,0.289559823410502,0.291917080364566,0.294301715800957,0.296713900183986,0.299153805947285,0.301621607506135,0.304117481269929,0.306641605654789,0.309194161096315,0.311775330062483,0.314385297066696,0.317024248680963,0.319692373549243,0.32238986240093,0.325116908064484,0.327873705481218,0.330660451719232,0.3334773459875,0.336324589650111,0.339202386240665,0.342110941476815,0.345050463274987,0.348021161765228,0.351023249306234,0.354056940500531,0.357122452209814,0.360220003570446,0.363349816009132,0.366512113258739,0.369707121374292,0.372935068749133,0.376196186131251,0.379490706639771,0.382818865781624,0.386180901468379,0.389577054033249,0.393007566248276,0.396472683341679,0.399972653015386,0.403507725462746,0.407078153386409,0.410684192016389,0.414326099128312,0.418004135061843,0.421718562739294,0.425469647684422,0.429257658041407,0.433082864594019,0.43694554078498,0.440845962735507,0.444784409265052,0.448761161911229,0.452776504949946,0.456830725415725,0.460924113122215,0.465056960682915,0.469229563532088,0.473442219945883,0.477695231063655,0.481988900909492,0.486323536413946,0.490699447435978,0.51923479284166,0.523667972510595,0.52812415090802,0.532603328033937,0.537105503888342,0.54163067847124,0.546178851782627,0.550750023822505,0.555344194590874,0.559961364087732,0.564601532313082,0.569264699266922,0.573950864949253,0.578660029360073,0.583392192499386,0.588147354367187,0.59292551496348,0.597726674288262,0.602550832341537,0.6073979891233,0.612268144633554,0.6171612988723,0.622077451839535,0.627016603535261,0.631978753959477,0.636963903112184,0.641972050993381,0.64700319760307,0.652057342941248,0.657134487007917,0.662234629803078,0.667357771326727,0.672503911578867,0.677673050559498,0.682865188268619,0.688080324706231,0.693318459872334,0.698579593766926,0.703863726390009,0.709170857741583,0.714500987821649,0.719854116630203,0.725230244167248,0.730629370432784,0.73605149542681,0.741496619149328,0.746964741600336,0.752455862779832,0.757969982687822,0.763507101324301,0.76906721868927,0.77465033478273,0.780256449604681,0.785885563155121,0.791537675434051,0.797212786441474,0.802910896177385,0.808632004641789,0.814376111834683,0.820143217756066,0.82593332240594,0.831746425784305,0.837582527891161,0.843441628726506,0.849323728290343,0.855228826582669,0.861156923603486,0.867108019352795,0.873082113830592,0.879079207036881,0.885099298971661,0.891142389634931,0.897208479026692,0.903297567146941,0.909409653995683,0.915544739572915,0.921702823878637,0.927883906912849,0.934087988675553,0.940315069166746,0.946565148386431,0.952838226334606,0.95913430301127,0.965453378416427,0.971795452550073,0.97816052541221,0.984548597002837,0.990959667321953,0.997393736369562,1.00385080414566,1.01033087065025,1.01683393588333,1.0233599998449,1.02990906253496,1.03648112395351,1.04307618410055,1.04969424297609,1.05633530058011,1.06299935691262,1.06968641197363,1.07639646576312,1.0831295182811,1.08988556952758,1.09666461950254,1.103466668206,1.11029171563795,1.11713976179839,1.12401080668731,1.13090485030473,1.13782189265064,1.14476193372504,1.15172497352793,1.15871101205931,1.16572004931918,1.27579476274419,1.28249601758038,1.28917187873142,1.29582188291322,1.30244556863607,1.30904247623668,1.31561214791008,1.32215412774139,1.32866796173744,1.33515319785833,1.34160938604873,1.34803607826916,1.35443282852708,1.36079919290782,1.36713472960538,1.37343899895313,1.37971156345429,1.38595198781229,1.392159838961,1.39833468609475,1.40447610069827,1.41058365657639,1.41665692988364,1.42269549915363,1.42869894532836,1.43466685178724,1.44059880437603,1.44649439143557,1.45235320383038,1.458174834977,1.46395888087225,1.46970494012124,1.47541261396525,1.48108150630938,1.48671122375003,1.49230137560225,1.4978515739268,1.50336143355708,1.50883057212589,1.51425861009195,1.51964517076621,1.52498988033803,1.53029236790112,1.53555226547924,1.54076920805178,1.54594283357908,1.55107278302753,1.55615870039452,1.56120023273312,1.56619703017658,1.57114874596264,1.57605503645754,1.58091556117991,1.58572998282437,1.59049796728495,1.5952191836783,1.59989330436661,1.60452000498036,1.60909896444085,1.61362986498248,1.61811239217475,1.62254623494417,1.62693108559575,1.63126663983444,1.6355525967862,1.63978865901886,1.64397453256283,1.64810992693143,1.6521945551411,1.65622813373127,1.66021038278408,1.66414102594376,1.66801979043584,1.67184640708608,1.67562061033912,1.67934213827693,1.683010732637,1.68662613883023,1.69018810595861,1.69369638683266,1.69715073798854,1.70055091970496,1.70389669601984,1.70718783474666,1.71042410749058,1.71360528966428,1.71673116050357,1.71980150308268,1.72281610432934,1.72577475503955,1.72867724989212,1.73152338746287,1.73431297023868,1.73704580463113,1.73972170098997,1.74234047361627,1.74490194077533,1.74740592470924,1.74985225164927,1.7522407518279,1.75457125949062,1.7568436129074,1.75905765438394,1.76121323027263,1.76331019098316,1.76534839099295,1.76732768885723,1.76924794721885,1.77110903281784,1.77291081650059,1.77465317322891,1.77633598208863,1.77795912629802,1.77952249321589,1.78102597434943,1.78246946536169,1.78385286607886,1.78517608049723,1.78643901678979,1.78764158731268,1.78878370861123,1.78986530142576,1.79088629069707,1.79184660557166,1.79274617940665,1.79358494977441,1.79436285846687,1.79507985149957,1.79573587911541,1.79633089578811,1.79686486022536,1.79733773537166,1.79774948841095,1.79810009076885,1.79838951811464,1.79861775036294,1.79878477167516,1.79889057046053,1.79893513937694,1.79891847533145,1.79884057948048,1.79870145722978,1.79850111823399,1.79823957639602,1.79791684986607,1.79753296104035,1.79708793655957,1.79658180730704,1.79601460840656,1.79538637922,1.79469716334451,1.79394700860953,1.79313596707349,1.79226409502015,1.79133145295474,1.79033810559974,1.78928412189037,1.78816957496984,1.78699454218426,1.78575910507726,1.78446334938437,1.78310736502701,1.7816912461063,1.78021509089652,1.77867900183826,1.77708308553135,1.77542745272745,1.77371221832235,1.771937501348,1.77010342496428,1.7682101164504,1.76625770719612,1.7642463326926,1.76217613252301,1.76004725035283,1.75785983391989,1.75561403502412,1.75331000951702,1.75094791729083,1.74852792226743,1.746050192387,1.74351489959631,1.74092221983685,1.73827233303256,1.73556542307738,1.7328016778225,1.72998128906327,1.72710445252595,1.72417136785409,1.72118223859469,1.71813727218407,1.71503667993347,1.7118806770144,1.70866948244371,1.70540331906834,1.70208241354993,1.69870699634905,1.6952773017092,1.69179356764058,1.68825603590356,1.68466495199188,1.68102056511565,1.67732312818405,1.67357289778775,1.66977013418114,1.66591510126425,1.66200806656442,1.65804930121778,1.65403907995039,1.64997768105919,1.64586538639269,1.64170248133143,1.63748925476813,1.63322599908766,1.62891301014679,1.62455058725359,1.62013903314672,1.61567865397438,1.61116975927307,1.60661266194614,1.60200767824203,1.59735512773237,1.59265533328976,1.58790862106538,1.58311532046639,1.578275764133,1.57339028791544,1.56845923085065,1.56348293513873,1.5584617461192,1.55339601224703,1.54828608506848,1.54313231919668,1.53793507228703,1.53269470501239,1.52741158103803,1.52208606699639,1.51671853246166,1.51130934992415,1.50585889476437,1.50036754522705,1.49483568239484,1.4892636901619,1.48365195520727,1.47800086696796,1.47231081761202,1.35223779740273,1.34625975974742,1.34029655937282,1.33434819627893,1.32841467046575,1.32249598193327,1.31659213068151,1.31070311671046,1.30482894002012,1.29896960061049,1.29312509848157,1.28729543363336,1.28148060606586,1.27568061577906,1.26989546277298,1.26412514704761,1.25836966860295,1.252629027439,1.24690322355576,1.24119225695322,1.2354961276314,1.22981483559029,1.22414838082989,1.2184967633502,1.21285998315121,1.20723804023294,1.20163093459538,1.19603866623853,1.19046123516239,1.18489864136695,1.17935088485223,1.17381796561822,1.16829988366492,1.16279663899232,1.15730823160044,1.15183466148927,1.1463759286588,1.14093203310905,1.13550297484001,1.13008875385168,1.12468937014405,1.11930482371714,1.11393511457094,1.10858024270545,1.10324020812066,1.09791501081659,1.09260465079323,1.08730912805057,1.08202844258863,1.0767625944074,1.07151158350687,1.06627540988706,1.06105407354796,1.05584757448956,1.05065591271188,1.04547908821491,1.04031710099864,1.03516995106309,1.03003763840825,1.02492016303411,1.01981752494069,1.01472972412797,1.00965676059597,1.00459863434468,0.999555345374091,0.994526893684216,0.989513279275054,0.984514502146599,0.979530562298855,0.974561459731821,0.969607194445496,0.964667766439884,0.959743175714978,0.954833422270782,0.9499385061073,0.945058427224524,0.940193185622459,0.935342781301105,0.93050721426046,0.925686484500525,0.9208805920213,0.916089536822786,0.911313318904981,0.906551938267885,0.901805394911501,0.897073688835826,0.89235682004086,0.887654788526604,0.882967594293059,0.878295237340225,0.8736377176681,0.868995035276683,0.864367190165979,0.859754182335983,0.855156011786697,0.850572678518122,0.846004182530257,0.8414505238231,0.836911702396655,0.832387718250919,0.827878571385893,0.823384261801577,0.818904789497971,0.814440154475075,0.809990356732889,0.805555396271413,0.801135273090646,0.79672998719059,0.792339538571244,0.787963927232607,0.783603153174682,0.779257216397465,0.774926116900958,0.770609854685162,0.766308429750075,0.762021842095698,0.757750091722032,0.753493178629075,0.74925110281683,0.745023864285292,0.740811463034465,0.736613899064349,0.732431172374941,0.728263282966244,0.724110230838258,0.719972015990981,0.715848638424413,0.711740098138556,0.707646395133408,0.703567529408971,0.699503500965244,0.695454309802226,0.691419955919919,0.687400439318322,0.683395759997433,0.679405917957256,0.675430913197788,0.67147074571903,0.667525415520983,0.663594922603645,0.659679266967018,0.655778448611099,0.651892467535891,0.648021323741393,0.644165017227606,0.640323547994527,0.636496916042158,0.6326851213705,0.628888163979552,0.625106043869314,0.621338761039786,0.617586315490967,0.613848707222858,0.61012593623546,0.606418002528771,0.602724906102793,0.599046646957524,0.595383225092966,0.591734640509117,0.588100893205977,0.584481983183549]]]}}},\"view\":{\"type\":\"object\",\"name\":\"CDSView\",\"id\":\"p1062\",\"attributes\":{\"filter\":{\"type\":\"object\",\"name\":\"AllIndices\",\"id\":\"p1063\"}}},\"glyph\":{\"type\":\"object\",\"name\":\"Line\",\"id\":\"p1058\",\"attributes\":{\"x\":{\"type\":\"field\",\"field\":\"x\"},\"y\":{\"type\":\"field\",\"field\":\"y\"},\"line_color\":\"green\"}},\"nonselection_glyph\":{\"type\":\"object\",\"name\":\"Line\",\"id\":\"p1059\",\"attributes\":{\"x\":{\"type\":\"field\",\"field\":\"x\"},\"y\":{\"type\":\"field\",\"field\":\"y\"},\"line_color\":\"green\",\"line_alpha\":0.1}},\"muted_glyph\":{\"type\":\"object\",\"name\":\"Line\",\"id\":\"p1060\",\"attributes\":{\"x\":{\"type\":\"field\",\"field\":\"x\"},\"y\":{\"type\":\"field\",\"field\":\"y\"},\"line_color\":\"green\",\"line_alpha\":0.2}}}}],\"toolbar\":{\"type\":\"object\",\"name\":\"Toolbar\",\"id\":\"p1018\",\"attributes\":{\"tools\":[{\"id\":\"p1031\"},{\"id\":\"p1032\"},{\"id\":\"p1033\"},{\"id\":\"p1041\"},{\"id\":\"p1042\"},{\"id\":\"p1043\"}],\"logo\":null}},\"toolbar_location\":null,\"left\":[{\"type\":\"object\",\"name\":\"LinearAxis\",\"id\":\"p1026\",\"attributes\":{\"ticker\":{\"type\":\"object\",\"name\":\"BasicTicker\",\"id\":\"p1027\",\"attributes\":{\"mantissas\":[1,2,5]}},\"formatter\":{\"type\":\"object\",\"name\":\"BasicTickFormatter\",\"id\":\"p1028\"},\"axis_label\":\"$$\\\\beta _x,\\\\ \\\\beta _y\\\\ (m)$$\",\"major_label_policy\":{\"type\":\"object\",\"name\":\"AllLabels\",\"id\":\"p1029\"}}}],\"below\":[{\"type\":\"object\",\"name\":\"LinearAxis\",\"id\":\"p1021\",\"attributes\":{\"ticker\":{\"type\":\"object\",\"name\":\"BasicTicker\",\"id\":\"p1022\",\"attributes\":{\"mantissas\":[1,2,5]}},\"formatter\":{\"type\":\"object\",\"name\":\"BasicTickFormatter\",\"id\":\"p1023\"},\"axis_label\":\"s (m)\",\"major_label_policy\":{\"type\":\"object\",\"name\":\"AllLabels\",\"id\":\"p1024\"}}}],\"center\":[{\"type\":\"object\",\"name\":\"Grid\",\"id\":\"p1025\",\"attributes\":{\"axis\":{\"id\":\"p1021\"}}},{\"type\":\"object\",\"name\":\"Grid\",\"id\":\"p1030\",\"attributes\":{\"dimension\":1,\"axis\":{\"id\":\"p1026\"}}},{\"type\":\"object\",\"name\":\"Legend\",\"id\":\"p1053\",\"attributes\":{\"items\":[{\"type\":\"object\",\"name\":\"LegendItem\",\"id\":\"p1054\",\"attributes\":{\"label\":{\"type\":\"value\",\"value\":\"c1\"},\"renderers\":[{\"id\":\"p1050\"}]}},{\"type\":\"object\",\"name\":\"LegendItem\",\"id\":\"p1064\",\"attributes\":{\"label\":{\"type\":\"value\",\"value\":\"c2\"},\"renderers\":[{\"id\":\"p1061\"}]}}]}}],\"frame_width\":800,\"frame_height\":200,\"min_border_left\":80}},0,0],[{\"type\":\"object\",\"name\":\"Figure\",\"id\":\"p1067\",\"attributes\":{\"sizing_mode\":\"inherit\",\"x_range\":{\"id\":\"p1001\"},\"y_range\":{\"type\":\"object\",\"name\":\"Range1d\",\"id\":\"p1066\",\"attributes\":{\"start\":-1.01,\"end\":1.01}},\"x_scale\":{\"type\":\"object\",\"name\":\"LinearScale\",\"id\":\"p1077\"},\"y_scale\":{\"type\":\"object\",\"name\":\"LinearScale\",\"id\":\"p1078\"},\"title\":{\"type\":\"object\",\"name\":\"Title\",\"id\":\"p1070\"},\"renderers\":[{\"type\":\"object\",\"name\":\"GlyphRenderer\",\"id\":\"p1112\",\"attributes\":{\"data_source\":{\"type\":\"object\",\"name\":\"ColumnDataSource\",\"id\":\"p1103\",\"attributes\":{\"selected\":{\"type\":\"object\",\"name\":\"Selection\",\"id\":\"p1104\",\"attributes\":{\"indices\":[],\"line_indices\":[]}},\"selection_policy\":{\"type\":\"object\",\"name\":\"UnionRenderers\",\"id\":\"p1105\"},\"data\":{\"type\":\"map\",\"entries\":[[\"x\",[]],[\"y\",[]],[\"name\",[]],[\"text\",[]],[\"color\",[]],[\"baseline\",[]],[\"align\",[]],[\"rotation\",[]],[\"font_size\",[]]]}}},\"view\":{\"type\":\"object\",\"name\":\"CDSView\",\"id\":\"p1113\",\"attributes\":{\"filter\":{\"type\":\"object\",\"name\":\"AllIndices\",\"id\":\"p1114\"}}},\"glyph\":{\"type\":\"object\",\"name\":\"Text\",\"id\":\"p1109\",\"attributes\":{\"x\":{\"type\":\"field\",\"field\":\"x\"},\"y\":{\"type\":\"field\",\"field\":\"y\"},\"angle\":{\"type\":\"field\",\"field\":\"rotation\"},\"text_color\":{\"type\":\"field\",\"field\":\"color\"},\"text_font_size\":{\"type\":\"field\",\"field\":\"font_size\"},\"text_align\":{\"type\":\"field\",\"field\":\"align\"},\"text_baseline\":{\"type\":\"field\",\"field\":\"baseline\"}}},\"nonselection_glyph\":{\"type\":\"object\",\"name\":\"Text\",\"id\":\"p1110\",\"attributes\":{\"x\":{\"type\":\"field\",\"field\":\"x\"},\"y\":{\"type\":\"field\",\"field\":\"y\"},\"angle\":{\"type\":\"field\",\"field\":\"rotation\"},\"text_color\":{\"type\":\"field\",\"field\":\"color\"},\"text_alpha\":{\"type\":\"value\",\"value\":0.1},\"text_font_size\":{\"type\":\"field\",\"field\":\"font_size\"},\"text_align\":{\"type\":\"field\",\"field\":\"align\"},\"text_baseline\":{\"type\":\"field\",\"field\":\"baseline\"}}},\"muted_glyph\":{\"type\":\"object\",\"name\":\"Text\",\"id\":\"p1111\",\"attributes\":{\"x\":{\"type\":\"field\",\"field\":\"x\"},\"y\":{\"type\":\"field\",\"field\":\"y\"},\"angle\":{\"type\":\"field\",\"field\":\"rotation\"},\"text_color\":{\"type\":\"field\",\"field\":\"color\"},\"text_alpha\":{\"type\":\"value\",\"value\":0.2},\"text_font_size\":{\"type\":\"field\",\"field\":\"font_size\"},\"text_align\":{\"type\":\"field\",\"field\":\"align\"},\"text_baseline\":{\"type\":\"field\",\"field\":\"baseline\"}}}}},{\"id\":\"p1124\"},{\"type\":\"object\",\"name\":\"GlyphRenderer\",\"id\":\"p1136\",\"attributes\":{\"data_source\":{\"type\":\"object\",\"name\":\"ColumnDataSource\",\"id\":\"p1127\",\"attributes\":{\"selected\":{\"type\":\"object\",\"name\":\"Selection\",\"id\":\"p1128\",\"attributes\":{\"indices\":[],\"line_indices\":[]}},\"selection_policy\":{\"type\":\"object\",\"name\":\"UnionRenderers\",\"id\":\"p1129\"},\"data\":{\"type\":\"map\",\"entries\":[[\"xs\",[]],[\"ys\",[]],[\"name\",[]],[\"s_start\",[]],[\"s_end\",[]],[\"line_width\",[]],[\"color\",[]]]}}},\"view\":{\"type\":\"object\",\"name\":\"CDSView\",\"id\":\"p1137\",\"attributes\":{\"filter\":{\"type\":\"object\",\"name\":\"AllIndices\",\"id\":\"p1138\"}}},\"glyph\":{\"type\":\"object\",\"name\":\"MultiLine\",\"id\":\"p1133\",\"attributes\":{\"xs\":{\"type\":\"field\",\"field\":\"xs\"},\"ys\":{\"type\":\"field\",\"field\":\"ys\"},\"line_color\":{\"type\":\"field\",\"field\":\"color\"},\"line_width\":{\"type\":\"field\",\"field\":\"line_width\"}}},\"nonselection_glyph\":{\"type\":\"object\",\"name\":\"MultiLine\",\"id\":\"p1134\",\"attributes\":{\"xs\":{\"type\":\"field\",\"field\":\"xs\"},\"ys\":{\"type\":\"field\",\"field\":\"ys\"},\"line_color\":{\"type\":\"field\",\"field\":\"color\"},\"line_alpha\":{\"type\":\"value\",\"value\":0.1},\"line_width\":{\"type\":\"field\",\"field\":\"line_width\"}}},\"muted_glyph\":{\"type\":\"object\",\"name\":\"MultiLine\",\"id\":\"p1135\",\"attributes\":{\"xs\":{\"type\":\"field\",\"field\":\"xs\"},\"ys\":{\"type\":\"field\",\"field\":\"ys\"},\"line_color\":{\"type\":\"field\",\"field\":\"color\"},\"line_alpha\":{\"type\":\"value\",\"value\":0.2},\"line_width\":{\"type\":\"field\",\"field\":\"line_width\"}}}}},{\"type\":\"object\",\"name\":\"Span\",\"id\":\"p1140\",\"attributes\":{\"location\":0}}],\"toolbar\":{\"type\":\"object\",\"name\":\"Toolbar\",\"id\":\"p1076\",\"attributes\":{\"tools\":[{\"id\":\"p1089\"},{\"id\":\"p1090\"},{\"id\":\"p1091\"},{\"id\":\"p1099\"},{\"id\":\"p1100\"},{\"id\":\"p1139\"}],\"logo\":null}},\"toolbar_location\":null,\"left\":[{\"type\":\"object\",\"name\":\"LinearAxis\",\"id\":\"p1084\",\"attributes\":{\"visible\":false,\"ticker\":{\"type\":\"object\",\"name\":\"FixedTicker\",\"id\":\"p1102\",\"attributes\":{\"ticks\":[],\"minor_ticks\":[]}},\"formatter\":{\"type\":\"object\",\"name\":\"BasicTickFormatter\",\"id\":\"p1086\"},\"major_label_policy\":{\"type\":\"object\",\"name\":\"AllLabels\",\"id\":\"p1087\"}}}],\"below\":[{\"type\":\"object\",\"name\":\"LinearAxis\",\"id\":\"p1079\",\"attributes\":{\"ticker\":{\"type\":\"object\",\"name\":\"FixedTicker\",\"id\":\"p1101\",\"attributes\":{\"ticks\":[0.0,0.165302449549514,0.215302449549514,0.322699081698724,0.05],\"minor_ticks\":[0.05,0.215302449549514,0.322699081698724,0.392699081698724,0.165302449549514]}},\"formatter\":{\"type\":\"object\",\"name\":\"BasicTickFormatter\",\"id\":\"p1081\"},\"major_label_orientation\":0.7853981633974483,\"major_label_overrides\":{\"type\":\"map\",\"entries\":[[0.0,\"\"],[0.165302449549514,\"\"],[0.215302449549514,\"FF.QUA02\"],[0.322699081698724,\"\"],[0.05,\"FF.QUA01\"]]},\"major_label_policy\":{\"type\":\"object\",\"name\":\"AllLabels\",\"id\":\"p1082\"}}}],\"center\":[{\"type\":\"object\",\"name\":\"Grid\",\"id\":\"p1083\",\"attributes\":{\"axis\":{\"id\":\"p1079\"}}},{\"type\":\"object\",\"name\":\"Grid\",\"id\":\"p1088\",\"attributes\":{\"dimension\":1,\"axis\":{\"id\":\"p1084\"}}}],\"frame_width\":800,\"frame_height\":75,\"min_border_left\":80}},1,0]]}}]}};\n",
       "  const render_items = [{\"docid\":\"3f6cb367-af31-4d24-b2cd-02819c180024\",\"roots\":{\"p1151\":\"e462262a-951a-46e7-97bf-6c26c3ea46be\"},\"root_ids\":[\"p1151\"]}];\n",
       "  void root.Bokeh.embed.embed_items_notebook(docs_json, render_items);\n",
       "  }\n",
       "  if (root.Bokeh !== undefined) {\n",
       "    embed_document(root);\n",
       "  } else {\n",
       "    let attempts = 0;\n",
       "    const timer = setInterval(function(root) {\n",
       "      if (root.Bokeh !== undefined) {\n",
       "        clearInterval(timer);\n",
       "        embed_document(root);\n",
       "      } else {\n",
       "        attempts++;\n",
       "        if (attempts > 100) {\n",
       "          clearInterval(timer);\n",
       "          console.log(\"Bokeh: ERROR: Unable to run BokehJS code because BokehJS library is missing\");\n",
       "        }\n",
       "      }\n",
       "    }, 10, root)\n",
       "  }\n",
       "})(window);"
      ],
      "application/vnd.bokehjs_exec.v0+json": ""
     },
     "metadata": {
      "application/vnd.bokehjs_exec.v0+json": {
       "id": "p1151"
      }
     },
     "output_type": "display_data"
    }
   ],
   "source": [
    "tao.plot(\"beta\", vars=True, width=800, height=200, layout_height=75)"
   ]
  },
  {
   "cell_type": "markdown",
   "metadata": {},
   "source": [
    "## Query variable values programmatically"
   ]
  },
  {
   "cell_type": "code",
   "execution_count": 6,
   "metadata": {
    "execution": {
     "iopub.execute_input": "2025-04-02T01:25:16.015818Z",
     "iopub.status.busy": "2025-04-02T01:25:16.015441Z",
     "iopub.status.idle": "2025-04-02T01:25:16.019435Z",
     "shell.execute_reply": "2025-04-02T01:25:16.018951Z"
    }
   },
   "outputs": [
    {
     "data": {
      "text/plain": [
       "-20.931"
      ]
     },
     "execution_count": 6,
     "metadata": {},
     "output_type": "execute_result"
    }
   ],
   "source": [
    "tao.var(\"q[1]\")[\"model_value\"]"
   ]
  }
 ],
 "metadata": {
  "kernelspec": {
   "display_name": "Python 3 (ipykernel)",
   "language": "python",
   "name": "python3"
  },
  "language_info": {
   "codemirror_mode": {
    "name": "ipython",
    "version": 3
   },
   "file_extension": ".py",
   "mimetype": "text/x-python",
   "name": "python",
   "nbconvert_exporter": "python",
   "pygments_lexer": "ipython3",
   "version": "3.12.9"
  },
  "vscode": {
   "interpreter": {
    "hash": "610c699f0cd8c4f129acd9140687fff6866bed0eb8e82f249fc8848b827b628c"
   }
  }
 },
 "nbformat": 4,
 "nbformat_minor": 4
}
