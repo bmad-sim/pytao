{
 "cells": [
  {
   "cell_type": "markdown",
   "metadata": {},
   "source": [
    "# PyTao Bokeh \"Single mode\""
   ]
  },
  {
   "cell_type": "code",
   "execution_count": 1,
   "metadata": {
    "execution": {
     "iopub.execute_input": "2025-01-13T01:21:44.829305Z",
     "iopub.status.busy": "2025-01-13T01:21:44.828929Z",
     "iopub.status.idle": "2025-01-13T01:21:45.481346Z",
     "shell.execute_reply": "2025-01-13T01:21:45.480842Z"
    }
   },
   "outputs": [],
   "source": [
    "from pytao import Tao"
   ]
  },
  {
   "cell_type": "code",
   "execution_count": 2,
   "metadata": {
    "execution": {
     "iopub.execute_input": "2025-01-13T01:21:45.483412Z",
     "iopub.status.busy": "2025-01-13T01:21:45.483086Z",
     "iopub.status.idle": "2025-01-13T01:21:45.628452Z",
     "shell.execute_reply": "2025-01-13T01:21:45.627920Z"
    }
   },
   "outputs": [],
   "source": [
    "init_file = \"$ACC_ROOT_DIR/bmad-doc/tao_examples/cbeta_cell/tao.init\"\n",
    "\n",
    "tao = Tao(init_file=init_file, plot=\"bokeh\")"
   ]
  },
  {
   "cell_type": "markdown",
   "metadata": {},
   "source": [
    "## Show names for our quadrupoles"
   ]
  },
  {
   "cell_type": "code",
   "execution_count": 3,
   "metadata": {
    "execution": {
     "iopub.execute_input": "2025-01-13T01:21:45.630628Z",
     "iopub.status.busy": "2025-01-13T01:21:45.630229Z",
     "iopub.status.idle": "2025-01-13T01:21:45.633108Z",
     "shell.execute_reply": "2025-01-13T01:21:45.632653Z"
    }
   },
   "outputs": [],
   "source": [
    "_ = tao.update_plot_shapes(\"quadrupole\", type_label=\"name\", layout=True)"
   ]
  },
  {
   "cell_type": "markdown",
   "metadata": {},
   "source": [
    "## Configure relevant settings"
   ]
  },
  {
   "cell_type": "code",
   "execution_count": 4,
   "metadata": {
    "execution": {
     "iopub.execute_input": "2025-01-13T01:21:45.634618Z",
     "iopub.status.busy": "2025-01-13T01:21:45.634432Z",
     "iopub.status.idle": "2025-01-13T01:21:45.983108Z",
     "shell.execute_reply": "2025-01-13T01:21:45.982612Z"
    }
   },
   "outputs": [
    {
     "data": {
      "text/html": [
       "<!-- Detected Jupyter. -->"
      ],
      "text/plain": []
     },
     "metadata": {},
     "output_type": "display_data"
    },
    {
     "data": {
      "text/html": [
       "    <style>\n",
       "        .bk-notebook-logo {\n",
       "            display: block;\n",
       "            width: 20px;\n",
       "            height: 20px;\n",
       "            background-image: url(data:image/png;base64,iVBORw0KGgoAAAANSUhEUgAAABQAAAAUCAYAAACNiR0NAAAABHNCSVQICAgIfAhkiAAAAAlwSFlzAAALEgAACxIB0t1+/AAAABx0RVh0U29mdHdhcmUAQWRvYmUgRmlyZXdvcmtzIENTNui8sowAAAOkSURBVDiNjZRtaJVlGMd/1/08zzln5zjP1LWcU9N0NkN8m2CYjpgQYQXqSs0I84OLIC0hkEKoPtiH3gmKoiJDU7QpLgoLjLIQCpEsNJ1vqUOdO7ppbuec5+V+rj4ctwzd8IIbbi6u+8f1539dt3A78eXC7QizUF7gyV1fD1Yqg4JWz84yffhm0qkFqBogB9rM8tZdtwVsPUhWhGcFJngGeWrPzHm5oaMmkfEg1usvLFyc8jLRqDOMru7AyC8saQr7GG7f5fvDeH7Ej8CM66nIF+8yngt6HWaKh7k49Soy9nXurCi1o3qUbS3zWfrYeQDTB/Qj6kX6Ybhw4B+bOYoLKCC9H3Nu/leUTZ1JdRWkkn2ldcCamzrcf47KKXdAJllSlxAOkRgyHsGC/zRday5Qld9DyoM4/q/rUoy/CXh3jzOu3bHUVZeU+DEn8FInkPBFlu3+nW3Nw0mk6vCDiWg8CeJaxEwuHS3+z5RgY+YBR6V1Z1nxSOfoaPa4LASWxxdNp+VWTk7+4vzaou8v8PN+xo+KY2xsw6une2frhw05CTYOmQvsEhjhWjn0bmXPjpE1+kplmmkP3suftwTubK9Vq22qKmrBhpY4jvd5afdRA3wGjFAgcnTK2s4hY0/GPNIb0nErGMCRxWOOX64Z8RAC4oCXdklmEvcL8o0BfkNK4lUg9HTl+oPlQxdNo3Mg4Nv175e/1LDGzZen30MEjRUtmXSfiTVu1kK8W4txyV6BMKlbgk3lMwYCiusNy9fVfvvwMxv8Ynl6vxoByANLTWplvuj/nF9m2+PDtt1eiHPBr1oIfhCChQMBw6Aw0UulqTKZdfVvfG7VcfIqLG9bcldL/+pdWTLxLUy8Qq38heUIjh4XlzZxzQm19lLFlr8vdQ97rjZVOLf8nclzckbcD4wxXMidpX30sFd37Fv/GtwwhzhxGVAprjbg0gCAEeIgwCZyTV2Z1REEW8O4py0wsjeloKoMr6iCY6dP92H6Vw/oTyICIthibxjm/DfN9lVz8IqtqKYLUXfoKVMVQVVJOElGjrnnUt9T9wbgp8AyYKaGlqingHZU/uG2NTZSVqwHQTWkx9hxjkpWDaCg6Ckj5qebgBVbT3V3NNXMSiWSDdGV3hrtzla7J+duwPOToIg42ChPQOQjspnSlp1V+Gjdged7+8UN5CRAV7a5EdFNwCjEaBR27b3W890TE7g24NAP/mMDXRWrGoFPQI9ls/MWO2dWFAar/xcOIImbbpA3zgAAAABJRU5ErkJggg==);\n",
       "        }\n",
       "    </style>\n",
       "    <div>\n",
       "        <a href=\"https://bokeh.org\" target=\"_blank\" class=\"bk-notebook-logo\"></a>\n",
       "        <span id=\"a92d15fa-ce99-4eca-9b6d-394ab81b7feb\">Loading BokehJS ...</span>\n",
       "    </div>\n"
      ]
     },
     "metadata": {},
     "output_type": "display_data"
    },
    {
     "data": {
      "application/javascript": [
       "'use strict';\n",
       "(function(root) {\n",
       "  function now() {\n",
       "    return new Date();\n",
       "  }\n",
       "\n",
       "  const force = true;\n",
       "\n",
       "  if (typeof root._bokeh_onload_callbacks === \"undefined\" || force === true) {\n",
       "    root._bokeh_onload_callbacks = [];\n",
       "    root._bokeh_is_loading = undefined;\n",
       "  }\n",
       "\n",
       "const JS_MIME_TYPE = 'application/javascript';\n",
       "  const HTML_MIME_TYPE = 'text/html';\n",
       "  const EXEC_MIME_TYPE = 'application/vnd.bokehjs_exec.v0+json';\n",
       "  const CLASS_NAME = 'output_bokeh rendered_html';\n",
       "\n",
       "  /**\n",
       "   * Render data to the DOM node\n",
       "   */\n",
       "  function render(props, node) {\n",
       "    const script = document.createElement(\"script\");\n",
       "    node.appendChild(script);\n",
       "  }\n",
       "\n",
       "  /**\n",
       "   * Handle when an output is cleared or removed\n",
       "   */\n",
       "  function handleClearOutput(event, handle) {\n",
       "    function drop(id) {\n",
       "      const view = Bokeh.index.get_by_id(id)\n",
       "      if (view != null) {\n",
       "        view.model.document.clear()\n",
       "        Bokeh.index.delete(view)\n",
       "      }\n",
       "    }\n",
       "\n",
       "    const cell = handle.cell;\n",
       "\n",
       "    const id = cell.output_area._bokeh_element_id;\n",
       "    const server_id = cell.output_area._bokeh_server_id;\n",
       "\n",
       "    // Clean up Bokeh references\n",
       "    if (id != null) {\n",
       "      drop(id)\n",
       "    }\n",
       "\n",
       "    if (server_id !== undefined) {\n",
       "      // Clean up Bokeh references\n",
       "      const cmd_clean = \"from bokeh.io.state import curstate; print(curstate().uuid_to_server['\" + server_id + \"'].get_sessions()[0].document.roots[0]._id)\";\n",
       "      cell.notebook.kernel.execute(cmd_clean, {\n",
       "        iopub: {\n",
       "          output: function(msg) {\n",
       "            const id = msg.content.text.trim()\n",
       "            drop(id)\n",
       "          }\n",
       "        }\n",
       "      });\n",
       "      // Destroy server and session\n",
       "      const cmd_destroy = \"import bokeh.io.notebook as ion; ion.destroy_server('\" + server_id + \"')\";\n",
       "      cell.notebook.kernel.execute(cmd_destroy);\n",
       "    }\n",
       "  }\n",
       "\n",
       "  /**\n",
       "   * Handle when a new output is added\n",
       "   */\n",
       "  function handleAddOutput(event, handle) {\n",
       "    const output_area = handle.output_area;\n",
       "    const output = handle.output;\n",
       "\n",
       "    // limit handleAddOutput to display_data with EXEC_MIME_TYPE content only\n",
       "    if ((output.output_type != \"display_data\") || (!Object.prototype.hasOwnProperty.call(output.data, EXEC_MIME_TYPE))) {\n",
       "      return\n",
       "    }\n",
       "\n",
       "    const toinsert = output_area.element.find(\".\" + CLASS_NAME.split(' ')[0]);\n",
       "\n",
       "    if (output.metadata[EXEC_MIME_TYPE][\"id\"] !== undefined) {\n",
       "      toinsert[toinsert.length - 1].firstChild.textContent = output.data[JS_MIME_TYPE];\n",
       "      // store reference to embed id on output_area\n",
       "      output_area._bokeh_element_id = output.metadata[EXEC_MIME_TYPE][\"id\"];\n",
       "    }\n",
       "    if (output.metadata[EXEC_MIME_TYPE][\"server_id\"] !== undefined) {\n",
       "      const bk_div = document.createElement(\"div\");\n",
       "      bk_div.innerHTML = output.data[HTML_MIME_TYPE];\n",
       "      const script_attrs = bk_div.children[0].attributes;\n",
       "      for (let i = 0; i < script_attrs.length; i++) {\n",
       "        toinsert[toinsert.length - 1].firstChild.setAttribute(script_attrs[i].name, script_attrs[i].value);\n",
       "        toinsert[toinsert.length - 1].firstChild.textContent = bk_div.children[0].textContent\n",
       "      }\n",
       "      // store reference to server id on output_area\n",
       "      output_area._bokeh_server_id = output.metadata[EXEC_MIME_TYPE][\"server_id\"];\n",
       "    }\n",
       "  }\n",
       "\n",
       "  function register_renderer(events, OutputArea) {\n",
       "\n",
       "    function append_mime(data, metadata, element) {\n",
       "      // create a DOM node to render to\n",
       "      const toinsert = this.create_output_subarea(\n",
       "        metadata,\n",
       "        CLASS_NAME,\n",
       "        EXEC_MIME_TYPE\n",
       "      );\n",
       "      this.keyboard_manager.register_events(toinsert);\n",
       "      // Render to node\n",
       "      const props = {data: data, metadata: metadata[EXEC_MIME_TYPE]};\n",
       "      render(props, toinsert[toinsert.length - 1]);\n",
       "      element.append(toinsert);\n",
       "      return toinsert\n",
       "    }\n",
       "\n",
       "    /* Handle when an output is cleared or removed */\n",
       "    events.on('clear_output.CodeCell', handleClearOutput);\n",
       "    events.on('delete.Cell', handleClearOutput);\n",
       "\n",
       "    /* Handle when a new output is added */\n",
       "    events.on('output_added.OutputArea', handleAddOutput);\n",
       "\n",
       "    /**\n",
       "     * Register the mime type and append_mime function with output_area\n",
       "     */\n",
       "    OutputArea.prototype.register_mime_type(EXEC_MIME_TYPE, append_mime, {\n",
       "      /* Is output safe? */\n",
       "      safe: true,\n",
       "      /* Index of renderer in `output_area.display_order` */\n",
       "      index: 0\n",
       "    });\n",
       "  }\n",
       "\n",
       "  // register the mime type if in Jupyter Notebook environment and previously unregistered\n",
       "  if (root.Jupyter !== undefined) {\n",
       "    const events = require('base/js/events');\n",
       "    const OutputArea = require('notebook/js/outputarea').OutputArea;\n",
       "\n",
       "    if (OutputArea.prototype.mime_types().indexOf(EXEC_MIME_TYPE) == -1) {\n",
       "      register_renderer(events, OutputArea);\n",
       "    }\n",
       "  }\n",
       "  if (typeof (root._bokeh_timeout) === \"undefined\" || force === true) {\n",
       "    root._bokeh_timeout = Date.now() + 5000;\n",
       "    root._bokeh_failed_load = false;\n",
       "  }\n",
       "\n",
       "  const NB_LOAD_WARNING = {'data': {'text/html':\n",
       "     \"<div style='background-color: #fdd'>\\n\"+\n",
       "     \"<p>\\n\"+\n",
       "     \"BokehJS does not appear to have successfully loaded. If loading BokehJS from CDN, this \\n\"+\n",
       "     \"may be due to a slow or bad network connection. Possible fixes:\\n\"+\n",
       "     \"</p>\\n\"+\n",
       "     \"<ul>\\n\"+\n",
       "     \"<li>re-rerun `output_notebook()` to attempt to load from CDN again, or</li>\\n\"+\n",
       "     \"<li>use INLINE resources instead, as so:</li>\\n\"+\n",
       "     \"</ul>\\n\"+\n",
       "     \"<code>\\n\"+\n",
       "     \"from bokeh.resources import INLINE\\n\"+\n",
       "     \"output_notebook(resources=INLINE)\\n\"+\n",
       "     \"</code>\\n\"+\n",
       "     \"</div>\"}};\n",
       "\n",
       "  function display_loaded(error = null) {\n",
       "    const el = document.getElementById(\"a92d15fa-ce99-4eca-9b6d-394ab81b7feb\");\n",
       "    if (el != null) {\n",
       "      const html = (() => {\n",
       "        if (typeof root.Bokeh === \"undefined\") {\n",
       "          if (error == null) {\n",
       "            return \"BokehJS is loading ...\";\n",
       "          } else {\n",
       "            return \"BokehJS failed to load.\";\n",
       "          }\n",
       "        } else {\n",
       "          const prefix = `BokehJS ${root.Bokeh.version}`;\n",
       "          if (error == null) {\n",
       "            return `${prefix} successfully loaded.`;\n",
       "          } else {\n",
       "            return `${prefix} <b>encountered errors</b> while loading and may not function as expected.`;\n",
       "          }\n",
       "        }\n",
       "      })();\n",
       "      el.innerHTML = html;\n",
       "\n",
       "      if (error != null) {\n",
       "        const wrapper = document.createElement(\"div\");\n",
       "        wrapper.style.overflow = \"auto\";\n",
       "        wrapper.style.height = \"5em\";\n",
       "        wrapper.style.resize = \"vertical\";\n",
       "        const content = document.createElement(\"div\");\n",
       "        content.style.fontFamily = \"monospace\";\n",
       "        content.style.whiteSpace = \"pre-wrap\";\n",
       "        content.style.backgroundColor = \"rgb(255, 221, 221)\";\n",
       "        content.textContent = error.stack ?? error.toString();\n",
       "        wrapper.append(content);\n",
       "        el.append(wrapper);\n",
       "      }\n",
       "    } else if (Date.now() < root._bokeh_timeout) {\n",
       "      setTimeout(() => display_loaded(error), 100);\n",
       "    }\n",
       "  }\n",
       "\n",
       "  function run_callbacks() {\n",
       "    try {\n",
       "      root._bokeh_onload_callbacks.forEach(function(callback) {\n",
       "        if (callback != null)\n",
       "          callback();\n",
       "      });\n",
       "    } finally {\n",
       "      delete root._bokeh_onload_callbacks\n",
       "    }\n",
       "    console.debug(\"Bokeh: all callbacks have finished\");\n",
       "  }\n",
       "\n",
       "  function load_libs(css_urls, js_urls, callback) {\n",
       "    if (css_urls == null) css_urls = [];\n",
       "    if (js_urls == null) js_urls = [];\n",
       "\n",
       "    root._bokeh_onload_callbacks.push(callback);\n",
       "    if (root._bokeh_is_loading > 0) {\n",
       "      console.debug(\"Bokeh: BokehJS is being loaded, scheduling callback at\", now());\n",
       "      return null;\n",
       "    }\n",
       "    if (js_urls == null || js_urls.length === 0) {\n",
       "      run_callbacks();\n",
       "      return null;\n",
       "    }\n",
       "    console.debug(\"Bokeh: BokehJS not loaded, scheduling load and callback at\", now());\n",
       "    root._bokeh_is_loading = css_urls.length + js_urls.length;\n",
       "\n",
       "    function on_load() {\n",
       "      root._bokeh_is_loading--;\n",
       "      if (root._bokeh_is_loading === 0) {\n",
       "        console.debug(\"Bokeh: all BokehJS libraries/stylesheets loaded\");\n",
       "        run_callbacks()\n",
       "      }\n",
       "    }\n",
       "\n",
       "    function on_error(url) {\n",
       "      console.error(\"failed to load \" + url);\n",
       "    }\n",
       "\n",
       "    for (let i = 0; i < css_urls.length; i++) {\n",
       "      const url = css_urls[i];\n",
       "      const element = document.createElement(\"link\");\n",
       "      element.onload = on_load;\n",
       "      element.onerror = on_error.bind(null, url);\n",
       "      element.rel = \"stylesheet\";\n",
       "      element.type = \"text/css\";\n",
       "      element.href = url;\n",
       "      console.debug(\"Bokeh: injecting link tag for BokehJS stylesheet: \", url);\n",
       "      document.body.appendChild(element);\n",
       "    }\n",
       "\n",
       "    for (let i = 0; i < js_urls.length; i++) {\n",
       "      const url = js_urls[i];\n",
       "      const element = document.createElement('script');\n",
       "      element.onload = on_load;\n",
       "      element.onerror = on_error.bind(null, url);\n",
       "      element.async = false;\n",
       "      element.src = url;\n",
       "      console.debug(\"Bokeh: injecting script tag for BokehJS library: \", url);\n",
       "      document.head.appendChild(element);\n",
       "    }\n",
       "  };\n",
       "\n",
       "  function inject_raw_css(css) {\n",
       "    const element = document.createElement(\"style\");\n",
       "    element.appendChild(document.createTextNode(css));\n",
       "    document.body.appendChild(element);\n",
       "  }\n",
       "\n",
       "  const js_urls = [\"https://cdn.bokeh.org/bokeh/release/bokeh-3.6.2.min.js\", \"https://cdn.bokeh.org/bokeh/release/bokeh-gl-3.6.2.min.js\", \"https://cdn.bokeh.org/bokeh/release/bokeh-widgets-3.6.2.min.js\", \"https://cdn.bokeh.org/bokeh/release/bokeh-tables-3.6.2.min.js\", \"https://cdn.bokeh.org/bokeh/release/bokeh-mathjax-3.6.2.min.js\"];\n",
       "  const css_urls = [];\n",
       "\n",
       "  const inline_js = [    function(Bokeh) {\n",
       "      Bokeh.set_log_level(\"info\");\n",
       "    },\n",
       "function(Bokeh) {\n",
       "    }\n",
       "  ];\n",
       "\n",
       "  function run_inline_js() {\n",
       "    if (root.Bokeh !== undefined || force === true) {\n",
       "      try {\n",
       "            for (let i = 0; i < inline_js.length; i++) {\n",
       "      inline_js[i].call(root, root.Bokeh);\n",
       "    }\n",
       "\n",
       "      } catch (error) {display_loaded(error);throw error;\n",
       "      }if (force === true) {\n",
       "        display_loaded();\n",
       "      }} else if (Date.now() < root._bokeh_timeout) {\n",
       "      setTimeout(run_inline_js, 100);\n",
       "    } else if (!root._bokeh_failed_load) {\n",
       "      console.log(\"Bokeh: BokehJS failed to load within specified timeout.\");\n",
       "      root._bokeh_failed_load = true;\n",
       "    } else if (force !== true) {\n",
       "      const cell = $(document.getElementById(\"a92d15fa-ce99-4eca-9b6d-394ab81b7feb\")).parents('.cell').data().cell;\n",
       "      cell.output_area.append_execute_result(NB_LOAD_WARNING)\n",
       "    }\n",
       "  }\n",
       "\n",
       "  if (root._bokeh_is_loading === 0) {\n",
       "    console.debug(\"Bokeh: BokehJS loaded, going straight to plotting\");\n",
       "    run_inline_js();\n",
       "  } else {\n",
       "    load_libs(css_urls, js_urls, function() {\n",
       "      console.debug(\"Bokeh: BokehJS plotting callback run at\", now());\n",
       "      run_inline_js();\n",
       "    });\n",
       "  }\n",
       "}(window));"
      ],
      "application/vnd.bokehjs_load.v0+json": "'use strict';\n(function(root) {\n  function now() {\n    return new Date();\n  }\n\n  const force = true;\n\n  if (typeof root._bokeh_onload_callbacks === \"undefined\" || force === true) {\n    root._bokeh_onload_callbacks = [];\n    root._bokeh_is_loading = undefined;\n  }\n\n\n  if (typeof (root._bokeh_timeout) === \"undefined\" || force === true) {\n    root._bokeh_timeout = Date.now() + 5000;\n    root._bokeh_failed_load = false;\n  }\n\n  const NB_LOAD_WARNING = {'data': {'text/html':\n     \"<div style='background-color: #fdd'>\\n\"+\n     \"<p>\\n\"+\n     \"BokehJS does not appear to have successfully loaded. If loading BokehJS from CDN, this \\n\"+\n     \"may be due to a slow or bad network connection. Possible fixes:\\n\"+\n     \"</p>\\n\"+\n     \"<ul>\\n\"+\n     \"<li>re-rerun `output_notebook()` to attempt to load from CDN again, or</li>\\n\"+\n     \"<li>use INLINE resources instead, as so:</li>\\n\"+\n     \"</ul>\\n\"+\n     \"<code>\\n\"+\n     \"from bokeh.resources import INLINE\\n\"+\n     \"output_notebook(resources=INLINE)\\n\"+\n     \"</code>\\n\"+\n     \"</div>\"}};\n\n  function display_loaded(error = null) {\n    const el = document.getElementById(\"a92d15fa-ce99-4eca-9b6d-394ab81b7feb\");\n    if (el != null) {\n      const html = (() => {\n        if (typeof root.Bokeh === \"undefined\") {\n          if (error == null) {\n            return \"BokehJS is loading ...\";\n          } else {\n            return \"BokehJS failed to load.\";\n          }\n        } else {\n          const prefix = `BokehJS ${root.Bokeh.version}`;\n          if (error == null) {\n            return `${prefix} successfully loaded.`;\n          } else {\n            return `${prefix} <b>encountered errors</b> while loading and may not function as expected.`;\n          }\n        }\n      })();\n      el.innerHTML = html;\n\n      if (error != null) {\n        const wrapper = document.createElement(\"div\");\n        wrapper.style.overflow = \"auto\";\n        wrapper.style.height = \"5em\";\n        wrapper.style.resize = \"vertical\";\n        const content = document.createElement(\"div\");\n        content.style.fontFamily = \"monospace\";\n        content.style.whiteSpace = \"pre-wrap\";\n        content.style.backgroundColor = \"rgb(255, 221, 221)\";\n        content.textContent = error.stack ?? error.toString();\n        wrapper.append(content);\n        el.append(wrapper);\n      }\n    } else if (Date.now() < root._bokeh_timeout) {\n      setTimeout(() => display_loaded(error), 100);\n    }\n  }\n\n  function run_callbacks() {\n    try {\n      root._bokeh_onload_callbacks.forEach(function(callback) {\n        if (callback != null)\n          callback();\n      });\n    } finally {\n      delete root._bokeh_onload_callbacks\n    }\n    console.debug(\"Bokeh: all callbacks have finished\");\n  }\n\n  function load_libs(css_urls, js_urls, callback) {\n    if (css_urls == null) css_urls = [];\n    if (js_urls == null) js_urls = [];\n\n    root._bokeh_onload_callbacks.push(callback);\n    if (root._bokeh_is_loading > 0) {\n      console.debug(\"Bokeh: BokehJS is being loaded, scheduling callback at\", now());\n      return null;\n    }\n    if (js_urls == null || js_urls.length === 0) {\n      run_callbacks();\n      return null;\n    }\n    console.debug(\"Bokeh: BokehJS not loaded, scheduling load and callback at\", now());\n    root._bokeh_is_loading = css_urls.length + js_urls.length;\n\n    function on_load() {\n      root._bokeh_is_loading--;\n      if (root._bokeh_is_loading === 0) {\n        console.debug(\"Bokeh: all BokehJS libraries/stylesheets loaded\");\n        run_callbacks()\n      }\n    }\n\n    function on_error(url) {\n      console.error(\"failed to load \" + url);\n    }\n\n    for (let i = 0; i < css_urls.length; i++) {\n      const url = css_urls[i];\n      const element = document.createElement(\"link\");\n      element.onload = on_load;\n      element.onerror = on_error.bind(null, url);\n      element.rel = \"stylesheet\";\n      element.type = \"text/css\";\n      element.href = url;\n      console.debug(\"Bokeh: injecting link tag for BokehJS stylesheet: \", url);\n      document.body.appendChild(element);\n    }\n\n    for (let i = 0; i < js_urls.length; i++) {\n      const url = js_urls[i];\n      const element = document.createElement('script');\n      element.onload = on_load;\n      element.onerror = on_error.bind(null, url);\n      element.async = false;\n      element.src = url;\n      console.debug(\"Bokeh: injecting script tag for BokehJS library: \", url);\n      document.head.appendChild(element);\n    }\n  };\n\n  function inject_raw_css(css) {\n    const element = document.createElement(\"style\");\n    element.appendChild(document.createTextNode(css));\n    document.body.appendChild(element);\n  }\n\n  const js_urls = [\"https://cdn.bokeh.org/bokeh/release/bokeh-3.6.2.min.js\", \"https://cdn.bokeh.org/bokeh/release/bokeh-gl-3.6.2.min.js\", \"https://cdn.bokeh.org/bokeh/release/bokeh-widgets-3.6.2.min.js\", \"https://cdn.bokeh.org/bokeh/release/bokeh-tables-3.6.2.min.js\", \"https://cdn.bokeh.org/bokeh/release/bokeh-mathjax-3.6.2.min.js\"];\n  const css_urls = [];\n\n  const inline_js = [    function(Bokeh) {\n      Bokeh.set_log_level(\"info\");\n    },\nfunction(Bokeh) {\n    }\n  ];\n\n  function run_inline_js() {\n    if (root.Bokeh !== undefined || force === true) {\n      try {\n            for (let i = 0; i < inline_js.length; i++) {\n      inline_js[i].call(root, root.Bokeh);\n    }\n\n      } catch (error) {display_loaded(error);throw error;\n      }if (force === true) {\n        display_loaded();\n      }} else if (Date.now() < root._bokeh_timeout) {\n      setTimeout(run_inline_js, 100);\n    } else if (!root._bokeh_failed_load) {\n      console.log(\"Bokeh: BokehJS failed to load within specified timeout.\");\n      root._bokeh_failed_load = true;\n    } else if (force !== true) {\n      const cell = $(document.getElementById(\"a92d15fa-ce99-4eca-9b6d-394ab81b7feb\")).parents('.cell').data().cell;\n      cell.output_area.append_execute_result(NB_LOAD_WARNING)\n    }\n  }\n\n  if (root._bokeh_is_loading === 0) {\n    console.debug(\"Bokeh: BokehJS loaded, going straight to plotting\");\n    run_inline_js();\n  } else {\n    load_libs(css_urls, js_urls, function() {\n      console.debug(\"Bokeh: BokehJS plotting callback run at\", now());\n      run_inline_js();\n    });\n  }\n}(window));"
     },
     "metadata": {},
     "output_type": "display_data"
    }
   ],
   "source": [
    "tao.bokeh.configure(variables_per_row=2, show_sliders=True);"
   ]
  },
  {
   "cell_type": "markdown",
   "metadata": {},
   "source": [
    "## Show a \"single mode\"-style plot with variables\n",
    "\n",
    "Please note that these interactive widgets will **not** display on https://bmad-sim.github.io/pytao documentation.  These only work with a live Tao session."
   ]
  },
  {
   "cell_type": "code",
   "execution_count": 5,
   "metadata": {
    "execution": {
     "iopub.execute_input": "2025-01-13T01:21:46.004276Z",
     "iopub.status.busy": "2025-01-13T01:21:46.004017Z",
     "iopub.status.idle": "2025-01-13T01:21:46.340850Z",
     "shell.execute_reply": "2025-01-13T01:21:46.340335Z"
    }
   },
   "outputs": [
    {
     "data": {
      "text/html": [
       "\n",
       "  <div id=\"bdea786f-e196-4765-b8b4-4af538e8eab9\" data-root-id=\"p1151\" style=\"display: contents;\"></div>\n"
      ]
     },
     "metadata": {},
     "output_type": "display_data"
    },
    {
     "data": {
      "application/javascript": [
       "(function(root) {\n",
       "  function embed_document(root) {\n",
       "  const docs_json = {\"d4ba4759-3cfb-4560-b888-3cfff00cb646\":{\"version\":\"3.6.2\",\"title\":\"Bokeh Application\",\"roots\":[{\"type\":\"object\",\"name\":\"GridPlot\",\"id\":\"p1151\",\"attributes\":{\"rows\":null,\"cols\":null,\"toolbar\":{\"type\":\"object\",\"name\":\"Toolbar\",\"id\":\"p1150\",\"attributes\":{\"logo\":null,\"tools\":[{\"type\":\"object\",\"name\":\"ToolProxy\",\"id\":\"p1143\",\"attributes\":{\"tools\":[{\"type\":\"object\",\"name\":\"PanTool\",\"id\":\"p1031\"},{\"type\":\"object\",\"name\":\"PanTool\",\"id\":\"p1089\"}]}},{\"type\":\"object\",\"name\":\"ToolProxy\",\"id\":\"p1144\",\"attributes\":{\"tools\":[{\"type\":\"object\",\"name\":\"WheelZoomTool\",\"id\":\"p1032\",\"attributes\":{\"renderers\":\"auto\"}},{\"type\":\"object\",\"name\":\"WheelZoomTool\",\"id\":\"p1090\",\"attributes\":{\"renderers\":\"auto\"}}]}},{\"type\":\"object\",\"name\":\"ToolProxy\",\"id\":\"p1145\",\"attributes\":{\"tools\":[{\"type\":\"object\",\"name\":\"BoxZoomTool\",\"id\":\"p1033\",\"attributes\":{\"overlay\":{\"type\":\"object\",\"name\":\"BoxAnnotation\",\"id\":\"p1034\",\"attributes\":{\"syncable\":false,\"line_color\":\"black\",\"line_alpha\":1.0,\"line_width\":2,\"line_dash\":[4,4],\"fill_color\":\"lightgrey\",\"fill_alpha\":0.5,\"level\":\"overlay\",\"visible\":false,\"left\":{\"type\":\"number\",\"value\":\"nan\"},\"right\":{\"type\":\"number\",\"value\":\"nan\"},\"top\":{\"type\":\"number\",\"value\":\"nan\"},\"bottom\":{\"type\":\"number\",\"value\":\"nan\"},\"left_units\":\"canvas\",\"right_units\":\"canvas\",\"top_units\":\"canvas\",\"bottom_units\":\"canvas\",\"handles\":{\"type\":\"object\",\"name\":\"BoxInteractionHandles\",\"id\":\"p1040\",\"attributes\":{\"all\":{\"type\":\"object\",\"name\":\"AreaVisuals\",\"id\":\"p1039\",\"attributes\":{\"fill_color\":\"white\",\"hover_fill_color\":\"lightgray\"}}}}}}}},{\"type\":\"object\",\"name\":\"BoxZoomTool\",\"id\":\"p1091\",\"attributes\":{\"overlay\":{\"type\":\"object\",\"name\":\"BoxAnnotation\",\"id\":\"p1092\",\"attributes\":{\"syncable\":false,\"line_color\":\"black\",\"line_alpha\":1.0,\"line_width\":2,\"line_dash\":[4,4],\"fill_color\":\"lightgrey\",\"fill_alpha\":0.5,\"level\":\"overlay\",\"visible\":false,\"left\":{\"type\":\"number\",\"value\":\"nan\"},\"right\":{\"type\":\"number\",\"value\":\"nan\"},\"top\":{\"type\":\"number\",\"value\":\"nan\"},\"bottom\":{\"type\":\"number\",\"value\":\"nan\"},\"left_units\":\"canvas\",\"right_units\":\"canvas\",\"top_units\":\"canvas\",\"bottom_units\":\"canvas\",\"handles\":{\"type\":\"object\",\"name\":\"BoxInteractionHandles\",\"id\":\"p1098\",\"attributes\":{\"all\":{\"type\":\"object\",\"name\":\"AreaVisuals\",\"id\":\"p1097\",\"attributes\":{\"fill_color\":\"white\",\"hover_fill_color\":\"lightgray\"}}}}}}}}]}},{\"type\":\"object\",\"name\":\"ToolProxy\",\"id\":\"p1146\",\"attributes\":{\"tools\":[{\"type\":\"object\",\"name\":\"ResetTool\",\"id\":\"p1041\"},{\"type\":\"object\",\"name\":\"ResetTool\",\"id\":\"p1099\"}]}},{\"type\":\"object\",\"name\":\"ToolProxy\",\"id\":\"p1147\",\"attributes\":{\"tools\":[{\"type\":\"object\",\"name\":\"HoverTool\",\"id\":\"p1042\",\"attributes\":{\"renderers\":\"auto\"}}]}},{\"type\":\"object\",\"name\":\"ToolProxy\",\"id\":\"p1148\",\"attributes\":{\"tools\":[{\"type\":\"object\",\"name\":\"HoverTool\",\"id\":\"p1139\",\"attributes\":{\"renderers\":[{\"type\":\"object\",\"name\":\"GlyphRenderer\",\"id\":\"p1124\",\"attributes\":{\"data_source\":{\"type\":\"object\",\"name\":\"ColumnDataSource\",\"id\":\"p1115\",\"attributes\":{\"selected\":{\"type\":\"object\",\"name\":\"Selection\",\"id\":\"p1116\",\"attributes\":{\"indices\":[],\"line_indices\":[]}},\"selection_policy\":{\"type\":\"object\",\"name\":\"UnionRenderers\",\"id\":\"p1117\"},\"data\":{\"type\":\"map\",\"entries\":[[\"xs\",[[[[0.0,0.05,0.05,0.0,0.0]]],[[[0.165302449549514,0.215302449549514,0.215302449549514,0.165302449549514,0.165302449549514]]],[[[0.215302449549514,0.322699081698724,0.322699081698724,0.215302449549514,0.215302449549514]]],[[[0.322699081698724,0.392699081698724,0.392699081698724,0.322699081698724,0.322699081698724]]],[[[0.05,0.165302449549514,0.165302449549514,0.05,0.05]]]]],[\"ys\",[[[[0.01,0.01,-0.01,-0.01,0.01]]],[[[0.01,0.01,-0.01,-0.01,0.01]]],[[[-3.84,-3.84,0.0,0.0,-3.84]]],[[[0.01,0.01,-0.01,-0.01,0.01]]],[[[3.96,3.96,0.0,0.0,3.96]]]]],[\"name\",[\"\",\"\",\"FF.QUA02\",\"\",\"FF.QUA01\"]],[\"color\",[\"black\",\"black\",\"blue\",\"black\",\"blue\"]],[\"line_width\",[0.5,0.5,0.5,0.5,0.5]],[\"s_start\",[0.0,0.165302449549514,0.215302449549514,0.322699081698724,0.05]],[\"s_end\",[0.05,0.215302449549514,0.322699081698724,0.392699081698724,0.165302449549514]]]}}},\"view\":{\"type\":\"object\",\"name\":\"CDSView\",\"id\":\"p1125\",\"attributes\":{\"filter\":{\"type\":\"object\",\"name\":\"AllIndices\",\"id\":\"p1126\"}}},\"glyph\":{\"type\":\"object\",\"name\":\"MultiPolygons\",\"id\":\"p1121\",\"attributes\":{\"xs\":{\"type\":\"field\",\"field\":\"xs\"},\"ys\":{\"type\":\"field\",\"field\":\"ys\"},\"line_color\":{\"type\":\"field\",\"field\":\"color\"},\"line_width\":{\"type\":\"field\",\"field\":\"line_width\"},\"fill_color\":{\"type\":\"field\",\"field\":\"color\"},\"fill_alpha\":{\"type\":\"value\",\"value\":0.0},\"hatch_color\":{\"type\":\"field\",\"field\":\"color\"}}},\"nonselection_glyph\":{\"type\":\"object\",\"name\":\"MultiPolygons\",\"id\":\"p1122\",\"attributes\":{\"xs\":{\"type\":\"field\",\"field\":\"xs\"},\"ys\":{\"type\":\"field\",\"field\":\"ys\"},\"line_color\":{\"type\":\"field\",\"field\":\"color\"},\"line_alpha\":{\"type\":\"value\",\"value\":0.1},\"line_width\":{\"type\":\"field\",\"field\":\"line_width\"},\"fill_color\":{\"type\":\"field\",\"field\":\"color\"},\"fill_alpha\":{\"type\":\"value\",\"value\":0.1},\"hatch_color\":{\"type\":\"field\",\"field\":\"color\"},\"hatch_alpha\":{\"type\":\"value\",\"value\":0.1}}},\"muted_glyph\":{\"type\":\"object\",\"name\":\"MultiPolygons\",\"id\":\"p1123\",\"attributes\":{\"xs\":{\"type\":\"field\",\"field\":\"xs\"},\"ys\":{\"type\":\"field\",\"field\":\"ys\"},\"line_color\":{\"type\":\"field\",\"field\":\"color\"},\"line_alpha\":{\"type\":\"value\",\"value\":0.2},\"line_width\":{\"type\":\"field\",\"field\":\"line_width\"},\"fill_color\":{\"type\":\"field\",\"field\":\"color\"},\"fill_alpha\":{\"type\":\"value\",\"value\":0.2},\"hatch_color\":{\"type\":\"field\",\"field\":\"color\"},\"hatch_alpha\":{\"type\":\"value\",\"value\":0.2}}}}}],\"tooltips\":[[\"name\",\"@name\"],[\"s start [m]\",\"@s_start\"],[\"s end [m]\",\"@s_end\"]],\"mode\":\"vline\"}}]}},{\"type\":\"object\",\"name\":\"ToolProxy\",\"id\":\"p1149\",\"attributes\":{\"tools\":[{\"type\":\"object\",\"name\":\"CrosshairTool\",\"id\":\"p1043\",\"attributes\":{\"overlay\":[{\"type\":\"object\",\"name\":\"Span\",\"id\":\"p1141\",\"attributes\":{\"line_dash\":[2,4]}},{\"type\":\"object\",\"name\":\"Span\",\"id\":\"p1142\",\"attributes\":{\"dimension\":\"height\",\"line_dash\":[2,4]}}]}},{\"type\":\"object\",\"name\":\"CrosshairTool\",\"id\":\"p1100\",\"attributes\":{\"overlay\":[{\"id\":\"p1141\"},{\"id\":\"p1142\"}]}}]}},{\"type\":\"object\",\"name\":\"SaveTool\",\"id\":\"p1153\"}]}},\"children\":[[{\"type\":\"object\",\"name\":\"Figure\",\"id\":\"p1009\",\"attributes\":{\"width\":null,\"height\":null,\"sizing_mode\":\"inherit\",\"x_range\":{\"type\":\"object\",\"name\":\"Range1d\",\"id\":\"p1001\",\"attributes\":{\"start\":-0.0020000000000000018,\"end\":0.402}},\"y_range\":{\"type\":\"object\",\"name\":\"Range1d\",\"id\":\"p1002\",\"attributes\":{\"start\":-0.009372599999999953,\"end\":1.8838925999999998}},\"x_scale\":{\"type\":\"object\",\"name\":\"LinearScale\",\"id\":\"p1019\"},\"y_scale\":{\"type\":\"object\",\"name\":\"LinearScale\",\"id\":\"p1020\"},\"title\":{\"type\":\"object\",\"name\":\"Title\",\"id\":\"p1012\",\"attributes\":{\"text\":\" [model uni:1]\"}},\"renderers\":[{\"type\":\"object\",\"name\":\"GlyphRenderer\",\"id\":\"p1050\",\"attributes\":{\"name\":\"c1\",\"data_source\":{\"type\":\"object\",\"name\":\"ColumnDataSource\",\"id\":\"p1003\",\"attributes\":{\"selected\":{\"type\":\"object\",\"name\":\"Selection\",\"id\":\"p1004\",\"attributes\":{\"indices\":[],\"line_indices\":[]}},\"selection_policy\":{\"type\":\"object\",\"name\":\"UnionRenderers\",\"id\":\"p1005\"},\"data\":{\"type\":\"map\",\"entries\":[[\"x\",[0.0,0.000436817665960761,0.000873635331921522,0.00131045299788228,0.00174727066384304,0.00218408832980381,0.00262090599576457,0.00305772366172533,0.00349454132768609,0.00393135899364685,0.00436817665960761,0.00480499432556837,0.00524181199152913,0.00567862965748989,0.00611544732345065,0.00655226498941141,0.00698908265537218,0.00742590032133294,0.0078627179872937,0.00829953565325446,0.00873635331921522,0.00917317098517598,0.00960998865113674,0.0100468063170975,0.0104836239830583,0.010920441649019,0.0113572593149798,0.0117940769809405,0.0122308946469013,0.0126677123128621,0.0131045299788228,0.0135413476447836,0.0139781653107444,0.0144149829767051,0.0148518006426659,0.0152886183086266,0.0157254359745874,0.0161622536405482,0.0165990713065089,0.0170358889724697,0.0174727066384304,0.0179095243043912,0.018346341970352,0.0187831596363127,0.0192199773022735,0.0196567949682342,0.020093612634195,0.0205304303001558,0.0209672479661165,0.0214040656320773,0.0218408832980381,0.0222777009639988,0.0227145186299596,0.0231513362959203,0.0235881539618811,0.0240249716278419,0.0244617892938026,0.0248986069597634,0.0253354246257241,0.0257722422916849,0.0262090599576457,0.0266458776236064,0.0270826952895672,0.0275195129555279,0.0279563306214887,0.0283931482874495,0.0288299659534102,0.029266783619371,0.0297036012853318,0.0301404189512925,0.0305772366172533,0.031014054283214,0.0314508719491748,0.0318876896151356,0.0323245072810963,0.0327613249470571,0.0331981426130178,0.0336349602789786,0.0340717779449394,0.0345085956109001,0.0349454132768609,0.0353822309428216,0.0358190486087824,0.0362558662747432,0.0366926839407039,0.0371295016066647,0.0375663192726254,0.0380031369385862,0.038439954604547,0.0388767722705077,0.0393135899364685,0.0397504076024293,0.04018722526839,0.0406240429343508,0.0410608606003115,0.0414976782662723,0.0419344959322331,0.0423713135981938,0.0428081312641546,0.0432449489301153,0.0436817665960761,0.0441185842620369,0.0445554019279976,0.0449922195939584,0.0454290372599191,0.0458658549258799,0.0463026725918407,0.0467394902578014,0.0471763079237622,0.0476131255897229,0.0480499432556837,0.0484867609216445,0.0489235785876052,0.049360396253566,0.0497972139195268,0.0502340315854875,0.0506708492514483,0.051107666917409,0.0515444845833698,0.0519813022493306,0.0524181199152913,0.0528549375812521,0.0532917552472128,0.0537285729131736,0.0541653905791344,0.0546022082450951,0.0550390259110559,0.0554758435770166,0.0559126612429774,0.0563494789089382,0.0567862965748989,0.0572231142408597,0.0576599319068205,0.0580967495727812,0.058533567238742,0.0589703849047027,0.0594072025706635,0.0598440202366243,0.060280837902585,0.0607176555685458,0.0611544732345065,0.0615912909004673,0.0620281085664281,0.0624649262323888,0.0629017438983496,0.0633385615643104,0.0637753792302711,0.0642121968962319,0.0646490145621926,0.0650858322281534,0.0655226498941141,0.0659594675600749,0.0663962852260357,0.0668331028919964,0.0672699205579572,0.067706738223918,0.0681435558898787,0.0685803735558395,0.0690171912218002,0.069454008887761,0.0698908265537218,0.0703276442196825,0.0707644618856433,0.071201279551604,0.0716380972175648,0.0720749148835256,0.0725117325494863,0.0729485502154471,0.0733853678814079,0.0738221855473686,0.0742590032133294,0.0746958208792901,0.0751326385452509,0.0755694562112117,0.0760062738771724,0.0764430915431332,0.0768799092090939,0.0773167268750547,0.0777535445410155,0.0781903622069762,0.078627179872937,0.0790639975388977,0.0795008152048585,0.0799376328708193,0.08037445053678,0.0808112682027408,0.0812480858687015,0.0816849035346623,0.0821217212006231,0.0825585388665838,0.0829953565325446,0.0834321741985053,0.0838689918644661,0.0843058095304269,0.0847426271963876,0.0851794448623484,0.0856162625283091,0.0860530801942699,0.0864898978602307,0.0869267155261914,0.0873635331921522,0.087800350858113,0.0882371685240737,0.0886739861900345,0.0891108038559952,0.089547621521956,0.0899844391879168,0.0904212568538775,0.0908580745198383,0.0912948921857991,0.0917317098517598,0.0921685275177206,0.0926053451836813,0.0930421628496421,0.0934789805156029,0.0939157981815636,0.0943526158475244,0.0947894335134851,0.0952262511794459,0.0956630688454067,0.0960998865113674,0.0965367041773282,0.0969735218432889,0.0974103395092497,0.0978471571752105,0.0982839748411712,0.098720792507132,0.0991576101730927,0.0995944278390535,0.100031245505014,0.100468063170975,0.100904880836936,0.101341698502897,0.101778516168857,0.102215333834818,0.102652151500779,0.10308896916674,0.1035257868327,0.103962604498661,0.104399422164622,0.104836239830583,0.105273057496543,0.105709875162504,0.106146692828465,0.106583510494426,0.107020328160386,0.107457145826347]],[\"y\",[0.733087313358451,0.737750065765777,0.742430565140419,0.747128811482378,0.751844804791653,0.756578545068245,0.761330032312154,0.766099266523379,0.77088624770192,0.775690975847779,0.780513450960953,0.785353673041445,0.790211642089253,0.795087358104377,0.799980821086818,0.804892031036575,0.809820987953649,0.81476769183804,0.819732142689747,0.824714340508771,0.829714285295111,0.834731977048768,0.839767415769741,0.844820601458031,0.849891534113638,0.854980213736561,0.8600866403268,0.865210813884356,0.870352734409229,0.875512401901418,0.880689816360924,0.885884977787747,0.891097886181886,0.896328541543341,0.901576943872113,0.906843093168202,0.912126989431607,0.917428632662328,0.922748022860367,0.928085160025722,0.933440044158393,0.938812675258381,0.944203053325685,0.949611178360306,0.955037050362244,0.960480669331498,0.965942035268068,0.971421148171956,0.976918008043159,0.98243261488168,0.987964968687517,0.99351506946067,0.99908291720114,1.00466851190893,1.01027185358403,1.01589294222645,1.02153177783619,1.02718836041324,1.03286268995761,1.03855476646929,1.0442645899483,1.04999216039461,1.05573747780825,1.0615005421892,1.06728135353747,1.07307991185306,1.07889621713596,1.08473026938618,1.09058206860371,1.09645161478856,1.10233890794073,1.10824394806022,1.11416673514702,1.12010726920113,1.12606555022257,1.13204157821132,1.13803535316739,1.14404687509077,1.15007614398147,1.15612315983949,1.16218792266482,1.16827043245747,1.17437068921744,1.18048869294472,1.18662444363932,1.19277794130124,1.19894918593047,1.20513817752702,1.21134491609089,1.21756940162207,1.22381163412057,1.23007161358638,1.23634934001951,1.24264481341996,1.24895803378773,1.25528900112281,1.26163771542521,1.26800417669492,1.27438838493196,1.2807903401363,1.28721004230797,1.29364749144695,1.30010268755325,1.30657563062686,1.31306632066779,1.31957475767604,1.3261009416516,1.33264487259448,1.33920655050468,1.34578597538219,1.35238314722702,1.35899806603917,1.36563073181863,1.37228114456541,1.37894930427951,1.45784720688995,1.46434623502018,1.4708087245255,1.47723421344401,1.48362224245874,1.48997235493051,1.49628409693054,1.50255701727291,1.5087906675468,1.51498460214857,1.52113837831359,1.52725155614791,1.53332369865968,1.53935437179041,1.54534314444598,1.55128958852749,1.5571932789618,1.563053793732,1.56887071390749,1.57464362367398,1.58037211036322,1.58605576448247,1.59169417974376,1.59728695309299,1.60283368473868,1.6083339781806,1.61378744023808,1.6191936810781,1.62455231424323,1.62986295667917,1.63512522876218,1.6403387543262,1.64550316068977,1.65061807868261,1.65568314267207,1.66069799058925,1.66566226395484,1.67057560790482,1.67543767121575,1.68024810632996,1.68500656938029,1.68971272021478,1.69436622242091,1.69896674334968,1.70351395413938,1.70800752973909,1.71244714893193,1.71683249435804,1.72116325253721,1.72543911389133,1.72965977276654,1.73382492745501,1.73793428021657,1.74198753729998,1.74598440896389,1.74992460949761,1.7538078572415,1.75763387460709,1.76140238809697,1.7651131283243,1.76876583003207,1.77236023211209,1.77589607762362,1.77937311381176,1.78279109212553,1.78614976823557,1.7894489020517,1.79268825774003,1.79586760373979,1.79898671277996,1.80204536189545,1.80504333244307,1.80798041011715,1.81085638496485,1.81367105140121,1.81642420822376,1.81911565862702,1.82174521021647,1.82431267502234,1.82681786951305,1.82926061460833,1.83164073569201,1.83395806262451,1.83621242975501,1.83840367593327,1.84053164452117,1.84259618340388,1.84459714500078,1.84653438627597,1.8484077687485,1.85021715850229,1.85196242619567,1.85364344707066,1.85526010096186,1.85681227230508,1.85829985014554,1.85972272814585,1.86108080459359,1.86237398240861,1.8636021691499,1.8647652770223,1.86586322288269,1.86689592824595,1.86786331929062,1.86876532686411,1.86960188648771,1.87037293836112,1.8710784273668,1.87171830307386,1.87229251974171,1.87280103632328,1.87324381646798,1.8736208285243,1.87393204554207,1.87417744527438,1.87435701017918,1.87447072742053,1.87451858886951,1.87450059110481,1.87441673541299,1.87426702778834,1.8740514789325,1.87377010425367,1.87342292386553,1.87300996258578,1.87253124993435,1.87198682013136,1.87137671209459,1.87070096943674,1.86995964046233,1.8691527781642,1.86828044021976]]]}}},\"view\":{\"type\":\"object\",\"name\":\"CDSView\",\"id\":\"p1051\",\"attributes\":{\"filter\":{\"type\":\"object\",\"name\":\"AllIndices\",\"id\":\"p1052\"}}},\"glyph\":{\"type\":\"object\",\"name\":\"Line\",\"id\":\"p1047\",\"attributes\":{\"x\":{\"type\":\"field\",\"field\":\"x\"},\"y\":{\"type\":\"field\",\"field\":\"y\"},\"line_color\":\"red\"}},\"nonselection_glyph\":{\"type\":\"object\",\"name\":\"Line\",\"id\":\"p1048\",\"attributes\":{\"x\":{\"type\":\"field\",\"field\":\"x\"},\"y\":{\"type\":\"field\",\"field\":\"y\"},\"line_color\":\"red\",\"line_alpha\":0.1}},\"muted_glyph\":{\"type\":\"object\",\"name\":\"Line\",\"id\":\"p1049\",\"attributes\":{\"x\":{\"type\":\"field\",\"field\":\"x\"},\"y\":{\"type\":\"field\",\"field\":\"y\"},\"line_color\":\"red\",\"line_alpha\":0.2}}}},{\"type\":\"object\",\"name\":\"GlyphRenderer\",\"id\":\"p1061\",\"attributes\":{\"name\":\"c2\",\"data_source\":{\"type\":\"object\",\"name\":\"ColumnDataSource\",\"id\":\"p1006\",\"attributes\":{\"selected\":{\"type\":\"object\",\"name\":\"Selection\",\"id\":\"p1007\",\"attributes\":{\"indices\":[],\"line_indices\":[]}},\"selection_policy\":{\"type\":\"object\",\"name\":\"UnionRenderers\",\"id\":\"p1008\"},\"data\":{\"type\":\"map\",\"entries\":[[\"x\",[0.0,0.000436817665960761,0.000873635331921522,0.00131045299788228,0.00174727066384304,0.00218408832980381,0.00262090599576457,0.00305772366172533,0.00349454132768609,0.00393135899364685,0.00436817665960761,0.00480499432556837,0.00524181199152913,0.00567862965748989,0.00611544732345065,0.00655226498941141,0.00698908265537218,0.00742590032133294,0.0078627179872937,0.00829953565325446,0.00873635331921522,0.00917317098517598,0.00960998865113674,0.0100468063170975,0.0104836239830583,0.010920441649019,0.0113572593149798,0.0117940769809405,0.0122308946469013,0.0126677123128621,0.0131045299788228,0.0135413476447836,0.0139781653107444,0.0144149829767051,0.0148518006426659,0.0152886183086266,0.0157254359745874,0.0161622536405482,0.0165990713065089,0.0170358889724697,0.0174727066384304,0.0179095243043912,0.018346341970352,0.0187831596363127,0.0192199773022735,0.0196567949682342,0.020093612634195,0.0205304303001558,0.0209672479661165,0.0214040656320773,0.0218408832980381,0.0222777009639988,0.0227145186299596,0.0231513362959203,0.0235881539618811,0.0240249716278419,0.0244617892938026,0.0248986069597634,0.0253354246257241,0.0257722422916849,0.0262090599576457,0.0266458776236064,0.0270826952895672,0.0275195129555279,0.0279563306214887,0.0283931482874495,0.0288299659534102,0.029266783619371,0.0297036012853318,0.0301404189512925,0.0305772366172533,0.031014054283214,0.0314508719491748,0.0318876896151356,0.0323245072810963,0.0327613249470571,0.0331981426130178,0.0336349602789786,0.0340717779449394,0.0345085956109001,0.0349454132768609,0.0353822309428216,0.0358190486087824,0.0362558662747432,0.0366926839407039,0.0371295016066647,0.0375663192726254,0.0380031369385862,0.038439954604547,0.0388767722705077,0.0393135899364685,0.0397504076024293,0.04018722526839,0.0406240429343508,0.0410608606003115,0.0414976782662723,0.0419344959322331,0.0423713135981938,0.0428081312641546,0.0432449489301153,0.0436817665960761,0.0441185842620369,0.0445554019279976,0.0449922195939584,0.0454290372599191,0.0458658549258799,0.0463026725918407,0.0467394902578014,0.0471763079237622,0.0476131255897229,0.0480499432556837,0.0484867609216445,0.0489235785876052,0.049360396253566,0.0497972139195268,0.0502340315854875,0.0506708492514483,0.051107666917409,0.0515444845833698,0.0519813022493306,0.0524181199152913,0.0528549375812521,0.0532917552472128,0.0537285729131736,0.0541653905791344,0.0546022082450951,0.0550390259110559,0.0554758435770166,0.0559126612429774,0.0563494789089382,0.0567862965748989,0.0572231142408597,0.0576599319068205,0.0580967495727812,0.058533567238742,0.0589703849047027,0.0594072025706635,0.0598440202366243,0.060280837902585,0.0607176555685458,0.0611544732345065,0.0615912909004673,0.0620281085664281,0.0624649262323888,0.0629017438983496,0.0633385615643104,0.0637753792302711,0.0642121968962319,0.0646490145621926,0.0650858322281534,0.0655226498941141,0.0659594675600749,0.0663962852260357,0.0668331028919964,0.0672699205579572,0.067706738223918,0.0681435558898787,0.0685803735558395,0.0690171912218002,0.069454008887761,0.0698908265537218,0.0703276442196825,0.0707644618856433,0.071201279551604,0.0716380972175648,0.0720749148835256,0.0725117325494863,0.0729485502154471,0.0733853678814079,0.0738221855473686,0.0742590032133294,0.0746958208792901,0.0751326385452509,0.0755694562112117,0.0760062738771724,0.0764430915431332,0.0768799092090939,0.0773167268750547,0.0777535445410155,0.0781903622069762,0.078627179872937,0.0790639975388977,0.0795008152048585,0.0799376328708193,0.08037445053678,0.0808112682027408,0.0812480858687015,0.0816849035346623,0.0821217212006231,0.0825585388665838,0.0829953565325446,0.0834321741985053,0.0838689918644661,0.0843058095304269,0.0847426271963876,0.0851794448623484,0.0856162625283091,0.0860530801942699,0.0864898978602307,0.0869267155261914,0.0873635331921522,0.087800350858113,0.0882371685240737,0.0886739861900345,0.0891108038559952,0.089547621521956,0.0899844391879168,0.0904212568538775,0.0908580745198383,0.0912948921857991,0.0917317098517598,0.0921685275177206,0.0926053451836813,0.0930421628496421,0.0934789805156029,0.0939157981815636,0.0943526158475244,0.0947894335134851,0.0952262511794459,0.0956630688454067,0.0960998865113674,0.0965367041773282,0.0969735218432889,0.0974103395092497,0.0978471571752105,0.0982839748411712,0.098720792507132,0.0991576101730927,0.0995944278390535,0.100031245505014,0.100468063170975,0.100904880836936,0.101341698502897,0.101778516168857,0.102215333834818,0.102652151500779,0.10308896916674,0.1035257868327,0.103962604498661,0.104399422164622,0.104836239830583,0.105273057496543,0.105709875162504,0.106146692828465,0.106583510494426,0.107020328160386,0.107457145826347,0.107893963492308]],[\"y\",[0.584481983183544,0.580877910441824,0.577288674980815,0.573714276800515,0.570154715900925,0.566609992282045,0.563080105943875,0.559565056886415,0.556064845109665,0.552579470613625,0.549108933398295,0.545653233463675,0.542212370809765,0.538786345436564,0.535375157344074,0.531978806532294,0.528597293001223,0.525230616750863,0.521878777781212,0.518541776092272,0.515219611684041,0.511912284556521,0.50861979470971,0.50534214214361,0.502079326858219,0.498831348853538,0.495598208129567,0.492379904686306,0.489176438523755,0.485987809641914,0.482814018040783,0.479655063720362,0.476510946680651,0.47338166692165,0.470267224443359,0.467167619245778,0.464082851328906,0.461012920692745,0.457957827337294,0.454917571262552,0.451892152468521,0.448881570955199,0.445885826722588,0.442904919770686,0.439938850099495,0.436987617709013,0.434051222599241,0.431129664770179,0.428222944221827,0.425331060954186,0.422454014967254,0.419591806261032,0.41674443483552,0.413911900690718,0.411094203826626,0.408291344243244,0.405503321940571,0.402730136918609,0.399971789177357,0.397228278716815,0.394499605536982,0.39178576963786,0.389086771019447,0.386402609681745,0.383733285624752,0.38107879884847,0.378439149352897,0.375814337138035,0.373204362203882,0.370609224550439,0.368028924177706,0.365463461085683,0.362912835274371,0.360377046743768,0.357856095493875,0.355349981524692,0.352858704836219,0.350382265428455,0.347920663301402,0.345473898455059,0.343041970889426,0.340624880604503,0.338222627600289,0.335835211876786,0.333462633433992,0.331104892271909,0.328761988390535,0.326433921789872,0.324120692469918,0.321822300430675,0.319538745672141,0.317270028194317,0.315016147997203,0.3127771050808,0.310552899445106,0.308343531090122,0.306149000015848,0.303969306222284,0.30180444970943,0.299654430477286,0.297519248525852,0.295398903855127,0.293293396465113,0.291202726355809,0.289126893527215,0.28706589797933,0.285019739712156,0.282988418725691,0.280971935019937,0.278970288594892,0.276983479450558,0.275011507586933,0.273054373004018,0.271112075701814,0.269184615680319,0.253907585364935,0.252011162267651,0.250139265000771,0.24829175975278,0.246468514455814,0.244669398776217,0.242894284105224,0.241143043549771,0.239415551923418,0.237711685737408,0.236031323191832,0.234374344166926,0.232740630214485,0.231130064549394,0.229542532041279,0.227977919206279,0.226436114198934,0.224917006804186,0.223420488429506,0.221946452097125,0.220494792436393,0.219065405676242,0.217658189637771,0.216273043726938,0.214909868927375,0.213568567793303,0.212249044442572,0.210951204549803,0.209674955339649,0.208420205580156,0.207186865576252,0.205974847163326,0.204784063700927,0.203614430066576,0.202465862649677,0.201338279345538,0.200231599549506,0.199145744151205,0.198080635528876,0.197036197543834,0.196012355535022,0.195009036313674,0.194026168158086,0.193063680808484,0.192121505462007,0.191199574767783,0.19029782282212,0.189416185163791,0.18855459876943,0.18771300204902,0.186891334841498,0.18608953841045,0.185307555439911,0.184545330030274,0.183802807694286,0.183079935353161,0.182376661332778,0.181692935359993,0.181028708559043,0.180383933448051,0.179758563935635,0.179152555317609,0.178565864273792,0.177998448864906,0.177450268529583,0.176921284081463,0.176411457706391,0.175920752959721,0.175449134763699,0.174996569404968,0.174563024532149,0.174148469153533,0.173752873634864,0.17337620969722,0.173018450414994,0.172679570213966,0.172359544869478,0.172058351504698,0.17177596858899,0.171512375936372,0.171267554704073,0.171041487391184,0.170834157837413,0.170645551221924,0.170475654062281,0.17032445421348,0.170191940867088,0.170078104550461,0.169982937126076,0.169906431790943,0.169848583076122,0.169809386846331,0.169788840299648,0.169786941967317,0.169803691713634,0.169839090735948,0.169893141564736,0.169965848063792,0.170057215430498,0.170167250196199,0.170295960226668,0.170443354722668,0.17060944422061,0.17079424059331,0.17099775705083,0.171220008141429,0.1714610097526,0.171720779112207,0.171999334789715,0.172296696697519,0.172612886092366,0.172947925576876,0.173301839101155,0.173674651964513,0.174066390817264,0.174477083662638,0.174906759858782,0.175355450120853,0.17582318652322,0.176310002501756,0.176815932856224,0.177341013752769,0.177885282726501,0.178448778684178,0.179031541906991,0.179633614053436,0.1802550381623,0.180895858655734,0.181556121342425,0.182235873420879,0.182935163482788,0.183654041516504,0.184392558910616]]]}}},\"view\":{\"type\":\"object\",\"name\":\"CDSView\",\"id\":\"p1062\",\"attributes\":{\"filter\":{\"type\":\"object\",\"name\":\"AllIndices\",\"id\":\"p1063\"}}},\"glyph\":{\"type\":\"object\",\"name\":\"Line\",\"id\":\"p1058\",\"attributes\":{\"x\":{\"type\":\"field\",\"field\":\"x\"},\"y\":{\"type\":\"field\",\"field\":\"y\"},\"line_color\":\"green\"}},\"nonselection_glyph\":{\"type\":\"object\",\"name\":\"Line\",\"id\":\"p1059\",\"attributes\":{\"x\":{\"type\":\"field\",\"field\":\"x\"},\"y\":{\"type\":\"field\",\"field\":\"y\"},\"line_color\":\"green\",\"line_alpha\":0.1}},\"muted_glyph\":{\"type\":\"object\",\"name\":\"Line\",\"id\":\"p1060\",\"attributes\":{\"x\":{\"type\":\"field\",\"field\":\"x\"},\"y\":{\"type\":\"field\",\"field\":\"y\"},\"line_color\":\"green\",\"line_alpha\":0.2}}}}],\"toolbar\":{\"type\":\"object\",\"name\":\"Toolbar\",\"id\":\"p1018\",\"attributes\":{\"logo\":null,\"tools\":[{\"id\":\"p1031\"},{\"id\":\"p1032\"},{\"id\":\"p1033\"},{\"id\":\"p1041\"},{\"id\":\"p1042\"},{\"id\":\"p1043\"}]}},\"toolbar_location\":null,\"left\":[{\"type\":\"object\",\"name\":\"LinearAxis\",\"id\":\"p1026\",\"attributes\":{\"ticker\":{\"type\":\"object\",\"name\":\"BasicTicker\",\"id\":\"p1027\",\"attributes\":{\"mantissas\":[1,2,5]}},\"formatter\":{\"type\":\"object\",\"name\":\"BasicTickFormatter\",\"id\":\"p1028\"},\"axis_label\":\"$$\\\\beta _x,\\\\ \\\\beta _y\\\\ (m)$$\",\"major_label_policy\":{\"type\":\"object\",\"name\":\"AllLabels\",\"id\":\"p1029\"}}}],\"below\":[{\"type\":\"object\",\"name\":\"LinearAxis\",\"id\":\"p1021\",\"attributes\":{\"ticker\":{\"type\":\"object\",\"name\":\"BasicTicker\",\"id\":\"p1022\",\"attributes\":{\"mantissas\":[1,2,5]}},\"formatter\":{\"type\":\"object\",\"name\":\"BasicTickFormatter\",\"id\":\"p1023\"},\"axis_label\":\"s (m)\",\"major_label_policy\":{\"type\":\"object\",\"name\":\"AllLabels\",\"id\":\"p1024\"}}}],\"center\":[{\"type\":\"object\",\"name\":\"Grid\",\"id\":\"p1025\",\"attributes\":{\"axis\":{\"id\":\"p1021\"}}},{\"type\":\"object\",\"name\":\"Grid\",\"id\":\"p1030\",\"attributes\":{\"dimension\":1,\"axis\":{\"id\":\"p1026\"}}},{\"type\":\"object\",\"name\":\"Legend\",\"id\":\"p1053\",\"attributes\":{\"items\":[{\"type\":\"object\",\"name\":\"LegendItem\",\"id\":\"p1054\",\"attributes\":{\"label\":{\"type\":\"value\",\"value\":\"c1\"},\"renderers\":[{\"id\":\"p1050\"}]}},{\"type\":\"object\",\"name\":\"LegendItem\",\"id\":\"p1064\",\"attributes\":{\"label\":{\"type\":\"value\",\"value\":\"c2\"},\"renderers\":[{\"id\":\"p1061\"}]}}]}}],\"frame_width\":800,\"frame_height\":200,\"min_border_left\":80}},0,0],[{\"type\":\"object\",\"name\":\"Figure\",\"id\":\"p1067\",\"attributes\":{\"sizing_mode\":\"inherit\",\"x_range\":{\"id\":\"p1001\"},\"y_range\":{\"type\":\"object\",\"name\":\"Range1d\",\"id\":\"p1066\",\"attributes\":{\"start\":-1.01,\"end\":1.01}},\"x_scale\":{\"type\":\"object\",\"name\":\"LinearScale\",\"id\":\"p1077\"},\"y_scale\":{\"type\":\"object\",\"name\":\"LinearScale\",\"id\":\"p1078\"},\"title\":{\"type\":\"object\",\"name\":\"Title\",\"id\":\"p1070\"},\"renderers\":[{\"type\":\"object\",\"name\":\"GlyphRenderer\",\"id\":\"p1112\",\"attributes\":{\"data_source\":{\"type\":\"object\",\"name\":\"ColumnDataSource\",\"id\":\"p1103\",\"attributes\":{\"selected\":{\"type\":\"object\",\"name\":\"Selection\",\"id\":\"p1104\",\"attributes\":{\"indices\":[],\"line_indices\":[]}},\"selection_policy\":{\"type\":\"object\",\"name\":\"UnionRenderers\",\"id\":\"p1105\"},\"data\":{\"type\":\"map\",\"entries\":[[\"x\",[]],[\"y\",[]],[\"name\",[]],[\"text\",[]],[\"color\",[]],[\"baseline\",[]],[\"align\",[]],[\"rotation\",[]],[\"font_size\",[]]]}}},\"view\":{\"type\":\"object\",\"name\":\"CDSView\",\"id\":\"p1113\",\"attributes\":{\"filter\":{\"type\":\"object\",\"name\":\"AllIndices\",\"id\":\"p1114\"}}},\"glyph\":{\"type\":\"object\",\"name\":\"Text\",\"id\":\"p1109\",\"attributes\":{\"x\":{\"type\":\"field\",\"field\":\"x\"},\"y\":{\"type\":\"field\",\"field\":\"y\"},\"angle\":{\"type\":\"field\",\"field\":\"rotation\"},\"text_color\":{\"type\":\"field\",\"field\":\"color\"},\"text_font_size\":{\"type\":\"field\",\"field\":\"font_size\"},\"text_align\":{\"type\":\"field\",\"field\":\"align\"},\"text_baseline\":{\"type\":\"field\",\"field\":\"baseline\"}}},\"nonselection_glyph\":{\"type\":\"object\",\"name\":\"Text\",\"id\":\"p1110\",\"attributes\":{\"x\":{\"type\":\"field\",\"field\":\"x\"},\"y\":{\"type\":\"field\",\"field\":\"y\"},\"angle\":{\"type\":\"field\",\"field\":\"rotation\"},\"text_color\":{\"type\":\"field\",\"field\":\"color\"},\"text_alpha\":{\"type\":\"value\",\"value\":0.1},\"text_font_size\":{\"type\":\"field\",\"field\":\"font_size\"},\"text_align\":{\"type\":\"field\",\"field\":\"align\"},\"text_baseline\":{\"type\":\"field\",\"field\":\"baseline\"}}},\"muted_glyph\":{\"type\":\"object\",\"name\":\"Text\",\"id\":\"p1111\",\"attributes\":{\"x\":{\"type\":\"field\",\"field\":\"x\"},\"y\":{\"type\":\"field\",\"field\":\"y\"},\"angle\":{\"type\":\"field\",\"field\":\"rotation\"},\"text_color\":{\"type\":\"field\",\"field\":\"color\"},\"text_alpha\":{\"type\":\"value\",\"value\":0.2},\"text_font_size\":{\"type\":\"field\",\"field\":\"font_size\"},\"text_align\":{\"type\":\"field\",\"field\":\"align\"},\"text_baseline\":{\"type\":\"field\",\"field\":\"baseline\"}}}}},{\"id\":\"p1124\"},{\"type\":\"object\",\"name\":\"GlyphRenderer\",\"id\":\"p1136\",\"attributes\":{\"data_source\":{\"type\":\"object\",\"name\":\"ColumnDataSource\",\"id\":\"p1127\",\"attributes\":{\"selected\":{\"type\":\"object\",\"name\":\"Selection\",\"id\":\"p1128\",\"attributes\":{\"indices\":[],\"line_indices\":[]}},\"selection_policy\":{\"type\":\"object\",\"name\":\"UnionRenderers\",\"id\":\"p1129\"},\"data\":{\"type\":\"map\",\"entries\":[[\"xs\",[]],[\"ys\",[]],[\"name\",[]],[\"s_start\",[]],[\"s_end\",[]],[\"line_width\",[]],[\"color\",[]]]}}},\"view\":{\"type\":\"object\",\"name\":\"CDSView\",\"id\":\"p1137\",\"attributes\":{\"filter\":{\"type\":\"object\",\"name\":\"AllIndices\",\"id\":\"p1138\"}}},\"glyph\":{\"type\":\"object\",\"name\":\"MultiLine\",\"id\":\"p1133\",\"attributes\":{\"xs\":{\"type\":\"field\",\"field\":\"xs\"},\"ys\":{\"type\":\"field\",\"field\":\"ys\"},\"line_color\":{\"type\":\"field\",\"field\":\"color\"},\"line_width\":{\"type\":\"field\",\"field\":\"line_width\"}}},\"nonselection_glyph\":{\"type\":\"object\",\"name\":\"MultiLine\",\"id\":\"p1134\",\"attributes\":{\"xs\":{\"type\":\"field\",\"field\":\"xs\"},\"ys\":{\"type\":\"field\",\"field\":\"ys\"},\"line_color\":{\"type\":\"field\",\"field\":\"color\"},\"line_alpha\":{\"type\":\"value\",\"value\":0.1},\"line_width\":{\"type\":\"field\",\"field\":\"line_width\"}}},\"muted_glyph\":{\"type\":\"object\",\"name\":\"MultiLine\",\"id\":\"p1135\",\"attributes\":{\"xs\":{\"type\":\"field\",\"field\":\"xs\"},\"ys\":{\"type\":\"field\",\"field\":\"ys\"},\"line_color\":{\"type\":\"field\",\"field\":\"color\"},\"line_alpha\":{\"type\":\"value\",\"value\":0.2},\"line_width\":{\"type\":\"field\",\"field\":\"line_width\"}}}}},{\"type\":\"object\",\"name\":\"Span\",\"id\":\"p1140\",\"attributes\":{\"location\":0}}],\"toolbar\":{\"type\":\"object\",\"name\":\"Toolbar\",\"id\":\"p1076\",\"attributes\":{\"logo\":null,\"tools\":[{\"id\":\"p1089\"},{\"id\":\"p1090\"},{\"id\":\"p1091\"},{\"id\":\"p1099\"},{\"id\":\"p1100\"},{\"id\":\"p1139\"}]}},\"toolbar_location\":null,\"left\":[{\"type\":\"object\",\"name\":\"LinearAxis\",\"id\":\"p1084\",\"attributes\":{\"visible\":false,\"ticker\":{\"type\":\"object\",\"name\":\"FixedTicker\",\"id\":\"p1102\",\"attributes\":{\"ticks\":[],\"minor_ticks\":[]}},\"formatter\":{\"type\":\"object\",\"name\":\"BasicTickFormatter\",\"id\":\"p1086\"},\"major_label_policy\":{\"type\":\"object\",\"name\":\"AllLabels\",\"id\":\"p1087\"}}}],\"below\":[{\"type\":\"object\",\"name\":\"LinearAxis\",\"id\":\"p1079\",\"attributes\":{\"ticker\":{\"type\":\"object\",\"name\":\"FixedTicker\",\"id\":\"p1101\",\"attributes\":{\"ticks\":[0.0,0.165302449549514,0.215302449549514,0.322699081698724,0.05],\"minor_ticks\":[0.05,0.215302449549514,0.322699081698724,0.392699081698724,0.165302449549514]}},\"formatter\":{\"type\":\"object\",\"name\":\"BasicTickFormatter\",\"id\":\"p1081\"},\"major_label_orientation\":0.7853981633974483,\"major_label_overrides\":{\"type\":\"map\",\"entries\":[[0.0,\"\"],[0.165302449549514,\"\"],[0.215302449549514,\"FF.QUA02\"],[0.322699081698724,\"\"],[0.05,\"FF.QUA01\"]]},\"major_label_policy\":{\"type\":\"object\",\"name\":\"AllLabels\",\"id\":\"p1082\"}}}],\"center\":[{\"type\":\"object\",\"name\":\"Grid\",\"id\":\"p1083\",\"attributes\":{\"axis\":{\"id\":\"p1079\"}}},{\"type\":\"object\",\"name\":\"Grid\",\"id\":\"p1088\",\"attributes\":{\"dimension\":1,\"axis\":{\"id\":\"p1084\"}}}],\"frame_width\":800,\"frame_height\":75,\"min_border_left\":80}},1,0]]}}]}};\n",
       "  const render_items = [{\"docid\":\"d4ba4759-3cfb-4560-b888-3cfff00cb646\",\"roots\":{\"p1151\":\"bdea786f-e196-4765-b8b4-4af538e8eab9\"},\"root_ids\":[\"p1151\"]}];\n",
       "  void root.Bokeh.embed.embed_items_notebook(docs_json, render_items);\n",
       "  }\n",
       "  if (root.Bokeh !== undefined) {\n",
       "    embed_document(root);\n",
       "  } else {\n",
       "    let attempts = 0;\n",
       "    const timer = setInterval(function(root) {\n",
       "      if (root.Bokeh !== undefined) {\n",
       "        clearInterval(timer);\n",
       "        embed_document(root);\n",
       "      } else {\n",
       "        attempts++;\n",
       "        if (attempts > 100) {\n",
       "          clearInterval(timer);\n",
       "          console.log(\"Bokeh: ERROR: Unable to run BokehJS code because BokehJS library is missing\");\n",
       "        }\n",
       "      }\n",
       "    }, 10, root)\n",
       "  }\n",
       "})(window);"
      ],
      "application/vnd.bokehjs_exec.v0+json": ""
     },
     "metadata": {
      "application/vnd.bokehjs_exec.v0+json": {
       "id": "p1151"
      }
     },
     "output_type": "display_data"
    }
   ],
   "source": [
    "tao.plot(\"beta\", vars=True, width=800, height=200, layout_height=75)"
   ]
  },
  {
   "cell_type": "markdown",
   "metadata": {},
   "source": [
    "## Query variable values programmatically"
   ]
  },
  {
   "cell_type": "code",
   "execution_count": 6,
   "metadata": {
    "execution": {
     "iopub.execute_input": "2025-01-13T01:21:46.342584Z",
     "iopub.status.busy": "2025-01-13T01:21:46.342318Z",
     "iopub.status.idle": "2025-01-13T01:21:46.345984Z",
     "shell.execute_reply": "2025-01-13T01:21:46.345527Z"
    }
   },
   "outputs": [
    {
     "data": {
      "text/plain": [
       "-20.931"
      ]
     },
     "execution_count": 6,
     "metadata": {},
     "output_type": "execute_result"
    }
   ],
   "source": [
    "tao.var(\"q[1]\")[\"model_value\"]"
   ]
  }
 ],
 "metadata": {
  "kernelspec": {
   "display_name": "Python 3 (ipykernel)",
   "language": "python",
   "name": "python3"
  },
  "language_info": {
   "codemirror_mode": {
    "name": "ipython",
    "version": 3
   },
   "file_extension": ".py",
   "mimetype": "text/x-python",
   "name": "python",
   "nbconvert_exporter": "python",
   "pygments_lexer": "ipython3",
   "version": "3.12.8"
  },
  "vscode": {
   "interpreter": {
    "hash": "610c699f0cd8c4f129acd9140687fff6866bed0eb8e82f249fc8848b827b628c"
   }
  }
 },
 "nbformat": 4,
 "nbformat_minor": 4
}
