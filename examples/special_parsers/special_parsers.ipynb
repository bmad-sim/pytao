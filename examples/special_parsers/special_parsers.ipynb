{
 "cells": [
  {
   "cell_type": "markdown",
   "id": "073838e5-0a4e-4e40-8928-2bcd5eea29ab",
   "metadata": {},
   "source": [
    "# Special Parsers\n",
    "\n",
    "Some of the Tao python commands output special structures in a `;` delimited fashion. Some PyTao methods parse these into more useful structures. "
   ]
  },
  {
   "cell_type": "code",
   "execution_count": 1,
   "id": "fefc9efd-b53a-4ef8-b64e-91a0401b6959",
   "metadata": {},
   "outputs": [],
   "source": [
    "from pytao import Tao"
   ]
  },
  {
   "cell_type": "code",
   "execution_count": 2,
   "id": "b91bb8e2-d3dd-4b8d-b5b1-75c14b5d4fa9",
   "metadata": {},
   "outputs": [],
   "source": [
    "tao=Tao('-init $ACC_ROOT_DIR/regression_tests/python_test/cesr/tao.init -noplot')"
   ]
  },
  {
   "cell_type": "code",
   "execution_count": 3,
   "id": "f9c97dfc-86ec-45ce-8ec3-1b88eae6d649",
   "metadata": {},
   "outputs": [],
   "source": [
    "#%%tao\n",
    "#python data_d_array orbit.x\n",
    "\n",
    "line = '9;orbit.x;target;;;DET_09W;  0.00000000000000E+00; -9.54891709945198E-03; -9.54891709949591E-03;F;F;F;  1.00000000000000E+06;T'"
   ]
  },
  {
   "cell_type": "markdown",
   "id": "33fefcfc-eb6e-4a98-9346-8ea62d8ec1a9",
   "metadata": {},
   "source": [
    "# data_d_array"
   ]
  },
  {
   "cell_type": "code",
   "execution_count": 4,
   "id": "6f549bd6-a8d3-472d-8a17-74ffb4a7b3ea",
   "metadata": {},
   "outputs": [
    {
     "data": {
      "text/plain": [
       "{'ix_d1': 7,\n",
       " 'data_type': 'orbit.x',\n",
       " 'merit_type': 'target',\n",
       " 'ele_ref_name': '',\n",
       " 'ele_start_name': '',\n",
       " 'ele_name': 'DET_07W',\n",
       " 'meas_value': 0.0,\n",
       " 'model_value': -0.00909995345026739,\n",
       " 'design_value': -0.00909995345026739,\n",
       " 'useit_opt': False,\n",
       " 'useit_plot': False,\n",
       " 'good_user': True,\n",
       " 'weight': 1000000.0,\n",
       " 'exists': True}"
      ]
     },
     "execution_count": 4,
     "metadata": {},
     "output_type": "execute_result"
    }
   ],
   "source": [
    "tao.data_d_array('orbit', 'x')[7]"
   ]
  },
  {
   "cell_type": "markdown",
   "id": "d5e84efc-3a4e-4b52-860b-40c595c439bf",
   "metadata": {},
   "source": [
    "## derivative"
   ]
  },
  {
   "cell_type": "code",
   "execution_count": 5,
   "id": "ed6c0fe6-0836-47b1-b6e2-ace2433b247e",
   "metadata": {},
   "outputs": [],
   "source": [
    "tao.cmd('veto var *;veto dat *;')\n",
    "tao.cmd('use var quad_k1[3:5]')\n",
    "tao.cmd('set dat orbit.x[1:5]|meas=0')\n",
    "tao.cmd('use dat orbit.x[1:5]');"
   ]
  },
  {
   "cell_type": "code",
   "execution_count": 6,
   "id": "d8b4ede2-8437-4050-a2c0-7fdf65046cd9",
   "metadata": {},
   "outputs": [
    {
     "data": {
      "text/plain": [
       "{1: array([[-0.01758468, -0.03303896,  0.00216133],\n",
       "        [-0.01711307, -0.03578883,  0.00283783],\n",
       "        [ 0.00189157, -0.00956715,  0.002403  ],\n",
       "        [-0.00893899,  0.00192382,  0.00267012]])}"
      ]
     },
     "execution_count": 6,
     "metadata": {},
     "output_type": "execute_result"
    }
   ],
   "source": [
    "result = tao.derivative()\n",
    "result"
   ]
  },
  {
   "cell_type": "markdown",
   "id": "20ac7c9e",
   "metadata": {},
   "source": [
    "n_datums x n_variables"
   ]
  },
  {
   "cell_type": "code",
   "execution_count": 7,
   "id": "f8123cb7-7707-401d-ab12-d1167ec420a0",
   "metadata": {},
   "outputs": [
    {
     "data": {
      "text/plain": [
       "(4, 3)"
      ]
     },
     "execution_count": 7,
     "metadata": {},
     "output_type": "execute_result"
    }
   ],
   "source": [
    "result[1].shape"
   ]
  },
  {
   "cell_type": "markdown",
   "id": "3f89b5c5-9a81-4c46-96a9-7185d43da9b1",
   "metadata": {},
   "source": [
    "## ele_control_var"
   ]
  },
  {
   "cell_type": "code",
   "execution_count": 8,
   "id": "b55cec3d-1b71-4b58-8b6b-b2f4d66137be",
   "metadata": {},
   "outputs": [
    {
     "data": {
      "text/plain": [
       "{'HKICK': 0.0}"
      ]
     },
     "execution_count": 8,
     "metadata": {},
     "output_type": "execute_result"
    }
   ],
   "source": [
    "tao.ele_control_var('H01W')"
   ]
  },
  {
   "cell_type": "markdown",
   "id": "55568ea5-ac47-4168-a21f-9fe4432fb022",
   "metadata": {},
   "source": [
    "## lat_ele_list"
   ]
  },
  {
   "cell_type": "code",
   "execution_count": 9,
   "id": "c7760026-de43-44d7-987b-22f3b7cdb13a",
   "metadata": {},
   "outputs": [
    {
     "data": {
      "text/plain": [
       "['BEGINNING', 'IP_L0', 'CLEO_SOL#3', 'DET_00W', 'CLEO_SOL#4']"
      ]
     },
     "execution_count": 9,
     "metadata": {},
     "output_type": "execute_result"
    }
   ],
   "source": [
    "result = tao.lat_ele_list()\n",
    "\n",
    "result[0:5]"
   ]
  },
  {
   "cell_type": "markdown",
   "id": "197d872a-0d75-4866-bd07-b0b2cc2c2e83",
   "metadata": {},
   "source": [
    "## matrix"
   ]
  },
  {
   "cell_type": "code",
   "execution_count": 10,
   "id": "c71d455c-cb84-4fbc-9d91-c2cfcd046108",
   "metadata": {},
   "outputs": [
    {
     "data": {
      "text/plain": [
       "{'mat6': array([[-9.85453321e-01, -1.78459151e-01, -2.95064264e-02,\n",
       "         -3.72328912e-05, -1.28463592e-03,  1.69890832e-03],\n",
       "        [ 1.94136498e-01, -9.79571649e-01, -7.19934541e-03,\n",
       "          8.91976963e-04, -5.89572298e-03, -3.81443689e-02],\n",
       "        [-8.56326169e-04,  6.02559410e-05, -8.76189778e-01,\n",
       "         -8.41353610e-03,  1.67854914e-05,  2.64910033e-03],\n",
       "        [ 1.16108943e-02,  2.96794811e-02,  2.66272918e+01,\n",
       "         -8.85649653e-01,  2.27202188e-05, -4.04349279e-02],\n",
       "        [-8.86152164e-02, -6.13453961e-03,  3.48586759e-02,\n",
       "         -2.68733720e-03,  9.47817657e-01, -8.79514378e+00],\n",
       "        [ 5.30821801e-03, -2.93203403e-04,  1.07833932e-04,\n",
       "         -1.59653540e-05,  1.15997844e-02,  9.47355161e-01]]),\n",
       " 'vec0': array([ 3.92874185e-04,  4.73093997e-03,  1.86151033e-06, -9.57458176e-05,\n",
       "        -7.06702236e-05,  5.03940903e-06])}"
      ]
     },
     "execution_count": 10,
     "metadata": {},
     "output_type": "execute_result"
    }
   ],
   "source": [
    "tao.matrix('beginning', 'end')"
   ]
  },
  {
   "cell_type": "markdown",
   "id": "7dcdcd68-dbb3-47fe-84f8-443aceeffdc0",
   "metadata": {},
   "source": [
    "# merit"
   ]
  },
  {
   "cell_type": "code",
   "execution_count": 11,
   "id": "140f2f74-7056-476e-ada1-39b47aaabd2d",
   "metadata": {},
   "outputs": [
    {
     "data": {
      "text/plain": [
       "411.826621947889"
      ]
     },
     "execution_count": 11,
     "metadata": {},
     "output_type": "execute_result"
    }
   ],
   "source": [
    "tao.merit()"
   ]
  },
  {
   "cell_type": "markdown",
   "id": "47ebe242-6d54-413b-bf9d-c58af86d818a",
   "metadata": {},
   "source": [
    "## plot_list"
   ]
  },
  {
   "cell_type": "code",
   "execution_count": 12,
   "id": "33ca7c73-45c3-4d42-9dbc-a22c73eeb94d",
   "metadata": {},
   "outputs": [
    {
     "data": {
      "text/plain": [
       "[{'region': 'top',\n",
       "  'ix': 1,\n",
       "  'plot_name': '',\n",
       "  'visible': False,\n",
       "  'x1': 0.0,\n",
       "  'x2': 1.0,\n",
       "  'y1': 0.48,\n",
       "  'y2': 0.95},\n",
       " {'region': 'bottom',\n",
       "  'ix': 2,\n",
       "  'plot_name': '',\n",
       "  'visible': False,\n",
       "  'x1': 0.0,\n",
       "  'x2': 1.0,\n",
       "  'y1': 0.0,\n",
       "  'y2': 0.48}]"
      ]
     },
     "execution_count": 12,
     "metadata": {},
     "output_type": "execute_result"
    }
   ],
   "source": [
    "result = tao.plot_list('r')\n",
    "\n",
    "result[0:2]"
   ]
  },
  {
   "cell_type": "code",
   "execution_count": 13,
   "id": "cdebf45e-f4ed-40c3-8c99-db95bcce8e0b",
   "metadata": {},
   "outputs": [
    {
     "data": {
      "text/plain": [
       "5"
      ]
     },
     "execution_count": 13,
     "metadata": {},
     "output_type": "execute_result"
    }
   ],
   "source": [
    "# 't' gives a mapping of template plot to index\n",
    "result = tao.plot_list('t')\n",
    "\n",
    "result['cbar']"
   ]
  },
  {
   "cell_type": "markdown",
   "id": "0db6008b-2274-486c-8c19-f15aace9122e",
   "metadata": {},
   "source": [
    "## spin_invariant"
   ]
  },
  {
   "cell_type": "code",
   "execution_count": 14,
   "id": "f395652e-ddba-402a-a95e-02e02d35a31b",
   "metadata": {},
   "outputs": [
    {
     "data": {
      "text/plain": [
       "array([[ 0.        ,  0.99835693,  0.05730134],\n",
       "       [ 0.        ,  0.99835693,  0.05730134],\n",
       "       [-0.05286846,  0.99704202,  0.05578657],\n",
       "       ...,\n",
       "       [-0.24326432,  0.96860132,  0.05132215],\n",
       "       [-0.29421324,  0.95443762,  0.04987387],\n",
       "       [-0.29421324,  0.95443762,  0.04987387]])"
      ]
     },
     "execution_count": 14,
     "metadata": {},
     "output_type": "execute_result"
    }
   ],
   "source": [
    "tao.spin_invariant('l0')"
   ]
  },
  {
   "cell_type": "markdown",
   "id": "419a215d-9406-4ae9-b946-ca7ff2e5a49b",
   "metadata": {},
   "source": [
    "## taylor_map"
   ]
  },
  {
   "cell_type": "code",
   "execution_count": null,
   "id": "278f52c1-1055-44de-9714-4810e04e7bb1",
   "metadata": {
    "tags": []
   },
   "outputs": [],
   "source": [
    "tt = tao.taylor_map('beginning', 'end', order=2)\n",
    "tt"
   ]
  },
  {
   "cell_type": "code",
   "execution_count": null,
   "id": "8d9c95ab-02ce-4982-880c-e723665d35d1",
   "metadata": {
    "tags": []
   },
   "outputs": [],
   "source": [
    "# Compare some terms with the matrix calc:\n",
    "tao.matrix('beginning', 'end')['mat6'][0,0],  tt[1][(1,0,0,0,0,0)]"
   ]
  },
  {
   "cell_type": "code",
   "execution_count": null,
   "id": "d55272fc-1ff1-4106-9361-5d4f44edd158",
   "metadata": {
    "tags": []
   },
   "outputs": [],
   "source": [
    "tao.matrix('beginning', 'end')['mat6'][1,0],  tt[2][(1,0,0,0,0,0)]"
   ]
  },
  {
   "cell_type": "markdown",
   "id": "36cdbe51-e4ed-4d0b-9af9-39a152720432",
   "metadata": {},
   "source": [
    "## var_v_array"
   ]
  },
  {
   "cell_type": "code",
   "execution_count": null,
   "id": "fe424bda-eb97-4e17-a5f9-6c7a1cb21634",
   "metadata": {},
   "outputs": [],
   "source": [
    "result = tao.var_v_array('quad_k1')\n",
    "result[0:2]"
   ]
  }
 ],
 "metadata": {
  "kernelspec": {
   "display_name": "Python 3 (ipykernel)",
   "language": "python",
   "name": "python3"
  },
  "language_info": {
   "codemirror_mode": {
    "name": "ipython",
    "version": 3
   },
   "file_extension": ".py",
   "mimetype": "text/x-python",
   "name": "python",
   "nbconvert_exporter": "python",
   "pygments_lexer": "ipython3",
   "version": "3.12.4"
  },
  "vscode": {
   "interpreter": {
    "hash": "8acfe5d4ac94dcea04347ba5d21ed6ccc77e9ec6b4167c9c2482da2d61a71842"
   }
  }
 },
 "nbformat": 4,
 "nbformat_minor": 5
}
