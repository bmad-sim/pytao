{
 "cells": [
  {
   "cell_type": "markdown",
   "metadata": {},
   "source": [
    "# PyTao beam tracking with progress bar"
   ]
  },
  {
   "cell_type": "code",
   "execution_count": 1,
   "metadata": {
    "execution": {
     "iopub.execute_input": "2025-05-30T01:26:57.596579Z",
     "iopub.status.busy": "2025-05-30T01:26:57.596204Z",
     "iopub.status.idle": "2025-05-30T01:26:58.383238Z",
     "shell.execute_reply": "2025-05-30T01:26:58.382735Z"
    }
   },
   "outputs": [],
   "source": [
    "import numpy as np\n",
    "\n",
    "from pytao import Tao\n",
    "from pmd_beamphysics import ParticleGroup"
   ]
  },
  {
   "cell_type": "code",
   "execution_count": 2,
   "metadata": {
    "execution": {
     "iopub.execute_input": "2025-05-30T01:26:58.385249Z",
     "iopub.status.busy": "2025-05-30T01:26:58.384814Z",
     "iopub.status.idle": "2025-05-30T01:26:58.679216Z",
     "shell.execute_reply": "2025-05-30T01:26:58.678698Z"
    }
   },
   "outputs": [],
   "source": [
    "tao = Tao(\"-init $ACC_ROOT_DIR/bmad-doc/tao_examples/cesr/tao.init -noplot\")"
   ]
  },
  {
   "cell_type": "code",
   "execution_count": 3,
   "metadata": {
    "execution": {
     "iopub.execute_input": "2025-05-30T01:26:58.680933Z",
     "iopub.status.busy": "2025-05-30T01:26:58.680765Z",
     "iopub.status.idle": "2025-05-30T01:26:58.715618Z",
     "shell.execute_reply": "2025-05-30T01:26:58.715171Z"
    }
   },
   "outputs": [
    {
     "name": "stdout",
     "output_type": "stream",
     "text": [
      "[MESSAGE | 2025-MAY-30 01:26:58] tao_set_openmp_n_threads:\n",
      "    OpenMP active with number of threads: 2\n"
     ]
    }
   ],
   "source": [
    "print(\"\\n\".join(tao.cmd(\"set global n_threads = 2\")))"
   ]
  },
  {
   "cell_type": "code",
   "execution_count": 4,
   "metadata": {
    "execution": {
     "iopub.execute_input": "2025-05-30T01:26:58.744481Z",
     "iopub.status.busy": "2025-05-30T01:26:58.744320Z",
     "iopub.status.idle": "2025-05-30T01:26:58.816481Z",
     "shell.execute_reply": "2025-05-30T01:26:58.816028Z"
    }
   },
   "outputs": [],
   "source": [
    "def set_gaussian(\n",
    "    tao,\n",
    "    n_particle,\n",
    "    a_norm_emit=1.0e-6,\n",
    "    b_norm_emit=1.0e-6,\n",
    "    bunch_charge=1e-9,\n",
    "    sig_pz0=2e-6,\n",
    "    sig_z=200e-6,\n",
    "    center_pz=0,\n",
    "    chirp=0,  # 1/m\n",
    "):\n",
    "    sig_pz = np.hypot(sig_pz0, chirp * sig_z)\n",
    "\n",
    "    cmds = [\n",
    "        f\"set beam_init n_particle = {n_particle}\",\n",
    "        \"set beam_init random_engine = quasi\",\n",
    "        \"set beam_init saved_at = MARKER::*, BEGINNING, END\",\n",
    "        f\"set beam_init a_norm_emit = {a_norm_emit}\",\n",
    "        f\"set beam_init b_norm_emit = {b_norm_emit}\",\n",
    "        f\"set beam_init bunch_charge = {bunch_charge}\",\n",
    "        f\"set beam_init sig_pz = {sig_pz}\",\n",
    "        f\"set beam_init sig_z = {sig_z}\",\n",
    "        f\"set beam_init dpz_dz = {chirp}\",\n",
    "        f\"set beam_init center(6) = {center_pz}\",\n",
    "    ]\n",
    "    tao.cmds(cmds)\n",
    "    tao.cmd(\"set global lattice_calc_on = T\")\n",
    "\n",
    "\n",
    "def get_particles(tao, ele_id):\n",
    "    return ParticleGroup(data=tao.bunch_data(ele_id))\n",
    "\n",
    "set_gaussian(tao, n_particle=10_000)"
   ]
  },
  {
   "cell_type": "code",
   "execution_count": 5,
   "metadata": {
    "execution": {
     "iopub.execute_input": "2025-05-30T01:26:58.817974Z",
     "iopub.status.busy": "2025-05-30T01:26:58.817805Z",
     "iopub.status.idle": "2025-05-30T01:26:58.888420Z",
     "shell.execute_reply": "2025-05-30T01:26:58.888059Z"
    }
   },
   "outputs": [],
   "source": [
    "set_gaussian(tao, n_particle=10_000)"
   ]
  },
  {
   "cell_type": "code",
   "execution_count": 6,
   "metadata": {
    "execution": {
     "iopub.execute_input": "2025-05-30T01:26:58.889961Z",
     "iopub.status.busy": "2025-05-30T01:26:58.889655Z",
     "iopub.status.idle": "2025-05-30T01:27:22.506579Z",
     "shell.execute_reply": "2025-05-30T01:27:22.506083Z"
    }
   },
   "outputs": [
    {
     "data": {
      "text/html": [
       "<!-- lume-impact detected Jupyter and will use HTML for rendering. -->"
      ],
      "text/plain": []
     },
     "metadata": {},
     "output_type": "display_data"
    },
    {
     "data": {
      "application/vnd.jupyter.widget-view+json": {
       "model_id": "f67a11804ae743aba0855245b4063515",
       "version_major": 2,
       "version_minor": 0
      },
      "text/plain": [
       "  0%|          | 0/869 [00:00<?, ?ele/s]"
      ]
     },
     "metadata": {},
     "output_type": "display_data"
    },
    {
     "data": {
      "text/plain": [
       "['',\n",
       " 'Tao: set global track_type = beam',\n",
       " '',\n",
       " 'Tao: set global track_type = single']"
      ]
     },
     "execution_count": 6,
     "metadata": {},
     "output_type": "execute_result"
    }
   ],
   "source": [
    "tao.track_beam(use_progress_bar=True, jupyter=True)"
   ]
  }
 ],
 "metadata": {
  "kernelspec": {
   "display_name": "Python 3 (ipykernel)",
   "language": "python",
   "name": "python3"
  },
  "language_info": {
   "codemirror_mode": {
    "name": "ipython",
    "version": 3
   },
   "file_extension": ".py",
   "mimetype": "text/x-python",
   "name": "python",
   "nbconvert_exporter": "python",
   "pygments_lexer": "ipython3",
   "version": "3.12.10"
  },
  "vscode": {
   "interpreter": {
    "hash": "8acfe5d4ac94dcea04347ba5d21ed6ccc77e9ec6b4167c9c2482da2d61a71842"
   }
  },
  "widgets": {
   "application/vnd.jupyter.widget-state+json": {
    "state": {
     "0186eb065dc24e329f90a1361b68c973": {
      "model_module": "@jupyter-widgets/base",
      "model_module_version": "2.0.0",
      "model_name": "LayoutModel",
      "state": {
       "_model_module": "@jupyter-widgets/base",
       "_model_module_version": "2.0.0",
       "_model_name": "LayoutModel",
       "_view_count": null,
       "_view_module": "@jupyter-widgets/base",
       "_view_module_version": "2.0.0",
       "_view_name": "LayoutView",
       "align_content": null,
       "align_items": null,
       "align_self": null,
       "border_bottom": null,
       "border_left": null,
       "border_right": null,
       "border_top": null,
       "bottom": null,
       "display": null,
       "flex": null,
       "flex_flow": null,
       "grid_area": null,
       "grid_auto_columns": null,
       "grid_auto_flow": null,
       "grid_auto_rows": null,
       "grid_column": null,
       "grid_gap": null,
       "grid_row": null,
       "grid_template_areas": null,
       "grid_template_columns": null,
       "grid_template_rows": null,
       "height": null,
       "justify_content": null,
       "justify_items": null,
       "left": null,
       "margin": null,
       "max_height": null,
       "max_width": null,
       "min_height": null,
       "min_width": null,
       "object_fit": null,
       "object_position": null,
       "order": null,
       "overflow": null,
       "padding": null,
       "right": null,
       "top": null,
       "visibility": null,
       "width": null
      }
     },
     "1184861ed7e74e2c8713b02de489e02d": {
      "model_module": "@jupyter-widgets/base",
      "model_module_version": "2.0.0",
      "model_name": "LayoutModel",
      "state": {
       "_model_module": "@jupyter-widgets/base",
       "_model_module_version": "2.0.0",
       "_model_name": "LayoutModel",
       "_view_count": null,
       "_view_module": "@jupyter-widgets/base",
       "_view_module_version": "2.0.0",
       "_view_name": "LayoutView",
       "align_content": null,
       "align_items": null,
       "align_self": null,
       "border_bottom": null,
       "border_left": null,
       "border_right": null,
       "border_top": null,
       "bottom": null,
       "display": null,
       "flex": null,
       "flex_flow": null,
       "grid_area": null,
       "grid_auto_columns": null,
       "grid_auto_flow": null,
       "grid_auto_rows": null,
       "grid_column": null,
       "grid_gap": null,
       "grid_row": null,
       "grid_template_areas": null,
       "grid_template_columns": null,
       "grid_template_rows": null,
       "height": null,
       "justify_content": null,
       "justify_items": null,
       "left": null,
       "margin": null,
       "max_height": null,
       "max_width": null,
       "min_height": null,
       "min_width": null,
       "object_fit": null,
       "object_position": null,
       "order": null,
       "overflow": null,
       "padding": null,
       "right": null,
       "top": null,
       "visibility": "hidden",
       "width": null
      }
     },
     "174f01581e2a49c3933242e35e458435": {
      "model_module": "@jupyter-widgets/controls",
      "model_module_version": "2.0.0",
      "model_name": "FloatProgressModel",
      "state": {
       "_dom_classes": [],
       "_model_module": "@jupyter-widgets/controls",
       "_model_module_version": "2.0.0",
       "_model_name": "FloatProgressModel",
       "_view_count": null,
       "_view_module": "@jupyter-widgets/controls",
       "_view_module_version": "2.0.0",
       "_view_name": "ProgressView",
       "bar_style": "",
       "description": "",
       "description_allow_html": false,
       "layout": "IPY_MODEL_5b18c8cd4d5247e6abd0d0c7e5d0ac2b",
       "max": 869.0,
       "min": 0.0,
       "orientation": "horizontal",
       "style": "IPY_MODEL_73ef7e85ed184e02ad923565ad8f9fd3",
       "tabbable": null,
       "tooltip": null,
       "value": 869.0
      }
     },
     "46ba1d6aaffa4a1180964479c93d2fe3": {
      "model_module": "@jupyter-widgets/controls",
      "model_module_version": "2.0.0",
      "model_name": "HTMLModel",
      "state": {
       "_dom_classes": [],
       "_model_module": "@jupyter-widgets/controls",
       "_model_module_version": "2.0.0",
       "_model_name": "HTMLModel",
       "_view_count": null,
       "_view_module": "@jupyter-widgets/controls",
       "_view_module_version": "2.0.0",
       "_view_name": "HTMLView",
       "description": "",
       "description_allow_html": false,
       "layout": "IPY_MODEL_46ffcfee1f76440dbad8685ec876a272",
       "placeholder": "​",
       "style": "IPY_MODEL_54070f22282841fdb452a38d5941c521",
       "tabbable": null,
       "tooltip": null,
       "value": "100%"
      }
     },
     "46ffcfee1f76440dbad8685ec876a272": {
      "model_module": "@jupyter-widgets/base",
      "model_module_version": "2.0.0",
      "model_name": "LayoutModel",
      "state": {
       "_model_module": "@jupyter-widgets/base",
       "_model_module_version": "2.0.0",
       "_model_name": "LayoutModel",
       "_view_count": null,
       "_view_module": "@jupyter-widgets/base",
       "_view_module_version": "2.0.0",
       "_view_name": "LayoutView",
       "align_content": null,
       "align_items": null,
       "align_self": null,
       "border_bottom": null,
       "border_left": null,
       "border_right": null,
       "border_top": null,
       "bottom": null,
       "display": null,
       "flex": null,
       "flex_flow": null,
       "grid_area": null,
       "grid_auto_columns": null,
       "grid_auto_flow": null,
       "grid_auto_rows": null,
       "grid_column": null,
       "grid_gap": null,
       "grid_row": null,
       "grid_template_areas": null,
       "grid_template_columns": null,
       "grid_template_rows": null,
       "height": null,
       "justify_content": null,
       "justify_items": null,
       "left": null,
       "margin": null,
       "max_height": null,
       "max_width": null,
       "min_height": null,
       "min_width": null,
       "object_fit": null,
       "object_position": null,
       "order": null,
       "overflow": null,
       "padding": null,
       "right": null,
       "top": null,
       "visibility": null,
       "width": null
      }
     },
     "54070f22282841fdb452a38d5941c521": {
      "model_module": "@jupyter-widgets/controls",
      "model_module_version": "2.0.0",
      "model_name": "HTMLStyleModel",
      "state": {
       "_model_module": "@jupyter-widgets/controls",
       "_model_module_version": "2.0.0",
       "_model_name": "HTMLStyleModel",
       "_view_count": null,
       "_view_module": "@jupyter-widgets/base",
       "_view_module_version": "2.0.0",
       "_view_name": "StyleView",
       "background": null,
       "description_width": "",
       "font_size": null,
       "text_color": null
      }
     },
     "5b18c8cd4d5247e6abd0d0c7e5d0ac2b": {
      "model_module": "@jupyter-widgets/base",
      "model_module_version": "2.0.0",
      "model_name": "LayoutModel",
      "state": {
       "_model_module": "@jupyter-widgets/base",
       "_model_module_version": "2.0.0",
       "_model_name": "LayoutModel",
       "_view_count": null,
       "_view_module": "@jupyter-widgets/base",
       "_view_module_version": "2.0.0",
       "_view_name": "LayoutView",
       "align_content": null,
       "align_items": null,
       "align_self": null,
       "border_bottom": null,
       "border_left": null,
       "border_right": null,
       "border_top": null,
       "bottom": null,
       "display": null,
       "flex": null,
       "flex_flow": null,
       "grid_area": null,
       "grid_auto_columns": null,
       "grid_auto_flow": null,
       "grid_auto_rows": null,
       "grid_column": null,
       "grid_gap": null,
       "grid_row": null,
       "grid_template_areas": null,
       "grid_template_columns": null,
       "grid_template_rows": null,
       "height": null,
       "justify_content": null,
       "justify_items": null,
       "left": null,
       "margin": null,
       "max_height": null,
       "max_width": null,
       "min_height": null,
       "min_width": null,
       "object_fit": null,
       "object_position": null,
       "order": null,
       "overflow": null,
       "padding": null,
       "right": null,
       "top": null,
       "visibility": null,
       "width": null
      }
     },
     "73ef7e85ed184e02ad923565ad8f9fd3": {
      "model_module": "@jupyter-widgets/controls",
      "model_module_version": "2.0.0",
      "model_name": "ProgressStyleModel",
      "state": {
       "_model_module": "@jupyter-widgets/controls",
       "_model_module_version": "2.0.0",
       "_model_name": "ProgressStyleModel",
       "_view_count": null,
       "_view_module": "@jupyter-widgets/base",
       "_view_module_version": "2.0.0",
       "_view_name": "StyleView",
       "bar_color": null,
       "description_width": ""
      }
     },
     "7deae26944214a6cae006ce6b173e5fb": {
      "model_module": "@jupyter-widgets/controls",
      "model_module_version": "2.0.0",
      "model_name": "HTMLStyleModel",
      "state": {
       "_model_module": "@jupyter-widgets/controls",
       "_model_module_version": "2.0.0",
       "_model_name": "HTMLStyleModel",
       "_view_count": null,
       "_view_module": "@jupyter-widgets/base",
       "_view_module_version": "2.0.0",
       "_view_name": "StyleView",
       "background": null,
       "description_width": "",
       "font_size": null,
       "text_color": null
      }
     },
     "c9731392aab44d89a8a6f3c5ced11744": {
      "model_module": "@jupyter-widgets/controls",
      "model_module_version": "2.0.0",
      "model_name": "HTMLModel",
      "state": {
       "_dom_classes": [],
       "_model_module": "@jupyter-widgets/controls",
       "_model_module_version": "2.0.0",
       "_model_name": "HTMLModel",
       "_view_count": null,
       "_view_module": "@jupyter-widgets/controls",
       "_view_module_version": "2.0.0",
       "_view_name": "HTMLView",
       "description": "",
       "description_allow_html": false,
       "layout": "IPY_MODEL_0186eb065dc24e329f90a1361b68c973",
       "placeholder": "​",
       "style": "IPY_MODEL_7deae26944214a6cae006ce6b173e5fb",
       "tabbable": null,
       "tooltip": null,
       "value": " 869/869 [00:23&lt;00:00, 36.99ele/s, Element=END, ix_ele=869]"
      }
     },
     "f67a11804ae743aba0855245b4063515": {
      "model_module": "@jupyter-widgets/controls",
      "model_module_version": "2.0.0",
      "model_name": "HBoxModel",
      "state": {
       "_dom_classes": [],
       "_model_module": "@jupyter-widgets/controls",
       "_model_module_version": "2.0.0",
       "_model_name": "HBoxModel",
       "_view_count": null,
       "_view_module": "@jupyter-widgets/controls",
       "_view_module_version": "2.0.0",
       "_view_name": "HBoxView",
       "box_style": "",
       "children": [
        "IPY_MODEL_46ba1d6aaffa4a1180964479c93d2fe3",
        "IPY_MODEL_174f01581e2a49c3933242e35e458435",
        "IPY_MODEL_c9731392aab44d89a8a6f3c5ced11744"
       ],
       "layout": "IPY_MODEL_1184861ed7e74e2c8713b02de489e02d",
       "tabbable": null,
       "tooltip": null
      }
     }
    },
    "version_major": 2,
    "version_minor": 0
   }
  }
 },
 "nbformat": 4,
 "nbformat_minor": 4
}
