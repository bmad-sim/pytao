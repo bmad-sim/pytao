{
 "cells": [
  {
   "cell_type": "markdown",
   "metadata": {},
   "source": [
    "# PyTao beam tracking with progress bar"
   ]
  },
  {
   "cell_type": "code",
   "execution_count": 1,
   "metadata": {
    "execution": {
     "iopub.execute_input": "2025-04-07T21:06:53.050847Z",
     "iopub.status.busy": "2025-04-07T21:06:53.050349Z",
     "iopub.status.idle": "2025-04-07T21:06:53.866971Z",
     "shell.execute_reply": "2025-04-07T21:06:53.866482Z"
    }
   },
   "outputs": [],
   "source": [
    "import numpy as np\n",
    "\n",
    "from pytao import Tao\n",
    "from pmd_beamphysics import ParticleGroup"
   ]
  },
  {
   "cell_type": "code",
   "execution_count": 2,
   "metadata": {
    "execution": {
     "iopub.execute_input": "2025-04-07T21:06:53.868891Z",
     "iopub.status.busy": "2025-04-07T21:06:53.868633Z",
     "iopub.status.idle": "2025-04-07T21:06:54.116982Z",
     "shell.execute_reply": "2025-04-07T21:06:54.116495Z"
    }
   },
   "outputs": [],
   "source": [
    "tao = Tao(\"-init $ACC_ROOT_DIR/bmad-doc/tao_examples/cesr/tao.init -noplot\")"
   ]
  },
  {
   "cell_type": "code",
   "execution_count": 3,
   "metadata": {
    "execution": {
     "iopub.execute_input": "2025-04-07T21:06:54.118738Z",
     "iopub.status.busy": "2025-04-07T21:06:54.118588Z",
     "iopub.status.idle": "2025-04-07T21:06:54.153258Z",
     "shell.execute_reply": "2025-04-07T21:06:54.152770Z"
    }
   },
   "outputs": [
    {
     "name": "stdout",
     "output_type": "stream",
     "text": [
      "[MESSAGE | 2025-APR-07 21:06:54] tao_set_openmp_n_threads:\n",
      "    OpenMP active with number of threads: 2\n"
     ]
    }
   ],
   "source": [
    "print(\"\\n\".join(tao.cmd(\"set global n_threads = 2\")))"
   ]
  },
  {
   "cell_type": "code",
   "execution_count": 4,
   "metadata": {
    "execution": {
     "iopub.execute_input": "2025-04-07T21:06:54.180611Z",
     "iopub.status.busy": "2025-04-07T21:06:54.180399Z",
     "iopub.status.idle": "2025-04-07T21:06:54.254685Z",
     "shell.execute_reply": "2025-04-07T21:06:54.254258Z"
    }
   },
   "outputs": [],
   "source": [
    "def set_gaussian(\n",
    "    tao,\n",
    "    n_particle,\n",
    "    a_norm_emit=1.0e-6,\n",
    "    b_norm_emit=1.0e-6,\n",
    "    bunch_charge=1e-9,\n",
    "    sig_pz0=2e-6,\n",
    "    sig_z=200e-6,\n",
    "    center_pz=0,\n",
    "    chirp=0,  # 1/m\n",
    "):\n",
    "    sig_pz = np.hypot(sig_pz0, chirp * sig_z)\n",
    "\n",
    "    cmds = [\n",
    "        f\"set beam_init n_particle = {n_particle}\",\n",
    "        \"set beam_init random_engine = quasi\",\n",
    "        \"set beam_init saved_at = MARKER::*, BEGINNING, END\",\n",
    "        f\"set beam_init a_norm_emit = {a_norm_emit}\",\n",
    "        f\"set beam_init b_norm_emit = {b_norm_emit}\",\n",
    "        f\"set beam_init bunch_charge = {bunch_charge}\",\n",
    "        f\"set beam_init sig_pz = {sig_pz}\",\n",
    "        f\"set beam_init sig_z = {sig_z}\",\n",
    "        f\"set beam_init dpz_dz = {chirp}\",\n",
    "        f\"set beam_init center(6) = {center_pz}\",\n",
    "    ]\n",
    "    tao.cmds(cmds)\n",
    "    tao.cmd(\"set global lattice_calc_on = T\")\n",
    "\n",
    "\n",
    "def get_particles(tao, ele_id):\n",
    "    return ParticleGroup(data=tao.bunch_data(ele_id))\n",
    "\n",
    "set_gaussian(tao, n_particle=10_000)"
   ]
  },
  {
   "cell_type": "code",
   "execution_count": 5,
   "metadata": {
    "execution": {
     "iopub.execute_input": "2025-04-07T21:06:54.256374Z",
     "iopub.status.busy": "2025-04-07T21:06:54.256212Z",
     "iopub.status.idle": "2025-04-07T21:06:54.326325Z",
     "shell.execute_reply": "2025-04-07T21:06:54.325825Z"
    }
   },
   "outputs": [],
   "source": [
    "set_gaussian(tao, n_particle=10_000)"
   ]
  },
  {
   "cell_type": "code",
   "execution_count": 6,
   "metadata": {
    "execution": {
     "iopub.execute_input": "2025-04-07T21:06:54.327971Z",
     "iopub.status.busy": "2025-04-07T21:06:54.327819Z",
     "iopub.status.idle": "2025-04-07T21:07:06.864502Z",
     "shell.execute_reply": "2025-04-07T21:07:06.863969Z"
    }
   },
   "outputs": [
    {
     "data": {
      "text/html": [
       "<!-- lume-impact detected Jupyter and will use HTML for rendering. -->"
      ],
      "text/plain": []
     },
     "metadata": {},
     "output_type": "display_data"
    },
    {
     "data": {
      "application/vnd.jupyter.widget-view+json": {
       "model_id": "6de0665ddab34320a84548e600b3e463",
       "version_major": 2,
       "version_minor": 0
      },
      "text/plain": [
       "  0%|          | 0/869 [00:00<?, ?ele/s]"
      ]
     },
     "metadata": {},
     "output_type": "display_data"
    },
    {
     "data": {
      "text/plain": [
       "['',\n",
       " 'Tao: set global track_type = beam',\n",
       " '',\n",
       " 'Tao: set global track_type = single']"
      ]
     },
     "execution_count": 6,
     "metadata": {},
     "output_type": "execute_result"
    }
   ],
   "source": [
    "tao.track_beam(use_progress_bar=True, jupyter=True)"
   ]
  }
 ],
 "metadata": {
  "kernelspec": {
   "display_name": "Python 3 (ipykernel)",
   "language": "python",
   "name": "python3"
  },
  "language_info": {
   "codemirror_mode": {
    "name": "ipython",
    "version": 3
   },
   "file_extension": ".py",
   "mimetype": "text/x-python",
   "name": "python",
   "nbconvert_exporter": "python",
   "pygments_lexer": "ipython3",
   "version": "3.12.9"
  },
  "vscode": {
   "interpreter": {
    "hash": "8acfe5d4ac94dcea04347ba5d21ed6ccc77e9ec6b4167c9c2482da2d61a71842"
   }
  },
  "widgets": {
   "application/vnd.jupyter.widget-state+json": {
    "state": {
     "31c288e04e264c2f87ee49eb20d88270": {
      "model_module": "@jupyter-widgets/controls",
      "model_module_version": "2.0.0",
      "model_name": "HTMLModel",
      "state": {
       "_dom_classes": [],
       "_model_module": "@jupyter-widgets/controls",
       "_model_module_version": "2.0.0",
       "_model_name": "HTMLModel",
       "_view_count": null,
       "_view_module": "@jupyter-widgets/controls",
       "_view_module_version": "2.0.0",
       "_view_name": "HTMLView",
       "description": "",
       "description_allow_html": false,
       "layout": "IPY_MODEL_e5effcc2d06646338ecd5611eae1f4af",
       "placeholder": "​",
       "style": "IPY_MODEL_a16bec22c4e444febe7f2f8a188de80e",
       "tabbable": null,
       "tooltip": null,
       "value": " 865/869 [00:12&lt;00:00, 69.30ele/s, Element=Q00E\\CLEO_SOL, ix_ele=865]"
      }
     },
     "5241bc167c2a4203a2d80c36ee0d0e50": {
      "model_module": "@jupyter-widgets/controls",
      "model_module_version": "2.0.0",
      "model_name": "HTMLModel",
      "state": {
       "_dom_classes": [],
       "_model_module": "@jupyter-widgets/controls",
       "_model_module_version": "2.0.0",
       "_model_name": "HTMLModel",
       "_view_count": null,
       "_view_module": "@jupyter-widgets/controls",
       "_view_module_version": "2.0.0",
       "_view_name": "HTMLView",
       "description": "",
       "description_allow_html": false,
       "layout": "IPY_MODEL_ff62638c5da34898a709f94db383e814",
       "placeholder": "​",
       "style": "IPY_MODEL_618a52027b12437a8e19ad2a52ce1afb",
       "tabbable": null,
       "tooltip": null,
       "value": "100%"
      }
     },
     "5317844eaa044f13984ea22d0a81d3f0": {
      "model_module": "@jupyter-widgets/controls",
      "model_module_version": "2.0.0",
      "model_name": "ProgressStyleModel",
      "state": {
       "_model_module": "@jupyter-widgets/controls",
       "_model_module_version": "2.0.0",
       "_model_name": "ProgressStyleModel",
       "_view_count": null,
       "_view_module": "@jupyter-widgets/base",
       "_view_module_version": "2.0.0",
       "_view_name": "StyleView",
       "bar_color": null,
       "description_width": ""
      }
     },
     "618a52027b12437a8e19ad2a52ce1afb": {
      "model_module": "@jupyter-widgets/controls",
      "model_module_version": "2.0.0",
      "model_name": "HTMLStyleModel",
      "state": {
       "_model_module": "@jupyter-widgets/controls",
       "_model_module_version": "2.0.0",
       "_model_name": "HTMLStyleModel",
       "_view_count": null,
       "_view_module": "@jupyter-widgets/base",
       "_view_module_version": "2.0.0",
       "_view_name": "StyleView",
       "background": null,
       "description_width": "",
       "font_size": null,
       "text_color": null
      }
     },
     "6de0665ddab34320a84548e600b3e463": {
      "model_module": "@jupyter-widgets/controls",
      "model_module_version": "2.0.0",
      "model_name": "HBoxModel",
      "state": {
       "_dom_classes": [],
       "_model_module": "@jupyter-widgets/controls",
       "_model_module_version": "2.0.0",
       "_model_name": "HBoxModel",
       "_view_count": null,
       "_view_module": "@jupyter-widgets/controls",
       "_view_module_version": "2.0.0",
       "_view_name": "HBoxView",
       "box_style": "",
       "children": [
        "IPY_MODEL_5241bc167c2a4203a2d80c36ee0d0e50",
        "IPY_MODEL_b4b2a3107dcc423daa4acc8eeac8fbd0",
        "IPY_MODEL_31c288e04e264c2f87ee49eb20d88270"
       ],
       "layout": "IPY_MODEL_d97e9081f35e460c9e90bc22557839dd",
       "tabbable": null,
       "tooltip": null
      }
     },
     "88bfa5c8f792471994156c11d6989a2d": {
      "model_module": "@jupyter-widgets/base",
      "model_module_version": "2.0.0",
      "model_name": "LayoutModel",
      "state": {
       "_model_module": "@jupyter-widgets/base",
       "_model_module_version": "2.0.0",
       "_model_name": "LayoutModel",
       "_view_count": null,
       "_view_module": "@jupyter-widgets/base",
       "_view_module_version": "2.0.0",
       "_view_name": "LayoutView",
       "align_content": null,
       "align_items": null,
       "align_self": null,
       "border_bottom": null,
       "border_left": null,
       "border_right": null,
       "border_top": null,
       "bottom": null,
       "display": null,
       "flex": null,
       "flex_flow": null,
       "grid_area": null,
       "grid_auto_columns": null,
       "grid_auto_flow": null,
       "grid_auto_rows": null,
       "grid_column": null,
       "grid_gap": null,
       "grid_row": null,
       "grid_template_areas": null,
       "grid_template_columns": null,
       "grid_template_rows": null,
       "height": null,
       "justify_content": null,
       "justify_items": null,
       "left": null,
       "margin": null,
       "max_height": null,
       "max_width": null,
       "min_height": null,
       "min_width": null,
       "object_fit": null,
       "object_position": null,
       "order": null,
       "overflow": null,
       "padding": null,
       "right": null,
       "top": null,
       "visibility": null,
       "width": null
      }
     },
     "a16bec22c4e444febe7f2f8a188de80e": {
      "model_module": "@jupyter-widgets/controls",
      "model_module_version": "2.0.0",
      "model_name": "HTMLStyleModel",
      "state": {
       "_model_module": "@jupyter-widgets/controls",
       "_model_module_version": "2.0.0",
       "_model_name": "HTMLStyleModel",
       "_view_count": null,
       "_view_module": "@jupyter-widgets/base",
       "_view_module_version": "2.0.0",
       "_view_name": "StyleView",
       "background": null,
       "description_width": "",
       "font_size": null,
       "text_color": null
      }
     },
     "b4b2a3107dcc423daa4acc8eeac8fbd0": {
      "model_module": "@jupyter-widgets/controls",
      "model_module_version": "2.0.0",
      "model_name": "FloatProgressModel",
      "state": {
       "_dom_classes": [],
       "_model_module": "@jupyter-widgets/controls",
       "_model_module_version": "2.0.0",
       "_model_name": "FloatProgressModel",
       "_view_count": null,
       "_view_module": "@jupyter-widgets/controls",
       "_view_module_version": "2.0.0",
       "_view_name": "ProgressView",
       "bar_style": "danger",
       "description": "",
       "description_allow_html": false,
       "layout": "IPY_MODEL_88bfa5c8f792471994156c11d6989a2d",
       "max": 869.0,
       "min": 0.0,
       "orientation": "horizontal",
       "style": "IPY_MODEL_5317844eaa044f13984ea22d0a81d3f0",
       "tabbable": null,
       "tooltip": null,
       "value": 865.0
      }
     },
     "d97e9081f35e460c9e90bc22557839dd": {
      "model_module": "@jupyter-widgets/base",
      "model_module_version": "2.0.0",
      "model_name": "LayoutModel",
      "state": {
       "_model_module": "@jupyter-widgets/base",
       "_model_module_version": "2.0.0",
       "_model_name": "LayoutModel",
       "_view_count": null,
       "_view_module": "@jupyter-widgets/base",
       "_view_module_version": "2.0.0",
       "_view_name": "LayoutView",
       "align_content": null,
       "align_items": null,
       "align_self": null,
       "border_bottom": null,
       "border_left": null,
       "border_right": null,
       "border_top": null,
       "bottom": null,
       "display": null,
       "flex": null,
       "flex_flow": null,
       "grid_area": null,
       "grid_auto_columns": null,
       "grid_auto_flow": null,
       "grid_auto_rows": null,
       "grid_column": null,
       "grid_gap": null,
       "grid_row": null,
       "grid_template_areas": null,
       "grid_template_columns": null,
       "grid_template_rows": null,
       "height": null,
       "justify_content": null,
       "justify_items": null,
       "left": null,
       "margin": null,
       "max_height": null,
       "max_width": null,
       "min_height": null,
       "min_width": null,
       "object_fit": null,
       "object_position": null,
       "order": null,
       "overflow": null,
       "padding": null,
       "right": null,
       "top": null,
       "visibility": null,
       "width": null
      }
     },
     "e5effcc2d06646338ecd5611eae1f4af": {
      "model_module": "@jupyter-widgets/base",
      "model_module_version": "2.0.0",
      "model_name": "LayoutModel",
      "state": {
       "_model_module": "@jupyter-widgets/base",
       "_model_module_version": "2.0.0",
       "_model_name": "LayoutModel",
       "_view_count": null,
       "_view_module": "@jupyter-widgets/base",
       "_view_module_version": "2.0.0",
       "_view_name": "LayoutView",
       "align_content": null,
       "align_items": null,
       "align_self": null,
       "border_bottom": null,
       "border_left": null,
       "border_right": null,
       "border_top": null,
       "bottom": null,
       "display": null,
       "flex": null,
       "flex_flow": null,
       "grid_area": null,
       "grid_auto_columns": null,
       "grid_auto_flow": null,
       "grid_auto_rows": null,
       "grid_column": null,
       "grid_gap": null,
       "grid_row": null,
       "grid_template_areas": null,
       "grid_template_columns": null,
       "grid_template_rows": null,
       "height": null,
       "justify_content": null,
       "justify_items": null,
       "left": null,
       "margin": null,
       "max_height": null,
       "max_width": null,
       "min_height": null,
       "min_width": null,
       "object_fit": null,
       "object_position": null,
       "order": null,
       "overflow": null,
       "padding": null,
       "right": null,
       "top": null,
       "visibility": null,
       "width": null
      }
     },
     "ff62638c5da34898a709f94db383e814": {
      "model_module": "@jupyter-widgets/base",
      "model_module_version": "2.0.0",
      "model_name": "LayoutModel",
      "state": {
       "_model_module": "@jupyter-widgets/base",
       "_model_module_version": "2.0.0",
       "_model_name": "LayoutModel",
       "_view_count": null,
       "_view_module": "@jupyter-widgets/base",
       "_view_module_version": "2.0.0",
       "_view_name": "LayoutView",
       "align_content": null,
       "align_items": null,
       "align_self": null,
       "border_bottom": null,
       "border_left": null,
       "border_right": null,
       "border_top": null,
       "bottom": null,
       "display": null,
       "flex": null,
       "flex_flow": null,
       "grid_area": null,
       "grid_auto_columns": null,
       "grid_auto_flow": null,
       "grid_auto_rows": null,
       "grid_column": null,
       "grid_gap": null,
       "grid_row": null,
       "grid_template_areas": null,
       "grid_template_columns": null,
       "grid_template_rows": null,
       "height": null,
       "justify_content": null,
       "justify_items": null,
       "left": null,
       "margin": null,
       "max_height": null,
       "max_width": null,
       "min_height": null,
       "min_width": null,
       "object_fit": null,
       "object_position": null,
       "order": null,
       "overflow": null,
       "padding": null,
       "right": null,
       "top": null,
       "visibility": null,
       "width": null
      }
     }
    },
    "version_major": 2,
    "version_minor": 0
   }
  }
 },
 "nbformat": 4,
 "nbformat_minor": 4
}
