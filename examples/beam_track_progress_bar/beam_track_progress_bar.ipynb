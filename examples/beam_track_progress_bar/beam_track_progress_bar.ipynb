{
 "cells": [
  {
   "cell_type": "markdown",
   "metadata": {},
   "source": [
    "# PyTao beam tracking with progress bar"
   ]
  },
  {
   "cell_type": "code",
   "execution_count": 1,
   "metadata": {
    "execution": {
     "iopub.execute_input": "2025-07-16T01:44:39.345136Z",
     "iopub.status.busy": "2025-07-16T01:44:39.344761Z",
     "iopub.status.idle": "2025-07-16T01:44:40.230197Z",
     "shell.execute_reply": "2025-07-16T01:44:40.229674Z"
    }
   },
   "outputs": [],
   "source": [
    "import numpy as np\n",
    "\n",
    "from pytao import Tao\n",
    "from pmd_beamphysics import ParticleGroup"
   ]
  },
  {
   "cell_type": "code",
   "execution_count": 2,
   "metadata": {
    "execution": {
     "iopub.execute_input": "2025-07-16T01:44:40.232180Z",
     "iopub.status.busy": "2025-07-16T01:44:40.231913Z",
     "iopub.status.idle": "2025-07-16T01:44:40.526207Z",
     "shell.execute_reply": "2025-07-16T01:44:40.525719Z"
    }
   },
   "outputs": [],
   "source": [
    "tao = Tao(\"-init $ACC_ROOT_DIR/bmad-doc/tao_examples/cesr/tao.init -noplot\")"
   ]
  },
  {
   "cell_type": "code",
   "execution_count": 3,
   "metadata": {
    "execution": {
     "iopub.execute_input": "2025-07-16T01:44:40.527979Z",
     "iopub.status.busy": "2025-07-16T01:44:40.527815Z",
     "iopub.status.idle": "2025-07-16T01:44:40.562588Z",
     "shell.execute_reply": "2025-07-16T01:44:40.562125Z"
    }
   },
   "outputs": [
    {
     "name": "stdout",
     "output_type": "stream",
     "text": [
      "[MESSAGE | 2025-JUL-16 01:44:40] tao_set_openmp_n_threads:\n",
      "    OpenMP active with number of threads: 2\n"
     ]
    }
   ],
   "source": [
    "print(\"\\n\".join(tao.cmd(\"set global n_threads = 2\")))"
   ]
  },
  {
   "cell_type": "code",
   "execution_count": 4,
   "metadata": {
    "execution": {
     "iopub.execute_input": "2025-07-16T01:44:40.590297Z",
     "iopub.status.busy": "2025-07-16T01:44:40.590102Z",
     "iopub.status.idle": "2025-07-16T01:44:40.662768Z",
     "shell.execute_reply": "2025-07-16T01:44:40.662270Z"
    }
   },
   "outputs": [],
   "source": [
    "def set_gaussian(\n",
    "    tao,\n",
    "    n_particle,\n",
    "    a_norm_emit=1.0e-6,\n",
    "    b_norm_emit=1.0e-6,\n",
    "    bunch_charge=1e-9,\n",
    "    sig_pz0=2e-6,\n",
    "    sig_z=200e-6,\n",
    "    center_pz=0,\n",
    "    chirp=0,  # 1/m\n",
    "):\n",
    "    sig_pz = np.hypot(sig_pz0, chirp * sig_z)\n",
    "\n",
    "    cmds = [\n",
    "        f\"set beam_init n_particle = {n_particle}\",\n",
    "        \"set beam_init random_engine = quasi\",\n",
    "        \"set beam_init saved_at = MARKER::*, BEGINNING, END\",\n",
    "        f\"set beam_init a_norm_emit = {a_norm_emit}\",\n",
    "        f\"set beam_init b_norm_emit = {b_norm_emit}\",\n",
    "        f\"set beam_init bunch_charge = {bunch_charge}\",\n",
    "        f\"set beam_init sig_pz = {sig_pz}\",\n",
    "        f\"set beam_init sig_z = {sig_z}\",\n",
    "        f\"set beam_init dpz_dz = {chirp}\",\n",
    "        f\"set beam_init center(6) = {center_pz}\",\n",
    "    ]\n",
    "    tao.cmds(cmds)\n",
    "    tao.cmd(\"set global lattice_calc_on = T\")\n",
    "\n",
    "\n",
    "def get_particles(tao, ele_id):\n",
    "    return ParticleGroup(data=tao.bunch_data(ele_id))\n",
    "\n",
    "set_gaussian(tao, n_particle=10_000)"
   ]
  },
  {
   "cell_type": "code",
   "execution_count": 5,
   "metadata": {
    "execution": {
     "iopub.execute_input": "2025-07-16T01:44:40.664375Z",
     "iopub.status.busy": "2025-07-16T01:44:40.664177Z",
     "iopub.status.idle": "2025-07-16T01:44:40.735191Z",
     "shell.execute_reply": "2025-07-16T01:44:40.734746Z"
    }
   },
   "outputs": [],
   "source": [
    "set_gaussian(tao, n_particle=10_000)"
   ]
  },
  {
   "cell_type": "code",
   "execution_count": 6,
   "metadata": {
    "execution": {
     "iopub.execute_input": "2025-07-16T01:44:40.736674Z",
     "iopub.status.busy": "2025-07-16T01:44:40.736503Z",
     "iopub.status.idle": "2025-07-16T01:45:04.453328Z",
     "shell.execute_reply": "2025-07-16T01:45:04.452803Z"
    }
   },
   "outputs": [
    {
     "data": {
      "text/html": [
       "<!-- lume-impact detected Jupyter and will use HTML for rendering. -->"
      ],
      "text/plain": []
     },
     "metadata": {},
     "output_type": "display_data"
    },
    {
     "data": {
      "application/vnd.jupyter.widget-view+json": {
       "model_id": "4f7f858109bc44008f74009205dd8171",
       "version_major": 2,
       "version_minor": 0
      },
      "text/plain": [
       "  0%|          | 0/869 [00:00<?, ?ele/s]"
      ]
     },
     "metadata": {},
     "output_type": "display_data"
    },
    {
     "data": {
      "text/plain": [
       "['',\n",
       " 'Tao: set global track_type = beam',\n",
       " '',\n",
       " 'Tao: set global track_type = single']"
      ]
     },
     "execution_count": 6,
     "metadata": {},
     "output_type": "execute_result"
    }
   ],
   "source": [
    "tao.track_beam(use_progress_bar=True, jupyter=True)"
   ]
  }
 ],
 "metadata": {
  "kernelspec": {
   "display_name": "Python 3 (ipykernel)",
   "language": "python",
   "name": "python3"
  },
  "language_info": {
   "codemirror_mode": {
    "name": "ipython",
    "version": 3
   },
   "file_extension": ".py",
   "mimetype": "text/x-python",
   "name": "python",
   "nbconvert_exporter": "python",
   "pygments_lexer": "ipython3",
   "version": "3.12.11"
  },
  "vscode": {
   "interpreter": {
    "hash": "8acfe5d4ac94dcea04347ba5d21ed6ccc77e9ec6b4167c9c2482da2d61a71842"
   }
  },
  "widgets": {
   "application/vnd.jupyter.widget-state+json": {
    "state": {
     "37bf7fe8bc284f86b033a57df2e4fdc5": {
      "model_module": "@jupyter-widgets/controls",
      "model_module_version": "2.0.0",
      "model_name": "HTMLModel",
      "state": {
       "_dom_classes": [],
       "_model_module": "@jupyter-widgets/controls",
       "_model_module_version": "2.0.0",
       "_model_name": "HTMLModel",
       "_view_count": null,
       "_view_module": "@jupyter-widgets/controls",
       "_view_module_version": "2.0.0",
       "_view_name": "HTMLView",
       "description": "",
       "description_allow_html": false,
       "layout": "IPY_MODEL_e79935b4036947d5b47f590f6f2ceab7",
       "placeholder": "​",
       "style": "IPY_MODEL_4278e5b4ddf140dbab013d668bb45993",
       "tabbable": null,
       "tooltip": null,
       "value": " 869/869 [00:23&lt;00:00, 36.79ele/s, Element=END, ix_ele=869]"
      }
     },
     "3d37abd4ecf44ab882c396cd35962441": {
      "model_module": "@jupyter-widgets/base",
      "model_module_version": "2.0.0",
      "model_name": "LayoutModel",
      "state": {
       "_model_module": "@jupyter-widgets/base",
       "_model_module_version": "2.0.0",
       "_model_name": "LayoutModel",
       "_view_count": null,
       "_view_module": "@jupyter-widgets/base",
       "_view_module_version": "2.0.0",
       "_view_name": "LayoutView",
       "align_content": null,
       "align_items": null,
       "align_self": null,
       "border_bottom": null,
       "border_left": null,
       "border_right": null,
       "border_top": null,
       "bottom": null,
       "display": null,
       "flex": null,
       "flex_flow": null,
       "grid_area": null,
       "grid_auto_columns": null,
       "grid_auto_flow": null,
       "grid_auto_rows": null,
       "grid_column": null,
       "grid_gap": null,
       "grid_row": null,
       "grid_template_areas": null,
       "grid_template_columns": null,
       "grid_template_rows": null,
       "height": null,
       "justify_content": null,
       "justify_items": null,
       "left": null,
       "margin": null,
       "max_height": null,
       "max_width": null,
       "min_height": null,
       "min_width": null,
       "object_fit": null,
       "object_position": null,
       "order": null,
       "overflow": null,
       "padding": null,
       "right": null,
       "top": null,
       "visibility": "hidden",
       "width": null
      }
     },
     "4278e5b4ddf140dbab013d668bb45993": {
      "model_module": "@jupyter-widgets/controls",
      "model_module_version": "2.0.0",
      "model_name": "HTMLStyleModel",
      "state": {
       "_model_module": "@jupyter-widgets/controls",
       "_model_module_version": "2.0.0",
       "_model_name": "HTMLStyleModel",
       "_view_count": null,
       "_view_module": "@jupyter-widgets/base",
       "_view_module_version": "2.0.0",
       "_view_name": "StyleView",
       "background": null,
       "description_width": "",
       "font_size": null,
       "text_color": null
      }
     },
     "4f7f858109bc44008f74009205dd8171": {
      "model_module": "@jupyter-widgets/controls",
      "model_module_version": "2.0.0",
      "model_name": "HBoxModel",
      "state": {
       "_dom_classes": [],
       "_model_module": "@jupyter-widgets/controls",
       "_model_module_version": "2.0.0",
       "_model_name": "HBoxModel",
       "_view_count": null,
       "_view_module": "@jupyter-widgets/controls",
       "_view_module_version": "2.0.0",
       "_view_name": "HBoxView",
       "box_style": "",
       "children": [
        "IPY_MODEL_898959fb181c46e0ae69148122f7a6b9",
        "IPY_MODEL_502cb6d0c3ad4213b354d9a3fe84abc5",
        "IPY_MODEL_37bf7fe8bc284f86b033a57df2e4fdc5"
       ],
       "layout": "IPY_MODEL_3d37abd4ecf44ab882c396cd35962441",
       "tabbable": null,
       "tooltip": null
      }
     },
     "502cb6d0c3ad4213b354d9a3fe84abc5": {
      "model_module": "@jupyter-widgets/controls",
      "model_module_version": "2.0.0",
      "model_name": "FloatProgressModel",
      "state": {
       "_dom_classes": [],
       "_model_module": "@jupyter-widgets/controls",
       "_model_module_version": "2.0.0",
       "_model_name": "FloatProgressModel",
       "_view_count": null,
       "_view_module": "@jupyter-widgets/controls",
       "_view_module_version": "2.0.0",
       "_view_name": "ProgressView",
       "bar_style": "",
       "description": "",
       "description_allow_html": false,
       "layout": "IPY_MODEL_5226b51595ca45f589b65d73dca68f39",
       "max": 869.0,
       "min": 0.0,
       "orientation": "horizontal",
       "style": "IPY_MODEL_c6df6c4b288b4ab3948e0648e9784906",
       "tabbable": null,
       "tooltip": null,
       "value": 869.0
      }
     },
     "5226b51595ca45f589b65d73dca68f39": {
      "model_module": "@jupyter-widgets/base",
      "model_module_version": "2.0.0",
      "model_name": "LayoutModel",
      "state": {
       "_model_module": "@jupyter-widgets/base",
       "_model_module_version": "2.0.0",
       "_model_name": "LayoutModel",
       "_view_count": null,
       "_view_module": "@jupyter-widgets/base",
       "_view_module_version": "2.0.0",
       "_view_name": "LayoutView",
       "align_content": null,
       "align_items": null,
       "align_self": null,
       "border_bottom": null,
       "border_left": null,
       "border_right": null,
       "border_top": null,
       "bottom": null,
       "display": null,
       "flex": null,
       "flex_flow": null,
       "grid_area": null,
       "grid_auto_columns": null,
       "grid_auto_flow": null,
       "grid_auto_rows": null,
       "grid_column": null,
       "grid_gap": null,
       "grid_row": null,
       "grid_template_areas": null,
       "grid_template_columns": null,
       "grid_template_rows": null,
       "height": null,
       "justify_content": null,
       "justify_items": null,
       "left": null,
       "margin": null,
       "max_height": null,
       "max_width": null,
       "min_height": null,
       "min_width": null,
       "object_fit": null,
       "object_position": null,
       "order": null,
       "overflow": null,
       "padding": null,
       "right": null,
       "top": null,
       "visibility": null,
       "width": null
      }
     },
     "62194af97530442dae02b6d6cf8c041f": {
      "model_module": "@jupyter-widgets/base",
      "model_module_version": "2.0.0",
      "model_name": "LayoutModel",
      "state": {
       "_model_module": "@jupyter-widgets/base",
       "_model_module_version": "2.0.0",
       "_model_name": "LayoutModel",
       "_view_count": null,
       "_view_module": "@jupyter-widgets/base",
       "_view_module_version": "2.0.0",
       "_view_name": "LayoutView",
       "align_content": null,
       "align_items": null,
       "align_self": null,
       "border_bottom": null,
       "border_left": null,
       "border_right": null,
       "border_top": null,
       "bottom": null,
       "display": null,
       "flex": null,
       "flex_flow": null,
       "grid_area": null,
       "grid_auto_columns": null,
       "grid_auto_flow": null,
       "grid_auto_rows": null,
       "grid_column": null,
       "grid_gap": null,
       "grid_row": null,
       "grid_template_areas": null,
       "grid_template_columns": null,
       "grid_template_rows": null,
       "height": null,
       "justify_content": null,
       "justify_items": null,
       "left": null,
       "margin": null,
       "max_height": null,
       "max_width": null,
       "min_height": null,
       "min_width": null,
       "object_fit": null,
       "object_position": null,
       "order": null,
       "overflow": null,
       "padding": null,
       "right": null,
       "top": null,
       "visibility": null,
       "width": null
      }
     },
     "898959fb181c46e0ae69148122f7a6b9": {
      "model_module": "@jupyter-widgets/controls",
      "model_module_version": "2.0.0",
      "model_name": "HTMLModel",
      "state": {
       "_dom_classes": [],
       "_model_module": "@jupyter-widgets/controls",
       "_model_module_version": "2.0.0",
       "_model_name": "HTMLModel",
       "_view_count": null,
       "_view_module": "@jupyter-widgets/controls",
       "_view_module_version": "2.0.0",
       "_view_name": "HTMLView",
       "description": "",
       "description_allow_html": false,
       "layout": "IPY_MODEL_62194af97530442dae02b6d6cf8c041f",
       "placeholder": "​",
       "style": "IPY_MODEL_f8322d7eea9546b0b32c9aba732a50a7",
       "tabbable": null,
       "tooltip": null,
       "value": "100%"
      }
     },
     "c6df6c4b288b4ab3948e0648e9784906": {
      "model_module": "@jupyter-widgets/controls",
      "model_module_version": "2.0.0",
      "model_name": "ProgressStyleModel",
      "state": {
       "_model_module": "@jupyter-widgets/controls",
       "_model_module_version": "2.0.0",
       "_model_name": "ProgressStyleModel",
       "_view_count": null,
       "_view_module": "@jupyter-widgets/base",
       "_view_module_version": "2.0.0",
       "_view_name": "StyleView",
       "bar_color": null,
       "description_width": ""
      }
     },
     "e79935b4036947d5b47f590f6f2ceab7": {
      "model_module": "@jupyter-widgets/base",
      "model_module_version": "2.0.0",
      "model_name": "LayoutModel",
      "state": {
       "_model_module": "@jupyter-widgets/base",
       "_model_module_version": "2.0.0",
       "_model_name": "LayoutModel",
       "_view_count": null,
       "_view_module": "@jupyter-widgets/base",
       "_view_module_version": "2.0.0",
       "_view_name": "LayoutView",
       "align_content": null,
       "align_items": null,
       "align_self": null,
       "border_bottom": null,
       "border_left": null,
       "border_right": null,
       "border_top": null,
       "bottom": null,
       "display": null,
       "flex": null,
       "flex_flow": null,
       "grid_area": null,
       "grid_auto_columns": null,
       "grid_auto_flow": null,
       "grid_auto_rows": null,
       "grid_column": null,
       "grid_gap": null,
       "grid_row": null,
       "grid_template_areas": null,
       "grid_template_columns": null,
       "grid_template_rows": null,
       "height": null,
       "justify_content": null,
       "justify_items": null,
       "left": null,
       "margin": null,
       "max_height": null,
       "max_width": null,
       "min_height": null,
       "min_width": null,
       "object_fit": null,
       "object_position": null,
       "order": null,
       "overflow": null,
       "padding": null,
       "right": null,
       "top": null,
       "visibility": null,
       "width": null
      }
     },
     "f8322d7eea9546b0b32c9aba732a50a7": {
      "model_module": "@jupyter-widgets/controls",
      "model_module_version": "2.0.0",
      "model_name": "HTMLStyleModel",
      "state": {
       "_model_module": "@jupyter-widgets/controls",
       "_model_module_version": "2.0.0",
       "_model_name": "HTMLStyleModel",
       "_view_count": null,
       "_view_module": "@jupyter-widgets/base",
       "_view_module_version": "2.0.0",
       "_view_name": "StyleView",
       "background": null,
       "description_width": "",
       "font_size": null,
       "text_color": null
      }
     }
    },
    "version_major": 2,
    "version_minor": 0
   }
  }
 },
 "nbformat": 4,
 "nbformat_minor": 4
}
