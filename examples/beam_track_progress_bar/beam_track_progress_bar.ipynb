{
 "cells": [
  {
   "cell_type": "markdown",
   "metadata": {},
   "source": [
    "# PyTao beam tracking with progress bar"
   ]
  },
  {
   "cell_type": "code",
   "execution_count": 1,
   "metadata": {
    "execution": {
     "iopub.execute_input": "2025-05-14T01:27:08.429761Z",
     "iopub.status.busy": "2025-05-14T01:27:08.429593Z",
     "iopub.status.idle": "2025-05-14T01:27:09.283118Z",
     "shell.execute_reply": "2025-05-14T01:27:09.282569Z"
    }
   },
   "outputs": [],
   "source": [
    "import numpy as np\n",
    "\n",
    "from pytao import Tao\n",
    "from pmd_beamphysics import ParticleGroup"
   ]
  },
  {
   "cell_type": "code",
   "execution_count": 2,
   "metadata": {
    "execution": {
     "iopub.execute_input": "2025-05-14T01:27:09.285404Z",
     "iopub.status.busy": "2025-05-14T01:27:09.284967Z",
     "iopub.status.idle": "2025-05-14T01:27:09.582617Z",
     "shell.execute_reply": "2025-05-14T01:27:09.582093Z"
    }
   },
   "outputs": [],
   "source": [
    "tao = Tao(\"-init $ACC_ROOT_DIR/bmad-doc/tao_examples/cesr/tao.init -noplot\")"
   ]
  },
  {
   "cell_type": "code",
   "execution_count": 3,
   "metadata": {
    "execution": {
     "iopub.execute_input": "2025-05-14T01:27:09.584432Z",
     "iopub.status.busy": "2025-05-14T01:27:09.584242Z",
     "iopub.status.idle": "2025-05-14T01:27:09.619239Z",
     "shell.execute_reply": "2025-05-14T01:27:09.618702Z"
    }
   },
   "outputs": [
    {
     "name": "stdout",
     "output_type": "stream",
     "text": [
      "[MESSAGE | 2025-MAY-14 01:27:09] tao_set_openmp_n_threads:\n",
      "    OpenMP active with number of threads: 2\n"
     ]
    }
   ],
   "source": [
    "print(\"\\n\".join(tao.cmd(\"set global n_threads = 2\")))"
   ]
  },
  {
   "cell_type": "code",
   "execution_count": 4,
   "metadata": {
    "execution": {
     "iopub.execute_input": "2025-05-14T01:27:09.648200Z",
     "iopub.status.busy": "2025-05-14T01:27:09.647858Z",
     "iopub.status.idle": "2025-05-14T01:27:09.720434Z",
     "shell.execute_reply": "2025-05-14T01:27:09.719885Z"
    }
   },
   "outputs": [],
   "source": [
    "def set_gaussian(\n",
    "    tao,\n",
    "    n_particle,\n",
    "    a_norm_emit=1.0e-6,\n",
    "    b_norm_emit=1.0e-6,\n",
    "    bunch_charge=1e-9,\n",
    "    sig_pz0=2e-6,\n",
    "    sig_z=200e-6,\n",
    "    center_pz=0,\n",
    "    chirp=0,  # 1/m\n",
    "):\n",
    "    sig_pz = np.hypot(sig_pz0, chirp * sig_z)\n",
    "\n",
    "    cmds = [\n",
    "        f\"set beam_init n_particle = {n_particle}\",\n",
    "        \"set beam_init random_engine = quasi\",\n",
    "        \"set beam_init saved_at = MARKER::*, BEGINNING, END\",\n",
    "        f\"set beam_init a_norm_emit = {a_norm_emit}\",\n",
    "        f\"set beam_init b_norm_emit = {b_norm_emit}\",\n",
    "        f\"set beam_init bunch_charge = {bunch_charge}\",\n",
    "        f\"set beam_init sig_pz = {sig_pz}\",\n",
    "        f\"set beam_init sig_z = {sig_z}\",\n",
    "        f\"set beam_init dpz_dz = {chirp}\",\n",
    "        f\"set beam_init center(6) = {center_pz}\",\n",
    "    ]\n",
    "    tao.cmds(cmds)\n",
    "    tao.cmd(\"set global lattice_calc_on = T\")\n",
    "\n",
    "\n",
    "def get_particles(tao, ele_id):\n",
    "    return ParticleGroup(data=tao.bunch_data(ele_id))\n",
    "\n",
    "set_gaussian(tao, n_particle=10_000)"
   ]
  },
  {
   "cell_type": "code",
   "execution_count": 5,
   "metadata": {
    "execution": {
     "iopub.execute_input": "2025-05-14T01:27:09.722257Z",
     "iopub.status.busy": "2025-05-14T01:27:09.722075Z",
     "iopub.status.idle": "2025-05-14T01:27:09.793381Z",
     "shell.execute_reply": "2025-05-14T01:27:09.792814Z"
    }
   },
   "outputs": [],
   "source": [
    "set_gaussian(tao, n_particle=10_000)"
   ]
  },
  {
   "cell_type": "code",
   "execution_count": 6,
   "metadata": {
    "execution": {
     "iopub.execute_input": "2025-05-14T01:27:09.795223Z",
     "iopub.status.busy": "2025-05-14T01:27:09.795052Z",
     "iopub.status.idle": "2025-05-14T01:27:22.316771Z",
     "shell.execute_reply": "2025-05-14T01:27:22.316240Z"
    }
   },
   "outputs": [
    {
     "data": {
      "text/html": [
       "<!-- lume-impact detected Jupyter and will use HTML for rendering. -->"
      ],
      "text/plain": []
     },
     "metadata": {},
     "output_type": "display_data"
    },
    {
     "data": {
      "application/vnd.jupyter.widget-view+json": {
       "model_id": "02fb7462fa3d4367937f7844fe252df3",
       "version_major": 2,
       "version_minor": 0
      },
      "text/plain": [
       "  0%|          | 0/869 [00:00<?, ?ele/s]"
      ]
     },
     "metadata": {},
     "output_type": "display_data"
    },
    {
     "data": {
      "text/plain": [
       "['',\n",
       " 'Tao: set global track_type = beam',\n",
       " '',\n",
       " 'Tao: set global track_type = single']"
      ]
     },
     "execution_count": 6,
     "metadata": {},
     "output_type": "execute_result"
    }
   ],
   "source": [
    "tao.track_beam(use_progress_bar=True, jupyter=True)"
   ]
  }
 ],
 "metadata": {
  "kernelspec": {
   "display_name": "Python 3 (ipykernel)",
   "language": "python",
   "name": "python3"
  },
  "language_info": {
   "codemirror_mode": {
    "name": "ipython",
    "version": 3
   },
   "file_extension": ".py",
   "mimetype": "text/x-python",
   "name": "python",
   "nbconvert_exporter": "python",
   "pygments_lexer": "ipython3",
   "version": "3.12.10"
  },
  "vscode": {
   "interpreter": {
    "hash": "8acfe5d4ac94dcea04347ba5d21ed6ccc77e9ec6b4167c9c2482da2d61a71842"
   }
  },
  "widgets": {
   "application/vnd.jupyter.widget-state+json": {
    "state": {
     "02fb7462fa3d4367937f7844fe252df3": {
      "model_module": "@jupyter-widgets/controls",
      "model_module_version": "2.0.0",
      "model_name": "HBoxModel",
      "state": {
       "_dom_classes": [],
       "_model_module": "@jupyter-widgets/controls",
       "_model_module_version": "2.0.0",
       "_model_name": "HBoxModel",
       "_view_count": null,
       "_view_module": "@jupyter-widgets/controls",
       "_view_module_version": "2.0.0",
       "_view_name": "HBoxView",
       "box_style": "",
       "children": [
        "IPY_MODEL_18fa20454c004ffcb90a433e2aa570aa",
        "IPY_MODEL_0ad22534cd06464581a5777b37f3d0b7",
        "IPY_MODEL_77d61e940732495fa37486eab3e15409"
       ],
       "layout": "IPY_MODEL_d649a52155d147a6affde4fa2b5501d6",
       "tabbable": null,
       "tooltip": null
      }
     },
     "0ad22534cd06464581a5777b37f3d0b7": {
      "model_module": "@jupyter-widgets/controls",
      "model_module_version": "2.0.0",
      "model_name": "FloatProgressModel",
      "state": {
       "_dom_classes": [],
       "_model_module": "@jupyter-widgets/controls",
       "_model_module_version": "2.0.0",
       "_model_name": "FloatProgressModel",
       "_view_count": null,
       "_view_module": "@jupyter-widgets/controls",
       "_view_module_version": "2.0.0",
       "_view_name": "ProgressView",
       "bar_style": "danger",
       "description": "",
       "description_allow_html": false,
       "layout": "IPY_MODEL_36483b3665be4e53a999852e6adc91ed",
       "max": 869.0,
       "min": 0.0,
       "orientation": "horizontal",
       "style": "IPY_MODEL_2815b4dbbfdf4ec085656dc7b149aad8",
       "tabbable": null,
       "tooltip": null,
       "value": 865.0
      }
     },
     "18fa20454c004ffcb90a433e2aa570aa": {
      "model_module": "@jupyter-widgets/controls",
      "model_module_version": "2.0.0",
      "model_name": "HTMLModel",
      "state": {
       "_dom_classes": [],
       "_model_module": "@jupyter-widgets/controls",
       "_model_module_version": "2.0.0",
       "_model_name": "HTMLModel",
       "_view_count": null,
       "_view_module": "@jupyter-widgets/controls",
       "_view_module_version": "2.0.0",
       "_view_name": "HTMLView",
       "description": "",
       "description_allow_html": false,
       "layout": "IPY_MODEL_3ff14372eaf247f6b157b1138983ba41",
       "placeholder": "​",
       "style": "IPY_MODEL_db5685b41e5a4687bc600c83cc105578",
       "tabbable": null,
       "tooltip": null,
       "value": "100%"
      }
     },
     "1af43c5bfd2a45b588fffbb31bcc0e45": {
      "model_module": "@jupyter-widgets/controls",
      "model_module_version": "2.0.0",
      "model_name": "HTMLStyleModel",
      "state": {
       "_model_module": "@jupyter-widgets/controls",
       "_model_module_version": "2.0.0",
       "_model_name": "HTMLStyleModel",
       "_view_count": null,
       "_view_module": "@jupyter-widgets/base",
       "_view_module_version": "2.0.0",
       "_view_name": "StyleView",
       "background": null,
       "description_width": "",
       "font_size": null,
       "text_color": null
      }
     },
     "1f6fed18ba7247cb8c0412b2b3bd2805": {
      "model_module": "@jupyter-widgets/base",
      "model_module_version": "2.0.0",
      "model_name": "LayoutModel",
      "state": {
       "_model_module": "@jupyter-widgets/base",
       "_model_module_version": "2.0.0",
       "_model_name": "LayoutModel",
       "_view_count": null,
       "_view_module": "@jupyter-widgets/base",
       "_view_module_version": "2.0.0",
       "_view_name": "LayoutView",
       "align_content": null,
       "align_items": null,
       "align_self": null,
       "border_bottom": null,
       "border_left": null,
       "border_right": null,
       "border_top": null,
       "bottom": null,
       "display": null,
       "flex": null,
       "flex_flow": null,
       "grid_area": null,
       "grid_auto_columns": null,
       "grid_auto_flow": null,
       "grid_auto_rows": null,
       "grid_column": null,
       "grid_gap": null,
       "grid_row": null,
       "grid_template_areas": null,
       "grid_template_columns": null,
       "grid_template_rows": null,
       "height": null,
       "justify_content": null,
       "justify_items": null,
       "left": null,
       "margin": null,
       "max_height": null,
       "max_width": null,
       "min_height": null,
       "min_width": null,
       "object_fit": null,
       "object_position": null,
       "order": null,
       "overflow": null,
       "padding": null,
       "right": null,
       "top": null,
       "visibility": null,
       "width": null
      }
     },
     "2815b4dbbfdf4ec085656dc7b149aad8": {
      "model_module": "@jupyter-widgets/controls",
      "model_module_version": "2.0.0",
      "model_name": "ProgressStyleModel",
      "state": {
       "_model_module": "@jupyter-widgets/controls",
       "_model_module_version": "2.0.0",
       "_model_name": "ProgressStyleModel",
       "_view_count": null,
       "_view_module": "@jupyter-widgets/base",
       "_view_module_version": "2.0.0",
       "_view_name": "StyleView",
       "bar_color": null,
       "description_width": ""
      }
     },
     "36483b3665be4e53a999852e6adc91ed": {
      "model_module": "@jupyter-widgets/base",
      "model_module_version": "2.0.0",
      "model_name": "LayoutModel",
      "state": {
       "_model_module": "@jupyter-widgets/base",
       "_model_module_version": "2.0.0",
       "_model_name": "LayoutModel",
       "_view_count": null,
       "_view_module": "@jupyter-widgets/base",
       "_view_module_version": "2.0.0",
       "_view_name": "LayoutView",
       "align_content": null,
       "align_items": null,
       "align_self": null,
       "border_bottom": null,
       "border_left": null,
       "border_right": null,
       "border_top": null,
       "bottom": null,
       "display": null,
       "flex": null,
       "flex_flow": null,
       "grid_area": null,
       "grid_auto_columns": null,
       "grid_auto_flow": null,
       "grid_auto_rows": null,
       "grid_column": null,
       "grid_gap": null,
       "grid_row": null,
       "grid_template_areas": null,
       "grid_template_columns": null,
       "grid_template_rows": null,
       "height": null,
       "justify_content": null,
       "justify_items": null,
       "left": null,
       "margin": null,
       "max_height": null,
       "max_width": null,
       "min_height": null,
       "min_width": null,
       "object_fit": null,
       "object_position": null,
       "order": null,
       "overflow": null,
       "padding": null,
       "right": null,
       "top": null,
       "visibility": null,
       "width": null
      }
     },
     "3ff14372eaf247f6b157b1138983ba41": {
      "model_module": "@jupyter-widgets/base",
      "model_module_version": "2.0.0",
      "model_name": "LayoutModel",
      "state": {
       "_model_module": "@jupyter-widgets/base",
       "_model_module_version": "2.0.0",
       "_model_name": "LayoutModel",
       "_view_count": null,
       "_view_module": "@jupyter-widgets/base",
       "_view_module_version": "2.0.0",
       "_view_name": "LayoutView",
       "align_content": null,
       "align_items": null,
       "align_self": null,
       "border_bottom": null,
       "border_left": null,
       "border_right": null,
       "border_top": null,
       "bottom": null,
       "display": null,
       "flex": null,
       "flex_flow": null,
       "grid_area": null,
       "grid_auto_columns": null,
       "grid_auto_flow": null,
       "grid_auto_rows": null,
       "grid_column": null,
       "grid_gap": null,
       "grid_row": null,
       "grid_template_areas": null,
       "grid_template_columns": null,
       "grid_template_rows": null,
       "height": null,
       "justify_content": null,
       "justify_items": null,
       "left": null,
       "margin": null,
       "max_height": null,
       "max_width": null,
       "min_height": null,
       "min_width": null,
       "object_fit": null,
       "object_position": null,
       "order": null,
       "overflow": null,
       "padding": null,
       "right": null,
       "top": null,
       "visibility": null,
       "width": null
      }
     },
     "77d61e940732495fa37486eab3e15409": {
      "model_module": "@jupyter-widgets/controls",
      "model_module_version": "2.0.0",
      "model_name": "HTMLModel",
      "state": {
       "_dom_classes": [],
       "_model_module": "@jupyter-widgets/controls",
       "_model_module_version": "2.0.0",
       "_model_name": "HTMLModel",
       "_view_count": null,
       "_view_module": "@jupyter-widgets/controls",
       "_view_module_version": "2.0.0",
       "_view_name": "HTMLView",
       "description": "",
       "description_allow_html": false,
       "layout": "IPY_MODEL_1f6fed18ba7247cb8c0412b2b3bd2805",
       "placeholder": "​",
       "style": "IPY_MODEL_1af43c5bfd2a45b588fffbb31bcc0e45",
       "tabbable": null,
       "tooltip": null,
       "value": " 865/869 [00:12&lt;00:00, 69.39ele/s, Element=Q00E\\CLEO_SOL, ix_ele=865]"
      }
     },
     "d649a52155d147a6affde4fa2b5501d6": {
      "model_module": "@jupyter-widgets/base",
      "model_module_version": "2.0.0",
      "model_name": "LayoutModel",
      "state": {
       "_model_module": "@jupyter-widgets/base",
       "_model_module_version": "2.0.0",
       "_model_name": "LayoutModel",
       "_view_count": null,
       "_view_module": "@jupyter-widgets/base",
       "_view_module_version": "2.0.0",
       "_view_name": "LayoutView",
       "align_content": null,
       "align_items": null,
       "align_self": null,
       "border_bottom": null,
       "border_left": null,
       "border_right": null,
       "border_top": null,
       "bottom": null,
       "display": null,
       "flex": null,
       "flex_flow": null,
       "grid_area": null,
       "grid_auto_columns": null,
       "grid_auto_flow": null,
       "grid_auto_rows": null,
       "grid_column": null,
       "grid_gap": null,
       "grid_row": null,
       "grid_template_areas": null,
       "grid_template_columns": null,
       "grid_template_rows": null,
       "height": null,
       "justify_content": null,
       "justify_items": null,
       "left": null,
       "margin": null,
       "max_height": null,
       "max_width": null,
       "min_height": null,
       "min_width": null,
       "object_fit": null,
       "object_position": null,
       "order": null,
       "overflow": null,
       "padding": null,
       "right": null,
       "top": null,
       "visibility": null,
       "width": null
      }
     },
     "db5685b41e5a4687bc600c83cc105578": {
      "model_module": "@jupyter-widgets/controls",
      "model_module_version": "2.0.0",
      "model_name": "HTMLStyleModel",
      "state": {
       "_model_module": "@jupyter-widgets/controls",
       "_model_module_version": "2.0.0",
       "_model_name": "HTMLStyleModel",
       "_view_count": null,
       "_view_module": "@jupyter-widgets/base",
       "_view_module_version": "2.0.0",
       "_view_name": "StyleView",
       "background": null,
       "description_width": "",
       "font_size": null,
       "text_color": null
      }
     }
    },
    "version_major": 2,
    "version_minor": 0
   }
  }
 },
 "nbformat": 4,
 "nbformat_minor": 4
}
