{
 "cells": [
  {
   "cell_type": "markdown",
   "metadata": {},
   "source": [
    "# PyTao beam tracking with progress bar"
   ]
  },
  {
   "cell_type": "code",
   "execution_count": 1,
   "metadata": {
    "execution": {
     "iopub.execute_input": "2025-06-30T01:44:56.998177Z",
     "iopub.status.busy": "2025-06-30T01:44:56.998023Z",
     "iopub.status.idle": "2025-06-30T01:44:57.899057Z",
     "shell.execute_reply": "2025-06-30T01:44:57.898504Z"
    }
   },
   "outputs": [],
   "source": [
    "import numpy as np\n",
    "\n",
    "from pytao import Tao\n",
    "from pmd_beamphysics import ParticleGroup"
   ]
  },
  {
   "cell_type": "code",
   "execution_count": 2,
   "metadata": {
    "execution": {
     "iopub.execute_input": "2025-06-30T01:44:57.900947Z",
     "iopub.status.busy": "2025-06-30T01:44:57.900690Z",
     "iopub.status.idle": "2025-06-30T01:44:58.200283Z",
     "shell.execute_reply": "2025-06-30T01:44:58.199745Z"
    }
   },
   "outputs": [],
   "source": [
    "tao = Tao(\"-init $ACC_ROOT_DIR/bmad-doc/tao_examples/cesr/tao.init -noplot\")"
   ]
  },
  {
   "cell_type": "code",
   "execution_count": 3,
   "metadata": {
    "execution": {
     "iopub.execute_input": "2025-06-30T01:44:58.202247Z",
     "iopub.status.busy": "2025-06-30T01:44:58.202070Z",
     "iopub.status.idle": "2025-06-30T01:44:58.237978Z",
     "shell.execute_reply": "2025-06-30T01:44:58.237491Z"
    }
   },
   "outputs": [
    {
     "name": "stdout",
     "output_type": "stream",
     "text": [
      "[MESSAGE | 2025-JUN-30 01:44:58] tao_set_openmp_n_threads:\n",
      "    OpenMP active with number of threads: 2\n"
     ]
    }
   ],
   "source": [
    "print(\"\\n\".join(tao.cmd(\"set global n_threads = 2\")))"
   ]
  },
  {
   "cell_type": "code",
   "execution_count": 4,
   "metadata": {
    "execution": {
     "iopub.execute_input": "2025-06-30T01:44:58.265880Z",
     "iopub.status.busy": "2025-06-30T01:44:58.265323Z",
     "iopub.status.idle": "2025-06-30T01:44:58.340552Z",
     "shell.execute_reply": "2025-06-30T01:44:58.340053Z"
    }
   },
   "outputs": [],
   "source": [
    "def set_gaussian(\n",
    "    tao,\n",
    "    n_particle,\n",
    "    a_norm_emit=1.0e-6,\n",
    "    b_norm_emit=1.0e-6,\n",
    "    bunch_charge=1e-9,\n",
    "    sig_pz0=2e-6,\n",
    "    sig_z=200e-6,\n",
    "    center_pz=0,\n",
    "    chirp=0,  # 1/m\n",
    "):\n",
    "    sig_pz = np.hypot(sig_pz0, chirp * sig_z)\n",
    "\n",
    "    cmds = [\n",
    "        f\"set beam_init n_particle = {n_particle}\",\n",
    "        \"set beam_init random_engine = quasi\",\n",
    "        \"set beam_init saved_at = MARKER::*, BEGINNING, END\",\n",
    "        f\"set beam_init a_norm_emit = {a_norm_emit}\",\n",
    "        f\"set beam_init b_norm_emit = {b_norm_emit}\",\n",
    "        f\"set beam_init bunch_charge = {bunch_charge}\",\n",
    "        f\"set beam_init sig_pz = {sig_pz}\",\n",
    "        f\"set beam_init sig_z = {sig_z}\",\n",
    "        f\"set beam_init dpz_dz = {chirp}\",\n",
    "        f\"set beam_init center(6) = {center_pz}\",\n",
    "    ]\n",
    "    tao.cmds(cmds)\n",
    "    tao.cmd(\"set global lattice_calc_on = T\")\n",
    "\n",
    "\n",
    "def get_particles(tao, ele_id):\n",
    "    return ParticleGroup(data=tao.bunch_data(ele_id))\n",
    "\n",
    "set_gaussian(tao, n_particle=10_000)"
   ]
  },
  {
   "cell_type": "code",
   "execution_count": 5,
   "metadata": {
    "execution": {
     "iopub.execute_input": "2025-06-30T01:44:58.342397Z",
     "iopub.status.busy": "2025-06-30T01:44:58.342078Z",
     "iopub.status.idle": "2025-06-30T01:44:58.415014Z",
     "shell.execute_reply": "2025-06-30T01:44:58.414508Z"
    }
   },
   "outputs": [],
   "source": [
    "set_gaussian(tao, n_particle=10_000)"
   ]
  },
  {
   "cell_type": "code",
   "execution_count": 6,
   "metadata": {
    "execution": {
     "iopub.execute_input": "2025-06-30T01:44:58.416703Z",
     "iopub.status.busy": "2025-06-30T01:44:58.416316Z",
     "iopub.status.idle": "2025-06-30T01:45:22.142203Z",
     "shell.execute_reply": "2025-06-30T01:45:22.141686Z"
    }
   },
   "outputs": [
    {
     "data": {
      "text/html": [
       "<!-- lume-impact detected Jupyter and will use HTML for rendering. -->"
      ],
      "text/plain": []
     },
     "metadata": {},
     "output_type": "display_data"
    },
    {
     "data": {
      "application/vnd.jupyter.widget-view+json": {
       "model_id": "5ad44e277d5f412ba5ff85e350539829",
       "version_major": 2,
       "version_minor": 0
      },
      "text/plain": [
       "  0%|          | 0/869 [00:00<?, ?ele/s]"
      ]
     },
     "metadata": {},
     "output_type": "display_data"
    },
    {
     "data": {
      "text/plain": [
       "['',\n",
       " 'Tao: set global track_type = beam',\n",
       " '',\n",
       " 'Tao: set global track_type = single']"
      ]
     },
     "execution_count": 6,
     "metadata": {},
     "output_type": "execute_result"
    }
   ],
   "source": [
    "tao.track_beam(use_progress_bar=True, jupyter=True)"
   ]
  }
 ],
 "metadata": {
  "kernelspec": {
   "display_name": "Python 3 (ipykernel)",
   "language": "python",
   "name": "python3"
  },
  "language_info": {
   "codemirror_mode": {
    "name": "ipython",
    "version": 3
   },
   "file_extension": ".py",
   "mimetype": "text/x-python",
   "name": "python",
   "nbconvert_exporter": "python",
   "pygments_lexer": "ipython3",
   "version": "3.12.11"
  },
  "vscode": {
   "interpreter": {
    "hash": "8acfe5d4ac94dcea04347ba5d21ed6ccc77e9ec6b4167c9c2482da2d61a71842"
   }
  },
  "widgets": {
   "application/vnd.jupyter.widget-state+json": {
    "state": {
     "20b2050c5309482890c9dcc70434c474": {
      "model_module": "@jupyter-widgets/controls",
      "model_module_version": "2.0.0",
      "model_name": "ProgressStyleModel",
      "state": {
       "_model_module": "@jupyter-widgets/controls",
       "_model_module_version": "2.0.0",
       "_model_name": "ProgressStyleModel",
       "_view_count": null,
       "_view_module": "@jupyter-widgets/base",
       "_view_module_version": "2.0.0",
       "_view_name": "StyleView",
       "bar_color": null,
       "description_width": ""
      }
     },
     "2a11b371cbfc4f4fa112fb30ad06f04d": {
      "model_module": "@jupyter-widgets/controls",
      "model_module_version": "2.0.0",
      "model_name": "HTMLStyleModel",
      "state": {
       "_model_module": "@jupyter-widgets/controls",
       "_model_module_version": "2.0.0",
       "_model_name": "HTMLStyleModel",
       "_view_count": null,
       "_view_module": "@jupyter-widgets/base",
       "_view_module_version": "2.0.0",
       "_view_name": "StyleView",
       "background": null,
       "description_width": "",
       "font_size": null,
       "text_color": null
      }
     },
     "34b51de53c284f11b9af0f852290f097": {
      "model_module": "@jupyter-widgets/base",
      "model_module_version": "2.0.0",
      "model_name": "LayoutModel",
      "state": {
       "_model_module": "@jupyter-widgets/base",
       "_model_module_version": "2.0.0",
       "_model_name": "LayoutModel",
       "_view_count": null,
       "_view_module": "@jupyter-widgets/base",
       "_view_module_version": "2.0.0",
       "_view_name": "LayoutView",
       "align_content": null,
       "align_items": null,
       "align_self": null,
       "border_bottom": null,
       "border_left": null,
       "border_right": null,
       "border_top": null,
       "bottom": null,
       "display": null,
       "flex": null,
       "flex_flow": null,
       "grid_area": null,
       "grid_auto_columns": null,
       "grid_auto_flow": null,
       "grid_auto_rows": null,
       "grid_column": null,
       "grid_gap": null,
       "grid_row": null,
       "grid_template_areas": null,
       "grid_template_columns": null,
       "grid_template_rows": null,
       "height": null,
       "justify_content": null,
       "justify_items": null,
       "left": null,
       "margin": null,
       "max_height": null,
       "max_width": null,
       "min_height": null,
       "min_width": null,
       "object_fit": null,
       "object_position": null,
       "order": null,
       "overflow": null,
       "padding": null,
       "right": null,
       "top": null,
       "visibility": null,
       "width": null
      }
     },
     "3be341ee9d694120acce4d0ed7165bff": {
      "model_module": "@jupyter-widgets/controls",
      "model_module_version": "2.0.0",
      "model_name": "HTMLModel",
      "state": {
       "_dom_classes": [],
       "_model_module": "@jupyter-widgets/controls",
       "_model_module_version": "2.0.0",
       "_model_name": "HTMLModel",
       "_view_count": null,
       "_view_module": "@jupyter-widgets/controls",
       "_view_module_version": "2.0.0",
       "_view_name": "HTMLView",
       "description": "",
       "description_allow_html": false,
       "layout": "IPY_MODEL_34b51de53c284f11b9af0f852290f097",
       "placeholder": "​",
       "style": "IPY_MODEL_8a8eb6892001481e84e776431e577c1d",
       "tabbable": null,
       "tooltip": null,
       "value": " 869/869 [00:23&lt;00:00, 36.80ele/s, Element=END, ix_ele=869]"
      }
     },
     "5ad44e277d5f412ba5ff85e350539829": {
      "model_module": "@jupyter-widgets/controls",
      "model_module_version": "2.0.0",
      "model_name": "HBoxModel",
      "state": {
       "_dom_classes": [],
       "_model_module": "@jupyter-widgets/controls",
       "_model_module_version": "2.0.0",
       "_model_name": "HBoxModel",
       "_view_count": null,
       "_view_module": "@jupyter-widgets/controls",
       "_view_module_version": "2.0.0",
       "_view_name": "HBoxView",
       "box_style": "",
       "children": [
        "IPY_MODEL_d6a03f710c39496d9fd27b6eb6094abe",
        "IPY_MODEL_7a4009ad83654c95bf1e92fa7d36234d",
        "IPY_MODEL_3be341ee9d694120acce4d0ed7165bff"
       ],
       "layout": "IPY_MODEL_beac9990957b4a1397f4b461a32bff9c",
       "tabbable": null,
       "tooltip": null
      }
     },
     "7a4009ad83654c95bf1e92fa7d36234d": {
      "model_module": "@jupyter-widgets/controls",
      "model_module_version": "2.0.0",
      "model_name": "FloatProgressModel",
      "state": {
       "_dom_classes": [],
       "_model_module": "@jupyter-widgets/controls",
       "_model_module_version": "2.0.0",
       "_model_name": "FloatProgressModel",
       "_view_count": null,
       "_view_module": "@jupyter-widgets/controls",
       "_view_module_version": "2.0.0",
       "_view_name": "ProgressView",
       "bar_style": "",
       "description": "",
       "description_allow_html": false,
       "layout": "IPY_MODEL_bd13cdac57934d62957012e5024e5762",
       "max": 869.0,
       "min": 0.0,
       "orientation": "horizontal",
       "style": "IPY_MODEL_20b2050c5309482890c9dcc70434c474",
       "tabbable": null,
       "tooltip": null,
       "value": 869.0
      }
     },
     "8a8eb6892001481e84e776431e577c1d": {
      "model_module": "@jupyter-widgets/controls",
      "model_module_version": "2.0.0",
      "model_name": "HTMLStyleModel",
      "state": {
       "_model_module": "@jupyter-widgets/controls",
       "_model_module_version": "2.0.0",
       "_model_name": "HTMLStyleModel",
       "_view_count": null,
       "_view_module": "@jupyter-widgets/base",
       "_view_module_version": "2.0.0",
       "_view_name": "StyleView",
       "background": null,
       "description_width": "",
       "font_size": null,
       "text_color": null
      }
     },
     "bd13cdac57934d62957012e5024e5762": {
      "model_module": "@jupyter-widgets/base",
      "model_module_version": "2.0.0",
      "model_name": "LayoutModel",
      "state": {
       "_model_module": "@jupyter-widgets/base",
       "_model_module_version": "2.0.0",
       "_model_name": "LayoutModel",
       "_view_count": null,
       "_view_module": "@jupyter-widgets/base",
       "_view_module_version": "2.0.0",
       "_view_name": "LayoutView",
       "align_content": null,
       "align_items": null,
       "align_self": null,
       "border_bottom": null,
       "border_left": null,
       "border_right": null,
       "border_top": null,
       "bottom": null,
       "display": null,
       "flex": null,
       "flex_flow": null,
       "grid_area": null,
       "grid_auto_columns": null,
       "grid_auto_flow": null,
       "grid_auto_rows": null,
       "grid_column": null,
       "grid_gap": null,
       "grid_row": null,
       "grid_template_areas": null,
       "grid_template_columns": null,
       "grid_template_rows": null,
       "height": null,
       "justify_content": null,
       "justify_items": null,
       "left": null,
       "margin": null,
       "max_height": null,
       "max_width": null,
       "min_height": null,
       "min_width": null,
       "object_fit": null,
       "object_position": null,
       "order": null,
       "overflow": null,
       "padding": null,
       "right": null,
       "top": null,
       "visibility": null,
       "width": null
      }
     },
     "beac9990957b4a1397f4b461a32bff9c": {
      "model_module": "@jupyter-widgets/base",
      "model_module_version": "2.0.0",
      "model_name": "LayoutModel",
      "state": {
       "_model_module": "@jupyter-widgets/base",
       "_model_module_version": "2.0.0",
       "_model_name": "LayoutModel",
       "_view_count": null,
       "_view_module": "@jupyter-widgets/base",
       "_view_module_version": "2.0.0",
       "_view_name": "LayoutView",
       "align_content": null,
       "align_items": null,
       "align_self": null,
       "border_bottom": null,
       "border_left": null,
       "border_right": null,
       "border_top": null,
       "bottom": null,
       "display": null,
       "flex": null,
       "flex_flow": null,
       "grid_area": null,
       "grid_auto_columns": null,
       "grid_auto_flow": null,
       "grid_auto_rows": null,
       "grid_column": null,
       "grid_gap": null,
       "grid_row": null,
       "grid_template_areas": null,
       "grid_template_columns": null,
       "grid_template_rows": null,
       "height": null,
       "justify_content": null,
       "justify_items": null,
       "left": null,
       "margin": null,
       "max_height": null,
       "max_width": null,
       "min_height": null,
       "min_width": null,
       "object_fit": null,
       "object_position": null,
       "order": null,
       "overflow": null,
       "padding": null,
       "right": null,
       "top": null,
       "visibility": "hidden",
       "width": null
      }
     },
     "c15ca6a6ab8f43c199abddee39978827": {
      "model_module": "@jupyter-widgets/base",
      "model_module_version": "2.0.0",
      "model_name": "LayoutModel",
      "state": {
       "_model_module": "@jupyter-widgets/base",
       "_model_module_version": "2.0.0",
       "_model_name": "LayoutModel",
       "_view_count": null,
       "_view_module": "@jupyter-widgets/base",
       "_view_module_version": "2.0.0",
       "_view_name": "LayoutView",
       "align_content": null,
       "align_items": null,
       "align_self": null,
       "border_bottom": null,
       "border_left": null,
       "border_right": null,
       "border_top": null,
       "bottom": null,
       "display": null,
       "flex": null,
       "flex_flow": null,
       "grid_area": null,
       "grid_auto_columns": null,
       "grid_auto_flow": null,
       "grid_auto_rows": null,
       "grid_column": null,
       "grid_gap": null,
       "grid_row": null,
       "grid_template_areas": null,
       "grid_template_columns": null,
       "grid_template_rows": null,
       "height": null,
       "justify_content": null,
       "justify_items": null,
       "left": null,
       "margin": null,
       "max_height": null,
       "max_width": null,
       "min_height": null,
       "min_width": null,
       "object_fit": null,
       "object_position": null,
       "order": null,
       "overflow": null,
       "padding": null,
       "right": null,
       "top": null,
       "visibility": null,
       "width": null
      }
     },
     "d6a03f710c39496d9fd27b6eb6094abe": {
      "model_module": "@jupyter-widgets/controls",
      "model_module_version": "2.0.0",
      "model_name": "HTMLModel",
      "state": {
       "_dom_classes": [],
       "_model_module": "@jupyter-widgets/controls",
       "_model_module_version": "2.0.0",
       "_model_name": "HTMLModel",
       "_view_count": null,
       "_view_module": "@jupyter-widgets/controls",
       "_view_module_version": "2.0.0",
       "_view_name": "HTMLView",
       "description": "",
       "description_allow_html": false,
       "layout": "IPY_MODEL_c15ca6a6ab8f43c199abddee39978827",
       "placeholder": "​",
       "style": "IPY_MODEL_2a11b371cbfc4f4fa112fb30ad06f04d",
       "tabbable": null,
       "tooltip": null,
       "value": "100%"
      }
     }
    },
    "version_major": 2,
    "version_minor": 0
   }
  }
 },
 "nbformat": 4,
 "nbformat_minor": 4
}
