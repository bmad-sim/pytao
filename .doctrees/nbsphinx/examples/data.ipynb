{
 "cells": [
  {
   "cell_type": "markdown",
   "metadata": {},
   "source": [
    "# Data command examples"
   ]
  },
  {
   "cell_type": "code",
   "execution_count": 1,
   "metadata": {},
   "outputs": [],
   "source": [
    "# Useful for debugging\n",
    "%load_ext autoreload\n",
    "%autoreload 2"
   ]
  },
  {
   "cell_type": "code",
   "execution_count": 2,
   "metadata": {},
   "outputs": [],
   "source": [
    "from pytao import Tao\n",
    "from pytao.util import data\n",
    "import os"
   ]
  },
  {
   "cell_type": "markdown",
   "metadata": {},
   "source": [
    "## Inititialize Tao"
   ]
  },
  {
   "cell_type": "code",
   "execution_count": 3,
   "metadata": {},
   "outputs": [
    {
     "name": "stdout",
     "output_type": "stream",
     "text": [
      "Bmad installation:  /Users/slepicka/sandbox/git-lume/bmad/bmad_dist_2020_1110\n"
     ]
    }
   ],
   "source": [
    "# Point to local installation\n",
    "BASE_DIR=os.environ['ACC_ROOT_DIR'] \n",
    "print('Bmad installation: ', BASE_DIR)\n",
    "\n",
    "\n",
    "# Pick an example init\n",
    "root = os.path.join(BASE_DIR, 'tao/examples/cesr/')\n",
    "init = '-init '+root+'tao.init -noplot'\n",
    "# Make tao instance\n",
    "tao=Tao(init)   "
   ]
  },
  {
   "cell_type": "markdown",
   "metadata": {},
   "source": [
    "## Data creation\n",
    "---"
   ]
  },
  {
   "cell_type": "markdown",
   "metadata": {},
   "source": [
    "### python data_d2_create "
   ]
  },
  {
   "cell_type": "raw",
   "metadata": {},
   "source": [
    "!----------------------------------------------------------------------\n",
    "! Create a d2 data structure along with associated d1 and data arrays.\n",
    "!\n",
    "! Command syntax:\n",
    "!   python data_d2_create {d2_name}^^{n_d1_data}^^{d_data_arrays_name_min_max}\n",
    "! {d2_name} should be of the form {ix_uni}@{d2_datum_name}\n",
    "! {n_d1_data} is the number of associated d1 data structures.\n",
    "! {d_data_arrays_name_min_max} has the form\n",
    "!   {name1}^^{lower_bound1}^^{upper_bound1}^^....^^{nameN}^^{lower_boundN}^^{upper_boundN}\n",
    "! where {name} is the data array name and {lower_bound} and {upper_bound} are the bounds of the array.\n",
    "!\n",
    "! Example:\n",
    "!   python data_d2_create 2@orbit^^2^^x^^0^^45^^y^^1^^47\n",
    "! This example creates a d2 data structure called \"orbit\" with two d1 structures called \"x\" and \"y\".\n",
    "! The \"x\" d1 structure has an associated data array with indexes in the range [0, 45].\n",
    "! The \"y\" d1 structure has an associated data arrray with indexes in the range [1, 47].\n",
    "!\n",
    "! Use the \"set data\" command to set a created datum parameters.\n",
    "! Note: When setting multiple data parameters, temporarily toggle s%global%lattice_calc_on to False\n",
    "!   (\"set global lattice_calc_on = F\") to prevent Tao trying to evaluate the partially created datum and\n",
    "!   generating unwanted error messages."
   ]
  },
  {
   "cell_type": "code",
   "execution_count": 4,
   "metadata": {},
   "outputs": [
    {
     "data": {
      "text/plain": [
       "['                                       Using', '  X.A[1:2]', '  X.B[1:4]']"
      ]
     },
     "execution_count": 4,
     "metadata": {},
     "output_type": "execute_result"
    }
   ],
   "source": [
    "cmd='python data_d2_create X^^2^^A^^1^^2^^B^^1^^4'\n",
    "tao.cmd(cmd)\n",
    "tao.cmd('show data X')"
   ]
  },
  {
   "cell_type": "code",
   "execution_count": 5,
   "metadata": {},
   "outputs": [],
   "source": [
    "# Python function\n",
    "?data.create_d2_data_cmd"
   ]
  },
  {
   "cell_type": "code",
   "execution_count": 6,
   "metadata": {},
   "outputs": [
    {
     "data": {
      "text/plain": [
       "'python data_d2_create X^^2^^A^^1^^2^^B^^1^^4'"
      ]
     },
     "execution_count": 6,
     "metadata": {},
     "output_type": "execute_result"
    }
   ],
   "source": [
    "# Usage\n",
    "cmd = data.create_d2_data_cmd('X', ['A', 'B'], [2,4])\n",
    "cmd"
   ]
  },
  {
   "cell_type": "markdown",
   "metadata": {},
   "source": [
    "### python datum_create"
   ]
  },
  {
   "cell_type": "raw",
   "metadata": {},
   "source": [
    "!----------------------------------------------------------------------\n",
    "! Create a datum.\n",
    "! Command syntax:\n",
    "!   python datum_create {datum_name}^^{data_type}^^{ele_ref_name}^^{ele_start_name}^^{ele_name}^^{merit_type}^^\n",
    "!                         {meas}^^{good_meas}^^{ref}^^{good_ref}^^{weight}^^{good_user}^^{data_source}^^{eval_point}^^\n",
    "!                         {s_offset}^^{ix_bunch}^^{invalid_value}^^{spin_n0_x}^^{spin_n0_y}^^{spin_n0_z}\n",
    "!\n",
    "! Note: Use the \"data_d2_create\" first to create a d2 structure with associated d1 arrays.\n",
    "! Note: After creating all your datums, use the \"data_set_design_value\" routine to set the design (and model) values."
   ]
  },
  {
   "cell_type": "code",
   "execution_count": 7,
   "metadata": {},
   "outputs": [],
   "source": [
    "# Python function\n",
    "?data.create_datum_cmd"
   ]
  },
  {
   "cell_type": "code",
   "execution_count": 8,
   "metadata": {},
   "outputs": [
    {
     "data": {
      "text/plain": [
       "'python datum_create X.A[1]^^beta.a^^^^^^end^^target^^1^^True^^0^^False^^0^^True^^^^end^^0^^0^^0^^0^^0^^0'"
      ]
     },
     "execution_count": 8,
     "metadata": {},
     "output_type": "execute_result"
    }
   ],
   "source": [
    "cmd=data.create_datum_cmd('X.A[1]', meas=1, good_meas=True)    \n",
    "cmd"
   ]
  },
  {
   "cell_type": "markdown",
   "metadata": {},
   "source": [
    "### python data_set_design_value"
   ]
  },
  {
   "cell_type": "raw",
   "metadata": {},
   "source": [
    "!----------------------------------------------------------------------\n",
    "! Set the design (and base & model) values for all datums.\n",
    "! Command syntax:\n",
    "!   python data_set_design_value\n",
    "!\n",
    "! Note: Use the \"data_d2_create\" and \"datum_create\" first to create datums."
   ]
  },
  {
   "cell_type": "code",
   "execution_count": 9,
   "metadata": {},
   "outputs": [
    {
     "data": {
      "text/plain": [
       "[]"
      ]
     },
     "execution_count": 9,
     "metadata": {},
     "output_type": "execute_result"
    }
   ],
   "source": [
    "tao.cmd('python data_set_design_value')"
   ]
  },
  {
   "cell_type": "code",
   "execution_count": 10,
   "metadata": {},
   "outputs": [
    {
     "data": {
      "text/plain": [
       "'\\n\\n!   python var_create {var_name}^^{ele_name}^^{attribute}^^{universes}^^{weight}^^{step}^^{low_lim}^^{high_lim}^^\\n!                                                                     {merit_type}^^{good_user}^^{key_bound}^^{key_delta}\\n\\n'"
      ]
     },
     "execution_count": 10,
     "metadata": {},
     "output_type": "execute_result"
    }
   ],
   "source": [
    "\"\"\"\n",
    "\n",
    "!   python var_create {var_name}^^{ele_name}^^{attribute}^^{universes}^^{weight}^^{step}^^{low_lim}^^{high_lim}^^\n",
    "!                                                                     {merit_type}^^{good_user}^^{key_bound}^^{key_delta}\n",
    "\n",
    "\"\"\""
   ]
  },
  {
   "cell_type": "code",
   "execution_count": 11,
   "metadata": {},
   "outputs": [
    {
     "data": {
      "text/plain": [
       "['[ERROR | 2021-FEB-09 14:56:30] tao_find_var:',\n",
       " \"    COULDN'T FIND V1 VARIABLES MATCHING: xyz\",\n",
       " '[ERROR | 2021-FEB-09 14:56:30] tao_python_cmd:',\n",
       " '    \"python var_create xyz^^D003^^L^^1^^0^^0^^0^^0^^target^^True^^False^^1\": BAD VARIABLE NAME',\n",
       " 'INVALID']"
      ]
     },
     "execution_count": 11,
     "metadata": {},
     "output_type": "execute_result"
    }
   ],
   "source": [
    "def create_variable_cmd(\n",
    "    var_name='',\n",
    "    ele_name='',\n",
    "    attribute='',\n",
    "    universes='1',\n",
    "    weight=0,\n",
    "    step=0,\n",
    "    low_lim=0,\n",
    "    high_lim=0,\n",
    "    merit_type='target',\n",
    "    good_user=True,\n",
    "    key_bound=False,\n",
    "    key_delta=1\n",
    "):\n",
    "    \"\"\"\n",
    "    \n",
    "    \n",
    "    Create a single variable\n",
    "    Command syntax:\n",
    "    python var_create {var_name}^^{ele_name}^^{attribute}^^{universes}^^{weight}^^{step}^^{low_lim}^^{high_lim}^^\n",
    "                                                                         {merit_type}^^{good_user}^^{key_bound}^^{key_delta}\n",
    "    \n",
    "    \"\"\"\n",
    "    \n",
    "    \n",
    "    # Split for readablity \n",
    "    cmd = 'python var_create '\\\n",
    "        f'{var_name}^^{ele_name}^^{attribute}^^{universes}'\\\n",
    "        f'^^{weight}^^{step}^^{low_lim}^^{high_lim}'\\\n",
    "        f'^^{merit_type}^^{good_user}^^{key_bound}^^{key_delta}'\n",
    "    return cmd\n",
    "\n",
    "CMD = create_variable_cmd(var_name='xyz', ele_name='D003', attribute='L')\n",
    "tao.cmd(CMD)"
   ]
  },
  {
   "cell_type": "code",
   "execution_count": 12,
   "metadata": {},
   "outputs": [
    {
     "name": "stdout",
     "output_type": "stream",
     "text": [
      "-------------------------\n",
      "Tao> sho lat\n",
      "# Values shown are for the Exit End of each Element:\n",
      "# Index  name          key                       s       l    beta   phi_a    eta   orbit    beta   phi_b    eta   orbit   Track\n",
      "#                                                                a   [2pi]      x  x [mm]       b   [2pi]      y  y [mm]   State\n",
      "      0  BEGINNING     Beginning_Ele         0.000     ---    0.95   0.000  -0.00  -0.017    0.02   0.000   0.00   0.001   Alive\n",
      "      1  IP_L0         Marker                0.000   0.000    0.95   0.000  -0.00  -0.017    0.02   0.000   0.00   0.001   Alive\n",
      "      2  CLEO_SOL#3    Solenoid              0.622   0.622    1.34   0.093  -0.02   1.470   21.81   0.244   0.00   0.041   Alive\n",
      "      3  DET_00W       Marker                0.622   0.000    1.34   0.093  -0.02   1.470   21.81   0.244   0.00   0.041   Alive\n",
      "      4  CLEO_SOL#4    Solenoid              0.638   0.016    1.37   0.094  -0.02   1.507   22.92   0.244   0.00   0.043   Alive\n",
      "      5  Q00W\\CLEO_SOL Sol_Quad              1.755   1.117    7.73   0.160  -0.09   5.505   88.01   0.247  -0.01   0.486   Alive\n",
      "      6  Q00W#1        Quadrupole            2.163   0.408   15.96   0.166  -0.13   8.150   76.38   0.248  -0.01   0.717   Alive\n",
      "      7  D003          Drift                 2.493   0.331   27.03   0.169  -0.17  10.704   60.26   0.249  -0.02   0.931   Alive\n",
      "      8  DET_01W       Marker                2.493   0.000   27.03   0.169  -0.17  10.704   60.26   0.249  -0.02   0.931   Alive\n",
      "      9  D004          Drift                 2.924   0.431   45.79   0.171  -0.22  14.029   42.13   0.250  -0.02   1.209   Alive\n",
      "     10  Q01W          Quadrupole            3.874   0.950   66.94   0.173  -0.26  16.849   28.95   0.255  -0.02   1.212   Alive\n",
      "     11  D005          Drift                 4.937   1.063   49.65   0.176  -0.22  14.651   32.91   0.260  -0.01   0.469   Alive\n",
      "     12  HV01W         Kicker                5.110   0.173   47.08   0.177  -0.21  14.294   33.58   0.261  -0.01   0.348   Alive\n",
      "     13  D006          Drift                 5.332   0.222   43.89   0.178  -0.20  13.835   34.46   0.262  -0.01   0.193   Alive\n",
      "     14  Q02W          Quadrupole            5.932   0.600   38.51   0.180  -0.19  13.049   34.57   0.265  -0.01  -0.017   Alive\n",
      "     15  D007          Drift                 6.027   0.094   38.11   0.180  -0.19  12.996   34.22   0.265  -0.01  -0.017   Alive\n",
      "     16  DET_02W       Marker                6.027   0.000   38.11   0.180  -0.19  12.996   34.22   0.265  -0.01  -0.017   Alive\n",
      "     17  D008          Drift                 8.119   2.092   29.79   0.190  -0.15  11.810   27.02   0.276  -0.01  -0.018   Alive\n",
      "     18  SK_Q02W       Quadrupole            8.291   0.173   29.16   0.191  -0.15  11.712   26.48   0.277  -0.01  -0.018   Alive\n",
      "     19  D009          Drift                 8.399   0.107   28.78   0.192  -0.14  11.651   26.14   0.278  -0.01  -0.018   Alive\n",
      "     20  SK_Q03W       Quadrupole            8.571   0.173   28.16   0.193  -0.14  11.553   25.61   0.279  -0.01  -0.018   Alive\n",
      "     21  D010          Drift                 9.004   0.432   26.66   0.195  -0.13  11.308   24.32   0.282  -0.01  -0.019   Alive\n",
      "     22  B03W          Sbend                11.949   2.945   17.89   0.217  -0.05   9.638   16.78   0.305  -0.01  -0.020   Alive\n",
      "     23  D011          Drift                12.326   0.377   16.95   0.220  -0.04   9.424   15.98   0.309  -0.01  -0.021   Alive\n",
      "     24  B03AW         Sbend                13.970   1.644   13.34   0.238   0.04   8.492   12.91   0.327  -0.01  -0.022   Alive\n",
      "     25  D012          Drift                14.520   0.550   12.31   0.244   0.07   8.180   12.04   0.334  -0.01  -0.022   Alive\n",
      "     26  DET_03W       Marker               14.520   0.000   12.31   0.244   0.07   8.180   12.04   0.334  -0.01  -0.022   Alive\n",
      "     27  D013          Drift                14.579   0.059   12.21   0.245   0.08   8.146   11.95   0.335  -0.01  -0.022   Alive\n",
      "     28  Q03W          Quadrupole           15.179   0.600   11.74   0.253   0.11   7.993   10.58   0.343  -0.01  -0.022   Alive\n",
      "     29  D014          Drift                15.415   0.235   11.79   0.256   0.13   8.006    9.89   0.347  -0.01  -0.022   Alive\n",
      "     30  B04W          Sbend                18.653   3.238   13.29   0.298   0.50   8.142    3.86   0.435  -0.01  -0.018   Alive\n",
      "     31  D015          Drift                18.880   0.227   13.45   0.301   0.53   8.149    3.68   0.444  -0.01  -0.018   Alive\n",
      "     32  SK_Q04W       Quadrupole           19.052   0.173   13.58   0.303   0.56   8.154    3.56   0.452  -0.01  -0.018   Alive\n",
      "     33  D016          Drift                19.365   0.312   13.83   0.306   0.61   8.163    3.40   0.466  -0.01  -0.018   Alive\n",
      "     34  Q04W          Quadrupole           19.965   0.600   12.32   0.314   0.67   7.570    3.78   0.494  -0.01  -0.018   Alive\n",
      "     35  D017          Drift                20.127   0.162   11.42   0.316   0.67   7.248    4.07   0.500  -0.01  -0.019   Alive\n",
      "     36  DET_04W       Marker               20.127   0.000   11.42   0.316   0.67   7.248    4.07   0.500  -0.01  -0.019   Alive\n",
      "     37  D018          Drift                20.460   0.333    9.71   0.321   0.67   6.590    4.75   0.512  -0.01  -0.020   Alive\n",
      "     38  B05W          Sbend                23.698   3.238    1.39   0.492   0.84   0.156   16.74   0.572  -0.02  -0.031   Alive\n",
      "     39  D019          Drift                23.925   0.227    1.37   0.519   0.86  -0.296   17.95   0.574  -0.02  -0.032   Alive\n",
      "     40  SK_Q05W       Quadrupole           24.098   0.173    1.41   0.538   0.88  -0.640   18.90   0.575  -0.02  -0.032   Alive\n",
      "     41  D020          Drift                24.410   0.312    1.60   0.572   0.91  -1.262   20.69   0.578  -0.02  -0.033   Alive\n",
      "     42  Q05W          Quadrupole           25.010   0.600    2.64   0.620   1.04  -2.569   21.40   0.582  -0.02  -0.033   Alive\n",
      "     43  D021          Drift                25.181   0.170    3.14   0.629   1.10  -2.981   20.80   0.583  -0.02  -0.032   Alive\n",
      "     44  DET_05W       Marker               25.181   0.000    3.14   0.629   1.10  -2.981   20.80   0.583  -0.02  -0.032   Alive\n",
      "     45  D022          Drift                25.505   0.325    4.29   0.643   1.20  -3.765   19.67   0.586  -0.02  -0.031   Alive\n",
      "     46  B06W          Sbend                28.743   3.238   28.44   0.691   2.39 -11.551   10.74   0.622  -0.01  -0.018   Alive\n",
      "     47  D023          Drift                28.970   0.227   30.99   0.692   2.49 -12.094   10.27   0.625  -0.01  -0.017   Alive\n",
      "     48  SK_Q06W       Quadrupole           29.143   0.173   33.00   0.693   2.56 -12.507    9.92   0.628  -0.01  -0.016   Alive\n",
      "     49  D024          Drift                29.456   0.312   36.81   0.694   2.69 -13.254    9.33   0.633  -0.01  -0.015   Alive\n",
      "     50  Q06W          Quadrupole           30.056   0.600   38.65   0.697   2.73 -13.658    9.68   0.643  -0.01  -0.013   Alive\n",
      "     51  D025          Drift                30.232   0.176   37.48   0.697   2.68 -13.472   10.23   0.646  -0.01  -0.013   Alive\n",
      "     52  DET_06W       Marker               30.232   0.000   37.48   0.697   2.68 -13.472   10.23   0.646  -0.01  -0.013   Alive\n",
      "     53  D026          Drift                30.551   0.319   35.41   0.699   2.59 -13.134   11.27   0.651  -0.01  -0.013   Alive\n",
      "     54  B07W          Sbend                33.789   3.238   17.80   0.719   1.84  -9.642   25.86   0.681  -0.01  -0.011   Alive\n",
      "     55  D027          Drift                34.087   0.298   16.50   0.722   1.78  -9.315   27.57   0.683  -0.01  -0.011   Alive\n",
      "     56  Q07W          Quadrupole           34.687   0.600   15.43   0.728   1.75  -9.064   28.61   0.686  -0.01  -0.010   Alive\n",
      "     57  D028          Drift                34.779   0.092   15.48   0.729   1.75  -9.087   28.38   0.687  -0.01  -0.010   Alive\n",
      "     58  DET_07W       Marker               34.779   0.000   15.48   0.729   1.75  -9.087   28.38   0.687  -0.01  -0.010   Alive\n",
      "     59  D029          Drift                34.844   0.065   15.52   0.730   1.76  -9.104   28.22   0.687  -0.01  -0.010   Alive\n",
      "     60  VKICK_07W     Kicker               34.971   0.127   15.60   0.731   1.77  -9.136   27.91   0.688  -0.01  -0.009   Alive\n",
      "     61  D030          Drift                35.860   0.889   16.20   0.740   1.83  -9.361   25.83   0.693  -0.01  -0.007   Alive\n",
      "     62  WIG_W         Wiggler              38.215   2.355   18.32   0.762   2.01  -9.956   20.73   0.709  -0.00  -0.002   Alive\n",
      "     63  D031          Drift                38.325   0.110   18.43   0.763   2.02  -9.984   20.50   0.710  -0.00  -0.002   Alive\n",
      "     64  HKICK_08W     Kicker               38.575   0.250   18.71   0.765   2.03 -10.047   20.00   0.712  -0.00  -0.001   Alive\n",
      "     65  D032          Drift                38.662   0.087   18.81   0.766   2.04 -10.069   19.83   0.713  -0.00  -0.001   Alive\n",
      "     66  SK_Q07W       Quadrupole           38.814   0.152   18.98   0.767   2.05 -10.108   19.53   0.714  -0.00  -0.001   Alive\n",
      "     67  D033          Drift                39.170   0.355   19.40   0.770   2.08 -10.198   18.85   0.717  -0.00  -0.000   Alive\n",
      "     68  H_SEP_08W     ELseparator          41.612   2.442   22.75   0.788   2.26 -11.433   14.88   0.740   0.00   0.005   Alive\n",
      "     69  D034          Drift                42.110   0.498   23.53   0.792   2.30 -11.811   14.21   0.746   0.00   0.006   Alive\n",
      "     70  Q08W          Quadrupole           42.710   0.600   23.29   0.796   2.28 -11.956   14.20   0.753   0.00   0.008   Alive\n",
      "     71  D035          Drift                42.771   0.061   23.14   0.796   2.27 -11.939   14.28   0.753   0.00   0.008   Alive\n",
      "     72  SEX_08W       Sextupole            43.043   0.272   22.50   0.798   2.24 -11.864   14.63   0.756   0.00   0.009   Alive\n",
      "     73  D036          Drift                43.335   0.292   21.83   0.800   2.20 -11.784   15.02   0.759   0.00   0.010   Alive\n",
      "     74  DET_08W       Marker               43.335   0.000   21.83   0.800   2.20 -11.784   15.02   0.759   0.00   0.010   Alive\n",
      "     75  D037          Drift                44.387   1.052   19.56   0.808   2.07 -11.496   16.56   0.770   0.00   0.013   Alive\n",
      "     76  RF_W1         RFcavity             46.187   1.800   16.22   0.825   1.84 -11.002   19.70   0.786   0.01   0.018   Alive\n",
      "     77  D038          Drift                48.279   2.092   13.19   0.847   1.58 -10.429   24.15   0.801   0.01   0.024   Alive\n",
      "     78  RF_W2         RFcavity             50.079   1.800   11.32   0.871   1.36  -9.936   28.65   0.812   0.01   0.029   Alive\n",
      "     79  D039          Drift                51.521   1.442   10.31   0.892   1.18  -9.540   32.72   0.820   0.01   0.033   Alive\n",
      "     80  DET_09W       Marker               51.521   0.000   10.31   0.892   1.18  -9.540   32.72   0.820   0.01   0.033   Alive\n",
      "     81  D040          Drift                51.544   0.023   10.29   0.893   1.18  -9.534   32.79   0.820   0.01   0.033   Alive\n",
      "     82  Q09W          Quadrupole           52.144   0.600   10.71   0.902   1.14  -9.698   32.31   0.823   0.01   0.033   Alive\n",
      "     83  D041          Drift                52.214   0.069   10.85   0.903   1.14  -9.756   32.00   0.823   0.01   0.033   Alive\n",
      "     84  SEX_09W       Sextupole            52.486   0.272   11.41   0.907   1.14  -9.979   30.81   0.824   0.01   0.033   Alive\n",
      "     85  D042          Drift                52.804   0.318   12.08   0.911   1.14 -10.237   29.48   0.826   0.01   0.033   Alive\n",
      "     86  VKICK_10W     Kicker               53.059   0.255   12.64   0.914   1.15 -10.445   28.43   0.828   0.01   0.032   Alive\n",
      "     87  D043          Drift                53.896   0.837   14.66   0.924   1.15 -11.126   25.18   0.832   0.01   0.032   Alive\n",
      "     88  VKICK_09W     Kicker               53.998   0.102   14.93   0.925   1.15 -11.209   24.80   0.833   0.01   0.032   Alive\n",
      "     89  D044          Drift                58.055   4.057   28.45   0.957   1.17 -14.509   12.71   0.870   0.01   0.028   Alive\n",
      "     90  Q10W          Quadrupole           58.655   0.600   28.17   0.960   1.12 -14.303   12.58   0.878   0.01   0.029   Alive\n",
      "     91  D045          Drift                58.719   0.064   27.85   0.960   1.11 -14.206   12.70   0.878   0.01   0.029   Alive\n",
      "     92  SEX_10W       Sextupole            58.991   0.272   26.52   0.962   1.06 -13.798   13.22   0.882   0.01   0.030   Alive\n",
      "     93  D046          Drift                59.042   0.051   26.27   0.962   1.05 -13.722   13.32   0.882   0.01   0.030   Alive\n",
      "     94  DET_10W       Marker               59.042   0.000   26.27   0.962   1.05 -13.722   13.32   0.882   0.01   0.030   Alive\n",
      "     95  D047          Drift                59.528   0.486   24.00   0.965   0.96 -12.993   14.31   0.888   0.01   0.032   Alive\n",
      "     96  B11W          Sbend                66.102   6.574    5.17   1.066   0.02  -3.113   34.50   0.936   0.02   0.055   Alive\n",
      "     97  D048          Drift                66.323   0.221    4.92   1.073  -0.01  -2.780   35.40   0.937   0.03   0.056   Alive\n",
      "     98  DET_11W       Marker               66.323   0.000    4.92   1.073  -0.01  -2.780   35.40   0.937   0.03   0.056   Alive\n",
      "     99  D049          Drift                66.529   0.205    4.72   1.080  -0.03  -2.471   36.25   0.938   0.03   0.056   Alive\n",
      "    100  Q11W          Quadrupole           67.129   0.600    4.57   1.100  -0.10  -1.648   36.07   0.940   0.03   0.056   Alive\n",
      "    101  D050          Drift                67.192   0.063    4.60   1.103  -0.10  -1.568   35.77   0.940   0.03   0.056   Alive\n",
      "    102  SEX_11W       Sextupole            67.464   0.272    4.75   1.112  -0.13  -1.227   34.51   0.942   0.03   0.055   Alive\n",
      "    103  D051          Drift                67.732   0.268    4.92   1.121  -0.16  -0.890   33.30   0.943   0.02   0.054   Alive\n",
      "    104  B12W          Sbend                74.307   6.574   19.58   1.237  -0.67   7.352   11.60   0.997   0.02   0.032   Alive\n",
      "    105  D052          Drift                74.464   0.157   20.17   1.239  -0.68   7.549   11.27   0.999   0.01   0.031   Alive\n",
      "    106  Q12W          Quadrupole           75.064   0.600   20.51   1.243  -0.67   7.929   11.15   1.008   0.01   0.031   Alive\n",
      "    107  D053          Drift                75.128   0.064   20.33   1.244  -0.66   7.929   11.25   1.009   0.01   0.031   Alive\n",
      "    108  SEX_12W       Sextupole            75.400   0.272   19.60   1.246  -0.64   7.928   11.71   1.013   0.01   0.031   Alive\n",
      "    109  D054          Drift                75.427   0.027   19.53   1.246  -0.64   7.928   11.76   1.013   0.01   0.031   Alive\n",
      "    110  DET_12W       Marker               75.427   0.000   19.53   1.246  -0.64   7.928   11.76   1.013   0.01   0.031   Alive\n",
      "    111  D055          Drift                76.397   0.970   17.09   1.255  -0.57   7.925   13.61   1.025   0.02   0.033   Alive\n",
      "    112  B13W          Sbend                82.971   6.574    7.53   1.353   0.14   7.895   33.56   1.075   0.02   0.043   Alive\n",
      "    113  D056          Drift                83.128   0.157    7.45   1.356   0.17   7.894   34.19   1.076   0.02   0.043   Alive\n",
      "    114  Q13W          Quadrupole           83.728   0.600    7.78   1.369   0.26   8.193   34.01   1.079   0.02   0.043   Alive\n",
      "    115  D057          Drift                83.797   0.069    7.89   1.370   0.27   8.263   33.69   1.079   0.02   0.042   Alive\n",
      "    116  SEX_13W       Sextupole            84.069   0.272    8.35   1.376   0.32   8.536   32.47   1.080   0.02   0.041   Alive\n",
      "    117  D058          Drift                84.115   0.046    8.43   1.377   0.33   8.582   32.27   1.081   0.02   0.041   Alive\n",
      "    118  DET_13W       Marker               84.115   0.000    8.43   1.377   0.33   8.582   32.27   1.081   0.02   0.041   Alive\n",
      "    119  D059          Drift                84.601   0.487    9.32   1.385   0.41   9.068   30.21   1.083   0.02   0.039   Alive\n",
      "    120  B14W          Sbend                91.176   6.574   30.96   1.449   1.78  15.621   10.46   1.143   0.01   0.014   Alive\n",
      "    121  D060          Drift                91.333   0.157   31.70   1.449   1.82  15.777   10.18   1.146   0.01   0.013   Alive\n",
      "    122  Q14W          Quadrupole           91.933   0.600   31.35   1.452   1.88  15.582   10.15   1.155   0.01   0.012   Alive\n",
      "    123  D061          Drift                91.998   0.065   30.97   1.453   1.87  15.475   10.26   1.156   0.01   0.011   Alive\n",
      "    124  SEX_14W       Sextupole            92.270   0.272   29.41   1.454   1.85  15.028   10.73   1.160   0.01   0.011   Alive\n",
      "    125  D062          Drift                92.297   0.027   29.26   1.454   1.85  14.984   10.78   1.161   0.01   0.011   Alive\n",
      "    126  DET_14W       Marker               92.297   0.000   29.26   1.454   1.85  14.984   10.78   1.161   0.01   0.011   Alive\n",
      "    127  D063          Drift                94.726   2.429   17.40   1.471   1.70  10.998   16.18   1.190   0.00   0.007   Alive\n",
      "    128  B15W          Sbend               101.300   6.574    3.29   1.639   1.54   0.204   40.70   1.231   0.00  -0.005   Alive\n",
      "    129  D064          Drift               101.457   0.157    3.28   1.646   1.54  -0.055   41.46   1.232   0.00  -0.006   Alive\n",
      "    130  Q15W          Quadrupole          102.057   0.600    3.63   1.675   1.61  -1.056   41.01   1.234   0.00  -0.007   Alive\n",
      "    131  D065          Drift               102.122   0.065    3.72   1.677   1.62  -1.168   40.61   1.235   0.00  -0.007   Alive\n",
      "    132  SEX_15W       Sextupole           102.394   0.272    4.10   1.688   1.68  -1.635   38.92   1.236  -0.00  -0.007   Alive\n",
      "    133  D066          Drift               102.442   0.048    4.18   1.690   1.69  -1.717   38.63   1.236  -0.00  -0.007   Alive\n",
      "    134  DET_15W       Marker              102.442   0.000    4.18   1.690   1.69  -1.717   38.63   1.236  -0.00  -0.007   Alive\n",
      "    135  D067          Drift               102.930   0.489    5.03   1.707   1.80  -2.556   35.72   1.238  -0.00  -0.007   Alive\n",
      "    136  B16W          Sbend               109.505   6.574   34.31   1.791   3.51 -13.834    8.87   1.298  -0.01  -0.014   Alive\n",
      "    137  D068          Drift               109.662   0.157   35.41   1.791   3.56 -14.104    8.51   1.301  -0.01  -0.014   Alive\n",
      "    138  Q16W          Quadrupole          110.262   0.600   36.16   1.794   3.56 -14.429    8.03   1.313  -0.01  -0.015   Alive\n",
      "    139  D069          Drift               110.328   0.067   35.85   1.794   3.54 -14.387    8.07   1.314  -0.01  -0.015   Alive\n",
      "    140  SEX_16W       Sextupole           110.600   0.272   34.62   1.795   3.46 -14.215    8.25   1.319  -0.01  -0.016   Alive\n",
      "    141  D070          Drift               110.648   0.047   34.41   1.796   3.44 -14.185    8.28   1.320  -0.01  -0.017   Alive\n",
      "    142  DET_16W       Marker              110.648   0.000   34.41   1.796   3.44 -14.185    8.28   1.320  -0.01  -0.017   Alive\n",
      "    143  D071          Drift               110.641  -0.007   34.44   1.796   3.45 -14.189    8.27   1.320  -0.01  -0.017   Alive\n",
      "    144  VKICK_16W     Kicker              110.891   0.250   33.35   1.797   3.37 -14.033    8.45   1.325  -0.01  -0.017   Alive\n",
      "    145  D072          Drift               111.135   0.244   32.30   1.798   3.31 -13.880    8.64   1.330  -0.01  -0.018   Alive\n",
      "    146  B17W          Sbend               117.709   6.574   11.70   1.853   1.66  -9.748   19.74   1.413  -0.02  -0.040   Alive\n",
      "    147  D073          Drift               117.866   0.157   11.39   1.855   1.63  -9.649   20.15   1.415  -0.02  -0.040   Alive\n",
      "    148  Q17W          Quadrupole          118.466   0.600   11.34   1.864   1.58  -9.737   19.76   1.419  -0.02  -0.040   Alive\n",
      "    149  D074          Drift               118.529   0.063   11.46   1.864   1.58  -9.796   19.52   1.420  -0.02  -0.040   Alive\n",
      "    150  SEX_17W       Sextupole           118.801   0.272   11.96   1.868   1.60 -10.047   18.50   1.422  -0.02  -0.039   Alive\n",
      "    151  D075          Drift               118.852   0.050   12.06   1.869   1.60 -10.094   18.32   1.423  -0.02  -0.039   Alive\n",
      "    152  DET_17W       Marker              118.852   0.000   12.06   1.869   1.60 -10.094   18.32   1.423  -0.02  -0.039   Alive\n",
      "    153  D076          Drift               119.339   0.488   13.02   1.875   1.62 -10.543   16.61   1.427  -0.02  -0.038   Alive\n",
      "    154  B18W          Sbend               125.913   6.574   33.23   1.926   2.16 -16.583    4.37   1.567  -0.01  -0.016   Alive\n",
      "    155  D077          Drift               126.071   0.157   33.88   1.927   2.18 -16.727    4.33   1.573  -0.01  -0.016   Alive\n",
      "    156  Q18W          Quadrupole          126.671   0.600   33.58   1.930   2.16 -16.587    4.62   1.595  -0.01  -0.014   Alive\n",
      "    157  D078          Drift               126.728   0.058   33.29   1.930   2.15 -16.508    4.70   1.597  -0.01  -0.014   Alive\n",
      "    158  SEX_18W       Sextupole           127.000   0.272   31.93   1.931   2.10 -16.134    5.07   1.606  -0.01  -0.014   Alive\n",
      "    159  D079          Drift               127.032   0.032   31.78   1.931   2.09 -16.090    5.12   1.607  -0.01  -0.014   Alive\n",
      "    160  DET_18W       Marker              127.032   0.000   31.78   1.931   2.09 -16.090    5.12   1.607  -0.01  -0.014   Alive\n",
      "    161  D080          Drift               132.731   5.699   11.09   1.980   1.07  -8.284   23.20   1.694  -0.01  -0.007   Alive\n",
      "    162  Q19W          Quadrupole          133.331   0.600   10.96   1.989   1.02  -7.931   23.43   1.698  -0.00  -0.006   Alive\n",
      "    163  D081          Drift               133.393   0.063   11.09   1.990   1.02  -7.942   23.17   1.699  -0.00  -0.005   Alive\n",
      "    164  SEX_19W       Sextupole           133.665   0.272   11.63   1.994   1.03  -7.990   22.07   1.701  -0.00  -0.005   Alive\n",
      "    165  D082          Drift               133.707   0.042   11.71   1.995   1.03  -7.997   21.91   1.701  -0.00  -0.005   Alive\n",
      "    166  DET_19W       Marker              133.707   0.000   11.71   1.995   1.03  -7.997   21.91   1.701  -0.00  -0.005   Alive\n",
      "    167  D083          Drift               134.204   0.497   12.77   2.001   1.04  -8.083   20.03   1.705  -0.00  -0.003   Alive\n",
      "    168  B20W          Sbend               140.778   6.574   34.72   2.052   1.42  -9.210    5.26   1.815   0.00   0.013   Alive\n",
      "    169  D084          Drift               140.935   0.157   35.43   2.052   1.43  -9.237    5.14   1.820   0.01   0.013   Alive\n",
      "    170  Q20W          Quadrupole          141.535   0.600   35.15   2.055   1.43  -8.950    5.20   1.839   0.01   0.015   Alive\n",
      "    171  D085          Drift               141.601   0.066   34.79   2.055   1.42  -8.876    5.26   1.841   0.01   0.015   Alive\n",
      "    172  SEX_20W       Sextupole           141.873   0.272   33.34   2.056   1.39  -8.572    5.55   1.849   0.01   0.017   Alive\n",
      "    173  D086          Drift               141.919   0.046   33.09   2.057   1.39  -8.520    5.60   1.850   0.01   0.017   Alive\n",
      "    174  DET_20W       Marker              141.919   0.000   33.09   2.057   1.39  -8.520    5.60   1.850   0.01   0.017   Alive\n",
      "    175  D087          Drift               142.408   0.489   30.59   2.059   1.33  -7.974    6.21   1.863   0.01   0.019   Alive\n",
      "    176  B21W          Sbend               148.982   6.574    7.92   2.128   0.86  -0.626   25.28   1.951   0.02   0.048   Alive\n",
      "    177  D088          Drift               149.139   0.157    7.63   2.132   0.86  -0.450   25.98   1.952   0.02   0.048   Alive\n",
      "    178  Q21W          Quadrupole          149.739   0.600    7.35   2.145   0.88   0.210   26.08   1.956   0.02   0.049   Alive\n",
      "    179  D089          Drift               149.803   0.064    7.40   2.146   0.89   0.280   25.81   1.956   0.02   0.048   Alive\n",
      "    180  SEX_21W       Sextupole           150.075   0.272    7.65   2.152   0.92   0.579   24.69   1.958   0.02   0.047   Alive\n",
      "    181  D090          Drift               150.124   0.049    7.69   2.153   0.92   0.633   24.49   1.958   0.02   0.047   Alive\n",
      "    182  DET_21W       Marker              150.124   0.000    7.69   2.153   0.92   0.633   24.49   1.958   0.02   0.047   Alive\n",
      "    183  D091          Drift               150.612   0.489    8.20   2.163   0.97   1.170   22.57   1.962   0.02   0.045   Alive\n",
      "    184  B22W          Sbend               157.187   6.574   22.40   2.243   1.93   8.388    6.26   2.055   0.01   0.020   Alive\n",
      "    185  D092          Drift               157.344   0.157   22.91   2.244   1.96   8.560    6.09   2.059   0.01   0.020   Alive\n",
      "    186  Q22W          Quadrupole          157.944   0.600   22.76   2.248   1.98   8.818    6.08   2.075   0.01   0.018   Alive\n",
      "    187  D093          Drift               158.010   0.066   22.51   2.249   1.97   8.802    6.14   2.077   0.01   0.018   Alive\n",
      "    188  SEX_22W       Sextupole           158.282   0.272   21.51   2.251   1.94   8.735    6.44   2.084   0.01   0.018   Alive\n",
      "    189  D094          Drift               158.328   0.046   21.34   2.251   1.94   8.723    6.50   2.085   0.01   0.018   Alive\n",
      "    190  DET_22W       Marker              158.328   0.000   21.34   2.251   1.94   8.723    6.50   2.085   0.01   0.018   Alive\n",
      "    191  D095          Drift               158.817   0.489   19.58   2.255   1.87   8.600    7.13   2.096   0.01   0.018   Alive\n",
      "    192  B23W          Sbend               165.391   6.574    5.57   2.363   1.30   6.927   25.29   2.178   0.01   0.012   Alive\n",
      "    193  D096          Drift               165.548   0.157    5.45   2.368   1.29   6.887   25.94   2.179   0.01   0.012   Alive\n",
      "    194  Q23W          Quadrupole          166.148   0.600    5.59   2.385   1.32   7.053   26.04   2.182   0.01   0.011   Alive\n",
      "    195  D097          Drift               166.214   0.065    5.67   2.387   1.33   7.106   25.79   2.183   0.01   0.010   Alive\n",
      "    196  SEX_23W       Sextupole           166.486   0.272    6.03   2.395   1.38   7.329   24.73   2.184   0.01   0.010   Alive\n",
      "    197  D098          Drift               166.511   0.025    6.07   2.395   1.38   7.349   24.63   2.184   0.01   0.010   Alive\n",
      "    198  DET_23W       Marker              166.511   0.000    6.07   2.395   1.38   7.349   24.63   2.184   0.01   0.010   Alive\n",
      "    199  D099          Drift               167.066   0.555    6.94   2.409   1.47   7.808   22.52   2.188   0.01   0.008   Alive\n",
      "    200  SK_SEX_23W    Sextupole           167.194   0.129    7.16   2.412   1.49   7.914   22.05   2.189   0.01   0.008   Alive\n",
      "# Index  name          key                       s       l    beta   phi_a    eta   orbit    beta   phi_b    eta   orbit   Track\n",
      "#                                                                a   [2pi]      x  x [mm]       b   [2pi]      y  y [mm]   State\n",
      "# Values shown are for the Exit End of each Element:\n",
      "\n",
      "NOTE: Since no range given, the number of elements shown is first 200 of 869\n",
      "-------------------------\n",
      "Tao> \n"
     ]
    }
   ],
   "source": [
    "%%tao\n",
    "sho lat"
   ]
  },
  {
   "cell_type": "code",
   "execution_count": null,
   "metadata": {},
   "outputs": [],
   "source": []
  }
 ],
 "metadata": {
  "kernelspec": {
   "display_name": "Python 3",
   "language": "python",
   "name": "python3"
  },
  "language_info": {
   "codemirror_mode": {
    "name": "ipython",
    "version": 3
   },
   "file_extension": ".py",
   "mimetype": "text/x-python",
   "name": "python",
   "nbconvert_exporter": "python",
   "pygments_lexer": "ipython3",
   "version": "3.7.8"
  }
 },
 "nbformat": 4,
 "nbformat_minor": 4
}
